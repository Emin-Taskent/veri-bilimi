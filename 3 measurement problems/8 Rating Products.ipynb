{
 "cells": [
  {
   "cell_type": "markdown",
   "metadata": {},
   "source": [
    "# Rating Products"
   ]
  },
  {
   "cell_type": "markdown",
   "metadata": {},
   "source": [
    "Bir ürünü satın aldıran iki büyük fenomen vardır bunlar Sosyal İspat (Social Proof) ve Kalabalıkların Bilgeliğidir (The Wisdom of Crowds). Dolayısıyla ürünlerin puanlanmasına ve yorumlanmasına ihtiyaç vardır ki satış için aradan sıyrılabilsin. Kullanıcı açısından bir şey alırlen amaç fiyat performans açısından en iyi ürüne ulaşmaktır. Pazar yerlerinin görevi ise kullanıcılara en doğru ürünleri ulaştırmaktır. Bu sebeple pazar yerleri açısından ürünleri manipule etmeden, ürünlerin puanlarının hesaplanması ve ürün yorumlarının sıralanmasını gerektirir. Bu konular ise geliştiricileri aşağıdaki başlıklar açısından ilgilendirmektedir;\n",
    "\n",
    "* Ürün puanlarinin hesaplanmasi\n",
    "* Ürünlerin siralanmasi\n",
    "* Ürün detay sayfalarindaki kullanici yorumlarinin siralanmasi\n",
    "* Sayfa, süreç ve etkileșim alanlarinin tasarimlari\n",
    "* Özellik denemeleri\n",
    "* Olasi aksiyonlarin ve reaksiyonlarin test edilmesi\n",
    "\n",
    "\n",
    "There are 2 phenomena that makes people buy product. These are Social Proof and The Wisdom of Crowds. Thereby, products should be graded or commented so, product can stand out from equivalents in terms of sales number. From users' point of view, the aim is acquiring the best product in terms of price/performance. The task of marketplaces is to deliver the most acurate products to customers. For these reasons, market places should calculate rating for products and sort the comments without manipulating products. These issues concern the developers in terms of the following topics;\n",
    "\n",
    "* Rating of product scores\n",
    "* Sorting of products\n",
    "* Sorting of user comments on product detail pages\n",
    "* Designs of pages, processes and interaction areas\n",
    "* Feature trials\n",
    "* Testing possible actions and reactions"
   ]
  },
  {
   "cell_type": "code",
   "execution_count": 49,
   "metadata": {},
   "outputs": [],
   "source": [
    "# Bu bölümde olası faktörleri göz önünde bulundurarak ağırlıklı ürün puanlama işlemleri gerçekleştirilecektir.\n",
    "# In this section, weighted product scoring processes will be performed by considering possible factors.\n",
    "\n",
    "import pandas as pd\n",
    "import math\n",
    "import scipy.stats as st\n",
    "from sklearn.preprocessing import MinMaxScaler"
   ]
  },
  {
   "cell_type": "code",
   "execution_count": 50,
   "metadata": {},
   "outputs": [
    {
     "data": {
      "text/html": [
       "<div>\n",
       "<style scoped>\n",
       "    .dataframe tbody tr th:only-of-type {\n",
       "        vertical-align: middle;\n",
       "    }\n",
       "\n",
       "    .dataframe tbody tr th {\n",
       "        vertical-align: top;\n",
       "    }\n",
       "\n",
       "    .dataframe thead th {\n",
       "        text-align: right;\n",
       "    }\n",
       "</style>\n",
       "<table border=\"1\" class=\"dataframe\">\n",
       "  <thead>\n",
       "    <tr style=\"text-align: right;\">\n",
       "      <th></th>\n",
       "      <th>Rating</th>\n",
       "      <th>Timestamp</th>\n",
       "      <th>Enrolled</th>\n",
       "      <th>Progress</th>\n",
       "      <th>Questions Asked</th>\n",
       "      <th>Questions Answered</th>\n",
       "    </tr>\n",
       "  </thead>\n",
       "  <tbody>\n",
       "    <tr>\n",
       "      <th>0</th>\n",
       "      <td>5.0</td>\n",
       "      <td>2021-02-05 07:45:55</td>\n",
       "      <td>2021-01-25 15:12:08</td>\n",
       "      <td>5.0</td>\n",
       "      <td>0.0</td>\n",
       "      <td>0.0</td>\n",
       "    </tr>\n",
       "    <tr>\n",
       "      <th>1</th>\n",
       "      <td>5.0</td>\n",
       "      <td>2021-02-04 21:05:32</td>\n",
       "      <td>2021-02-04 20:43:40</td>\n",
       "      <td>1.0</td>\n",
       "      <td>0.0</td>\n",
       "      <td>0.0</td>\n",
       "    </tr>\n",
       "    <tr>\n",
       "      <th>2</th>\n",
       "      <td>4.5</td>\n",
       "      <td>2021-02-04 20:34:03</td>\n",
       "      <td>2019-07-04 23:23:27</td>\n",
       "      <td>1.0</td>\n",
       "      <td>0.0</td>\n",
       "      <td>0.0</td>\n",
       "    </tr>\n",
       "    <tr>\n",
       "      <th>3</th>\n",
       "      <td>5.0</td>\n",
       "      <td>2021-02-04 16:56:28</td>\n",
       "      <td>2021-02-04 14:41:29</td>\n",
       "      <td>10.0</td>\n",
       "      <td>0.0</td>\n",
       "      <td>0.0</td>\n",
       "    </tr>\n",
       "    <tr>\n",
       "      <th>4</th>\n",
       "      <td>4.0</td>\n",
       "      <td>2021-02-04 15:00:24</td>\n",
       "      <td>2020-10-13 03:10:07</td>\n",
       "      <td>10.0</td>\n",
       "      <td>0.0</td>\n",
       "      <td>0.0</td>\n",
       "    </tr>\n",
       "  </tbody>\n",
       "</table>\n",
       "</div>"
      ],
      "text/plain": [
       "   Rating            Timestamp             Enrolled  Progress  \\\n",
       "0     5.0  2021-02-05 07:45:55  2021-01-25 15:12:08       5.0   \n",
       "1     5.0  2021-02-04 21:05:32  2021-02-04 20:43:40       1.0   \n",
       "2     4.5  2021-02-04 20:34:03  2019-07-04 23:23:27       1.0   \n",
       "3     5.0  2021-02-04 16:56:28  2021-02-04 14:41:29      10.0   \n",
       "4     4.0  2021-02-04 15:00:24  2020-10-13 03:10:07      10.0   \n",
       "\n",
       "   Questions Asked  Questions Answered  \n",
       "0              0.0                 0.0  \n",
       "1              0.0                 0.0  \n",
       "2              0.0                 0.0  \n",
       "3              0.0                 0.0  \n",
       "4              0.0                 0.0  "
      ]
     },
     "execution_count": 50,
     "metadata": {},
     "output_type": "execute_result"
    }
   ],
   "source": [
    "# Course Name: (50+ Saat) Python A-Z™: Veri Bilimi ve Machine Learning\n",
    "# Rating: 4.8 (4.764925)\n",
    "# Total Rating: 4611\n",
    "# Percentage of Ratings: 75, 20, 4, 1, <1\n",
    "# Approximate Numerical Equivalents: 3458, 922, 184, 46, 6\n",
    "\n",
    "# Yukarıdaki Udemy Kursuna ilişkin verilerin analizi ile rating yapacağız.\n",
    "# We are rating the above determined Udemy Course's data.\n",
    "\n",
    "df = pd.read_csv(\"datasets/course_reviews.csv\")\n",
    "df.head()"
   ]
  },
  {
   "cell_type": "code",
   "execution_count": 51,
   "metadata": {},
   "outputs": [
    {
     "data": {
      "text/plain": [
       "(4323, 6)"
      ]
     },
     "execution_count": 51,
     "metadata": {},
     "output_type": "execute_result"
    }
   ],
   "source": [
    "df.shape"
   ]
  },
  {
   "cell_type": "code",
   "execution_count": 52,
   "metadata": {},
   "outputs": [
    {
     "data": {
      "text/plain": [
       "5.0    3267\n",
       "4.5     475\n",
       "4.0     383\n",
       "3.5      96\n",
       "3.0      62\n",
       "1.0      15\n",
       "2.0      12\n",
       "2.5      11\n",
       "1.5       2\n",
       "Name: Rating, dtype: int64"
      ]
     },
     "execution_count": 52,
     "metadata": {},
     "output_type": "execute_result"
    }
   ],
   "source": [
    "# ratinglerin dağılımı\n",
    "\n",
    "df[\"Rating\"].value_counts()"
   ]
  },
  {
   "cell_type": "code",
   "execution_count": 53,
   "metadata": {},
   "outputs": [
    {
     "data": {
      "text/plain": [
       "0.0     3867\n",
       "1.0      276\n",
       "2.0       80\n",
       "3.0       43\n",
       "4.0       15\n",
       "5.0       13\n",
       "6.0        9\n",
       "8.0        5\n",
       "9.0        3\n",
       "14.0       2\n",
       "11.0       2\n",
       "7.0        2\n",
       "10.0       2\n",
       "15.0       2\n",
       "22.0       1\n",
       "12.0       1\n",
       "Name: Questions Asked, dtype: int64"
      ]
     },
     "execution_count": 53,
     "metadata": {},
     "output_type": "execute_result"
    }
   ],
   "source": [
    "# Sorulan soruların dağılımı\n",
    "\n",
    "df[\"Questions Asked\"].value_counts()"
   ]
  },
  {
   "cell_type": "code",
   "execution_count": 54,
   "metadata": {},
   "outputs": [
    {
     "data": {
      "text/html": [
       "<div>\n",
       "<style scoped>\n",
       "    .dataframe tbody tr th:only-of-type {\n",
       "        vertical-align: middle;\n",
       "    }\n",
       "\n",
       "    .dataframe tbody tr th {\n",
       "        vertical-align: top;\n",
       "    }\n",
       "\n",
       "    .dataframe thead th {\n",
       "        text-align: right;\n",
       "    }\n",
       "</style>\n",
       "<table border=\"1\" class=\"dataframe\">\n",
       "  <thead>\n",
       "    <tr style=\"text-align: right;\">\n",
       "      <th></th>\n",
       "      <th>Questions Asked</th>\n",
       "      <th>Rating</th>\n",
       "    </tr>\n",
       "    <tr>\n",
       "      <th>Questions Asked</th>\n",
       "      <th></th>\n",
       "      <th></th>\n",
       "    </tr>\n",
       "  </thead>\n",
       "  <tbody>\n",
       "    <tr>\n",
       "      <th>0.0</th>\n",
       "      <td>3867</td>\n",
       "      <td>4.765193</td>\n",
       "    </tr>\n",
       "    <tr>\n",
       "      <th>1.0</th>\n",
       "      <td>276</td>\n",
       "      <td>4.740942</td>\n",
       "    </tr>\n",
       "    <tr>\n",
       "      <th>2.0</th>\n",
       "      <td>80</td>\n",
       "      <td>4.806250</td>\n",
       "    </tr>\n",
       "    <tr>\n",
       "      <th>3.0</th>\n",
       "      <td>43</td>\n",
       "      <td>4.744186</td>\n",
       "    </tr>\n",
       "    <tr>\n",
       "      <th>4.0</th>\n",
       "      <td>15</td>\n",
       "      <td>4.833333</td>\n",
       "    </tr>\n",
       "    <tr>\n",
       "      <th>5.0</th>\n",
       "      <td>13</td>\n",
       "      <td>4.653846</td>\n",
       "    </tr>\n",
       "    <tr>\n",
       "      <th>6.0</th>\n",
       "      <td>9</td>\n",
       "      <td>5.000000</td>\n",
       "    </tr>\n",
       "    <tr>\n",
       "      <th>7.0</th>\n",
       "      <td>2</td>\n",
       "      <td>4.750000</td>\n",
       "    </tr>\n",
       "    <tr>\n",
       "      <th>8.0</th>\n",
       "      <td>5</td>\n",
       "      <td>4.900000</td>\n",
       "    </tr>\n",
       "    <tr>\n",
       "      <th>9.0</th>\n",
       "      <td>3</td>\n",
       "      <td>5.000000</td>\n",
       "    </tr>\n",
       "    <tr>\n",
       "      <th>10.0</th>\n",
       "      <td>2</td>\n",
       "      <td>5.000000</td>\n",
       "    </tr>\n",
       "    <tr>\n",
       "      <th>11.0</th>\n",
       "      <td>2</td>\n",
       "      <td>5.000000</td>\n",
       "    </tr>\n",
       "    <tr>\n",
       "      <th>12.0</th>\n",
       "      <td>1</td>\n",
       "      <td>5.000000</td>\n",
       "    </tr>\n",
       "    <tr>\n",
       "      <th>14.0</th>\n",
       "      <td>2</td>\n",
       "      <td>4.500000</td>\n",
       "    </tr>\n",
       "    <tr>\n",
       "      <th>15.0</th>\n",
       "      <td>2</td>\n",
       "      <td>3.000000</td>\n",
       "    </tr>\n",
       "    <tr>\n",
       "      <th>22.0</th>\n",
       "      <td>1</td>\n",
       "      <td>5.000000</td>\n",
       "    </tr>\n",
       "  </tbody>\n",
       "</table>\n",
       "</div>"
      ],
      "text/plain": [
       "                 Questions Asked    Rating\n",
       "Questions Asked                           \n",
       "0.0                         3867  4.765193\n",
       "1.0                          276  4.740942\n",
       "2.0                           80  4.806250\n",
       "3.0                           43  4.744186\n",
       "4.0                           15  4.833333\n",
       "5.0                           13  4.653846\n",
       "6.0                            9  5.000000\n",
       "7.0                            2  4.750000\n",
       "8.0                            5  4.900000\n",
       "9.0                            3  5.000000\n",
       "10.0                           2  5.000000\n",
       "11.0                           2  5.000000\n",
       "12.0                           1  5.000000\n",
       "14.0                           2  4.500000\n",
       "15.0                           2  3.000000\n",
       "22.0                           1  5.000000"
      ]
     },
     "execution_count": 54,
     "metadata": {},
     "output_type": "execute_result"
    }
   ],
   "source": [
    "# Sorulan soru kırılımında verilen puanlara bakmak istersek\n",
    "\n",
    "df.groupby(\"Questions Asked\").agg({\"Questions Asked\": \"count\",\n",
    "                                   \"Rating\": \"mean\"})"
   ]
  },
  {
   "cell_type": "code",
   "execution_count": 55,
   "metadata": {},
   "outputs": [
    {
     "data": {
      "text/plain": [
       "4.764284061993986"
      ]
     },
     "execution_count": 55,
     "metadata": {},
     "output_type": "execute_result"
    }
   ],
   "source": [
    "# Sadece ortalamaya göre rating hesaplamak istersek;\n",
    "\n",
    "df[\"Rating\"].mean()\n",
    "\n",
    "# Kurs puanı ise 4.7649'dan 4.8'e yuvarlanmıştır.\n",
    "# Sadece ortalamya göre rating hesaplandığında son zamanlardaki trendleri kaçırmış oluruz.\n",
    "# İlk 3 ayda iyi bir hizmet sunulmuş daha sonrasında hizmetin bırakılması gibi bir case de sadece ortalama hesaplamak güncel trendleri\n",
    "# kaçırmamıza sebep olur."
   ]
  },
  {
   "cell_type": "markdown",
   "metadata": {},
   "source": [
    "### Time-Based Weighted Average (Puan Zamanlarına Göre Ağırlıklı Ortalama)"
   ]
  },
  {
   "cell_type": "code",
   "execution_count": 56,
   "metadata": {},
   "outputs": [
    {
     "data": {
      "text/html": [
       "<div>\n",
       "<style scoped>\n",
       "    .dataframe tbody tr th:only-of-type {\n",
       "        vertical-align: middle;\n",
       "    }\n",
       "\n",
       "    .dataframe tbody tr th {\n",
       "        vertical-align: top;\n",
       "    }\n",
       "\n",
       "    .dataframe thead th {\n",
       "        text-align: right;\n",
       "    }\n",
       "</style>\n",
       "<table border=\"1\" class=\"dataframe\">\n",
       "  <thead>\n",
       "    <tr style=\"text-align: right;\">\n",
       "      <th></th>\n",
       "      <th>Rating</th>\n",
       "      <th>Timestamp</th>\n",
       "      <th>Enrolled</th>\n",
       "      <th>Progress</th>\n",
       "      <th>Questions Asked</th>\n",
       "      <th>Questions Answered</th>\n",
       "    </tr>\n",
       "  </thead>\n",
       "  <tbody>\n",
       "    <tr>\n",
       "      <th>0</th>\n",
       "      <td>5.0</td>\n",
       "      <td>2021-02-05 07:45:55</td>\n",
       "      <td>2021-01-25 15:12:08</td>\n",
       "      <td>5.0</td>\n",
       "      <td>0.0</td>\n",
       "      <td>0.0</td>\n",
       "    </tr>\n",
       "    <tr>\n",
       "      <th>1</th>\n",
       "      <td>5.0</td>\n",
       "      <td>2021-02-04 21:05:32</td>\n",
       "      <td>2021-02-04 20:43:40</td>\n",
       "      <td>1.0</td>\n",
       "      <td>0.0</td>\n",
       "      <td>0.0</td>\n",
       "    </tr>\n",
       "    <tr>\n",
       "      <th>2</th>\n",
       "      <td>4.5</td>\n",
       "      <td>2021-02-04 20:34:03</td>\n",
       "      <td>2019-07-04 23:23:27</td>\n",
       "      <td>1.0</td>\n",
       "      <td>0.0</td>\n",
       "      <td>0.0</td>\n",
       "    </tr>\n",
       "    <tr>\n",
       "      <th>3</th>\n",
       "      <td>5.0</td>\n",
       "      <td>2021-02-04 16:56:28</td>\n",
       "      <td>2021-02-04 14:41:29</td>\n",
       "      <td>10.0</td>\n",
       "      <td>0.0</td>\n",
       "      <td>0.0</td>\n",
       "    </tr>\n",
       "    <tr>\n",
       "      <th>4</th>\n",
       "      <td>4.0</td>\n",
       "      <td>2021-02-04 15:00:24</td>\n",
       "      <td>2020-10-13 03:10:07</td>\n",
       "      <td>10.0</td>\n",
       "      <td>0.0</td>\n",
       "      <td>0.0</td>\n",
       "    </tr>\n",
       "  </tbody>\n",
       "</table>\n",
       "</div>"
      ],
      "text/plain": [
       "   Rating            Timestamp             Enrolled  Progress  \\\n",
       "0     5.0  2021-02-05 07:45:55  2021-01-25 15:12:08       5.0   \n",
       "1     5.0  2021-02-04 21:05:32  2021-02-04 20:43:40       1.0   \n",
       "2     4.5  2021-02-04 20:34:03  2019-07-04 23:23:27       1.0   \n",
       "3     5.0  2021-02-04 16:56:28  2021-02-04 14:41:29      10.0   \n",
       "4     4.0  2021-02-04 15:00:24  2020-10-13 03:10:07      10.0   \n",
       "\n",
       "   Questions Asked  Questions Answered  \n",
       "0              0.0                 0.0  \n",
       "1              0.0                 0.0  \n",
       "2              0.0                 0.0  \n",
       "3              0.0                 0.0  \n",
       "4              0.0                 0.0  "
      ]
     },
     "execution_count": 56,
     "metadata": {},
     "output_type": "execute_result"
    }
   ],
   "source": [
    "df.head()"
   ]
  },
  {
   "cell_type": "code",
   "execution_count": 57,
   "metadata": {},
   "outputs": [
    {
     "name": "stdout",
     "output_type": "stream",
     "text": [
      "<class 'pandas.core.frame.DataFrame'>\n",
      "RangeIndex: 4323 entries, 0 to 4322\n",
      "Data columns (total 6 columns):\n",
      " #   Column              Non-Null Count  Dtype  \n",
      "---  ------              --------------  -----  \n",
      " 0   Rating              4323 non-null   float64\n",
      " 1   Timestamp           4323 non-null   object \n",
      " 2   Enrolled            4323 non-null   object \n",
      " 3   Progress            4323 non-null   float64\n",
      " 4   Questions Asked     4323 non-null   float64\n",
      " 5   Questions Answered  4323 non-null   float64\n",
      "dtypes: float64(4), object(2)\n",
      "memory usage: 202.8+ KB\n"
     ]
    }
   ],
   "source": [
    "df.info()\n",
    "\n",
    "# Aşağıda bakıldığında time stamp değişkeninin türünün object olduğunu görüyoruz.\n",
    "# Bu sütunu zaman değiişkenine çevirmemiz gerekmektedir."
   ]
  },
  {
   "cell_type": "code",
   "execution_count": 58,
   "metadata": {},
   "outputs": [
    {
     "name": "stdout",
     "output_type": "stream",
     "text": [
      "<class 'pandas.core.frame.DataFrame'>\n",
      "RangeIndex: 4323 entries, 0 to 4322\n",
      "Data columns (total 6 columns):\n",
      " #   Column              Non-Null Count  Dtype         \n",
      "---  ------              --------------  -----         \n",
      " 0   Rating              4323 non-null   float64       \n",
      " 1   Timestamp           4323 non-null   datetime64[ns]\n",
      " 2   Enrolled            4323 non-null   object        \n",
      " 3   Progress            4323 non-null   float64       \n",
      " 4   Questions Asked     4323 non-null   float64       \n",
      " 5   Questions Answered  4323 non-null   float64       \n",
      "dtypes: datetime64[ns](1), float64(4), object(1)\n",
      "memory usage: 202.8+ KB\n"
     ]
    }
   ],
   "source": [
    "df[\"Timestamp\"]=pd.to_datetime(df[\"Timestamp\"])\n",
    "df.info()"
   ]
  },
  {
   "cell_type": "code",
   "execution_count": 59,
   "metadata": {},
   "outputs": [
    {
     "data": {
      "text/plain": [
       "Timestamp('2021-02-05 07:45:55')"
      ]
     },
     "execution_count": 59,
     "metadata": {},
     "output_type": "execute_result"
    }
   ],
   "source": [
    "# Bunun yanı sıra yapılan yorumların ne kadar süre önce yapıldığını gün cinsinden ifade etmemiz gerekmektedir.\n",
    "# Bu sebeple bir tarih belirleyip aradaki farkı bulmamız gerekmektedir.\n",
    "\n",
    "df[\"Timestamp\"].max()"
   ]
  },
  {
   "cell_type": "code",
   "execution_count": 60,
   "metadata": {},
   "outputs": [
    {
     "data": {
      "text/plain": [
       "Timestamp('2021-02-10 00:00:00')"
      ]
     },
     "execution_count": 60,
     "metadata": {},
     "output_type": "execute_result"
    }
   ],
   "source": [
    "current_date = pd.to_datetime(\"2021-02-10 0:0:0\")\n",
    "current_date"
   ]
  },
  {
   "cell_type": "code",
   "execution_count": 61,
   "metadata": {},
   "outputs": [
    {
     "data": {
      "text/html": [
       "<div>\n",
       "<style scoped>\n",
       "    .dataframe tbody tr th:only-of-type {\n",
       "        vertical-align: middle;\n",
       "    }\n",
       "\n",
       "    .dataframe tbody tr th {\n",
       "        vertical-align: top;\n",
       "    }\n",
       "\n",
       "    .dataframe thead th {\n",
       "        text-align: right;\n",
       "    }\n",
       "</style>\n",
       "<table border=\"1\" class=\"dataframe\">\n",
       "  <thead>\n",
       "    <tr style=\"text-align: right;\">\n",
       "      <th></th>\n",
       "      <th>Rating</th>\n",
       "      <th>Timestamp</th>\n",
       "      <th>Enrolled</th>\n",
       "      <th>Progress</th>\n",
       "      <th>Questions Asked</th>\n",
       "      <th>Questions Answered</th>\n",
       "      <th>days</th>\n",
       "    </tr>\n",
       "  </thead>\n",
       "  <tbody>\n",
       "    <tr>\n",
       "      <th>0</th>\n",
       "      <td>5.0</td>\n",
       "      <td>2021-02-05 07:45:55</td>\n",
       "      <td>2021-01-25 15:12:08</td>\n",
       "      <td>5.0</td>\n",
       "      <td>0.0</td>\n",
       "      <td>0.0</td>\n",
       "      <td>4</td>\n",
       "    </tr>\n",
       "    <tr>\n",
       "      <th>1</th>\n",
       "      <td>5.0</td>\n",
       "      <td>2021-02-04 21:05:32</td>\n",
       "      <td>2021-02-04 20:43:40</td>\n",
       "      <td>1.0</td>\n",
       "      <td>0.0</td>\n",
       "      <td>0.0</td>\n",
       "      <td>5</td>\n",
       "    </tr>\n",
       "    <tr>\n",
       "      <th>2</th>\n",
       "      <td>4.5</td>\n",
       "      <td>2021-02-04 20:34:03</td>\n",
       "      <td>2019-07-04 23:23:27</td>\n",
       "      <td>1.0</td>\n",
       "      <td>0.0</td>\n",
       "      <td>0.0</td>\n",
       "      <td>5</td>\n",
       "    </tr>\n",
       "    <tr>\n",
       "      <th>3</th>\n",
       "      <td>5.0</td>\n",
       "      <td>2021-02-04 16:56:28</td>\n",
       "      <td>2021-02-04 14:41:29</td>\n",
       "      <td>10.0</td>\n",
       "      <td>0.0</td>\n",
       "      <td>0.0</td>\n",
       "      <td>5</td>\n",
       "    </tr>\n",
       "    <tr>\n",
       "      <th>4</th>\n",
       "      <td>4.0</td>\n",
       "      <td>2021-02-04 15:00:24</td>\n",
       "      <td>2020-10-13 03:10:07</td>\n",
       "      <td>10.0</td>\n",
       "      <td>0.0</td>\n",
       "      <td>0.0</td>\n",
       "      <td>5</td>\n",
       "    </tr>\n",
       "    <tr>\n",
       "      <th>...</th>\n",
       "      <td>...</td>\n",
       "      <td>...</td>\n",
       "      <td>...</td>\n",
       "      <td>...</td>\n",
       "      <td>...</td>\n",
       "      <td>...</td>\n",
       "      <td>...</td>\n",
       "    </tr>\n",
       "    <tr>\n",
       "      <th>4318</th>\n",
       "      <td>5.0</td>\n",
       "      <td>2019-05-17 09:51:44</td>\n",
       "      <td>2019-05-17 09:08:53</td>\n",
       "      <td>34.0</td>\n",
       "      <td>1.0</td>\n",
       "      <td>0.0</td>\n",
       "      <td>634</td>\n",
       "    </tr>\n",
       "    <tr>\n",
       "      <th>4319</th>\n",
       "      <td>5.0</td>\n",
       "      <td>2019-05-16 21:27:05</td>\n",
       "      <td>2019-05-16 20:32:15</td>\n",
       "      <td>5.0</td>\n",
       "      <td>0.0</td>\n",
       "      <td>0.0</td>\n",
       "      <td>635</td>\n",
       "    </tr>\n",
       "    <tr>\n",
       "      <th>4320</th>\n",
       "      <td>5.0</td>\n",
       "      <td>2019-05-16 20:22:26</td>\n",
       "      <td>2019-05-16 20:21:19</td>\n",
       "      <td>1.0</td>\n",
       "      <td>0.0</td>\n",
       "      <td>0.0</td>\n",
       "      <td>635</td>\n",
       "    </tr>\n",
       "    <tr>\n",
       "      <th>4321</th>\n",
       "      <td>5.0</td>\n",
       "      <td>2019-05-16 19:49:07</td>\n",
       "      <td>2019-05-16 19:47:29</td>\n",
       "      <td>1.0</td>\n",
       "      <td>0.0</td>\n",
       "      <td>0.0</td>\n",
       "      <td>635</td>\n",
       "    </tr>\n",
       "    <tr>\n",
       "      <th>4322</th>\n",
       "      <td>5.0</td>\n",
       "      <td>2019-05-16 13:40:35</td>\n",
       "      <td>2019-05-15 14:10:24</td>\n",
       "      <td>56.0</td>\n",
       "      <td>0.0</td>\n",
       "      <td>0.0</td>\n",
       "      <td>635</td>\n",
       "    </tr>\n",
       "  </tbody>\n",
       "</table>\n",
       "<p>4323 rows × 7 columns</p>\n",
       "</div>"
      ],
      "text/plain": [
       "      Rating           Timestamp             Enrolled  Progress  \\\n",
       "0        5.0 2021-02-05 07:45:55  2021-01-25 15:12:08       5.0   \n",
       "1        5.0 2021-02-04 21:05:32  2021-02-04 20:43:40       1.0   \n",
       "2        4.5 2021-02-04 20:34:03  2019-07-04 23:23:27       1.0   \n",
       "3        5.0 2021-02-04 16:56:28  2021-02-04 14:41:29      10.0   \n",
       "4        4.0 2021-02-04 15:00:24  2020-10-13 03:10:07      10.0   \n",
       "...      ...                 ...                  ...       ...   \n",
       "4318     5.0 2019-05-17 09:51:44  2019-05-17 09:08:53      34.0   \n",
       "4319     5.0 2019-05-16 21:27:05  2019-05-16 20:32:15       5.0   \n",
       "4320     5.0 2019-05-16 20:22:26  2019-05-16 20:21:19       1.0   \n",
       "4321     5.0 2019-05-16 19:49:07  2019-05-16 19:47:29       1.0   \n",
       "4322     5.0 2019-05-16 13:40:35  2019-05-15 14:10:24      56.0   \n",
       "\n",
       "      Questions Asked  Questions Answered  days  \n",
       "0                 0.0                 0.0     4  \n",
       "1                 0.0                 0.0     5  \n",
       "2                 0.0                 0.0     5  \n",
       "3                 0.0                 0.0     5  \n",
       "4                 0.0                 0.0     5  \n",
       "...               ...                 ...   ...  \n",
       "4318              1.0                 0.0   634  \n",
       "4319              0.0                 0.0   635  \n",
       "4320              0.0                 0.0   635  \n",
       "4321              0.0                 0.0   635  \n",
       "4322              0.0                 0.0   635  \n",
       "\n",
       "[4323 rows x 7 columns]"
      ]
     },
     "execution_count": 61,
     "metadata": {},
     "output_type": "execute_result"
    }
   ],
   "source": [
    "# Aradaki farkı hesaplayacağız,\n",
    "\n",
    "df[\"days\"]=(current_date-df[\"Timestamp\"]).dt.days\n",
    "df"
   ]
  },
  {
   "cell_type": "code",
   "execution_count": 62,
   "metadata": {},
   "outputs": [
    {
     "data": {
      "text/html": [
       "<div>\n",
       "<style scoped>\n",
       "    .dataframe tbody tr th:only-of-type {\n",
       "        vertical-align: middle;\n",
       "    }\n",
       "\n",
       "    .dataframe tbody tr th {\n",
       "        vertical-align: top;\n",
       "    }\n",
       "\n",
       "    .dataframe thead th {\n",
       "        text-align: right;\n",
       "    }\n",
       "</style>\n",
       "<table border=\"1\" class=\"dataframe\">\n",
       "  <thead>\n",
       "    <tr style=\"text-align: right;\">\n",
       "      <th></th>\n",
       "      <th>Rating</th>\n",
       "      <th>Timestamp</th>\n",
       "      <th>Enrolled</th>\n",
       "      <th>Progress</th>\n",
       "      <th>Questions Asked</th>\n",
       "      <th>Questions Answered</th>\n",
       "      <th>days</th>\n",
       "    </tr>\n",
       "  </thead>\n",
       "  <tbody>\n",
       "    <tr>\n",
       "      <th>0</th>\n",
       "      <td>5.0</td>\n",
       "      <td>2021-02-05 07:45:55</td>\n",
       "      <td>2021-01-25 15:12:08</td>\n",
       "      <td>5.0</td>\n",
       "      <td>0.0</td>\n",
       "      <td>0.0</td>\n",
       "      <td>4</td>\n",
       "    </tr>\n",
       "    <tr>\n",
       "      <th>1</th>\n",
       "      <td>5.0</td>\n",
       "      <td>2021-02-04 21:05:32</td>\n",
       "      <td>2021-02-04 20:43:40</td>\n",
       "      <td>1.0</td>\n",
       "      <td>0.0</td>\n",
       "      <td>0.0</td>\n",
       "      <td>5</td>\n",
       "    </tr>\n",
       "    <tr>\n",
       "      <th>2</th>\n",
       "      <td>4.5</td>\n",
       "      <td>2021-02-04 20:34:03</td>\n",
       "      <td>2019-07-04 23:23:27</td>\n",
       "      <td>1.0</td>\n",
       "      <td>0.0</td>\n",
       "      <td>0.0</td>\n",
       "      <td>5</td>\n",
       "    </tr>\n",
       "    <tr>\n",
       "      <th>3</th>\n",
       "      <td>5.0</td>\n",
       "      <td>2021-02-04 16:56:28</td>\n",
       "      <td>2021-02-04 14:41:29</td>\n",
       "      <td>10.0</td>\n",
       "      <td>0.0</td>\n",
       "      <td>0.0</td>\n",
       "      <td>5</td>\n",
       "    </tr>\n",
       "    <tr>\n",
       "      <th>4</th>\n",
       "      <td>4.0</td>\n",
       "      <td>2021-02-04 15:00:24</td>\n",
       "      <td>2020-10-13 03:10:07</td>\n",
       "      <td>10.0</td>\n",
       "      <td>0.0</td>\n",
       "      <td>0.0</td>\n",
       "      <td>5</td>\n",
       "    </tr>\n",
       "    <tr>\n",
       "      <th>...</th>\n",
       "      <td>...</td>\n",
       "      <td>...</td>\n",
       "      <td>...</td>\n",
       "      <td>...</td>\n",
       "      <td>...</td>\n",
       "      <td>...</td>\n",
       "      <td>...</td>\n",
       "    </tr>\n",
       "    <tr>\n",
       "      <th>189</th>\n",
       "      <td>5.0</td>\n",
       "      <td>2021-01-11 07:39:11</td>\n",
       "      <td>2021-01-06 09:44:34</td>\n",
       "      <td>15.0</td>\n",
       "      <td>1.0</td>\n",
       "      <td>1.0</td>\n",
       "      <td>29</td>\n",
       "    </tr>\n",
       "    <tr>\n",
       "      <th>190</th>\n",
       "      <td>5.0</td>\n",
       "      <td>2021-01-11 07:21:57</td>\n",
       "      <td>2020-06-30 20:14:04</td>\n",
       "      <td>5.0</td>\n",
       "      <td>0.0</td>\n",
       "      <td>0.0</td>\n",
       "      <td>29</td>\n",
       "    </tr>\n",
       "    <tr>\n",
       "      <th>191</th>\n",
       "      <td>5.0</td>\n",
       "      <td>2021-01-11 00:34:30</td>\n",
       "      <td>2020-12-31 20:33:13</td>\n",
       "      <td>5.0</td>\n",
       "      <td>0.0</td>\n",
       "      <td>0.0</td>\n",
       "      <td>29</td>\n",
       "    </tr>\n",
       "    <tr>\n",
       "      <th>192</th>\n",
       "      <td>5.0</td>\n",
       "      <td>2021-01-10 18:45:38</td>\n",
       "      <td>2020-03-03 08:29:43</td>\n",
       "      <td>0.0</td>\n",
       "      <td>0.0</td>\n",
       "      <td>0.0</td>\n",
       "      <td>30</td>\n",
       "    </tr>\n",
       "    <tr>\n",
       "      <th>193</th>\n",
       "      <td>5.0</td>\n",
       "      <td>2021-01-10 18:23:03</td>\n",
       "      <td>2020-12-04 20:01:01</td>\n",
       "      <td>20.0</td>\n",
       "      <td>0.0</td>\n",
       "      <td>0.0</td>\n",
       "      <td>30</td>\n",
       "    </tr>\n",
       "  </tbody>\n",
       "</table>\n",
       "<p>194 rows × 7 columns</p>\n",
       "</div>"
      ],
      "text/plain": [
       "     Rating           Timestamp             Enrolled  Progress  \\\n",
       "0       5.0 2021-02-05 07:45:55  2021-01-25 15:12:08       5.0   \n",
       "1       5.0 2021-02-04 21:05:32  2021-02-04 20:43:40       1.0   \n",
       "2       4.5 2021-02-04 20:34:03  2019-07-04 23:23:27       1.0   \n",
       "3       5.0 2021-02-04 16:56:28  2021-02-04 14:41:29      10.0   \n",
       "4       4.0 2021-02-04 15:00:24  2020-10-13 03:10:07      10.0   \n",
       "..      ...                 ...                  ...       ...   \n",
       "189     5.0 2021-01-11 07:39:11  2021-01-06 09:44:34      15.0   \n",
       "190     5.0 2021-01-11 07:21:57  2020-06-30 20:14:04       5.0   \n",
       "191     5.0 2021-01-11 00:34:30  2020-12-31 20:33:13       5.0   \n",
       "192     5.0 2021-01-10 18:45:38  2020-03-03 08:29:43       0.0   \n",
       "193     5.0 2021-01-10 18:23:03  2020-12-04 20:01:01      20.0   \n",
       "\n",
       "     Questions Asked  Questions Answered  days  \n",
       "0                0.0                 0.0     4  \n",
       "1                0.0                 0.0     5  \n",
       "2                0.0                 0.0     5  \n",
       "3                0.0                 0.0     5  \n",
       "4                0.0                 0.0     5  \n",
       "..               ...                 ...   ...  \n",
       "189              1.0                 1.0    29  \n",
       "190              0.0                 0.0    29  \n",
       "191              0.0                 0.0    29  \n",
       "192              0.0                 0.0    30  \n",
       "193              0.0                 0.0    30  \n",
       "\n",
       "[194 rows x 7 columns]"
      ]
     },
     "execution_count": 62,
     "metadata": {},
     "output_type": "execute_result"
    }
   ],
   "source": [
    "df[df[\"days\"]<=30]\n",
    "# Son 30 günde yapılan rating sayısının 194 olduğunun görüyoruz."
   ]
  },
  {
   "cell_type": "code",
   "execution_count": 63,
   "metadata": {},
   "outputs": [
    {
     "data": {
      "text/plain": [
       "4.775773195876289"
      ]
     },
     "execution_count": 63,
     "metadata": {},
     "output_type": "execute_result"
    }
   ],
   "source": [
    "# Son 30 günde yapılan ratinglerin ortalamasına bakmak istersek;\n",
    "\n",
    "df.loc[df[\"days\"]<=30, \"Rating\"].mean()"
   ]
  },
  {
   "cell_type": "code",
   "execution_count": 64,
   "metadata": {},
   "outputs": [
    {
     "data": {
      "text/plain": [
       "4.763833992094861"
      ]
     },
     "execution_count": 64,
     "metadata": {},
     "output_type": "execute_result"
    }
   ],
   "source": [
    "# Gün olarak 30'dan büyük 90'dan küçük olan ratinglerin ortalamasına bakmak istersek;\n",
    "\n",
    "df.loc[(df[\"days\"]>30) & (df[\"days\"]<=90) , \"Rating\"].mean()"
   ]
  },
  {
   "cell_type": "code",
   "execution_count": 65,
   "metadata": {},
   "outputs": [
    {
     "data": {
      "text/plain": [
       "4.752503576537912"
      ]
     },
     "execution_count": 65,
     "metadata": {},
     "output_type": "execute_result"
    }
   ],
   "source": [
    "# Biraz daha geriye gitmek istersek;\n",
    "\n",
    "df.loc[(df[\"days\"]>90) & (df[\"days\"]<=180) , \"Rating\"].mean()"
   ]
  },
  {
   "cell_type": "code",
   "execution_count": 66,
   "metadata": {},
   "outputs": [
    {
     "data": {
      "text/plain": [
       "4.76641586867305"
      ]
     },
     "execution_count": 66,
     "metadata": {},
     "output_type": "execute_result"
    }
   ],
   "source": [
    "# Son koşulumuz da;\n",
    "\n",
    "df.loc[df[\"days\"]>180, \"Rating\"].mean()"
   ]
  },
  {
   "cell_type": "code",
   "execution_count": 67,
   "metadata": {},
   "outputs": [
    {
     "data": {
      "text/plain": [
       "4.765025682267194"
      ]
     },
     "execution_count": 67,
     "metadata": {},
     "output_type": "execute_result"
    }
   ],
   "source": [
    "# Bakıldığında son zamanlarda kurs memnuniyetinde artış var gibi gözüküyor;\n",
    "# Zamana bağlı ağırlıklı ortalama ile hasaplama yapmak istersek, yukarıdaki her bir değere bir ağırlık vermemiz gerekecek ve\n",
    "# daha yakın zamanı daha da fazla ağırlıklandıracağız.\n",
    "\n",
    "df.loc[df[\"days\"]<=30, \"Rating\"].mean()*0.28 + \\\n",
    "    df.loc[(df[\"days\"]>30) & (df[\"days\"]<=90) , \"Rating\"].mean()*0.26 + \\\n",
    "    df.loc[(df[\"days\"]>90) & (df[\"days\"]<=180) , \"Rating\"].mean()*0.24 + \\\n",
    "    df.loc[df[\"days\"]>180, \"Rating\"].mean()*0.22\n",
    "\n",
    "# Yukarıda ters slash kullanılmasının sebebi ise bir alt satırda işleme devam edeceğimizi belirtiyoruz.\n",
    "# Bunun yerine işlemi parantez içerisine de alabilirdik."
   ]
  },
  {
   "cell_type": "markdown",
   "metadata": {},
   "source": [
    "### Kullanıcı Temelli Ağırlıklı Ortalama ( User-Based Weighted Average )"
   ]
  },
  {
   "cell_type": "code",
   "execution_count": 68,
   "metadata": {},
   "outputs": [
    {
     "data": {
      "text/html": [
       "<div>\n",
       "<style scoped>\n",
       "    .dataframe tbody tr th:only-of-type {\n",
       "        vertical-align: middle;\n",
       "    }\n",
       "\n",
       "    .dataframe tbody tr th {\n",
       "        vertical-align: top;\n",
       "    }\n",
       "\n",
       "    .dataframe thead th {\n",
       "        text-align: right;\n",
       "    }\n",
       "</style>\n",
       "<table border=\"1\" class=\"dataframe\">\n",
       "  <thead>\n",
       "    <tr style=\"text-align: right;\">\n",
       "      <th></th>\n",
       "      <th>Rating</th>\n",
       "      <th>Timestamp</th>\n",
       "      <th>Enrolled</th>\n",
       "      <th>Progress</th>\n",
       "      <th>Questions Asked</th>\n",
       "      <th>Questions Answered</th>\n",
       "      <th>days</th>\n",
       "    </tr>\n",
       "  </thead>\n",
       "  <tbody>\n",
       "    <tr>\n",
       "      <th>0</th>\n",
       "      <td>5.0</td>\n",
       "      <td>2021-02-05 07:45:55</td>\n",
       "      <td>2021-01-25 15:12:08</td>\n",
       "      <td>5.0</td>\n",
       "      <td>0.0</td>\n",
       "      <td>0.0</td>\n",
       "      <td>4</td>\n",
       "    </tr>\n",
       "    <tr>\n",
       "      <th>1</th>\n",
       "      <td>5.0</td>\n",
       "      <td>2021-02-04 21:05:32</td>\n",
       "      <td>2021-02-04 20:43:40</td>\n",
       "      <td>1.0</td>\n",
       "      <td>0.0</td>\n",
       "      <td>0.0</td>\n",
       "      <td>5</td>\n",
       "    </tr>\n",
       "    <tr>\n",
       "      <th>2</th>\n",
       "      <td>4.5</td>\n",
       "      <td>2021-02-04 20:34:03</td>\n",
       "      <td>2019-07-04 23:23:27</td>\n",
       "      <td>1.0</td>\n",
       "      <td>0.0</td>\n",
       "      <td>0.0</td>\n",
       "      <td>5</td>\n",
       "    </tr>\n",
       "    <tr>\n",
       "      <th>3</th>\n",
       "      <td>5.0</td>\n",
       "      <td>2021-02-04 16:56:28</td>\n",
       "      <td>2021-02-04 14:41:29</td>\n",
       "      <td>10.0</td>\n",
       "      <td>0.0</td>\n",
       "      <td>0.0</td>\n",
       "      <td>5</td>\n",
       "    </tr>\n",
       "    <tr>\n",
       "      <th>4</th>\n",
       "      <td>4.0</td>\n",
       "      <td>2021-02-04 15:00:24</td>\n",
       "      <td>2020-10-13 03:10:07</td>\n",
       "      <td>10.0</td>\n",
       "      <td>0.0</td>\n",
       "      <td>0.0</td>\n",
       "      <td>5</td>\n",
       "    </tr>\n",
       "  </tbody>\n",
       "</table>\n",
       "</div>"
      ],
      "text/plain": [
       "   Rating           Timestamp             Enrolled  Progress  Questions Asked  \\\n",
       "0     5.0 2021-02-05 07:45:55  2021-01-25 15:12:08       5.0              0.0   \n",
       "1     5.0 2021-02-04 21:05:32  2021-02-04 20:43:40       1.0              0.0   \n",
       "2     4.5 2021-02-04 20:34:03  2019-07-04 23:23:27       1.0              0.0   \n",
       "3     5.0 2021-02-04 16:56:28  2021-02-04 14:41:29      10.0              0.0   \n",
       "4     4.0 2021-02-04 15:00:24  2020-10-13 03:10:07      10.0              0.0   \n",
       "\n",
       "   Questions Answered  days  \n",
       "0                 0.0     4  \n",
       "1                 0.0     5  \n",
       "2                 0.0     5  \n",
       "3                 0.0     5  \n",
       "4                 0.0     5  "
      ]
     },
     "execution_count": 68,
     "metadata": {},
     "output_type": "execute_result"
    }
   ],
   "source": [
    "# Yukarıdaki bölümde puanı zamana göre ağırlıklandırarak hesaplamıştık.\n",
    "# Rating hesaplarken akılımıza gelecek bir başka soru ise bütün kullanıcıların verdiği puanlar aynı ağırlığa mı sahip olmalı.\n",
    "# Bu case için şöyle bir soru akıllara gelebilir;\n",
    "# \"Kursun tamamını izlelyen bir kişi ile kursun %1'ini izleyen kişinin verdikleri puanlar aynı ağırlığa mı sahip olmalı?\"\n",
    "# Bu referans noktasından yola çıkarak kursu izleme oranlarına göre farklı bir ağırlıklandırma yapılmalıdır.\n",
    "# Buna \"user based\" veya \"user quality\" denir.\n",
    "\n",
    "df.head()\n",
    "# Progress sütununda rating verenlerin ne kadar ilerleme kaydettiği yüzdelik olarak görülebilir."
   ]
  },
  {
   "cell_type": "code",
   "execution_count": 69,
   "metadata": {},
   "outputs": [
    {
     "data": {
      "text/html": [
       "<div>\n",
       "<style scoped>\n",
       "    .dataframe tbody tr th:only-of-type {\n",
       "        vertical-align: middle;\n",
       "    }\n",
       "\n",
       "    .dataframe tbody tr th {\n",
       "        vertical-align: top;\n",
       "    }\n",
       "\n",
       "    .dataframe thead th {\n",
       "        text-align: right;\n",
       "    }\n",
       "</style>\n",
       "<table border=\"1\" class=\"dataframe\">\n",
       "  <thead>\n",
       "    <tr style=\"text-align: right;\">\n",
       "      <th></th>\n",
       "      <th>Rating</th>\n",
       "    </tr>\n",
       "    <tr>\n",
       "      <th>Progress</th>\n",
       "      <th></th>\n",
       "    </tr>\n",
       "  </thead>\n",
       "  <tbody>\n",
       "    <tr>\n",
       "      <th>0.0</th>\n",
       "      <td>4.673913</td>\n",
       "    </tr>\n",
       "    <tr>\n",
       "      <th>1.0</th>\n",
       "      <td>4.642691</td>\n",
       "    </tr>\n",
       "    <tr>\n",
       "      <th>2.0</th>\n",
       "      <td>4.654762</td>\n",
       "    </tr>\n",
       "    <tr>\n",
       "      <th>3.0</th>\n",
       "      <td>4.663551</td>\n",
       "    </tr>\n",
       "    <tr>\n",
       "      <th>4.0</th>\n",
       "      <td>4.777328</td>\n",
       "    </tr>\n",
       "    <tr>\n",
       "      <th>...</th>\n",
       "      <td>...</td>\n",
       "    </tr>\n",
       "    <tr>\n",
       "      <th>94.0</th>\n",
       "      <td>5.000000</td>\n",
       "    </tr>\n",
       "    <tr>\n",
       "      <th>95.0</th>\n",
       "      <td>4.794118</td>\n",
       "    </tr>\n",
       "    <tr>\n",
       "      <th>97.0</th>\n",
       "      <td>5.000000</td>\n",
       "    </tr>\n",
       "    <tr>\n",
       "      <th>98.0</th>\n",
       "      <td>5.000000</td>\n",
       "    </tr>\n",
       "    <tr>\n",
       "      <th>100.0</th>\n",
       "      <td>4.866319</td>\n",
       "    </tr>\n",
       "  </tbody>\n",
       "</table>\n",
       "<p>91 rows × 1 columns</p>\n",
       "</div>"
      ],
      "text/plain": [
       "            Rating\n",
       "Progress          \n",
       "0.0       4.673913\n",
       "1.0       4.642691\n",
       "2.0       4.654762\n",
       "3.0       4.663551\n",
       "4.0       4.777328\n",
       "...            ...\n",
       "94.0      5.000000\n",
       "95.0      4.794118\n",
       "97.0      5.000000\n",
       "98.0      5.000000\n",
       "100.0     4.866319\n",
       "\n",
       "[91 rows x 1 columns]"
      ]
     },
     "execution_count": 69,
     "metadata": {},
     "output_type": "execute_result"
    }
   ],
   "source": [
    "df.groupby(\"Progress\").agg({\"Rating\": \"mean\"})\n",
    "\n",
    "# Kursun %1'ini izleyenelerin verdiği puanların ortalaması 4.64 iken \n",
    "# %95'den fazlasını izleyenlerin verdikleri puanların 4.79'dan daha fazla olduğunu görüyoruz.\n",
    "# Bu sebeple kursun izlenme progress'i ile verilen puan arasında bir ilişki olduğunu söyleyebiliriz."
   ]
  },
  {
   "cell_type": "code",
   "execution_count": 70,
   "metadata": {},
   "outputs": [
    {
     "data": {
      "text/plain": [
       "4.800257704672543"
      ]
     },
     "execution_count": 70,
     "metadata": {},
     "output_type": "execute_result"
    }
   ],
   "source": [
    "df.loc[df[\"Progress\"] <= 10, \"Rating\"].mean() * 22 / 100 + \\\n",
    "    df.loc[(df[\"Progress\"] > 10) & (df[\"Progress\"] <= 45), \"Rating\"].mean() * 24 / 100 + \\\n",
    "    df.loc[(df[\"Progress\"] > 45) & (df[\"Progress\"] <= 75), \"Rating\"].mean() * 26 / 100 + \\\n",
    "    df.loc[(df[\"Progress\"] > 75), \"Rating\"].mean() * 28 / 100\n",
    "\n",
    "# Şeklinde bir ağırlıklandırma yapılabilir.\n",
    "# Yukarıda \"user based\" ve \"user quality\" terimlerinden bahsetmiştik. Buradaki kullanıcı kalitesini etkileyen metrik kursu tamamlama oranıdır."
   ]
  },
  {
   "cell_type": "markdown",
   "metadata": {},
   "source": [
    "### Weighted Rating"
   ]
  },
  {
   "cell_type": "code",
   "execution_count": 71,
   "metadata": {},
   "outputs": [],
   "source": [
    "# Bu bölümde hem zamanda bağlı hem de kullanıcı ağılıklı rating hesaplaması yapazağız.\n",
    "\n",
    "# Bu işlem için bir fonksiyon oluşturalım;\n",
    "\n",
    "def time_based_weighted_average(dataframe, w1=28, w2=26, w3=24, w4=22):\n",
    "    return dataframe.loc[df[\"days\"] <= 30, \"Rating\"].mean() * w1 / 100 + \\\n",
    "           dataframe.loc[(dataframe[\"days\"] > 30) & (dataframe[\"days\"] <= 90), \"Rating\"].mean() * w2 / 100 + \\\n",
    "           dataframe.loc[(dataframe[\"days\"] > 90) & (dataframe[\"days\"] <= 180), \"Rating\"].mean() * w3 / 100 + \\\n",
    "           dataframe.loc[(dataframe[\"days\"] > 180), \"Rating\"].mean() * w4 / 100\n",
    "\n",
    "\n",
    "def user_based_weighted_average(dataframe, w1=22, w2=24, w3=26, w4=28):\n",
    "    return dataframe.loc[dataframe[\"Progress\"] <= 10, \"Rating\"].mean() * w1 / 100 + \\\n",
    "           dataframe.loc[(dataframe[\"Progress\"] > 10) & (dataframe[\"Progress\"] <= 45), \"Rating\"].mean() * w2 / 100 + \\\n",
    "           dataframe.loc[(dataframe[\"Progress\"] > 45) & (dataframe[\"Progress\"] <= 75), \"Rating\"].mean() * w3 / 100 + \\\n",
    "           dataframe.loc[(dataframe[\"Progress\"] > 75), \"Rating\"].mean() * w4 / 100\n",
    "\n",
    "\n",
    "def course_weighted_rating(dataframe, time_w=50, user_w=50):\n",
    "    return time_based_weighted_average(dataframe) * time_w/100 + user_based_weighted_average(dataframe)*user_w/100\n"
   ]
  },
  {
   "cell_type": "code",
   "execution_count": 72,
   "metadata": {},
   "outputs": [
    {
     "data": {
      "text/plain": [
       "4.782641693469868"
      ]
     },
     "execution_count": 72,
     "metadata": {},
     "output_type": "execute_result"
    }
   ],
   "source": [
    "course_weighted_rating(df)"
   ]
  },
  {
   "cell_type": "code",
   "execution_count": 73,
   "metadata": {},
   "outputs": [
    {
     "data": {
      "text/plain": [
       "4.786164895710403"
      ]
     },
     "execution_count": 73,
     "metadata": {},
     "output_type": "execute_result"
    }
   ],
   "source": [
    "course_weighted_rating(df, time_w=40, user_w=60)"
   ]
  }
 ],
 "metadata": {
  "kernelspec": {
   "display_name": "base",
   "language": "python",
   "name": "python3"
  },
  "language_info": {
   "codemirror_mode": {
    "name": "ipython",
    "version": 3
   },
   "file_extension": ".py",
   "mimetype": "text/x-python",
   "name": "python",
   "nbconvert_exporter": "python",
   "pygments_lexer": "ipython3",
   "version": "3.9.13"
  },
  "orig_nbformat": 4,
  "vscode": {
   "interpreter": {
    "hash": "9aacfdcc723ab9182f23d11dc6a46c787bfe07656d4548f94b1c6b5b014df5e2"
   }
  }
 },
 "nbformat": 4,
 "nbformat_minor": 2
}
