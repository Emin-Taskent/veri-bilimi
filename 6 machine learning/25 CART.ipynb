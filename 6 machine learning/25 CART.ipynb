{
 "cells": [
  {
   "attachments": {},
   "cell_type": "markdown",
   "metadata": {},
   "source": [
    "# CART (Classification & Regression Tree)"
   ]
  },
  {
   "attachments": {},
   "cell_type": "markdown",
   "metadata": {},
   "source": [
    "    Karar ağaçları makine öğrenmesi alanında çok büyük bir kullanım alanına sahiptir. Bu yöntemin daha gelişmiş yöntemleri, makine öğrenmesi yarışmalarında hali hazırda en çok kullanılan ve tahmin başarısı açısından en yüksek performanslı yöntemlerdir.  \n",
    "\n",
    "Classification and Regression Trees başka bir deyişle CART Random Forest’ın temelini oluşturur. "
   ]
  },
  {
   "attachments": {},
   "cell_type": "markdown",
   "metadata": {},
   "source": [
    "    Karar ağaçlarının gelişmiş yöntemleri, yapay öğrenme kapsamında, tahmin başarısı açısından en yüksek performanslı yöntemlerden biridir."
   ]
  },
  {
   "attachments": {},
   "cell_type": "markdown",
   "metadata": {},
   "source": [
    "##### CART’ın **amacı** veri seti içerisindeki **karmaşık yapıları basit karar yapılarına dönüştürmektir.** Heterojen veri setleri belirlenmiş bir hedef değişkene göre homojen alt gruplara ayrılır.\n",
    "\n",
    "<p align=\"center\">\n",
    "  <img src=\"grafikler/cart1.png\" height=300 >\n",
    "</p>\n",
    "\n",
    "Yukarıda örnek olarak verilen Hitters Veri setinde Beyzbol oyuncularının istatistikleri ve maaşları belirli **Kurallara** göre CART yapısı ile betimlenmiştir. Deneyim yılı 4.5 yıldan az olan oyuncuların **maaş ortalamaları** (ortalamaların logaritması alınmış hali) 5.11 olarak belirtilmiştir. Deneyim yılı 4.5 yıla eşit veya fazla olanlar için başka bir değişken olan yapılan atış sayısı üzerinden farklı bir dallanma oluşturularak, 117.5 atıştan az atış yapanların maaş ortalaması 6, eşit veya fazla atış yapanların maaş ortalamaları ise logaritması alınmış şekilde 6.74 olarak ifade edilmiştir.\n"
   ]
  },
  {
   "attachments": {},
   "cell_type": "markdown",
   "metadata": {},
   "source": [
    "    Karar ağaçlarında Excel tablolarındaki filtrelemelere benzer bir yapı söz konusudur. Bir karar ağacı şemasında en tepede görünen değişken en çok etkide bulunduğundan ötürü en önemli değişkendir. \n",
    "\n",
    "Bu örnek için en tepedeki değişken deneyim yılı daha sonrasında ise atış sayısıdır.\n",
    "    \n",
    "    Karar ağaçlarındaki bağımsız değişkenlere açıklayıcı değişken veya Feature da denir."
   ]
  },
  {
   "attachments": {},
   "cell_type": "markdown",
   "metadata": {},
   "source": [
    "<p align=\"center\">\n",
    "  <img src=\"grafikler/cart2.png\" height=300 >\n",
    "</p>"
   ]
  },
  {
   "attachments": {},
   "cell_type": "markdown",
   "metadata": {},
   "source": [
    "Karar ağaçları üzerindeki bağımsız değişkenleri bölen karar noktalarına **İç düğüm noktaları (Internal Nodes)** denir. Karar ağaçlarının uçlarındaki noktalara **Son düğüm noktaları (Terminal Nodes)** denir."
   ]
  },
  {
   "attachments": {},
   "cell_type": "markdown",
   "metadata": {},
   "source": [
    "    Karar ağacı eksenler üzerinde de ifade edilebilir. Oluşturulan decision tree neticesinde, karar kuralları çıkarılır.\n",
    "\n",
    "<p align=\"center\">\n",
    "  <img src=\"grafikler/cart3.png\" height=300 >\n",
    "</p>"
   ]
  },
  {
   "attachments": {},
   "cell_type": "markdown",
   "metadata": {},
   "source": [
    "Yukarıda sağdaki görsel gibi bir eksenler üzerinde ifade edilmiş bir grafik olsun, bu bizim aynı zamanda **karar ağacımız** olacaktır.\n",
    "\n",
    "    Bu eksenler üzeriden çıkaracağımız karar kuralları sağdaki kod parçası gibi olacaktır. Daha da detaylı açıklamak istersek;\n",
    "\n",
    "* Predictor A (Tahminci A) ≥ 1.7 kuralı verilmiş ve A tahmincisinin 1.7'den büyük değerleri için Bağımlı değişken olan Outcome değişkeninin ortalaması 5.6'a eşit verilmiştir.\n",
    "\n",
    "* Ayriyeten Predictor A (Tahminci A) ≥ 1.7 durumu için ek bir kural ile Predictor B değişkeni için Predictor B ≥ 202.1 kuralı verilmiş. bu iki kuralın (iç düğüm noktaları) gerçeklenmesi neticesinde, Outcome değişkeninin ortalaması 1.3'e eşit olarak betimlenmiştir.\n",
    "\n",
    "* Öteki tüm durumlarda (Yani Predictor A (Tahminci A) < 1.7 durumu için) Outcome değişkeninin ortalaması 2.5'a eşittir şeklinde tanımlanmıştır."
   ]
  },
  {
   "attachments": {},
   "cell_type": "markdown",
   "metadata": {},
   "source": [
    "        Yukarıda bulunan sağdaki grafik için örnek verecek olursak; 5.6, 1.3 ve 2.5 çıktıları nasıl hesaplanmaktadır?\n",
    "\n",
    "Elimizde aşağıdaki gibi bir veri seti olsun;\n",
    "\n",
    "<p align=\"center\">\n",
    "  <img src=\"grafikler/cart4.png\" width=300 >\n",
    "</p>"
   ]
  },
  {
   "attachments": {},
   "cell_type": "markdown",
   "metadata": {},
   "source": [
    "Örneğin bağımsız değişkenlere bir filtreleme işlemi uygulasak; \n",
    "\n",
    "X_1 değişkeni (Predictor A) 1.7'den ve X_2 değişkeni (Predictor B) 202.1'den büyük olanları filtrelesek şöyle bir tablo elde etmiş oluruz;\n",
    "\n",
    "<p align=\"center\">\n",
    "  <img src=\"grafikler/cart6.png\" width=290 >\n",
    "</p>"
   ]
  },
  {
   "cell_type": "code",
   "execution_count": 1,
   "metadata": {},
   "outputs": [],
   "source": [
    "# Tablodaki bağımlı değişkenlerin ORTALAMASININ 1.3 olduğunu görüyoruz."
   ]
  },
  {
   "attachments": {},
   "cell_type": "markdown",
   "metadata": {},
   "source": [
    "X_1 değişkeni (Predictor A) 1.7'den büyük ve X_2 değişkeni (Predictor B) 202.1'den küçük olanları filtrelesek şöyle bir tablo elde etmiş oluruz;\n",
    "\n",
    "<p align=\"center\">\n",
    "  <img src=\"grafikler/cart7.png\" width=290 >\n",
    "</p>"
   ]
  },
  {
   "cell_type": "code",
   "execution_count": 2,
   "metadata": {},
   "outputs": [],
   "source": [
    "# Tablodaki bağımlı değişkenlerin ORTALAMASININ 5.6 olduğunu görüyoruz."
   ]
  },
  {
   "attachments": {},
   "cell_type": "markdown",
   "metadata": {},
   "source": [
    "X_1 değişkeni (Predictor A) 1.7'den küçük olanları filtrelesek şöyle bir tablo elde etmiş oluruz;\n",
    "\n",
    "<p align=\"center\">\n",
    "  <img src=\"grafikler/cart5.png\" width=290 >\n",
    "</p>"
   ]
  },
  {
   "cell_type": "code",
   "execution_count": 3,
   "metadata": {},
   "outputs": [],
   "source": [
    "# Tablodaki bağımlı değişkenlerin ORTALAMASININ 2.5 olduğunu görüyoruz."
   ]
  },
  {
   "attachments": {},
   "cell_type": "markdown",
   "metadata": {},
   "source": [
    "**Sonuç olarak karar çıktıları bağımsız değişkenler filtrelendikten sonra oluşan verimizdeki bağımlı değişkenlerin ortalaması alınarak oluşturuluyormuş.**\n",
    "\n",
    "    \"Karar kuralları nasıl oluşturuldu da karar noktaları 1.7 ve 202.1 olarak belirlendi?\" sorusunun cevabına bakalım.\n",
    "\n",
    "Algoritmik bir şekilde belirli referans noktalarına göre hareket ederek ve optimizasyonlar yaparak, iç düğüm ve son düğüm noktaları belirlenir. Belirlenen düğüm noktalarına göre karar kuralları çıkarılır. \n",
    "\n",
    "Buradan hareketle, Ki-Kare (Chi-Square), GINI, Entropy (Information Gain), RSS (SSE), Reduction in Variance gibi bazı metrikler kullanılarak bu karar kuralları belirlenir.\n",
    "\n",
    "Bir örnek olarak RSS *(SSE [Residual Sum of Squares, Sum of Square of Error veya Hata kareleri Toplamı])* fonksiyonunu ele alalım;\n",
    "\n",
    "**Not: Hata kareleri toplamı fonksiyonuna Cost, Loss, objective vb. fonksiyonu da deniyordu.**\n",
    "\n",
    "<p align=\"center\">\n",
    "  <img src=\"grafikler/cart8.png\" height=200 >\n",
    "</p>\n",
    "\n",
    "Karar ağacı oluşturulurken karar kurallarının belirlendiği noktalar, RSS (SSE) değerinin minimum olduğu noktalardır. Karar ağacı bu noktalarda dallanmalar (bölgenlenmeler, kutulanmalar) yapılması sonucunda oluşturulur. Bu kapsamda Y_hat_(Rⱼ) tahmin değerlerindeki Rⱼ ifadesi bölgeleri temsil eder.\n",
    "\n"
   ]
  },
  {
   "attachments": {},
   "cell_type": "markdown",
   "metadata": {},
   "source": [
    "    Daha açıklayıcı bir örnekle durumu ifade edelim;\n",
    "\n",
    "Elimizde aşağıdaki gibi bir veri seti olsun;\n",
    "\n",
    "<p align=\"center\">\n",
    "  <img src=\"grafikler/cart8_8.png\" height=400 >\n",
    "</p>\n",
    "\n",
    "1. Bu veri setinin bağımsız değişkenini 70'den bölelim;\n",
    "\n",
    "<p align=\"center\">\n",
    "  <img src=\"grafikler/cart9.png\" height=400 >\n",
    "</p>\n",
    "\n",
    "  * 70'ten böldükten sonra y_pred değerini hesaplayalım. (y_pred grup içerisindeki bağımlı değişkenlerin ortalamasıdır.)\n",
    "  \n",
    "  * Daha sonrasında hatalarımızı hesaplayalım.\n",
    "  * Hatalarımızın karelerini aldıktan sonra bu hata karelerini toplayalım.\n",
    "  * SSE 108.308 çıktı.\n",
    "\n",
    "2. Bu veri setinin bağımsız değişkenini 73'ten bölelim ve yukarıdaki aşamaları burada da yapalım;\n",
    "\n",
    "<p align=\"center\">\n",
    "  <img src=\"grafikler/cart10.png\" height=400 >\n",
    "</p>\n",
    "\n",
    "    Hata kareleri toplamında bir azalma olduğunu görüyoruz.\n",
    "\n",
    "3. Bu veri setinin bağımsız değişkenini 94'ten bölelim ve yukarıdaki aşamaları burada da yapalım;\n",
    "\n",
    "<p align=\"center\">\n",
    "  <img src=\"grafikler/cart11.png\" height=400 >\n",
    "</p>\n",
    "\n",
    "    Hata karelerinde daha da bir azalma olduğunu gözlemliyoruz.\n",
    "\n",
    "4. Son olarak veri setinin bağımsız değişkenini 118'den bölelim ve yukarıdaki aşamaları burada da yapalım;\n",
    "\n",
    "<p align=\"center\">\n",
    "  <img src=\"grafikler/cart12.png\" height=400 >\n",
    "</p>\n",
    "\n",
    "    Hata karelerinde artış gözlemliyoruz.\n",
    "\n",
    "Bu SSE'ler incelendiğinde; en az hatayı veren gözlemin 94 olduğunu görebiliriz.\n",
    "\n",
    "<p align=\"center\">\n",
    "  <img src=\"grafikler/cart13.png\" height=150 >\n",
    "</p>\n",
    "\n",
    "En az hatayı veriyi 94'ten bölünce aldığımız için ilk karar noktamız 94'tür. Bu şekilde birinci dallanma tamamlanmaktadır. Diğer dallanma noktalarını bulmak için ise 2'ye ayrılan verimizin her bir kısmında bu süreci devam ettiririz."
   ]
  },
  {
   "cell_type": "code",
   "execution_count": 4,
   "metadata": {},
   "outputs": [],
   "source": [
    "# Peki burada 1 değil de 10 değişken olsaydı ne olacaktı?\n",
    "\n",
    "# Bu 10 değişkenin tamamına da metrekare değişkenine yaptığımız işlemi uygulayacak,\n",
    "# bunun neticesinde en düşük hatayı veren değişken, en önemli değişken olacarak en tepede yer alacaktı.\n",
    "# Bu önem düzeyine göre değişkenlerin dallanmaları gerçekleşiyor olacaktı."
   ]
  },
  {
   "attachments": {},
   "cell_type": "markdown",
   "metadata": {},
   "source": [
    "Yukarıda diğer dallanma noktalarını bulmak için tek bir veri setinden parçalanarak oluşan 2 veri setinde de sürecin aynı şekilde (ana veri setindeki süreç gibi) devam edeceğini söylemiştik.\n",
    "\n",
    "**\"Peki karar ağacında kaç dal olacak, yoksa her bir gözleme kadar bir dal oluşturacak mıyız?\"** soruları akıllara gelebilir. \n",
    "\n",
    "Bunlar modelimize vereceğimiz hiper parametreler olacak, modelimize dallanma sayısını veya son iki veya üç gözleme gelince daha fazla dallanma yapmaması gerektiğini hiper parametre ile vereceğiz. Yoksa modelimiz veriyi aşırı öğrenir, train veri setinde çok iyi sonuçlar ortaya çıkarsa da gerçek problem'e uygulanabilirliği olmayabilir.\n",
    "\n",
    "Bu kısmın detayını hiper parametre optimizasyonu bölümünde göreceğiz. Lakin iki nokta bizim için önemlidir;\n",
    "\n",
    "* Modelimizde ne kadar dallanma olacağı, (max dept)\n",
    "* Oluşan dalda kalan gözlem sayısının ka olacağı. (min sample split)\n",
    "\n",
    "Biz yukarıdaki örneğimizde 1 seviye aşağı inerek karar ağacını dallandırdık. "
   ]
  },
  {
   "cell_type": "code",
   "execution_count": 5,
   "metadata": {},
   "outputs": [],
   "source": [
    "################################################\n",
    "# Decision Tree Classification: CART\n",
    "################################################\n",
    "\n",
    "# 1. Exploratory Data Analysis\n",
    "# 2. Data Preprocessing & Feature Engineering\n",
    "# 3. Modeling using CART\n",
    "# 4. Hyperparameter Optimization with GridSearchCV\n",
    "# 5. Final Model\n",
    "# 6. Feature Importance\n",
    "# 7. Analyzing Model Complexity with Learning Curves (BONUS)\n",
    "# 8. Visualizing the Decision Tree\n",
    "# 9. Extracting Decision Rules\n",
    "# 10. Extracting Python/SQL/Excel Codes of Decision Rules\n",
    "# 11. Prediction using Python Codes\n",
    "# 12. Saving and Loading Model"
   ]
  },
  {
   "cell_type": "code",
   "execution_count": 6,
   "metadata": {},
   "outputs": [],
   "source": [
    "# Kütüphanelerimizi import edelim;\n",
    "\n",
    "import warnings\n",
    "import joblib\n",
    "import pydotplus\n",
    "import numpy as np\n",
    "import pandas as pd\n",
    "import seaborn as sns\n",
    "from matplotlib import pyplot as plt\n",
    "from sklearn.tree import DecisionTreeClassifier, export_graphviz, export_text\n",
    "from sklearn.metrics import classification_report, roc_auc_score\n",
    "from sklearn.model_selection import train_test_split, GridSearchCV, cross_validate, validation_curve\n",
    "from skompiler import skompile\n",
    "import graphviz\n",
    "\n",
    "# Hata ve tablo görünüm ayarlarımızı yapalım;\n",
    "\n",
    "pd.set_option('display.max_columns', None)\n",
    "pd.set_option('display.width', 500)\n",
    "\n",
    "warnings.simplefilter(action='ignore', category=Warning)"
   ]
  },
  {
   "attachments": {},
   "cell_type": "markdown",
   "metadata": {},
   "source": [
    "İlk iki başlığı bu ders kapsamında es geçiyor olacağız, geçmiş konu anlatımlarında detaylıca üzerinden geçmiştik."
   ]
  },
  {
   "cell_type": "code",
   "execution_count": 7,
   "metadata": {},
   "outputs": [],
   "source": [
    "################################################\n",
    "# 1. Exploratory Data Analysis\n",
    "################################################\n",
    "\n",
    "################################################\n",
    "# 2. Data Preprocessing & Feature Engineering\n",
    "################################################"
   ]
  },
  {
   "cell_type": "code",
   "execution_count": 8,
   "metadata": {},
   "outputs": [],
   "source": [
    "################################################\n",
    "# 3. Modeling using CART\n",
    "################################################\n",
    "\n",
    "\n",
    "# Veri setini okutalım;\n",
    "df = pd.read_csv(\"datasets/diabetes.csv\")\n",
    "\n",
    "\n",
    "# Bağımlı ve bağımsız değişkenlerimizi tanımlayalım;\n",
    "y = df[\"Outcome\"]\n",
    "X = df.drop([\"Outcome\"], axis=1)\n",
    "\n",
    "# Modelimizi kuralım;\n",
    "cart_model = DecisionTreeClassifier(random_state=1).fit(X, y)"
   ]
  },
  {
   "cell_type": "code",
   "execution_count": 9,
   "metadata": {},
   "outputs": [],
   "source": [
    "# Confusion matrix için y_pred hesaplayalım;\n",
    "y_pred = cart_model.predict(X)\n",
    "\n",
    "# AUC için y_prob hesaplayalım;\n",
    "y_prob = cart_model.predict_proba(X)[:, 1]"
   ]
  },
  {
   "cell_type": "code",
   "execution_count": 10,
   "metadata": {},
   "outputs": [
    {
     "name": "stdout",
     "output_type": "stream",
     "text": [
      "              precision    recall  f1-score   support\n",
      "\n",
      "           0       1.00      1.00      1.00       500\n",
      "           1       1.00      1.00      1.00       268\n",
      "\n",
      "    accuracy                           1.00       768\n",
      "   macro avg       1.00      1.00      1.00       768\n",
      "weighted avg       1.00      1.00      1.00       768\n",
      "\n"
     ]
    }
   ],
   "source": [
    "# Confusion matrix'imizi inceleyelim;\n",
    "print(classification_report(y, y_pred))"
   ]
  },
  {
   "attachments": {},
   "cell_type": "markdown",
   "metadata": {},
   "source": [
    "Yukarıya baktığımız zaman %100'lük bir tahmin etme başarımızın olduğunu görüyoruz. Lakin teorik olarak böyle bir çıktı mümkün değil. İyi model kurmanın bir gerekliliği olarak hataların raslantısal olması gerekmektedir. Yukarıda hata olmamakla birlikte, hatayı sayısal bir değer olarak görüp \"0\" olarak değerlendirecek olursak da, raslantısal olmadığı çok açıktır."
   ]
  },
  {
   "cell_type": "code",
   "execution_count": 11,
   "metadata": {},
   "outputs": [
    {
     "data": {
      "text/plain": [
       "1.0"
      ]
     },
     "execution_count": 11,
     "metadata": {},
     "output_type": "execute_result"
    }
   ],
   "source": [
    "# AUC değerine bakalım;\n",
    "roc_auc_score(y, y_prob)"
   ]
  },
  {
   "attachments": {},
   "cell_type": "markdown",
   "metadata": {},
   "source": [
    "        Model başarımızı bir doğrulayalım;"
   ]
  },
  {
   "cell_type": "code",
   "execution_count": 12,
   "metadata": {},
   "outputs": [],
   "source": [
    "#####################\n",
    "# Holdout Yöntemi ile Başarı Değerlendirme\n",
    "#####################\n",
    "\n",
    "# Veri setimizi ikiye bölelim;\n",
    "X_train, X_test, y_train, y_test = train_test_split(X, y, test_size=0.30, random_state=45)\n",
    "\n",
    "\n",
    "# Train veri setinde modelimizi eğitelim;\n",
    "cart_model = DecisionTreeClassifier(random_state=17).fit(X_train, y_train)"
   ]
  },
  {
   "cell_type": "code",
   "execution_count": 13,
   "metadata": {},
   "outputs": [
    {
     "name": "stdout",
     "output_type": "stream",
     "text": [
      "              precision    recall  f1-score   support\n",
      "\n",
      "           0       1.00      1.00      1.00       346\n",
      "           1       1.00      1.00      1.00       191\n",
      "\n",
      "    accuracy                           1.00       537\n",
      "   macro avg       1.00      1.00      1.00       537\n",
      "weighted avg       1.00      1.00      1.00       537\n",
      "\n"
     ]
    },
    {
     "data": {
      "text/plain": [
       "1.0"
      ]
     },
     "execution_count": 13,
     "metadata": {},
     "output_type": "execute_result"
    }
   ],
   "source": [
    "# Train setinin confusion matrix'ine ve AUC değerine bakalım;\n",
    "\n",
    "y_pred = cart_model.predict(X_train)\n",
    "y_prob = cart_model.predict_proba(X_train)[:, 1]\n",
    "print(classification_report(y_train, y_pred))\n",
    "roc_auc_score(y_train, y_prob)"
   ]
  },
  {
   "attachments": {},
   "cell_type": "markdown",
   "metadata": {},
   "source": [
    "Yine mükemmel bir tahminde bulunmuşuz gibi gözüküyor. :)"
   ]
  },
  {
   "cell_type": "code",
   "execution_count": 14,
   "metadata": {},
   "outputs": [
    {
     "name": "stdout",
     "output_type": "stream",
     "text": [
      "              precision    recall  f1-score   support\n",
      "\n",
      "           0       0.77      0.75      0.76       154\n",
      "           1       0.53      0.56      0.54        77\n",
      "\n",
      "    accuracy                           0.69       231\n",
      "   macro avg       0.65      0.66      0.65       231\n",
      "weighted avg       0.69      0.69      0.69       231\n",
      "\n"
     ]
    },
    {
     "data": {
      "text/plain": [
       "0.6558441558441559"
      ]
     },
     "execution_count": 14,
     "metadata": {},
     "output_type": "execute_result"
    }
   ],
   "source": [
    "# Test setinin confusion matrix'ine ve AUC değerine bakalım;\n",
    "y_pred = cart_model.predict(X_test)\n",
    "y_prob = cart_model.predict_proba(X_test)[:, 1]\n",
    "print(classification_report(y_test, y_pred))\n",
    "roc_auc_score(y_test, y_prob)"
   ]
  },
  {
   "attachments": {},
   "cell_type": "markdown",
   "metadata": {},
   "source": [
    "Model görmediği bir veride o kadar da iyi bir performans gösteremedi. Anlıyoruz ki modelimiz over fit olup, train data setini ezberlemiş."
   ]
  },
  {
   "cell_type": "code",
   "execution_count": 15,
   "metadata": {},
   "outputs": [],
   "source": [
    "#####################\n",
    "# Cross Validation ile Başarı Değerlendirmek İstersek\n",
    "#####################\n",
    "\n",
    "\n",
    "# Modelimizi tekrardan kuralım;\n",
    "cart_model = DecisionTreeClassifier(random_state=17).fit(X, y)\n",
    "\n",
    "\n",
    "# cross_validate fonksiyonumuzu çalıştıralım;\n",
    "cv_results = cross_validate(cart_model,\n",
    "                            X, y,\n",
    "                            cv=5,\n",
    "                            scoring=[\"accuracy\", \"f1\", \"roc_auc\"])"
   ]
  },
  {
   "cell_type": "code",
   "execution_count": 16,
   "metadata": {},
   "outputs": [
    {
     "data": {
      "text/plain": [
       "0.7058568882098294"
      ]
     },
     "execution_count": 16,
     "metadata": {},
     "output_type": "execute_result"
    }
   ],
   "source": [
    "# Test accuracy ortalamalarına bakalım;\n",
    "cv_results['test_accuracy'].mean()"
   ]
  },
  {
   "cell_type": "code",
   "execution_count": 17,
   "metadata": {},
   "outputs": [
    {
     "data": {
      "text/plain": [
       "0.5710621194523633"
      ]
     },
     "execution_count": 17,
     "metadata": {},
     "output_type": "execute_result"
    }
   ],
   "source": [
    "# f1 skoru ortalamalarına bakalım;\n",
    "cv_results['test_f1'].mean()"
   ]
  },
  {
   "cell_type": "code",
   "execution_count": 18,
   "metadata": {},
   "outputs": [
    {
     "data": {
      "text/plain": [
       "0.6719440950384347"
      ]
     },
     "execution_count": 18,
     "metadata": {},
     "output_type": "execute_result"
    }
   ],
   "source": [
    "# AUC değeri ortalamalarına bakalım;\n",
    "cv_results['test_roc_auc'].mean()"
   ]
  },
  {
   "cell_type": "code",
   "execution_count": 19,
   "metadata": {},
   "outputs": [],
   "source": [
    "# Bir önceki modelin test setinin başarı metrikleri\n",
    "\n",
    "#               precision    recall  f1-score   support\n",
    "\n",
    "#            0       0.77      0.75      0.76       154\n",
    "#            1       0.53      0.56      0.54        77\n",
    "\n",
    "#     accuracy                           0.69       231\n",
    "#    macro avg       0.65      0.66      0.65       231\n",
    "# weighted avg       0.69      0.69      0.69       231"
   ]
  },
  {
   "attachments": {},
   "cell_type": "markdown",
   "metadata": {},
   "source": [
    "    Buradaki asıl kaygımız başarı değil, başarının doğruluğunu tespit etmektir.\n",
    "\n",
    "    5 Katlı CV sonrasında modelimizin başarı metrikleri eğer ki hala bizim için yeterli değilse, bu başarı metriklerini arttırmak için;\n",
    "        * Yeni gözlemler ekleyerek,\n",
    "        * Yeni değişkenler ekleyerek,\n",
    "        * Veri ön işleme işlemlerine dokunarak,\n",
    "        * Hiper parametre optimizasyonu yaparak gerçekleştirbiliriz."
   ]
  },
  {
   "cell_type": "code",
   "execution_count": 20,
   "metadata": {},
   "outputs": [
    {
     "data": {
      "text/plain": [
       "{'ccp_alpha': 0.0,\n",
       " 'class_weight': None,\n",
       " 'criterion': 'gini',\n",
       " 'max_depth': None,\n",
       " 'max_features': None,\n",
       " 'max_leaf_nodes': None,\n",
       " 'min_impurity_decrease': 0.0,\n",
       " 'min_samples_leaf': 1,\n",
       " 'min_samples_split': 2,\n",
       " 'min_weight_fraction_leaf': 0.0,\n",
       " 'random_state': 17,\n",
       " 'splitter': 'best'}"
      ]
     },
     "execution_count": 20,
     "metadata": {},
     "output_type": "execute_result"
    }
   ],
   "source": [
    "################################################\n",
    "# 4. Hyperparameter Optimization with GridSearchCV\n",
    "################################################\n",
    "\n",
    "# Mevcut modelin hiper parametrelerine bakalım;\n",
    "cart_model.get_params()\n",
    "\n",
    "# Burada over-fit'in direk önüne geçebilecek \"max_depth\" ve \"min_samples_split\" olmak üzere,\n",
    "# bizi ilgilendiren iki parametre bulunmaktadır."
   ]
  },
  {
   "cell_type": "code",
   "execution_count": 21,
   "metadata": {},
   "outputs": [],
   "source": [
    "# max_depth\n",
    "# Ağacın maksimum derinliğidir. Yani kaç seviye yaprak oluşturulacağını ifade eder.\n",
    "# \"None\" ise, tüm yapraklar saf olana kadar veya \n",
    "# tüm yapraklar min_samples_split örneklerinden daha az gözlem içerene kadar düğümler (karar noktaları) genişletilir.\n",
    "\n",
    "# min_samples_split\n",
    "# İç düğümü bölmek için gereken minimum gözlem sayısı"
   ]
  },
  {
   "cell_type": "code",
   "execution_count": 22,
   "metadata": {},
   "outputs": [],
   "source": [
    "# Göndereceğimiz parametreleri bir sözlüğün içerisine kaydedelim;\n",
    "\n",
    "cart_params = {'max_depth': range(1, 11),\n",
    "               \"min_samples_split\": range(2, 20)}"
   ]
  },
  {
   "cell_type": "code",
   "execution_count": 23,
   "metadata": {},
   "outputs": [
    {
     "name": "stdout",
     "output_type": "stream",
     "text": [
      "Fitting 5 folds for each of 180 candidates, totalling 900 fits\n"
     ]
    }
   ],
   "source": [
    "# GridSearchCV ile hiperparametre değişikliklerini inceleyelim;\n",
    "\n",
    "cart_best_grid = GridSearchCV(cart_model,\n",
    "                              cart_params,\n",
    "                              cv=5,\n",
    "                              n_jobs=-1,\n",
    "                              verbose=1).fit(X, y)"
   ]
  },
  {
   "attachments": {},
   "cell_type": "markdown",
   "metadata": {},
   "source": [
    "    Verbose bize çıktı detayını gösterir."
   ]
  },
  {
   "cell_type": "code",
   "execution_count": 24,
   "metadata": {},
   "outputs": [
    {
     "name": "stdout",
     "output_type": "stream",
     "text": [
      "Fitting 5 folds for each of 180 candidates, totalling 900 fits\n",
      "[CV 1/5] END ..max_depth=1, min_samples_split=2;, score=0.682 total time=   0.0s\n",
      "[CV 2/5] END ..max_depth=1, min_samples_split=2;, score=0.714 total time=   0.0s\n",
      "[CV 4/5] END ..max_depth=1, min_samples_split=2;, score=0.752 total time=   0.0s\n",
      "[CV 3/5] END ..max_depth=1, min_samples_split=2;, score=0.714 total time=   0.0s\n",
      "[CV 5/5] END ..max_depth=1, min_samples_split=2;, score=0.752 total time=   0.0s\n",
      "[CV 1/5] END ..max_depth=1, min_samples_split=3;, score=0.682 total time=   0.0s\n",
      "[CV 2/5] END ..max_depth=1, min_samples_split=3;, score=0.714 total time=   0.0s\n",
      "[CV 3/5] END ..max_depth=1, min_samples_split=3;, score=0.714 total time=   0.0s\n",
      "[CV 4/5] END ..max_depth=1, min_samples_split=3;, score=0.752 total time=   0.0s\n",
      "[CV 5/5] END ..max_depth=1, min_samples_split=3;, score=0.752 total time=   0.0s\n",
      "[CV 1/5] END ..max_depth=1, min_samples_split=4;, score=0.682 total time=   0.0s\n",
      "[CV 2/5] END ..max_depth=1, min_samples_split=4;, score=0.714 total time=   0.0s\n",
      "[CV 3/5] END ..max_depth=1, min_samples_split=4;, score=0.714 total time=   0.0s\n",
      "[CV 4/5] END ..max_depth=1, min_samples_split=4;, score=0.752 total time=   0.0s\n",
      "[CV 5/5] END ..max_depth=1, min_samples_split=4;, score=0.752 total time=   0.0s\n",
      "[CV 2/5] END ..max_depth=1, min_samples_split=5;, score=0.714 total time=   0.0s\n",
      "[CV 1/5] END ..max_depth=1, min_samples_split=5;, score=0.682 total time=   0.0s\n",
      "[CV 4/5] END ..max_depth=1, min_samples_split=5;, score=0.752 total time=   0.0s\n",
      "[CV 1/5] END ..max_depth=1, min_samples_split=6;, score=0.682 total time=   0.0s\n",
      "[CV 3/5] END ..max_depth=1, min_samples_split=5;, score=0.714 total time=   0.0s\n",
      "[CV 5/5] END ..max_depth=1, min_samples_split=5;, score=0.752 total time=   0.0s\n",
      "[CV 3/5] END ..max_depth=1, min_samples_split=6;, score=0.714 total time=   0.0s\n",
      "[CV 2/5] END ..max_depth=1, min_samples_split=6;, score=0.714 total time=   0.0s\n",
      "[CV 5/5] END ..max_depth=1, min_samples_split=6;, score=0.752 total time=   0.0s\n",
      "[CV 4/5] END ..max_depth=1, min_samples_split=6;, score=0.752 total time=   0.0s\n",
      "[CV 2/5] END ..max_depth=1, min_samples_split=7;, score=0.714 total time=   0.0s\n",
      "[CV 1/5] END ..max_depth=1, min_samples_split=7;, score=0.682 total time=   0.0s\n",
      "[CV 4/5] END ..max_depth=1, min_samples_split=7;, score=0.752 total time=   0.0s\n",
      "[CV 3/5] END ..max_depth=1, min_samples_split=7;, score=0.714 total time=   0.0s\n",
      "[CV 1/5] END ..max_depth=1, min_samples_split=8;, score=0.682 total time=   0.0s\n",
      "[CV 2/5] END ..max_depth=1, min_samples_split=8;, score=0.714 total time=   0.0s\n",
      "[CV 5/5] END ..max_depth=1, min_samples_split=7;, score=0.752 total time=   0.0s\n",
      "[CV 3/5] END ..max_depth=1, min_samples_split=8;, score=0.714 total time=   0.0s\n",
      "[CV 5/5] END ..max_depth=1, min_samples_split=8;, score=0.752 total time=   0.0s\n",
      "[CV 4/5] END ..max_depth=1, min_samples_split=8;, score=0.752 total time=   0.0s\n",
      "[CV 1/5] END ..max_depth=1, min_samples_split=9;, score=0.682 total time=   0.0s\n",
      "[CV 2/5] END ..max_depth=1, min_samples_split=9;, score=0.714 total time=   0.0s\n",
      "[CV 4/5] END ..max_depth=1, min_samples_split=9;, score=0.752 total time=   0.0s\n",
      "[CV 3/5] END ..max_depth=1, min_samples_split=9;, score=0.714 total time=   0.0s\n",
      "[CV 3/5] END .max_depth=1, min_samples_split=10;, score=0.714 total time=   0.0s\n",
      "[CV 1/5] END .max_depth=1, min_samples_split=10;, score=0.682 total time=   0.0s\n",
      "[CV 5/5] END ..max_depth=1, min_samples_split=9;, score=0.752 total time=   0.0s\n",
      "[CV 4/5] END .max_depth=1, min_samples_split=10;, score=0.752 total time=   0.0s\n",
      "[CV 2/5] END .max_depth=1, min_samples_split=10;, score=0.714 total time=   0.0s\n",
      "[CV 5/5] END .max_depth=1, min_samples_split=10;, score=0.752 total time=   0.0s\n",
      "[CV 2/5] END .max_depth=1, min_samples_split=11;, score=0.714 total time=   0.0s\n",
      "[CV 1/5] END .max_depth=1, min_samples_split=11;, score=0.682 total time=   0.0s\n",
      "[CV 3/5] END .max_depth=1, min_samples_split=11;, score=0.714 total time=   0.0s\n",
      "[CV 4/5] END .max_depth=1, min_samples_split=11;, score=0.752 total time=   0.0s\n",
      "[CV 3/5] END .max_depth=1, min_samples_split=12;, score=0.714 total time=   0.0s\n",
      "[CV 5/5] END .max_depth=1, min_samples_split=11;, score=0.752 total time=   0.0s\n",
      "[CV 2/5] END .max_depth=1, min_samples_split=13;, score=0.714 total time=   0.0s\n",
      "[CV 1/5] END .max_depth=1, min_samples_split=14;, score=0.682 total time=   0.0s\n",
      "[CV 4/5] END .max_depth=1, min_samples_split=12;, score=0.752 total time=   0.0s\n",
      "[CV 1/5] END .max_depth=1, min_samples_split=12;, score=0.682 total time=   0.0s\n",
      "[CV 3/5] END .max_depth=1, min_samples_split=13;, score=0.714 total time=   0.0s\n",
      "[CV 2/5] END .max_depth=1, min_samples_split=14;, score=0.714 total time=   0.0s\n",
      "[CV 5/5] END .max_depth=1, min_samples_split=12;, score=0.752 total time=   0.0s\n",
      "[CV 2/5] END .max_depth=1, min_samples_split=12;, score=0.714 total time=   0.0s\n",
      "[CV 4/5] END .max_depth=1, min_samples_split=13;, score=0.752 total time=   0.0s\n",
      "[CV 3/5] END .max_depth=1, min_samples_split=14;, score=0.714 total time=   0.0s\n",
      "[CV 1/5] END .max_depth=1, min_samples_split=13;, score=0.682 total time=   0.0s\n",
      "[CV 5/5] END .max_depth=1, min_samples_split=13;, score=0.752 total time=   0.0s\n",
      "[CV 3/5] END .max_depth=1, min_samples_split=16;, score=0.714 total time=   0.0s\n",
      "[CV 4/5] END .max_depth=1, min_samples_split=14;, score=0.752 total time=   0.0s\n",
      "[CV 4/5] END .max_depth=1, min_samples_split=15;, score=0.752 total time=   0.0s\n",
      "[CV 2/5] END .max_depth=1, min_samples_split=17;, score=0.714 total time=   0.0s\n",
      "[CV 5/5] END .max_depth=1, min_samples_split=14;, score=0.752 total time=   0.0s\n",
      "[CV 4/5] END .max_depth=1, min_samples_split=16;, score=0.752 total time=   0.0s\n",
      "[CV 3/5] END .max_depth=1, min_samples_split=17;, score=0.714 total time=   0.0s\n",
      "[CV 5/5] END .max_depth=1, min_samples_split=15;, score=0.752 total time=   0.0s\n",
      "[CV 1/5] END .max_depth=1, min_samples_split=15;, score=0.682 total time=   0.0s\n",
      "[CV 5/5] END .max_depth=1, min_samples_split=16;, score=0.752 total time=   0.0s\n",
      "[CV 4/5] END .max_depth=1, min_samples_split=17;, score=0.752 total time=   0.0s\n",
      "[CV 1/5] END .max_depth=1, min_samples_split=16;, score=0.682 total time=   0.0s\n",
      "[CV 2/5] END .max_depth=1, min_samples_split=15;, score=0.714 total time=   0.0s\n",
      "[CV 1/5] END .max_depth=1, min_samples_split=17;, score=0.682 total time=   0.0s\n",
      "[CV 1/5] END .max_depth=1, min_samples_split=18;, score=0.682 total time=   0.0s\n",
      "[CV 5/5] END .max_depth=1, min_samples_split=17;, score=0.752 total time=   0.0s\n",
      "[CV 2/5] END .max_depth=1, min_samples_split=16;, score=0.714 total time=   0.0s\n",
      "[CV 3/5] END .max_depth=1, min_samples_split=15;, score=0.714 total time=   0.0s\n",
      "[CV 5/5] END .max_depth=1, min_samples_split=18;, score=0.752 total time=   0.0s\n",
      "[CV 4/5] END .max_depth=1, min_samples_split=19;, score=0.752 total time=   0.0s\n",
      "[CV 2/5] END .max_depth=1, min_samples_split=18;, score=0.714 total time=   0.0s\n",
      "[CV 1/5] END .max_depth=1, min_samples_split=19;, score=0.682 total time=   0.0s\n",
      "[CV 5/5] END .max_depth=1, min_samples_split=19;, score=0.752 total time=   0.0s\n",
      "[CV 3/5] END .max_depth=1, min_samples_split=18;, score=0.714 total time=   0.0s\n",
      "[CV 2/5] END .max_depth=1, min_samples_split=19;, score=0.714 total time=   0.0s\n",
      "[CV 1/5] END ..max_depth=2, min_samples_split=2;, score=0.734 total time=   0.0s\n",
      "[CV 4/5] END .max_depth=1, min_samples_split=18;, score=0.752 total time=   0.0s\n",
      "[CV 3/5] END ..max_depth=2, min_samples_split=2;, score=0.740 total time=   0.0s\n",
      "[CV 3/5] END .max_depth=1, min_samples_split=19;, score=0.714 total time=   0.0s\n",
      "[CV 2/5] END ..max_depth=2, min_samples_split=2;, score=0.714 total time=   0.0s\n",
      "[CV 4/5] END ..max_depth=2, min_samples_split=2;, score=0.752 total time=   0.0s\n",
      "[CV 5/5] END ..max_depth=2, min_samples_split=2;, score=0.745 total time=   0.0s\n",
      "[CV 2/5] END ..max_depth=2, min_samples_split=3;, score=0.714 total time=   0.0s\n",
      "[CV 1/5] END ..max_depth=2, min_samples_split=4;, score=0.734 total time=   0.0s\n",
      "[CV 1/5] END ..max_depth=2, min_samples_split=3;, score=0.734 total time=   0.0s\n",
      "[CV 3/5] END ..max_depth=2, min_samples_split=3;, score=0.740 total time=   0.0s\n",
      "[CV 2/5] END ..max_depth=2, min_samples_split=4;, score=0.714 total time=   0.0s\n",
      "[CV 5/5] END ..max_depth=2, min_samples_split=4;, score=0.745 total time=   0.0s\n",
      "[CV 4/5] END ..max_depth=2, min_samples_split=3;, score=0.752 total time=   0.0s\n",
      "[CV 3/5] END ..max_depth=2, min_samples_split=4;, score=0.740 total time=   0.0s\n",
      "[CV 1/5] END ..max_depth=2, min_samples_split=5;, score=0.734 total time=   0.0s\n",
      "[CV 5/5] END ..max_depth=2, min_samples_split=3;, score=0.745 total time=   0.0s\n",
      "[CV 4/5] END ..max_depth=2, min_samples_split=4;, score=0.752 total time=   0.0s\n",
      "[CV 2/5] END ..max_depth=2, min_samples_split=5;, score=0.714 total time=   0.0s\n",
      "[CV 4/5] END ..max_depth=2, min_samples_split=5;, score=0.752 total time=   0.0s\n",
      "[CV 3/5] END ..max_depth=2, min_samples_split=6;, score=0.740 total time=   0.0s\n",
      "[CV 3/5] END ..max_depth=2, min_samples_split=5;, score=0.740 total time=   0.0s\n",
      "[CV 1/5] END ..max_depth=2, min_samples_split=8;, score=0.734 total time=   0.0s\n",
      "[CV 5/5] END ..max_depth=2, min_samples_split=5;, score=0.745 total time=   0.0s\n",
      "[CV 4/5] END ..max_depth=2, min_samples_split=6;, score=0.752 total time=   0.0s\n",
      "[CV 2/5] END ..max_depth=2, min_samples_split=8;, score=0.714 total time=   0.0s\n",
      "[CV 4/5] END ..max_depth=2, min_samples_split=9;, score=0.752 total time=   0.0s\n",
      "[CV 1/5] END ..max_depth=2, min_samples_split=6;, score=0.734 total time=   0.0s\n",
      "[CV 5/5] END ..max_depth=2, min_samples_split=6;, score=0.745 total time=   0.0s\n",
      "[CV 3/5] END ..max_depth=2, min_samples_split=8;, score=0.740 total time=   0.0s\n",
      "[CV 5/5] END ..max_depth=2, min_samples_split=9;, score=0.745 total time=   0.0s\n",
      "[CV 2/5] END ..max_depth=2, min_samples_split=6;, score=0.714 total time=   0.0s\n",
      "[CV 1/5] END ..max_depth=2, min_samples_split=7;, score=0.734 total time=   0.0s\n",
      "[CV 4/5] END ..max_depth=2, min_samples_split=8;, score=0.752 total time=   0.0s\n",
      "[CV 1/5] END .max_depth=2, min_samples_split=10;, score=0.734 total time=   0.0s\n",
      "[CV 2/5] END ..max_depth=2, min_samples_split=7;, score=0.714 total time=   0.0s\n",
      "[CV 3/5] END .max_depth=2, min_samples_split=14;, score=0.740 total time=   0.0s\n",
      "[CV 2/5] END .max_depth=2, min_samples_split=11;, score=0.714 total time=   0.0s\n",
      "[CV 5/5] END ..max_depth=2, min_samples_split=8;, score=0.745 total time=   0.0s\n",
      "[CV 5/5] END .max_depth=2, min_samples_split=12;, score=0.745 total time=   0.0s\n",
      "[CV 2/5] END .max_depth=2, min_samples_split=10;, score=0.714 total time=   0.0s\n",
      "[CV 3/5] END ..max_depth=2, min_samples_split=7;, score=0.740 total time=   0.0s\n",
      "[CV 4/5] END .max_depth=2, min_samples_split=14;, score=0.752 total time=   0.0s\n",
      "[CV 1/5] END ..max_depth=2, min_samples_split=9;, score=0.734 total time=   0.0s\n",
      "[CV 3/5] END .max_depth=2, min_samples_split=10;, score=0.740 total time=   0.0s\n",
      "[CV 4/5] END ..max_depth=2, min_samples_split=7;, score=0.752 total time=   0.0s\n",
      "[CV 5/5] END .max_depth=2, min_samples_split=14;, score=0.745 total time=   0.0s\n",
      "[CV 2/5] END ..max_depth=2, min_samples_split=9;, score=0.714 total time=   0.0s\n",
      "[CV 3/5] END .max_depth=2, min_samples_split=11;, score=0.740 total time=   0.0s\n",
      "[CV 4/5] END .max_depth=2, min_samples_split=10;, score=0.752 total time=   0.0s\n",
      "[CV 1/5] END .max_depth=2, min_samples_split=13;, score=0.734 total time=   0.0s\n",
      "[CV 1/5] END .max_depth=2, min_samples_split=15;, score=0.734 total time=   0.0s\n",
      "[CV 3/5] END ..max_depth=2, min_samples_split=9;, score=0.740 total time=   0.0s\n",
      "[CV 4/5] END .max_depth=2, min_samples_split=11;, score=0.752 total time=   0.0s\n",
      "[CV 2/5] END .max_depth=2, min_samples_split=15;, score=0.714 total time=   0.0s\n",
      "[CV 1/5] END .max_depth=2, min_samples_split=16;, score=0.734 total time=   0.0s\n",
      "[CV 2/5] END .max_depth=2, min_samples_split=13;, score=0.714 total time=   0.0s\n",
      "[CV 5/5] END ..max_depth=2, min_samples_split=7;, score=0.745 total time=   0.0s\n",
      "[CV 4/5] END .max_depth=2, min_samples_split=17;, score=0.752 total time=   0.0s\n",
      "[CV 5/5] END .max_depth=2, min_samples_split=11;, score=0.745 total time=   0.0s\n",
      "[CV 3/5] END .max_depth=2, min_samples_split=15;, score=0.740 total time=   0.0s\n",
      "[CV 3/5] END .max_depth=2, min_samples_split=13;, score=0.740 total time=   0.0s\n",
      "[CV 5/5] END .max_depth=2, min_samples_split=17;, score=0.745 total time=   0.0s\n",
      "[CV 1/5] END .max_depth=2, min_samples_split=12;, score=0.734 total time=   0.0s\n",
      "[CV 5/5] END .max_depth=2, min_samples_split=10;, score=0.745 total time=   0.0s\n",
      "[CV 4/5] END .max_depth=2, min_samples_split=15;, score=0.752 total time=   0.0s\n",
      "[CV 4/5] END .max_depth=2, min_samples_split=13;, score=0.752 total time=   0.0s\n",
      "[CV 2/5] END .max_depth=2, min_samples_split=16;, score=0.714 total time=   0.0s\n",
      "[CV 1/5] END .max_depth=2, min_samples_split=18;, score=0.734 total time=   0.0s\n",
      "[CV 2/5] END .max_depth=2, min_samples_split=12;, score=0.714 total time=   0.0s\n",
      "[CV 5/5] END .max_depth=2, min_samples_split=13;, score=0.745 total time=   0.0s\n",
      "[CV 2/5] END .max_depth=2, min_samples_split=19;, score=0.714 total time=   0.0s\n",
      "[CV 3/5] END .max_depth=2, min_samples_split=16;, score=0.740 total time=   0.0s\n",
      "[CV 2/5] END .max_depth=2, min_samples_split=18;, score=0.714 total time=   0.0s\n",
      "[CV 3/5] END .max_depth=2, min_samples_split=12;, score=0.740 total time=   0.0s\n",
      "[CV 1/5] END .max_depth=2, min_samples_split=14;, score=0.734 total time=   0.0s\n",
      "[CV 4/5] END .max_depth=2, min_samples_split=16;, score=0.752 total time=   0.0s\n",
      "[CV 3/5] END .max_depth=2, min_samples_split=18;, score=0.740 total time=   0.0s\n",
      "[CV 4/5] END .max_depth=2, min_samples_split=12;, score=0.752 total time=   0.0s\n",
      "[CV 1/5] END .max_depth=2, min_samples_split=11;, score=0.734 total time=   0.0s\n",
      "[CV 5/5] END .max_depth=2, min_samples_split=15;, score=0.745 total time=   0.0s\n",
      "[CV 2/5] END .max_depth=2, min_samples_split=14;, score=0.714 total time=   0.0s\n",
      "[CV 5/5] END .max_depth=2, min_samples_split=16;, score=0.745 total time=   0.0s\n",
      "[CV 4/5] END .max_depth=2, min_samples_split=18;, score=0.752 total time=   0.0s\n",
      "[CV 3/5] END .max_depth=2, min_samples_split=19;, score=0.740 total time=   0.0s\n",
      "[CV 5/5] END .max_depth=2, min_samples_split=18;, score=0.745 total time=   0.0s\n",
      "[CV 1/5] END .max_depth=2, min_samples_split=17;, score=0.734 total time=   0.0s\n",
      "[CV 4/5] END .max_depth=2, min_samples_split=19;, score=0.752 total time=   0.0s\n",
      "[CV 1/5] END .max_depth=2, min_samples_split=19;, score=0.734 total time=   0.0s\n",
      "[CV 2/5] END .max_depth=2, min_samples_split=17;, score=0.714 total time=   0.0s\n",
      "[CV 5/5] END .max_depth=2, min_samples_split=19;, score=0.745 total time=   0.0s\n",
      "[CV 3/5] END .max_depth=2, min_samples_split=17;, score=0.740 total time=   0.0s\n",
      "[CV 1/5] END ..max_depth=3, min_samples_split=2;, score=0.727 total time=   0.0s\n",
      "[CV 2/5] END ..max_depth=3, min_samples_split=2;, score=0.721 total time=   0.0s\n",
      "[CV 5/5] END ..max_depth=3, min_samples_split=2;, score=0.745 total time=   0.0s\n",
      "[CV 3/5] END ..max_depth=3, min_samples_split=4;, score=0.740 total time=   0.0s\n",
      "[CV 3/5] END ..max_depth=3, min_samples_split=2;, score=0.740 total time=   0.0s\n",
      "[CV 1/5] END ..max_depth=3, min_samples_split=6;, score=0.727 total time=   0.0s\n",
      "[CV 1/5] END ..max_depth=3, min_samples_split=3;, score=0.727 total time=   0.0s\n",
      "[CV 4/5] END ..max_depth=3, min_samples_split=4;, score=0.712 total time=   0.0s\n",
      "[CV 4/5] END ..max_depth=3, min_samples_split=2;, score=0.712 total time=   0.0s\n",
      "[CV 2/5] END ..max_depth=3, min_samples_split=6;, score=0.721 total time=   0.0s\n",
      "[CV 2/5] END ..max_depth=3, min_samples_split=3;, score=0.721 total time=   0.0s\n",
      "[CV 5/5] END ..max_depth=3, min_samples_split=4;, score=0.745 total time=   0.0s\n",
      "[CV 2/5] END ..max_depth=3, min_samples_split=9;, score=0.721 total time=   0.0s\n",
      "[CV 3/5] END ..max_depth=3, min_samples_split=6;, score=0.740 total time=   0.0s\n",
      "[CV 3/5] END ..max_depth=3, min_samples_split=3;, score=0.740 total time=   0.0s\n",
      "[CV 1/5] END ..max_depth=3, min_samples_split=5;, score=0.727 total time=   0.0s\n",
      "[CV 4/5] END ..max_depth=3, min_samples_split=7;, score=0.712 total time=   0.0s\n",
      "[CV 4/5] END ..max_depth=3, min_samples_split=6;, score=0.712 total time=   0.0s\n",
      "[CV 3/5] END ..max_depth=3, min_samples_split=9;, score=0.740 total time=   0.0s\n",
      "[CV 4/5] END ..max_depth=3, min_samples_split=3;, score=0.712 total time=   0.0s\n",
      "[CV 2/5] END ..max_depth=3, min_samples_split=5;, score=0.721 total time=   0.0s\n",
      "[CV 5/5] END ..max_depth=3, min_samples_split=6;, score=0.745 total time=   0.0s\n",
      "[CV 4/5] END ..max_depth=3, min_samples_split=9;, score=0.712 total time=   0.0s\n",
      "[CV 5/5] END ..max_depth=3, min_samples_split=3;, score=0.745 total time=   0.0s\n",
      "[CV 5/5] END .max_depth=3, min_samples_split=10;, score=0.745 total time=   0.0s\n",
      "[CV 3/5] END ..max_depth=3, min_samples_split=5;, score=0.740 total time=   0.0s\n",
      "[CV 1/5] END ..max_depth=3, min_samples_split=7;, score=0.727 total time=   0.0s\n",
      "[CV 1/5] END ..max_depth=3, min_samples_split=4;, score=0.727 total time=   0.0s\n",
      "[CV 5/5] END ..max_depth=3, min_samples_split=7;, score=0.745 total time=   0.0s\n",
      "[CV 3/5] END .max_depth=3, min_samples_split=12;, score=0.740 total time=   0.0s\n",
      "[CV 4/5] END ..max_depth=3, min_samples_split=5;, score=0.712 total time=   0.0s\n",
      "[CV 5/5] END ..max_depth=3, min_samples_split=9;, score=0.745 total time=   0.0s\n",
      "[CV 2/5] END ..max_depth=3, min_samples_split=7;, score=0.721 total time=   0.0s\n",
      "[CV 2/5] END ..max_depth=3, min_samples_split=4;, score=0.721 total time=   0.0s\n",
      "[CV 1/5] END ..max_depth=3, min_samples_split=8;, score=0.727 total time=   0.0s\n",
      "[CV 5/5] END ..max_depth=3, min_samples_split=5;, score=0.745 total time=   0.0s\n",
      "[CV 1/5] END .max_depth=3, min_samples_split=11;, score=0.727 total time=   0.0s\n",
      "[CV 2/5] END ..max_depth=3, min_samples_split=8;, score=0.721 total time=   0.0s\n",
      "[CV 1/5] END .max_depth=3, min_samples_split=10;, score=0.727 total time=   0.0s\n",
      "[CV 2/5] END .max_depth=3, min_samples_split=11;, score=0.721 total time=   0.0s\n",
      "[CV 3/5] END ..max_depth=3, min_samples_split=8;, score=0.740 total time=   0.0s\n",
      "[CV 3/5] END ..max_depth=3, min_samples_split=7;, score=0.740 total time=   0.0s\n",
      "[CV 2/5] END .max_depth=3, min_samples_split=10;, score=0.721 total time=   0.0s\n",
      "[CV 4/5] END .max_depth=3, min_samples_split=12;, score=0.712 total time=   0.0s\n",
      "[CV 3/5] END .max_depth=3, min_samples_split=11;, score=0.740 total time=   0.0s\n",
      "[CV 4/5] END ..max_depth=3, min_samples_split=8;, score=0.712 total time=   0.0s\n",
      "[CV 1/5] END .max_depth=3, min_samples_split=14;, score=0.727 total time=   0.0s\n",
      "[CV 3/5] END .max_depth=3, min_samples_split=10;, score=0.740 total time=   0.0s\n",
      "[CV 4/5] END .max_depth=3, min_samples_split=11;, score=0.712 total time=   0.0s\n",
      "[CV 5/5] END ..max_depth=3, min_samples_split=8;, score=0.745 total time=   0.0s\n",
      "[CV 4/5] END .max_depth=3, min_samples_split=10;, score=0.712 total time=   0.0s\n",
      "[CV 2/5] END .max_depth=3, min_samples_split=14;, score=0.721 total time=   0.0s\n",
      "[CV 5/5] END .max_depth=3, min_samples_split=11;, score=0.745 total time=   0.0s\n",
      "[CV 1/5] END ..max_depth=3, min_samples_split=9;, score=0.727 total time=   0.0s\n",
      "[CV 5/5] END .max_depth=3, min_samples_split=12;, score=0.745 total time=   0.0s\n",
      "[CV 3/5] END .max_depth=3, min_samples_split=14;, score=0.740 total time=   0.0s\n",
      "[CV 1/5] END .max_depth=3, min_samples_split=12;, score=0.727 total time=   0.0s\n",
      "[CV 1/5] END .max_depth=3, min_samples_split=13;, score=0.727 total time=   0.0s\n",
      "[CV 4/5] END .max_depth=3, min_samples_split=14;, score=0.712 total time=   0.0s\n",
      "[CV 2/5] END .max_depth=3, min_samples_split=12;, score=0.721 total time=   0.0s\n",
      "[CV 3/5] END ..max_depth=4, min_samples_split=2;, score=0.740 total time=   0.0s\n",
      "[CV 2/5] END .max_depth=3, min_samples_split=13;, score=0.721 total time=   0.0s\n",
      "[CV 5/5] END .max_depth=3, min_samples_split=14;, score=0.745 total time=   0.0s\n",
      "[CV 4/5] END ..max_depth=4, min_samples_split=5;, score=0.771 total time=   0.0s\n",
      "[CV 4/5] END ..max_depth=4, min_samples_split=2;, score=0.771 total time=   0.0s\n",
      "[CV 3/5] END .max_depth=3, min_samples_split=13;, score=0.740 total time=   0.0s\n",
      "[CV 1/5] END .max_depth=3, min_samples_split=15;, score=0.727 total time=   0.0s\n",
      "[CV 2/5] END .max_depth=3, min_samples_split=17;, score=0.721 total time=   0.0s\n",
      "[CV 4/5] END .max_depth=3, min_samples_split=13;, score=0.712 total time=   0.0s\n",
      "[CV 5/5] END ..max_depth=4, min_samples_split=5;, score=0.732 total time=   0.0s\n",
      "[CV 5/5] END ..max_depth=4, min_samples_split=2;, score=0.732 total time=   0.0s\n",
      "[CV 2/5] END .max_depth=3, min_samples_split=15;, score=0.721 total time=   0.0s\n",
      "[CV 5/5] END .max_depth=3, min_samples_split=13;, score=0.745 total time=   0.0s\n",
      "[CV 3/5] END .max_depth=3, min_samples_split=15;, score=0.740 total time=   0.0s\n",
      "[CV 1/5] END ..max_depth=4, min_samples_split=6;, score=0.727 total time=   0.0s\n",
      "[CV 1/5] END ..max_depth=4, min_samples_split=3;, score=0.727 total time=   0.0s\n",
      "[CV 5/5] END ..max_depth=4, min_samples_split=8;, score=0.732 total time=   0.0s\n",
      "[CV 3/5] END .max_depth=3, min_samples_split=17;, score=0.740 total time=   0.0s\n",
      "[CV 4/5] END .max_depth=3, min_samples_split=15;, score=0.712 total time=   0.0s\n",
      "[CV 2/5] END ..max_depth=4, min_samples_split=6;, score=0.682 total time=   0.0s\n",
      "[CV 2/5] END .max_depth=4, min_samples_split=15;, score=0.682 total time=   0.0s\n",
      "[CV 1/5] END .max_depth=4, min_samples_split=12;, score=0.727 total time=   0.0s\n",
      "[CV 4/5] END .max_depth=3, min_samples_split=17;, score=0.712 total time=   0.0s\n",
      "[CV 5/5] END .max_depth=3, min_samples_split=15;, score=0.745 total time=   0.0s\n",
      "[CV 3/5] END .max_depth=4, min_samples_split=15;, score=0.740 total time=   0.0s\n",
      "[CV 1/5] END ..max_depth=4, min_samples_split=9;, score=0.727 total time=   0.0s\n",
      "[CV 5/5] END .max_depth=3, min_samples_split=17;, score=0.745 total time=   0.0s\n",
      "[CV 1/5] END .max_depth=3, min_samples_split=16;, score=0.727 total time=   0.0s\n",
      "[CV 2/5] END ..max_depth=4, min_samples_split=3;, score=0.682 total time=   0.0s\n",
      "[CV 3/5] END ..max_depth=4, min_samples_split=6;, score=0.740 total time=   0.0s\n",
      "[CV 4/5] END .max_depth=4, min_samples_split=15;, score=0.771 total time=   0.0s\n",
      "[CV 2/5] END ..max_depth=4, min_samples_split=9;, score=0.682 total time=   0.0s\n",
      "[CV 1/5] END .max_depth=3, min_samples_split=18;, score=0.727 total time=   0.0s\n",
      "[CV 2/5] END .max_depth=4, min_samples_split=12;, score=0.682 total time=   0.0s\n",
      "[CV 5/5] END .max_depth=4, min_samples_split=15;, score=0.732 total time=   0.0s\n",
      "[CV 3/5] END ..max_depth=4, min_samples_split=9;, score=0.740 total time=   0.0s\n",
      "[CV 2/5] END .max_depth=3, min_samples_split=18;, score=0.721 total time=   0.0s\n",
      "[CV 3/5] END .max_depth=4, min_samples_split=12;, score=0.740 total time=   0.0s\n",
      "[CV 2/5] END .max_depth=3, min_samples_split=16;, score=0.721 total time=   0.0s\n",
      "[CV 3/5] END .max_depth=4, min_samples_split=18;, score=0.740 total time=   0.0s\n",
      "[CV 4/5] END ..max_depth=4, min_samples_split=9;, score=0.771 total time=   0.0s\n",
      "[CV 3/5] END ..max_depth=4, min_samples_split=3;, score=0.740 total time=   0.0s\n",
      "[CV 3/5] END .max_depth=3, min_samples_split=18;, score=0.740 total time=   0.0s\n",
      "[CV 1/5] END .max_depth=4, min_samples_split=16;, score=0.727 total time=   0.0s\n",
      "[CV 4/5] END ..max_depth=4, min_samples_split=6;, score=0.771 total time=   0.0s\n",
      "[CV 4/5] END .max_depth=4, min_samples_split=12;, score=0.771 total time=   0.0s\n",
      "[CV 5/5] END ..max_depth=4, min_samples_split=9;, score=0.732 total time=   0.0s\n",
      "[CV 4/5] END .max_depth=3, min_samples_split=18;, score=0.712 total time=   0.0s\n",
      "[CV 4/5] END ..max_depth=4, min_samples_split=3;, score=0.771 total time=   0.0s\n",
      "[CV 5/5] END .max_depth=4, min_samples_split=12;, score=0.732 total time=   0.0s\n",
      "[CV 3/5] END .max_depth=3, min_samples_split=16;, score=0.740 total time=   0.0s\n",
      "[CV 4/5] END .max_depth=4, min_samples_split=18;, score=0.739 total time=   0.0s\n",
      "[CV 5/5] END ..max_depth=4, min_samples_split=6;, score=0.732 total time=   0.0s\n",
      "[CV 5/5] END ..max_depth=4, min_samples_split=3;, score=0.732 total time=   0.0s\n",
      "[CV 2/5] END .max_depth=4, min_samples_split=16;, score=0.682 total time=   0.0s\n",
      "[CV 5/5] END .max_depth=4, min_samples_split=18;, score=0.732 total time=   0.0s\n",
      "[CV 4/5] END .max_depth=3, min_samples_split=16;, score=0.712 total time=   0.0s\n",
      "[CV 1/5] END ..max_depth=4, min_samples_split=7;, score=0.727 total time=   0.0s\n",
      "[CV 1/5] END ..max_depth=4, min_samples_split=4;, score=0.727 total time=   0.0s\n",
      "[CV 1/5] END .max_depth=4, min_samples_split=13;, score=0.727 total time=   0.0s\n",
      "[CV 5/5] END .max_depth=3, min_samples_split=18;, score=0.745 total time=   0.0s\n",
      "[CV 1/5] END .max_depth=4, min_samples_split=19;, score=0.727 total time=   0.0s\n",
      "[CV 5/5] END .max_depth=3, min_samples_split=16;, score=0.745 total time=   0.0s\n",
      "[CV 1/5] END .max_depth=4, min_samples_split=10;, score=0.727 total time=   0.0s\n",
      "[CV 2/5] END ..max_depth=4, min_samples_split=7;, score=0.682 total time=   0.0s\n",
      "[CV 2/5] END ..max_depth=4, min_samples_split=4;, score=0.682 total time=   0.0s\n",
      "[CV 2/5] END .max_depth=4, min_samples_split=19;, score=0.682 total time=   0.0s\n",
      "[CV 1/5] END .max_depth=3, min_samples_split=17;, score=0.727 total time=   0.0s\n",
      "[CV 3/5] END .max_depth=4, min_samples_split=16;, score=0.740 total time=   0.0s\n",
      "[CV 3/5] END ..max_depth=4, min_samples_split=7;, score=0.740 total time=   0.0s\n",
      "[CV 2/5] END .max_depth=4, min_samples_split=10;, score=0.682 total time=   0.0s\n",
      "[CV 1/5] END .max_depth=3, min_samples_split=19;, score=0.727 total time=   0.0s\n",
      "[CV 4/5] END .max_depth=4, min_samples_split=16;, score=0.771 total time=   0.0s\n",
      "[CV 2/5] END .max_depth=4, min_samples_split=13;, score=0.682 total time=   0.0s\n",
      "[CV 4/5] END ..max_depth=4, min_samples_split=7;, score=0.771 total time=   0.0s\n",
      "[CV 3/5] END ..max_depth=4, min_samples_split=4;, score=0.740 total time=   0.0s\n",
      "[CV 3/5] END .max_depth=4, min_samples_split=10;, score=0.740 total time=   0.0s\n",
      "[CV 3/5] END .max_depth=4, min_samples_split=19;, score=0.740 total time=   0.0s\n",
      "[CV 2/5] END .max_depth=3, min_samples_split=19;, score=0.721 total time=   0.0s\n",
      "[CV 5/5] END .max_depth=4, min_samples_split=16;, score=0.732 total time=   0.0s\n",
      "[CV 5/5] END ..max_depth=4, min_samples_split=7;, score=0.732 total time=   0.0s\n",
      "[CV 3/5] END .max_depth=3, min_samples_split=19;, score=0.740 total time=   0.0s\n",
      "[CV 4/5] END .max_depth=4, min_samples_split=10;, score=0.771 total time=   0.0s\n",
      "[CV 3/5] END .max_depth=4, min_samples_split=13;, score=0.740 total time=   0.0s\n",
      "[CV 1/5] END .max_depth=4, min_samples_split=17;, score=0.727 total time=   0.0s\n",
      "[CV 4/5] END ..max_depth=4, min_samples_split=4;, score=0.771 total time=   0.0s\n",
      "[CV 4/5] END .max_depth=3, min_samples_split=19;, score=0.712 total time=   0.0s\n",
      "[CV 4/5] END ..max_depth=5, min_samples_split=3;, score=0.784 total time=   0.0s\n",
      "[CV 5/5] END .max_depth=4, min_samples_split=10;, score=0.732 total time=   0.0s\n",
      "[CV 4/5] END .max_depth=4, min_samples_split=13;, score=0.771 total time=   0.0s\n",
      "[CV 2/5] END .max_depth=4, min_samples_split=17;, score=0.682 total time=   0.0s\n",
      "[CV 4/5] END .max_depth=4, min_samples_split=19;, score=0.739 total time=   0.0s\n",
      "[CV 5/5] END .max_depth=3, min_samples_split=19;, score=0.745 total time=   0.0s\n",
      "[CV 1/5] END .max_depth=4, min_samples_split=11;, score=0.727 total time=   0.0s\n",
      "[CV 1/5] END ..max_depth=4, min_samples_split=8;, score=0.727 total time=   0.0s\n",
      "[CV 5/5] END .max_depth=4, min_samples_split=13;, score=0.732 total time=   0.0s\n",
      "[CV 3/5] END .max_depth=4, min_samples_split=17;, score=0.740 total time=   0.0s\n",
      "[CV 1/5] END ..max_depth=4, min_samples_split=2;, score=0.727 total time=   0.0s\n",
      "[CV 5/5] END ..max_depth=4, min_samples_split=4;, score=0.732 total time=   0.0s\n",
      "[CV 1/5] END .max_depth=4, min_samples_split=14;, score=0.727 total time=   0.0s\n",
      "[CV 5/5] END ..max_depth=5, min_samples_split=3;, score=0.771 total time=   0.0s\n",
      "[CV 5/5] END .max_depth=4, min_samples_split=19;, score=0.732 total time=   0.0s\n",
      "[CV 1/5] END ..max_depth=4, min_samples_split=5;, score=0.727 total time=   0.0s\n",
      "[CV 2/5] END ..max_depth=4, min_samples_split=8;, score=0.682 total time=   0.0s\n",
      "[CV 1/5] END ..max_depth=5, min_samples_split=4;, score=0.747 total time=   0.0s\n",
      "[CV 4/5] END .max_depth=4, min_samples_split=17;, score=0.739 total time=   0.0s\n",
      "[CV 2/5] END ..max_depth=4, min_samples_split=5;, score=0.682 total time=   0.0s\n",
      "[CV 1/5] END ..max_depth=5, min_samples_split=2;, score=0.740 total time=   0.0s\n",
      "[CV 2/5] END .max_depth=4, min_samples_split=11;, score=0.682 total time=   0.0s\n",
      "[CV 3/5] END ..max_depth=4, min_samples_split=8;, score=0.740 total time=   0.0s\n",
      "[CV 2/5] END ..max_depth=4, min_samples_split=2;, score=0.682 total time=   0.0s\n",
      "[CV 2/5] END ..max_depth=5, min_samples_split=4;, score=0.688 total time=   0.0s\n",
      "[CV 2/5] END .max_depth=4, min_samples_split=14;, score=0.682 total time=   0.0s\n",
      "[CV 3/5] END ..max_depth=4, min_samples_split=5;, score=0.740 total time=   0.0s\n",
      "[CV 2/5] END ..max_depth=5, min_samples_split=2;, score=0.688 total time=   0.0s\n",
      "[CV 4/5] END ..max_depth=4, min_samples_split=8;, score=0.771 total time=   0.0s\n",
      "[CV 3/5] END ..max_depth=5, min_samples_split=4;, score=0.753 total time=   0.0s\n",
      "[CV 3/5] END .max_depth=4, min_samples_split=11;, score=0.740 total time=   0.0s\n",
      "[CV 3/5] END ..max_depth=5, min_samples_split=2;, score=0.753 total time=   0.0s\n",
      "[CV 5/5] END .max_depth=4, min_samples_split=17;, score=0.732 total time=   0.0s\n",
      "[CV 4/5] END ..max_depth=5, min_samples_split=4;, score=0.791 total time=   0.0s\n",
      "[CV 5/5] END ..max_depth=5, min_samples_split=6;, score=0.771 total time=   0.0s\n",
      "[CV 4/5] END .max_depth=4, min_samples_split=11;, score=0.771 total time=   0.0s\n",
      "[CV 3/5] END .max_depth=4, min_samples_split=14;, score=0.740 total time=   0.0s\n",
      "[CV 4/5] END ..max_depth=5, min_samples_split=2;, score=0.784 total time=   0.0s\n",
      "[CV 5/5] END ..max_depth=5, min_samples_split=4;, score=0.771 total time=   0.0s\n",
      "[CV 1/5] END ..max_depth=5, min_samples_split=7;, score=0.747 total time=   0.0s\n",
      "[CV 5/5] END .max_depth=4, min_samples_split=11;, score=0.732 total time=   0.0s\n",
      "[CV 5/5] END ..max_depth=5, min_samples_split=2;, score=0.771 total time=   0.0s\n",
      "[CV 1/5] END ..max_depth=5, min_samples_split=5;, score=0.747 total time=   0.0s\n",
      "[CV 1/5] END .max_depth=4, min_samples_split=18;, score=0.727 total time=   0.0s\n",
      "[CV 2/5] END ..max_depth=5, min_samples_split=7;, score=0.688 total time=   0.0s\n",
      "[CV 4/5] END .max_depth=4, min_samples_split=14;, score=0.771 total time=   0.0s\n",
      "[CV 2/5] END ..max_depth=5, min_samples_split=5;, score=0.688 total time=   0.0s\n",
      "[CV 3/5] END ..max_depth=5, min_samples_split=7;, score=0.753 total time=   0.0s\n",
      "[CV 1/5] END ..max_depth=5, min_samples_split=3;, score=0.740 total time=   0.0s\n",
      "[CV 5/5] END .max_depth=4, min_samples_split=14;, score=0.732 total time=   0.0s\n",
      "[CV 3/5] END ..max_depth=5, min_samples_split=5;, score=0.753 total time=   0.0s\n",
      "[CV 4/5] END ..max_depth=5, min_samples_split=7;, score=0.784 total time=   0.0s\n",
      "[CV 1/5] END .max_depth=4, min_samples_split=15;, score=0.727 total time=   0.0s\n",
      "[CV 2/5] END .max_depth=4, min_samples_split=18;, score=0.682 total time=   0.0s\n",
      "[CV 1/5] END .max_depth=5, min_samples_split=10;, score=0.747 total time=   0.0s\n",
      "[CV 4/5] END ..max_depth=5, min_samples_split=5;, score=0.791 total time=   0.0s\n",
      "[CV 5/5] END ..max_depth=5, min_samples_split=7;, score=0.771 total time=   0.0s\n",
      "[CV 2/5] END .max_depth=5, min_samples_split=10;, score=0.688 total time=   0.0s\n",
      "[CV 5/5] END ..max_depth=5, min_samples_split=5;, score=0.771 total time=   0.0s\n",
      "[CV 2/5] END ..max_depth=5, min_samples_split=3;, score=0.688 total time=   0.0s\n",
      "[CV 2/5] END .max_depth=5, min_samples_split=13;, score=0.688 total time=   0.0s\n",
      "[CV 1/5] END ..max_depth=5, min_samples_split=8;, score=0.747 total time=   0.0s\n",
      "[CV 3/5] END .max_depth=5, min_samples_split=10;, score=0.753 total time=   0.0s\n",
      "[CV 1/5] END ..max_depth=5, min_samples_split=6;, score=0.747 total time=   0.0s\n",
      "[CV 3/5] END .max_depth=5, min_samples_split=13;, score=0.753 total time=   0.0s\n",
      "[CV 2/5] END ..max_depth=5, min_samples_split=8;, score=0.688 total time=   0.0s\n",
      "[CV 4/5] END .max_depth=5, min_samples_split=10;, score=0.784 total time=   0.0s\n",
      "[CV 2/5] END ..max_depth=5, min_samples_split=6;, score=0.688 total time=   0.0s\n",
      "[CV 4/5] END .max_depth=5, min_samples_split=13;, score=0.791 total time=   0.0s\n",
      "[CV 3/5] END ..max_depth=5, min_samples_split=8;, score=0.753 total time=   0.0s\n",
      "[CV 3/5] END ..max_depth=5, min_samples_split=3;, score=0.753 total time=   0.0s\n",
      "[CV 4/5] END ..max_depth=5, min_samples_split=8;, score=0.784 total time=   0.0s\n",
      "[CV 5/5] END .max_depth=5, min_samples_split=10;, score=0.771 total time=   0.0s\n",
      "[CV 5/5] END .max_depth=5, min_samples_split=13;, score=0.771 total time=   0.0s\n",
      "[CV 3/5] END ..max_depth=5, min_samples_split=6;, score=0.753 total time=   0.0s\n",
      "[CV 5/5] END ..max_depth=5, min_samples_split=8;, score=0.771 total time=   0.0s\n",
      "[CV 1/5] END .max_depth=5, min_samples_split=11;, score=0.747 total time=   0.0s\n",
      "[CV 1/5] END .max_depth=5, min_samples_split=14;, score=0.747 total time=   0.0s\n",
      "[CV 4/5] END ..max_depth=5, min_samples_split=6;, score=0.791 total time=   0.0s\n",
      "[CV 1/5] END ..max_depth=5, min_samples_split=9;, score=0.747 total time=   0.0s\n",
      "[CV 2/5] END .max_depth=5, min_samples_split=11;, score=0.688 total time=   0.0s\n",
      "[CV 2/5] END .max_depth=5, min_samples_split=14;, score=0.688 total time=   0.0s\n",
      "[CV 2/5] END ..max_depth=5, min_samples_split=9;, score=0.688 total time=   0.0s\n",
      "[CV 3/5] END .max_depth=5, min_samples_split=11;, score=0.753 total time=   0.0s\n",
      "[CV 3/5] END .max_depth=5, min_samples_split=14;, score=0.753 total time=   0.0s\n",
      "[CV 3/5] END .max_depth=5, min_samples_split=16;, score=0.753 total time=   0.0s\n",
      "[CV 3/5] END ..max_depth=5, min_samples_split=9;, score=0.753 total time=   0.0s\n",
      "[CV 4/5] END .max_depth=5, min_samples_split=11;, score=0.784 total time=   0.0s\n",
      "[CV 4/5] END .max_depth=5, min_samples_split=14;, score=0.791 total time=   0.0s\n",
      "[CV 4/5] END .max_depth=5, min_samples_split=16;, score=0.791 total time=   0.0s\n",
      "[CV 4/5] END ..max_depth=5, min_samples_split=9;, score=0.784 total time=   0.0s\n",
      "[CV 5/5] END .max_depth=5, min_samples_split=11;, score=0.771 total time=   0.0s\n",
      "[CV 5/5] END .max_depth=5, min_samples_split=14;, score=0.771 total time=   0.0s\n",
      "[CV 5/5] END .max_depth=5, min_samples_split=16;, score=0.771 total time=   0.0s\n",
      "[CV 1/5] END .max_depth=5, min_samples_split=12;, score=0.747 total time=   0.0s\n",
      "[CV 1/5] END .max_depth=5, min_samples_split=15;, score=0.747 total time=   0.0s\n",
      "[CV 5/5] END ..max_depth=6, min_samples_split=4;, score=0.712 total time=   0.0s\n",
      "[CV 1/5] END .max_depth=5, min_samples_split=17;, score=0.747 total time=   0.0s\n",
      "[CV 2/5] END .max_depth=5, min_samples_split=12;, score=0.688 total time=   0.0s\n",
      "[CV 2/5] END .max_depth=5, min_samples_split=15;, score=0.688 total time=   0.0s\n",
      "[CV 2/5] END .max_depth=5, min_samples_split=17;, score=0.688 total time=   0.0s\n",
      "[CV 4/5] END .max_depth=5, min_samples_split=19;, score=0.758 total time=   0.0s\n",
      "[CV 1/5] END ..max_depth=6, min_samples_split=5;, score=0.734 total time=   0.0s\n",
      "[CV 3/5] END .max_depth=5, min_samples_split=12;, score=0.753 total time=   0.0s\n",
      "[CV 3/5] END .max_depth=5, min_samples_split=15;, score=0.753 total time=   0.0s\n",
      "[CV 3/5] END .max_depth=5, min_samples_split=17;, score=0.753 total time=   0.0s\n",
      "[CV 2/5] END ..max_depth=6, min_samples_split=5;, score=0.675 total time=   0.0s\n",
      "[CV 4/5] END .max_depth=5, min_samples_split=12;, score=0.791 total time=   0.0s\n",
      "[CV 4/5] END .max_depth=5, min_samples_split=15;, score=0.791 total time=   0.0s\n",
      "[CV 5/5] END ..max_depth=5, min_samples_split=9;, score=0.771 total time=   0.0s\n",
      "[CV 4/5] END .max_depth=5, min_samples_split=17;, score=0.758 total time=   0.0s\n",
      "[CV 1/5] END ..max_depth=6, min_samples_split=8;, score=0.734 total time=   0.0s\n",
      "[CV 2/5] END .max_depth=6, min_samples_split=11;, score=0.675 total time=   0.0s\n",
      "[CV 3/5] END ..max_depth=6, min_samples_split=5;, score=0.695 total time=   0.0s\n",
      "[CV 5/5] END .max_depth=5, min_samples_split=19;, score=0.771 total time=   0.0s\n",
      "[CV 5/5] END .max_depth=5, min_samples_split=17;, score=0.771 total time=   0.0s\n",
      "[CV 4/5] END ..max_depth=6, min_samples_split=5;, score=0.778 total time=   0.0s\n",
      "[CV 1/5] END ..max_depth=6, min_samples_split=2;, score=0.747 total time=   0.0s\n",
      "[CV 2/5] END ..max_depth=6, min_samples_split=8;, score=0.675 total time=   0.0s\n",
      "[CV 5/5] END .max_depth=5, min_samples_split=15;, score=0.771 total time=   0.0s\n",
      "[CV 3/5] END .max_depth=6, min_samples_split=11;, score=0.695 total time=   0.0s\n",
      "[CV 5/5] END ..max_depth=6, min_samples_split=5;, score=0.712 total time=   0.0s\n",
      "[CV 2/5] END ..max_depth=6, min_samples_split=2;, score=0.669 total time=   0.0s\n",
      "[CV 3/5] END ..max_depth=6, min_samples_split=8;, score=0.695 total time=   0.0s\n",
      "[CV 4/5] END .max_depth=6, min_samples_split=11;, score=0.784 total time=   0.0s\n",
      "[CV 1/5] END ..max_depth=6, min_samples_split=6;, score=0.734 total time=   0.0s\n",
      "[CV 4/5] END .max_depth=6, min_samples_split=17;, score=0.758 total time=   0.0s\n",
      "[CV 3/5] END ..max_depth=6, min_samples_split=2;, score=0.688 total time=   0.0s\n",
      "[CV 4/5] END ..max_depth=6, min_samples_split=8;, score=0.771 total time=   0.0s\n",
      "[CV 5/5] END .max_depth=6, min_samples_split=11;, score=0.712 total time=   0.0s\n",
      "[CV 2/5] END ..max_depth=6, min_samples_split=6;, score=0.669 total time=   0.0s\n",
      "[CV 4/5] END ..max_depth=6, min_samples_split=2;, score=0.765 total time=   0.0s\n",
      "[CV 5/5] END .max_depth=5, min_samples_split=12;, score=0.771 total time=   0.0s\n",
      "[CV 1/5] END .max_depth=5, min_samples_split=16;, score=0.747 total time=   0.0s\n",
      "[CV 1/5] END .max_depth=6, min_samples_split=12;, score=0.747 total time=   0.0s\n",
      "[CV 3/5] END ..max_depth=6, min_samples_split=6;, score=0.695 total time=   0.0s\n",
      "[CV 5/5] END .max_depth=6, min_samples_split=17;, score=0.719 total time=   0.0s\n",
      "[CV 5/5] END ..max_depth=6, min_samples_split=2;, score=0.712 total time=   0.0s\n",
      "[CV 2/5] END .max_depth=6, min_samples_split=12;, score=0.675 total time=   0.0s\n",
      "[CV 1/5] END .max_depth=5, min_samples_split=18;, score=0.747 total time=   0.0s\n",
      "[CV 4/5] END ..max_depth=6, min_samples_split=6;, score=0.778 total time=   0.0s\n",
      "[CV 1/5] END .max_depth=6, min_samples_split=18;, score=0.747 total time=   0.0s\n",
      "[CV 1/5] END ..max_depth=6, min_samples_split=3;, score=0.747 total time=   0.0s\n",
      "[CV 5/5] END ..max_depth=6, min_samples_split=8;, score=0.712 total time=   0.0s\n",
      "[CV 3/5] END .max_depth=6, min_samples_split=12;, score=0.695 total time=   0.0s\n",
      "[CV 5/5] END ..max_depth=6, min_samples_split=6;, score=0.712 total time=   0.0s\n",
      "[CV 2/5] END .max_depth=6, min_samples_split=18;, score=0.675 total time=   0.0s\n",
      "[CV 4/5] END .max_depth=6, min_samples_split=12;, score=0.791 total time=   0.0s\n",
      "[CV 2/5] END .max_depth=5, min_samples_split=18;, score=0.688 total time=   0.0s\n",
      "[CV 2/5] END ..max_depth=6, min_samples_split=3;, score=0.662 total time=   0.0s\n",
      "[CV 1/5] END ..max_depth=6, min_samples_split=7;, score=0.734 total time=   0.0s\n",
      "[CV 1/5] END .max_depth=5, min_samples_split=13;, score=0.747 total time=   0.0s\n",
      "[CV 3/5] END .max_depth=6, min_samples_split=18;, score=0.695 total time=   0.0s\n",
      "[CV 2/5] END .max_depth=5, min_samples_split=16;, score=0.688 total time=   0.0s\n",
      "[CV 5/5] END .max_depth=6, min_samples_split=12;, score=0.712 total time=   0.0s\n",
      "[CV 1/5] END ..max_depth=6, min_samples_split=9;, score=0.747 total time=   0.0s\n",
      "[CV 3/5] END .max_depth=5, min_samples_split=18;, score=0.753 total time=   0.0s\n",
      "[CV 2/5] END ..max_depth=6, min_samples_split=7;, score=0.669 total time=   0.0s\n",
      "[CV 1/5] END .max_depth=6, min_samples_split=13;, score=0.747 total time=   0.0s\n",
      "[CV 4/5] END .max_depth=5, min_samples_split=18;, score=0.758 total time=   0.0s\n",
      "[CV 3/5] END ..max_depth=6, min_samples_split=7;, score=0.688 total time=   0.0s\n",
      "[CV 1/5] END ..max_depth=7, min_samples_split=6;, score=0.721 total time=   0.0s\n",
      "[CV 2/5] END .max_depth=6, min_samples_split=13;, score=0.675 total time=   0.0s\n",
      "[CV 5/5] END .max_depth=5, min_samples_split=18;, score=0.771 total time=   0.0s\n",
      "[CV 4/5] END ..max_depth=6, min_samples_split=7;, score=0.771 total time=   0.0s\n",
      "[CV 2/5] END ..max_depth=6, min_samples_split=9;, score=0.675 total time=   0.0s\n",
      "[CV 3/5] END ..max_depth=6, min_samples_split=3;, score=0.688 total time=   0.0s\n",
      "[CV 4/5] END .max_depth=6, min_samples_split=18;, score=0.758 total time=   0.0s\n",
      "[CV 3/5] END .max_depth=6, min_samples_split=13;, score=0.695 total time=   0.0s\n",
      "[CV 1/5] END .max_depth=5, min_samples_split=19;, score=0.747 total time=   0.0s\n",
      "[CV 5/5] END ..max_depth=6, min_samples_split=7;, score=0.712 total time=   0.0s\n",
      "[CV 3/5] END ..max_depth=6, min_samples_split=9;, score=0.695 total time=   0.0s\n",
      "[CV 2/5] END ..max_depth=7, min_samples_split=6;, score=0.701 total time=   0.0s\n",
      "[CV 4/5] END .max_depth=6, min_samples_split=13;, score=0.791 total time=   0.0s\n",
      "[CV 4/5] END ..max_depth=6, min_samples_split=3;, score=0.778 total time=   0.0s\n",
      "[CV 5/5] END .max_depth=7, min_samples_split=18;, score=0.719 total time=   0.0s\n",
      "[CV 5/5] END .max_depth=6, min_samples_split=18;, score=0.719 total time=   0.0s\n",
      "[CV 5/5] END .max_depth=6, min_samples_split=13;, score=0.712 total time=   0.0s\n",
      "[CV 5/5] END ..max_depth=6, min_samples_split=3;, score=0.712 total time=   0.0s\n",
      "[CV 4/5] END ..max_depth=6, min_samples_split=9;, score=0.771 total time=   0.0s\n",
      "[CV 1/5] END .max_depth=7, min_samples_split=19;, score=0.740 total time=   0.0s\n",
      "[CV 1/5] END .max_depth=6, min_samples_split=19;, score=0.747 total time=   0.0s\n",
      "[CV 1/5] END .max_depth=6, min_samples_split=14;, score=0.747 total time=   0.0s\n",
      "[CV 1/5] END ..max_depth=6, min_samples_split=4;, score=0.740 total time=   0.0s\n",
      "[CV 2/5] END .max_depth=5, min_samples_split=19;, score=0.688 total time=   0.0s\n",
      "[CV 2/5] END .max_depth=7, min_samples_split=19;, score=0.701 total time=   0.0s\n",
      "[CV 2/5] END .max_depth=6, min_samples_split=19;, score=0.675 total time=   0.0s\n",
      "[CV 2/5] END .max_depth=6, min_samples_split=14;, score=0.675 total time=   0.0s\n",
      "[CV 2/5] END ..max_depth=6, min_samples_split=4;, score=0.662 total time=   0.0s[CV 3/5] END .max_depth=7, min_samples_split=12;, score=0.688 total time=   0.0s\n",
      "\n",
      "[CV 3/5] END .max_depth=6, min_samples_split=19;, score=0.695 total time=   0.0s\n",
      "[CV 3/5] END .max_depth=7, min_samples_split=19;, score=0.695 total time=   0.0s\n",
      "[CV 3/5] END .max_depth=6, min_samples_split=14;, score=0.695 total time=   0.0s\n",
      "[CV 3/5] END ..max_depth=7, min_samples_split=6;, score=0.695 total time=   0.0s\n",
      "[CV 5/5] END ..max_depth=6, min_samples_split=9;, score=0.712 total time=   0.0s\n",
      "[CV 4/5] END .max_depth=6, min_samples_split=14;, score=0.791 total time=   0.0s\n",
      "[CV 4/5] END .max_depth=7, min_samples_split=19;, score=0.784 total time=   0.0s\n",
      "[CV 3/5] END .max_depth=5, min_samples_split=19;, score=0.753 total time=   0.0s\n",
      "[CV 4/5] END .max_depth=7, min_samples_split=12;, score=0.817 total time=   0.0s\n",
      "[CV 4/5] END .max_depth=6, min_samples_split=19;, score=0.758 total time=   0.0s\n",
      "[CV 5/5] END .max_depth=6, min_samples_split=14;, score=0.712 total time=   0.0s\n",
      "[CV 5/5] END .max_depth=7, min_samples_split=19;, score=0.719 total time=   0.0s\n",
      "[CV 4/5] END ..max_depth=7, min_samples_split=6;, score=0.817 total time=   0.0s\n",
      "[CV 5/5] END .max_depth=7, min_samples_split=12;, score=0.719 total time=   0.0s\n",
      "[CV 3/5] END ..max_depth=6, min_samples_split=4;, score=0.695 total time=   0.0s\n",
      "[CV 1/5] END .max_depth=6, min_samples_split=10;, score=0.747 total time=   0.0s\n",
      "[CV 1/5] END .max_depth=6, min_samples_split=15;, score=0.747 total time=   0.0s\n",
      "[CV 5/5] END ..max_depth=7, min_samples_split=6;, score=0.725 total time=   0.0s\n",
      "[CV 1/5] END .max_depth=7, min_samples_split=13;, score=0.740 total time=   0.0s\n",
      "[CV 2/5] END .max_depth=6, min_samples_split=10;, score=0.675 total time=   0.0s\n",
      "[CV 2/5] END .max_depth=6, min_samples_split=15;, score=0.675 total time=   0.0s\n",
      "[CV 1/5] END ..max_depth=7, min_samples_split=7;, score=0.721 total time=   0.0s\n",
      "[CV 1/5] END ..max_depth=8, min_samples_split=2;, score=0.714 total time=   0.0s\n",
      "[CV 5/5] END .max_depth=6, min_samples_split=19;, score=0.719 total time=   0.0s\n",
      "[CV 4/5] END ..max_depth=6, min_samples_split=4;, score=0.778 total time=   0.0s\n",
      "[CV 3/5] END .max_depth=6, min_samples_split=15;, score=0.695 total time=   0.0s\n",
      "[CV 3/5] END .max_depth=6, min_samples_split=10;, score=0.695 total time=   0.0s\n",
      "[CV 2/5] END ..max_depth=7, min_samples_split=7;, score=0.701 total time=   0.0s\n",
      "[CV 4/5] END .max_depth=6, min_samples_split=15;, score=0.791 total time=   0.0s\n",
      "[CV 4/5] END .max_depth=6, min_samples_split=10;, score=0.784 total time=   0.0s\n",
      "[CV 2/5] END ..max_depth=8, min_samples_split=2;, score=0.688 total time=   0.0s\n",
      "[CV 2/5] END ..max_depth=8, min_samples_split=7;, score=0.695 total time=   0.0s\n",
      "[CV 3/5] END ..max_depth=7, min_samples_split=7;, score=0.682 total time=   0.0s\n",
      "[CV 2/5] END .max_depth=7, min_samples_split=13;, score=0.708 total time=   0.0s\n",
      "[CV 5/5] END .max_depth=6, min_samples_split=15;, score=0.712 total time=   0.0s\n",
      "[CV 1/5] END ..max_depth=7, min_samples_split=2;, score=0.727 total time=   0.0s\n",
      "[CV 4/5] END ..max_depth=7, min_samples_split=7;, score=0.784 total time=   0.0s\n",
      "[CV 3/5] END ..max_depth=8, min_samples_split=2;, score=0.701 total time=   0.0s\n",
      "[CV 1/5] END .max_depth=6, min_samples_split=16;, score=0.747 total time=   0.0s\n",
      "[CV 3/5] END ..max_depth=8, min_samples_split=7;, score=0.675 total time=   0.0s\n",
      "[CV 5/5] END .max_depth=6, min_samples_split=10;, score=0.712 total time=   0.0s\n",
      "[CV 2/5] END ..max_depth=7, min_samples_split=2;, score=0.708 total time=   0.0s\n",
      "[CV 5/5] END ..max_depth=7, min_samples_split=7;, score=0.725 total time=   0.0s\n",
      "[CV 2/5] END .max_depth=6, min_samples_split=16;, score=0.675 total time=   0.0s\n",
      "[CV 4/5] END ..max_depth=8, min_samples_split=7;, score=0.739 total time=   0.0s\n",
      "[CV 3/5] END .max_depth=7, min_samples_split=13;, score=0.688 total time=   0.0s\n",
      "[CV 4/5] END .max_depth=8, min_samples_split=13;, score=0.771 total time=   0.0s\n",
      "[CV 3/5] END ..max_depth=7, min_samples_split=2;, score=0.688 total time=   0.0s\n",
      "[CV 3/5] END .max_depth=6, min_samples_split=16;, score=0.695 total time=   0.0s\n",
      "[CV 5/5] END ..max_depth=8, min_samples_split=7;, score=0.712 total time=   0.0s\n",
      "[CV 1/5] END ..max_depth=7, min_samples_split=8;, score=0.721 total time=   0.0s\n",
      "[CV 4/5] END ..max_depth=8, min_samples_split=2;, score=0.739 total time=   0.0s\n",
      "[CV 4/5] END .max_depth=7, min_samples_split=13;, score=0.817 total time=   0.0s\n",
      "[CV 4/5] END .max_depth=6, min_samples_split=16;, score=0.791 total time=   0.0s\n",
      "[CV 1/5] END .max_depth=6, min_samples_split=11;, score=0.747 total time=   0.0s\n",
      "[CV 5/5] END .max_depth=8, min_samples_split=13;, score=0.719 total time=   0.0s\n",
      "[CV 5/5] END .max_depth=7, min_samples_split=13;, score=0.712 total time=   0.0s\n",
      "[CV 4/5] END ..max_depth=7, min_samples_split=2;, score=0.797 total time=   0.0s\n",
      "[CV 5/5] END .max_depth=6, min_samples_split=16;, score=0.719 total time=   0.0s\n",
      "[CV 5/5] END ..max_depth=8, min_samples_split=2;, score=0.712 total time=   0.0s\n",
      "[CV 1/5] END .max_depth=8, min_samples_split=14;, score=0.740 total time=   0.0s\n",
      "[CV 1/5] END .max_depth=7, min_samples_split=14;, score=0.734 total time=   0.0s\n",
      "[CV 1/5] END ..max_depth=8, min_samples_split=8;, score=0.708 total time=   0.0s\n",
      "[CV 1/5] END .max_depth=6, min_samples_split=17;, score=0.747 total time=   0.0s\n",
      "[CV 1/5] END ..max_depth=8, min_samples_split=3;, score=0.727 total time=   0.0s\n",
      "[CV 2/5] END .max_depth=8, min_samples_split=14;, score=0.695 total time=   0.0s\n",
      "[CV 2/5] END .max_depth=7, min_samples_split=14;, score=0.708 total time=   0.0s\n",
      "[CV 2/5] END .max_depth=6, min_samples_split=17;, score=0.675 total time=   0.0s\n",
      "[CV 2/5] END ..max_depth=7, min_samples_split=8;, score=0.708 total time=   0.0s\n",
      "[CV 2/5] END ..max_depth=8, min_samples_split=3;, score=0.688 total time=   0.0s\n",
      "[CV 3/5] END .max_depth=8, min_samples_split=14;, score=0.669 total time=   0.0s\n",
      "[CV 5/5] END ..max_depth=7, min_samples_split=2;, score=0.732 total time=   0.0s\n",
      "[CV 3/5] END .max_depth=6, min_samples_split=17;, score=0.695 total time=   0.0s\n",
      "[CV 1/5] END ..max_depth=9, min_samples_split=2;, score=0.727 total time=   0.0s\n",
      "[CV 2/5] END ..max_depth=8, min_samples_split=8;, score=0.695 total time=   0.0s\n",
      "[CV 3/5] END ..max_depth=7, min_samples_split=8;, score=0.688 total time=   0.0s\n",
      "[CV 3/5] END ..max_depth=8, min_samples_split=3;, score=0.688 total time=   0.0s\n",
      "[CV 1/5] END ..max_depth=7, min_samples_split=3;, score=0.727 total time=   0.0s\n",
      "[CV 3/5] END .max_depth=7, min_samples_split=14;, score=0.688 total time=   0.0s\n",
      "[CV 3/5] END ..max_depth=9, min_samples_split=8;, score=0.727 total time=   0.0s\n",
      "[CV 3/5] END ..max_depth=8, min_samples_split=8;, score=0.688 total time=   0.0s\n",
      "[CV 4/5] END ..max_depth=7, min_samples_split=8;, score=0.804 total time=   0.0s\n",
      "[CV 2/5] END ..max_depth=7, min_samples_split=3;, score=0.695 total time=   0.0s\n",
      "[CV 4/5] END .max_depth=8, min_samples_split=14;, score=0.771 total time=   0.0s\n",
      "[CV 2/5] END ..max_depth=9, min_samples_split=2;, score=0.675 total time=   0.0s\n",
      "[CV 5/5] END ..max_depth=7, min_samples_split=8;, score=0.725 total time=   0.0s\n",
      "[CV 4/5] END ..max_depth=8, min_samples_split=8;, score=0.745 total time=   0.0s\n",
      "[CV 3/5] END ..max_depth=7, min_samples_split=3;, score=0.695 total time=   0.0s\n",
      "[CV 3/5] END ..max_depth=9, min_samples_split=2;, score=0.695 total time=   0.0s\n",
      "[CV 1/5] END ..max_depth=7, min_samples_split=9;, score=0.727 total time=   0.0s\n",
      "[CV 5/5] END ..max_depth=8, min_samples_split=8;, score=0.712 total time=   0.0s\n",
      "[CV 4/5] END ..max_depth=7, min_samples_split=3;, score=0.804 total time=   0.0s\n",
      "[CV 4/5] END ..max_depth=9, min_samples_split=8;, score=0.771 total time=   0.0s\n",
      "[CV 4/5] END ..max_depth=8, min_samples_split=3;, score=0.732 total time=   0.0s\n",
      "[CV 2/5] END ..max_depth=7, min_samples_split=9;, score=0.708 total time=   0.0s\n",
      "[CV 4/5] END ..max_depth=9, min_samples_split=2;, score=0.765 total time=   0.0s\n",
      "[CV 5/5] END ..max_depth=7, min_samples_split=3;, score=0.732 total time=   0.0s\n",
      "[CV 1/5] END ..max_depth=8, min_samples_split=9;, score=0.721 total time=   0.0s\n",
      "[CV 5/5] END .max_depth=8, min_samples_split=14;, score=0.719 total time=   0.0s\n",
      "[CV 4/5] END .max_depth=7, min_samples_split=14;, score=0.817 total time=   0.0s\n",
      "[CV 1/5] END ..max_depth=7, min_samples_split=4;, score=0.727 total time=   0.0s\n",
      "[CV 5/5] END ..max_depth=9, min_samples_split=2;, score=0.706 total time=   0.0s\n",
      "[CV 1/5] END .max_depth=8, min_samples_split=15;, score=0.740 total time=   0.0s\n",
      "[CV 5/5] END ..max_depth=8, min_samples_split=3;, score=0.706 total time=   0.0s\n",
      "[CV 5/5] END .max_depth=7, min_samples_split=14;, score=0.712 total time=   0.0s\n",
      "[CV 2/5] END ..max_depth=7, min_samples_split=4;, score=0.701 total time=   0.0s\n",
      "[CV 5/5] END ..max_depth=9, min_samples_split=8;, score=0.712 total time=   0.0s\n",
      "[CV 1/5] END ..max_depth=9, min_samples_split=3;, score=0.695 total time=   0.0s\n",
      "[CV 2/5] END .max_depth=8, min_samples_split=15;, score=0.695 total time=   0.0s\n",
      "[CV 3/5] END ..max_depth=7, min_samples_split=9;, score=0.688 total time=   0.0s[CV 1/5] END .max_depth=7, min_samples_split=15;, score=0.740 total time=   0.0s\n",
      "\n",
      "[CV 2/5] END ..max_depth=8, min_samples_split=9;, score=0.695 total time=   0.0s\n",
      "[CV 2/5] END ..max_depth=9, min_samples_split=3;, score=0.662 total time=   0.0s\n",
      "[CV 3/5] END .max_depth=8, min_samples_split=15;, score=0.669 total time=   0.0s\n",
      "[CV 3/5] END ..max_depth=7, min_samples_split=4;, score=0.695 total time=   0.0s\n",
      "[CV 2/5] END .max_depth=7, min_samples_split=15;, score=0.708 total time=   0.0s\n",
      "[CV 1/5] END ..max_depth=9, min_samples_split=9;, score=0.708 total time=   0.0s\n",
      "[CV 4/5] END .max_depth=8, min_samples_split=15;, score=0.771 total time=   0.0s\n",
      "[CV 3/5] END ..max_depth=9, min_samples_split=3;, score=0.734 total time=   0.0s\n",
      "[CV 3/5] END .max_depth=7, min_samples_split=15;, score=0.688 total time=   0.0s\n",
      "[CV 3/5] END ..max_depth=8, min_samples_split=9;, score=0.662 total time=   0.0s\n",
      "[CV 4/5] END ..max_depth=7, min_samples_split=4;, score=0.797 total time=   0.0s\n",
      "[CV 5/5] END .max_depth=8, min_samples_split=15;, score=0.719 total time=   0.0s\n",
      "[CV 4/5] END .max_depth=7, min_samples_split=15;, score=0.817 total time=   0.0s\n",
      "[CV 5/5] END ..max_depth=7, min_samples_split=4;, score=0.725 total time=   0.0s\n",
      "[CV 1/5] END ..max_depth=8, min_samples_split=4;, score=0.734 total time=   0.0s\n",
      "[CV 4/5] END ..max_depth=8, min_samples_split=9;, score=0.752 total time=   0.0s\n",
      "[CV 1/5] END .max_depth=8, min_samples_split=16;, score=0.740 total time=   0.0s\n",
      "[CV 5/5] END .max_depth=7, min_samples_split=15;, score=0.712 total time=   0.0s\n",
      "[CV 2/5] END ..max_depth=9, min_samples_split=9;, score=0.688 total time=   0.0s\n",
      "[CV 1/5] END ..max_depth=7, min_samples_split=5;, score=0.721 total time=   0.0s\n",
      "[CV 5/5] END ..max_depth=8, min_samples_split=9;, score=0.725 total time=   0.0s\n",
      "[CV 4/5] END ..max_depth=7, min_samples_split=9;, score=0.810 total time=   0.0s\n",
      "[CV 4/5] END ..max_depth=9, min_samples_split=3;, score=0.752 total time=   0.0s\n",
      "[CV 2/5] END ..max_depth=8, min_samples_split=4;, score=0.695 total time=   0.0s\n",
      "[CV 2/5] END ..max_depth=7, min_samples_split=5;, score=0.708 total time=   0.0s\n",
      "[CV 1/5] END .max_depth=8, min_samples_split=10;, score=0.727 total time=   0.0s\n",
      "[CV 2/5] END .max_depth=8, min_samples_split=16;, score=0.701 total time=   0.0s\n",
      "[CV 3/5] END ..max_depth=8, min_samples_split=4;, score=0.682 total time=   0.0s\n",
      "[CV 3/5] END ..max_depth=7, min_samples_split=5;, score=0.695 total time=   0.0s\n",
      "[CV 5/5] END ..max_depth=9, min_samples_split=3;, score=0.719 total time=   0.0s\n",
      "[CV 5/5] END ..max_depth=7, min_samples_split=9;, score=0.725 total time=   0.0s\n",
      "[CV 2/5] END .max_depth=8, min_samples_split=10;, score=0.695 total time=   0.0s\n",
      "[CV 1/5] END .max_depth=7, min_samples_split=16;, score=0.740 total time=   0.0s\n",
      "[CV 4/5] END ..max_depth=8, min_samples_split=4;, score=0.771 total time=   0.0s\n",
      "[CV 3/5] END ..max_depth=9, min_samples_split=9;, score=0.740 total time=   0.0s\n",
      "[CV 4/5] END ..max_depth=7, min_samples_split=5;, score=0.817 total time=   0.0s\n",
      "[CV 3/5] END .max_depth=8, min_samples_split=10;, score=0.682 total time=   0.0s\n",
      "[CV 1/5] END ..max_depth=9, min_samples_split=4;, score=0.682 total time=   0.0s\n",
      "[CV 5/5] END ..max_depth=8, min_samples_split=4;, score=0.712 total time=   0.0s\n",
      "[CV 5/5] END ..max_depth=7, min_samples_split=5;, score=0.725 total time=   0.0s\n",
      "[CV 4/5] END .max_depth=8, min_samples_split=10;, score=0.771 total time=   0.0s\n",
      "[CV 2/5] END ..max_depth=9, min_samples_split=4;, score=0.675 total time=   0.0s\n",
      "[CV 1/5] END ..max_depth=8, min_samples_split=5;, score=0.727 total time=   0.0s\n",
      "[CV 2/5] END .max_depth=7, min_samples_split=16;, score=0.708 total time=   0.0s\n",
      "[CV 5/5] END .max_depth=8, min_samples_split=10;, score=0.719 total time=   0.0s\n",
      "[CV 3/5] END .max_depth=8, min_samples_split=16;, score=0.682 total time=   0.0s\n",
      "[CV 1/5] END .max_depth=7, min_samples_split=10;, score=0.734 total time=   0.0s\n",
      "[CV 2/5] END ..max_depth=8, min_samples_split=5;, score=0.695 total time=   0.0s\n",
      "[CV 3/5] END .max_depth=7, min_samples_split=16;, score=0.695 total time=   0.0s\n",
      "[CV 4/5] END ..max_depth=9, min_samples_split=9;, score=0.771 total time=   0.0s\n",
      "[CV 3/5] END ..max_depth=9, min_samples_split=4;, score=0.708 total time=   0.0s\n",
      "[CV 4/5] END .max_depth=8, min_samples_split=16;, score=0.784 total time=   0.0s\n",
      "[CV 2/5] END .max_depth=7, min_samples_split=10;, score=0.708 total time=   0.0s\n",
      "[CV 3/5] END ..max_depth=8, min_samples_split=5;, score=0.682 total time=   0.0s\n",
      "[CV 4/5] END .max_depth=7, min_samples_split=16;, score=0.817 total time=   0.0s\n",
      "[CV 5/5] END .max_depth=8, min_samples_split=16;, score=0.725 total time=   0.0s\n",
      "[CV 3/5] END .max_depth=7, min_samples_split=10;, score=0.701 total time=   0.0s\n",
      "[CV 5/5] END .max_depth=7, min_samples_split=16;, score=0.719 total time=   0.0s\n",
      "[CV 1/5] END .max_depth=9, min_samples_split=10;, score=0.721 total time=   0.0s\n",
      "[CV 1/5] END .max_depth=8, min_samples_split=11;, score=0.727 total time=   0.0s\n",
      "[CV 1/5] END .max_depth=8, min_samples_split=17;, score=0.740 total time=   0.0s\n",
      "[CV 5/5] END ..max_depth=9, min_samples_split=9;, score=0.725 total time=   0.0s\n",
      "[CV 4/5] END ..max_depth=8, min_samples_split=5;, score=0.765 total time=   0.0s\n",
      "[CV 4/5] END .max_depth=7, min_samples_split=10;, score=0.804 total time=   0.0s\n",
      "[CV 1/5] END .max_depth=7, min_samples_split=17;, score=0.740 total time=   0.0s\n",
      "[CV 4/5] END ..max_depth=9, min_samples_split=4;, score=0.771 total time=   0.0s[CV 2/5] END .max_depth=8, min_samples_split=17;, score=0.695 total time=   0.0s\n",
      "\n",
      "[CV 5/5] END ..max_depth=8, min_samples_split=5;, score=0.712 total time=   0.0s\n",
      "[CV 5/5] END .max_depth=7, min_samples_split=10;, score=0.725 total time=   0.0s\n",
      "[CV 2/5] END .max_depth=7, min_samples_split=17;, score=0.701 total time=   0.0s\n",
      "[CV 2/5] END .max_depth=8, min_samples_split=11;, score=0.695 total time=   0.0s\n",
      "[CV 1/5] END .max_depth=7, min_samples_split=11;, score=0.734 total time=   0.0s\n",
      "[CV 1/5] END ..max_depth=8, min_samples_split=6;, score=0.708 total time=   0.0s\n",
      "[CV 5/5] END ..max_depth=9, min_samples_split=4;, score=0.719 total time=   0.0s\n",
      "[CV 3/5] END .max_depth=8, min_samples_split=11;, score=0.662 total time=   0.0s\n",
      "[CV 2/5] END .max_depth=9, min_samples_split=10;, score=0.695 total time=   0.0s\n",
      "[CV 2/5] END .max_depth=7, min_samples_split=11;, score=0.708 total time=   0.0s\n",
      "[CV 2/5] END ..max_depth=8, min_samples_split=6;, score=0.695 total time=   0.0s\n",
      "[CV 1/5] END ..max_depth=9, min_samples_split=5;, score=0.695 total time=   0.0s\n",
      "[CV 3/5] END .max_depth=9, min_samples_split=10;, score=0.695 total time=   0.0s\n",
      "[CV 4/5] END .max_depth=8, min_samples_split=11;, score=0.765 total time=   0.0s\n",
      "[CV 3/5] END .max_depth=7, min_samples_split=11;, score=0.688 total time=   0.0s\n",
      "[CV 3/5] END ..max_depth=8, min_samples_split=6;, score=0.675 total time=   0.0s\n",
      "[CV 3/5] END .max_depth=7, min_samples_split=17;, score=0.695 total time=   0.0s\n",
      "[CV 3/5] END .max_depth=8, min_samples_split=17;, score=0.675 total time=   0.0s\n",
      "[CV 2/5] END ..max_depth=9, min_samples_split=5;, score=0.688 total time=   0.0s\n",
      "[CV 4/5] END .max_depth=7, min_samples_split=11;, score=0.810 total time=   0.0s\n",
      "[CV 4/5] END ..max_depth=8, min_samples_split=6;, score=0.765 total time=   0.0s\n",
      "[CV 3/5] END ..max_depth=9, min_samples_split=5;, score=0.714 total time=   0.0s\n",
      "[CV 4/5] END .max_depth=9, min_samples_split=10;, score=0.771 total time=   0.0s\n",
      "[CV 5/5] END .max_depth=7, min_samples_split=11;, score=0.719 total time=   0.0s\n",
      "[CV 5/5] END .max_depth=9, min_samples_split=10;, score=0.719 total time=   0.0s\n",
      "[CV 4/5] END .max_depth=7, min_samples_split=17;, score=0.784 total time=   0.0s\n",
      "[CV 4/5] END .max_depth=8, min_samples_split=17;, score=0.752 total time=   0.0s\n",
      "[CV 5/5] END .max_depth=8, min_samples_split=11;, score=0.719 total time=   0.0s\n",
      "[CV 1/5] END .max_depth=7, min_samples_split=12;, score=0.734 total time=   0.0s\n",
      "[CV 5/5] END ..max_depth=8, min_samples_split=6;, score=0.712 total time=   0.0s\n",
      "[CV 5/5] END .max_depth=7, min_samples_split=17;, score=0.719 total time=   0.0s\n",
      "[CV 5/5] END .max_depth=8, min_samples_split=17;, score=0.725 total time=   0.0s\n",
      "[CV 2/5] END .max_depth=7, min_samples_split=12;, score=0.708 total time=   0.0s\n",
      "[CV 1/5] END ..max_depth=8, min_samples_split=7;, score=0.708 total time=   0.0s\n",
      "[CV 4/5] END ..max_depth=9, min_samples_split=5;, score=0.784 total time=   0.0s\n",
      "[CV 1/5] END .max_depth=7, min_samples_split=18;, score=0.740 total time=   0.0s\n",
      "[CV 1/5] END .max_depth=8, min_samples_split=18;, score=0.740 total time=   0.0s\n",
      "[CV 2/5] END .max_depth=7, min_samples_split=18;, score=0.701 total time=   0.0s\n",
      "[CV 2/5] END .max_depth=9, min_samples_split=11;, score=0.701 total time=   0.0s\n",
      "[CV 3/5] END .max_depth=9, min_samples_split=11;, score=0.669 total time=   0.0s\n",
      "[CV 5/5] END ..max_depth=9, min_samples_split=5;, score=0.712 total time=   0.0s\n",
      "[CV 1/5] END .max_depth=9, min_samples_split=11;, score=0.721 total time=   0.0s\n",
      "[CV 2/5] END .max_depth=8, min_samples_split=18;, score=0.695 total time=   0.0s\n",
      "[CV 1/5] END .max_depth=8, min_samples_split=12;, score=0.734 total time=   0.0s\n",
      "[CV 3/5] END .max_depth=7, min_samples_split=18;, score=0.695 total time=   0.0s\n",
      "[CV 1/5] END ..max_depth=9, min_samples_split=6;, score=0.708 total time=   0.0s\n",
      "[CV 3/5] END .max_depth=8, min_samples_split=18;, score=0.688 total time=   0.0s\n",
      "[CV 2/5] END .max_depth=8, min_samples_split=12;, score=0.701 total time=   0.0s\n",
      "[CV 4/5] END .max_depth=7, min_samples_split=18;, score=0.784 total time=   0.0s\n",
      "[CV 2/5] END ..max_depth=9, min_samples_split=6;, score=0.682 total time=   0.0s\n",
      "[CV 4/5] END .max_depth=8, min_samples_split=18;, score=0.752 total time=   0.0s\n",
      "[CV 3/5] END .max_depth=8, min_samples_split=12;, score=0.662 total time=   0.0s\n",
      "[CV 4/5] END .max_depth=9, min_samples_split=11;, score=0.778 total time=   0.0s\n",
      "[CV 1/5] END .max_depth=9, min_samples_split=12;, score=0.727 total time=   0.0s\n",
      "[CV 3/5] END ..max_depth=9, min_samples_split=6;, score=0.708 total time=   0.0s\n",
      "[CV 5/5] END .max_depth=8, min_samples_split=18;, score=0.725 total time=   0.0s\n",
      "[CV 4/5] END .max_depth=8, min_samples_split=12;, score=0.771 total time=   0.0s\n",
      "[CV 5/5] END .max_depth=9, min_samples_split=11;, score=0.719 total time=   0.0s\n",
      "[CV 4/5] END ..max_depth=9, min_samples_split=6;, score=0.784 total time=   0.0s\n",
      "[CV 2/5] END .max_depth=9, min_samples_split=12;, score=0.701 total time=   0.0s\n",
      "[CV 1/5] END .max_depth=8, min_samples_split=19;, score=0.740 total time=   0.0s\n",
      "[CV 5/5] END .max_depth=9, min_samples_split=12;, score=0.745 total time=   0.0s\n",
      "[CV 5/5] END .max_depth=8, min_samples_split=12;, score=0.732 total time=   0.0s\n",
      "[CV 5/5] END ..max_depth=9, min_samples_split=6;, score=0.699 total time=   0.0s[CV 2/5] END .max_depth=8, min_samples_split=19;, score=0.695 total time=   0.0s\n",
      "\n",
      "[CV 4/5] END .max_depth=9, min_samples_split=12;, score=0.784 total time=   0.0s\n",
      "[CV 3/5] END .max_depth=9, min_samples_split=12;, score=0.669 total time=   0.0s\n",
      "[CV 3/5] END .max_depth=8, min_samples_split=19;, score=0.688 total time=   0.0s\n",
      "[CV 1/5] END ..max_depth=9, min_samples_split=7;, score=0.695 total time=   0.0s\n",
      "[CV 1/5] END .max_depth=8, min_samples_split=13;, score=0.734 total time=   0.0s\n",
      "[CV 4/5] END .max_depth=9, min_samples_split=13;, score=0.784 total time=   0.0s\n",
      "[CV 4/5] END .max_depth=8, min_samples_split=19;, score=0.752 total time=   0.0s\n",
      "[CV 2/5] END ..max_depth=9, min_samples_split=7;, score=0.682 total time=   0.0s\n",
      "[CV 2/5] END .max_depth=8, min_samples_split=13;, score=0.695 total time=   0.0s\n",
      "[CV 1/5] END .max_depth=9, min_samples_split=13;, score=0.747 total time=   0.0s\n",
      "[CV 5/5] END .max_depth=9, min_samples_split=13;, score=0.732 total time=   0.0s\n",
      "[CV 3/5] END .max_depth=9, min_samples_split=13;, score=0.669 total time=   0.0s\n",
      "[CV 5/5] END .max_depth=8, min_samples_split=19;, score=0.725 total time=   0.0s\n",
      "[CV 3/5] END ..max_depth=9, min_samples_split=7;, score=0.727 total time=   0.0s\n",
      "[CV 3/5] END .max_depth=8, min_samples_split=13;, score=0.662 total time=   0.0s\n",
      "[CV 2/5] END .max_depth=9, min_samples_split=13;, score=0.701 total time=   0.0s\n",
      "[CV 2/5] END .max_depth=9, min_samples_split=14;, score=0.701 total time=   0.0s\n",
      "[CV 4/5] END ..max_depth=9, min_samples_split=7;, score=0.758 total time=   0.0s\n",
      "[CV 3/5] END .max_depth=9, min_samples_split=14;, score=0.682 total time=   0.0s\n",
      "[CV 1/5] END .max_depth=9, min_samples_split=14;, score=0.747 total time=   0.0s\n",
      "[CV 4/5] END .max_depth=9, min_samples_split=14;, score=0.784 total time=   0.0s\n",
      "[CV 5/5] END ..max_depth=9, min_samples_split=7;, score=0.712 total time=   0.0s\n",
      "[CV 5/5] END .max_depth=9, min_samples_split=14;, score=0.732 total time=   0.0s\n",
      "[CV 1/5] END .max_depth=9, min_samples_split=15;, score=0.747 total time=   0.0s\n",
      "[CV 2/5] END .max_depth=9, min_samples_split=15;, score=0.701 total time=   0.0s\n",
      "[CV 1/5] END ..max_depth=9, min_samples_split=8;, score=0.695 total time=   0.0s\n",
      "[CV 3/5] END .max_depth=9, min_samples_split=15;, score=0.688 total time=   0.0s\n",
      "[CV 4/5] END .max_depth=9, min_samples_split=15;, score=0.784 total time=   0.0s\n",
      "[CV 2/5] END ..max_depth=9, min_samples_split=8;, score=0.688 total time=   0.0s\n",
      "[CV 2/5] END .max_depth=9, min_samples_split=16;, score=0.701 total time=   0.0s\n",
      "[CV 1/5] END .max_depth=9, min_samples_split=16;, score=0.734 total time=   0.0s\n",
      "[CV 4/5] END .max_depth=9, min_samples_split=16;, score=0.784 total time=   0.0s\n",
      "[CV 5/5] END .max_depth=9, min_samples_split=15;, score=0.719 total time=   0.0s\n",
      "[CV 5/5] END .max_depth=9, min_samples_split=16;, score=0.739 total time=   0.0s\n",
      "[CV 3/5] END .max_depth=9, min_samples_split=16;, score=0.688 total time=   0.0s\n",
      "[CV 2/5] END .max_depth=9, min_samples_split=17;, score=0.695 total time=   0.0s\n",
      "[CV 3/5] END .max_depth=9, min_samples_split=17;, score=0.688 total time=   0.0s\n",
      "[CV 1/5] END .max_depth=9, min_samples_split=17;, score=0.734 total time=   0.0s\n",
      "[CV 4/5] END .max_depth=9, min_samples_split=17;, score=0.752 total time=   0.0s\n",
      "[CV 1/5] END .max_depth=9, min_samples_split=18;, score=0.734 total time=   0.0s\n",
      "[CV 5/5] END .max_depth=9, min_samples_split=17;, score=0.739 total time=   0.0s\n",
      "[CV 2/5] END .max_depth=9, min_samples_split=18;, score=0.695 total time=   0.0s\n",
      "[CV 3/5] END .max_depth=9, min_samples_split=18;, score=0.688 total time=   0.0s\n",
      "[CV 4/5] END .max_depth=9, min_samples_split=18;, score=0.752 total time=   0.0s\n",
      "[CV 5/5] END .max_depth=9, min_samples_split=18;, score=0.739 total time=   0.0s\n",
      "[CV 1/5] END .max_depth=9, min_samples_split=19;, score=0.740 total time=   0.0s\n",
      "[CV 3/5] END .max_depth=9, min_samples_split=19;, score=0.688 total time=   0.0s\n",
      "[CV 2/5] END .max_depth=9, min_samples_split=19;, score=0.695 total time=   0.0s\n",
      "[CV 4/5] END .max_depth=9, min_samples_split=19;, score=0.752 total time=   0.0s\n",
      "[CV 5/5] END .max_depth=9, min_samples_split=19;, score=0.739 total time=   0.0s\n",
      "[CV 1/5] END .max_depth=10, min_samples_split=2;, score=0.701 total time=   0.0s\n",
      "[CV 2/5] END .max_depth=10, min_samples_split=2;, score=0.656 total time=   0.0s\n",
      "[CV 3/5] END .max_depth=10, min_samples_split=2;, score=0.708 total time=   0.0s\n",
      "[CV 4/5] END .max_depth=10, min_samples_split=2;, score=0.797 total time=   0.0s\n",
      "[CV 5/5] END .max_depth=10, min_samples_split=2;, score=0.712 total time=   0.0s\n",
      "[CV 1/5] END .max_depth=10, min_samples_split=3;, score=0.688 total time=   0.0s\n",
      "[CV 2/5] END .max_depth=10, min_samples_split=3;, score=0.649 total time=   0.0s\n",
      "[CV 3/5] END .max_depth=10, min_samples_split=3;, score=0.662 total time=   0.0s\n",
      "[CV 4/5] END .max_depth=10, min_samples_split=3;, score=0.791 total time=   0.0s\n",
      "[CV 5/5] END .max_depth=10, min_samples_split=3;, score=0.719 total time=   0.0s\n",
      "[CV 1/5] END .max_depth=10, min_samples_split=4;, score=0.721 total time=   0.0s\n",
      "[CV 2/5] END .max_depth=10, min_samples_split=4;, score=0.656 total time=   0.0s\n",
      "[CV 3/5] END .max_depth=10, min_samples_split=4;, score=0.688 total time=   0.0s\n",
      "[CV 4/5] END .max_depth=10, min_samples_split=4;, score=0.804 total time=   0.0s\n",
      "[CV 5/5] END .max_depth=10, min_samples_split=4;, score=0.712 total time=   0.0s\n",
      "[CV 1/5] END .max_depth=10, min_samples_split=5;, score=0.669 total time=   0.0s\n",
      "[CV 2/5] END .max_depth=10, min_samples_split=5;, score=0.643 total time=   0.0s\n",
      "[CV 3/5] END .max_depth=10, min_samples_split=5;, score=0.669 total time=   0.0s\n",
      "[CV 4/5] END .max_depth=10, min_samples_split=5;, score=0.778 total time=   0.0s\n",
      "[CV 5/5] END .max_depth=10, min_samples_split=5;, score=0.732 total time=   0.0s\n",
      "[CV 1/5] END .max_depth=10, min_samples_split=6;, score=0.695 total time=   0.0s\n",
      "[CV 2/5] END .max_depth=10, min_samples_split=6;, score=0.649 total time=   0.0s\n",
      "[CV 3/5] END .max_depth=10, min_samples_split=6;, score=0.721 total time=   0.0s\n",
      "[CV 4/5] END .max_depth=10, min_samples_split=6;, score=0.758 total time=   0.0s\n",
      "[CV 5/5] END .max_depth=10, min_samples_split=6;, score=0.725 total time=   0.0s\n",
      "[CV 1/5] END .max_depth=10, min_samples_split=7;, score=0.669 total time=   0.0s\n",
      "[CV 2/5] END .max_depth=10, min_samples_split=7;, score=0.662 total time=   0.0s\n",
      "[CV 3/5] END .max_depth=10, min_samples_split=7;, score=0.701 total time=   0.0s\n",
      "[CV 4/5] END .max_depth=10, min_samples_split=7;, score=0.778 total time=   0.0s\n",
      "[CV 5/5] END .max_depth=10, min_samples_split=7;, score=0.712 total time=   0.0s\n",
      "[CV 1/5] END .max_depth=10, min_samples_split=8;, score=0.708 total time=   0.0s\n",
      "[CV 2/5] END .max_depth=10, min_samples_split=8;, score=0.669 total time=   0.0s\n",
      "[CV 3/5] END .max_depth=10, min_samples_split=8;, score=0.701 total time=   0.0s\n",
      "[CV 4/5] END .max_depth=10, min_samples_split=8;, score=0.771 total time=   0.0s\n",
      "[CV 5/5] END .max_depth=10, min_samples_split=8;, score=0.712 total time=   0.0s\n",
      "[CV 1/5] END .max_depth=10, min_samples_split=9;, score=0.682 total time=   0.0s\n",
      "[CV 2/5] END .max_depth=10, min_samples_split=9;, score=0.669 total time=   0.0s\n",
      "[CV 3/5] END .max_depth=10, min_samples_split=9;, score=0.701 total time=   0.0s\n",
      "[CV 4/5] END .max_depth=10, min_samples_split=9;, score=0.771 total time=   0.0s\n",
      "[CV 5/5] END .max_depth=10, min_samples_split=9;, score=0.725 total time=   0.0s\n",
      "[CV 1/5] END max_depth=10, min_samples_split=10;, score=0.727 total time=   0.0s\n",
      "[CV 2/5] END max_depth=10, min_samples_split=10;, score=0.662 total time=   0.0s\n",
      "[CV 3/5] END max_depth=10, min_samples_split=10;, score=0.662 total time=   0.0s\n",
      "[CV 4/5] END max_depth=10, min_samples_split=10;, score=0.797 total time=   0.0s\n",
      "[CV 5/5] END max_depth=10, min_samples_split=10;, score=0.732 total time=   0.0s\n",
      "[CV 1/5] END max_depth=10, min_samples_split=11;, score=0.727 total time=   0.0s\n",
      "[CV 2/5] END max_depth=10, min_samples_split=11;, score=0.675 total time=   0.0s\n",
      "[CV 3/5] END max_depth=10, min_samples_split=11;, score=0.675 total time=   0.0s\n",
      "[CV 4/5] END max_depth=10, min_samples_split=11;, score=0.791 total time=   0.0s\n",
      "[CV 5/5] END max_depth=10, min_samples_split=11;, score=0.725 total time=   0.0s\n",
      "[CV 1/5] END max_depth=10, min_samples_split=12;, score=0.734 total time=   0.0s\n",
      "[CV 2/5] END max_depth=10, min_samples_split=12;, score=0.675 total time=   0.0s\n",
      "[CV 3/5] END max_depth=10, min_samples_split=12;, score=0.675 total time=   0.0s\n",
      "[CV 4/5] END max_depth=10, min_samples_split=12;, score=0.810 total time=   0.0s\n",
      "[CV 1/5] END max_depth=10, min_samples_split=13;, score=0.727 total time=   0.0s\n",
      "[CV 5/5] END max_depth=10, min_samples_split=12;, score=0.745 total time=   0.0s\n",
      "[CV 2/5] END max_depth=10, min_samples_split=13;, score=0.675 total time=   0.0s\n",
      "[CV 3/5] END max_depth=10, min_samples_split=13;, score=0.675 total time=   0.0s\n",
      "[CV 4/5] END max_depth=10, min_samples_split=13;, score=0.810 total time=   0.0s\n",
      "[CV 5/5] END max_depth=10, min_samples_split=13;, score=0.732 total time=   0.0s\n",
      "[CV 1/5] END max_depth=10, min_samples_split=14;, score=0.727 total time=   0.0s\n",
      "[CV 2/5] END max_depth=10, min_samples_split=14;, score=0.675 total time=   0.0s\n",
      "[CV 3/5] END max_depth=10, min_samples_split=14;, score=0.675 total time=   0.0s\n",
      "[CV 4/5] END max_depth=10, min_samples_split=14;, score=0.810 total time=   0.0s\n",
      "[CV 5/5] END max_depth=10, min_samples_split=14;, score=0.732 total time=   0.0s\n",
      "[CV 1/5] END max_depth=10, min_samples_split=15;, score=0.747 total time=   0.0s\n",
      "[CV 3/5] END max_depth=10, min_samples_split=15;, score=0.675 total time=   0.0s\n",
      "[CV 2/5] END max_depth=10, min_samples_split=15;, score=0.675 total time=   0.0s\n",
      "[CV 4/5] END max_depth=10, min_samples_split=15;, score=0.797 total time=   0.0s\n",
      "[CV 5/5] END max_depth=10, min_samples_split=15;, score=0.732 total time=   0.0s\n",
      "[CV 1/5] END max_depth=10, min_samples_split=16;, score=0.747 total time=   0.0s\n",
      "[CV 2/5] END max_depth=10, min_samples_split=16;, score=0.682 total time=   0.0s\n",
      "[CV 3/5] END max_depth=10, min_samples_split=16;, score=0.669 total time=   0.0s\n",
      "[CV 4/5] END max_depth=10, min_samples_split=16;, score=0.824 total time=   0.0s\n",
      "[CV 5/5] END max_depth=10, min_samples_split=16;, score=0.739 total time=   0.0s\n",
      "[CV 1/5] END max_depth=10, min_samples_split=17;, score=0.747 total time=   0.0s\n",
      "[CV 2/5] END max_depth=10, min_samples_split=17;, score=0.675 total time=   0.0s\n",
      "[CV 3/5] END max_depth=10, min_samples_split=17;, score=0.662 total time=   0.0s\n",
      "[CV 4/5] END max_depth=10, min_samples_split=17;, score=0.791 total time=   0.0s\n",
      "[CV 5/5] END max_depth=10, min_samples_split=17;, score=0.739 total time=   0.0s\n",
      "[CV 1/5] END max_depth=10, min_samples_split=18;, score=0.747 total time=   0.0s\n",
      "[CV 2/5] END max_depth=10, min_samples_split=18;, score=0.688 total time=   0.0s\n",
      "[CV 3/5] END max_depth=10, min_samples_split=18;, score=0.669 total time=   0.0s\n",
      "[CV 4/5] END max_depth=10, min_samples_split=18;, score=0.791 total time=   0.0s\n",
      "[CV 5/5] END max_depth=10, min_samples_split=18;, score=0.739 total time=   0.0s\n",
      "[CV 1/5] END max_depth=10, min_samples_split=19;, score=0.734 total time=   0.0s\n",
      "[CV 2/5] END max_depth=10, min_samples_split=19;, score=0.688 total time=   0.0s\n",
      "[CV 3/5] END max_depth=10, min_samples_split=19;, score=0.688 total time=   0.0s\n",
      "[CV 4/5] END max_depth=10, min_samples_split=19;, score=0.791 total time=   0.0s\n",
      "[CV 5/5] END max_depth=10, min_samples_split=19;, score=0.739 total time=   0.0s\n"
     ]
    }
   ],
   "source": [
    "cart_best_grid = GridSearchCV(cart_model,\n",
    "                              cart_params,\n",
    "                              cv=5,\n",
    "                              n_jobs=-1,\n",
    "                              verbose=3).fit(X, y)"
   ]
  },
  {
   "cell_type": "code",
   "execution_count": 25,
   "metadata": {},
   "outputs": [
    {
     "data": {
      "text/plain": [
       "{'max_depth': 5, 'min_samples_split': 4}"
      ]
     },
     "execution_count": 25,
     "metadata": {},
     "output_type": "execute_result"
    }
   ],
   "source": [
    "# En iyi parametreleri getirelim;\n",
    "\n",
    "cart_best_grid.best_params_"
   ]
  },
  {
   "cell_type": "code",
   "execution_count": 26,
   "metadata": {},
   "outputs": [
    {
     "data": {
      "text/plain": [
       "0.7500806383159324"
      ]
     },
     "execution_count": 26,
     "metadata": {},
     "output_type": "execute_result"
    }
   ],
   "source": [
    "# En iyi parametrelere ait hata değerlerine bakacak olursak;\n",
    "\n",
    "cart_best_grid.best_score_\n",
    "\n",
    "# Peki hangi skor değerini getiriyor diye soracak olursak, \"accuracy\" skorunu getirdiğini söyleyebiliriz."
   ]
  },
  {
   "cell_type": "code",
   "execution_count": 27,
   "metadata": {},
   "outputs": [
    {
     "name": "stdout",
     "output_type": "stream",
     "text": [
      "Fitting 5 folds for each of 180 candidates, totalling 900 fits\n"
     ]
    }
   ],
   "source": [
    "cart_best_grid = GridSearchCV(cart_model,\n",
    "                              cart_params,\n",
    "                              scoring=\"f1\",\n",
    "                              cv=5,\n",
    "                              n_jobs=-1,\n",
    "                              verbose=1).fit(X, y)"
   ]
  },
  {
   "cell_type": "code",
   "execution_count": 28,
   "metadata": {},
   "outputs": [
    {
     "data": {
      "text/plain": [
       "{'max_depth': 4, 'min_samples_split': 2}"
      ]
     },
     "execution_count": 28,
     "metadata": {},
     "output_type": "execute_result"
    }
   ],
   "source": [
    "# En iyi f1 skoru için belirlenen parametreleri getirelim;\n",
    "\n",
    "cart_best_grid.best_params_"
   ]
  },
  {
   "cell_type": "code",
   "execution_count": 29,
   "metadata": {},
   "outputs": [
    {
     "data": {
      "text/plain": [
       "0.6395752751155839"
      ]
     },
     "execution_count": 29,
     "metadata": {},
     "output_type": "execute_result"
    }
   ],
   "source": [
    "# En iyi parametrelere ait f1 skoruna bakacak olursak;\n",
    "\n",
    "cart_best_grid.best_score_"
   ]
  },
  {
   "cell_type": "code",
   "execution_count": 30,
   "metadata": {},
   "outputs": [
    {
     "name": "stdout",
     "output_type": "stream",
     "text": [
      "Fitting 5 folds for each of 180 candidates, totalling 900 fits\n"
     ]
    }
   ],
   "source": [
    "cart_best_grid = GridSearchCV(cart_model,\n",
    "                              cart_params,\n",
    "                              scoring=\"roc_auc\",\n",
    "                              cv=5,\n",
    "                              n_jobs=-1,\n",
    "                              verbose=1).fit(X, y)"
   ]
  },
  {
   "cell_type": "code",
   "execution_count": 31,
   "metadata": {},
   "outputs": [
    {
     "data": {
      "text/plain": [
       "{'max_depth': 5, 'min_samples_split': 19}"
      ]
     },
     "execution_count": 31,
     "metadata": {},
     "output_type": "execute_result"
    }
   ],
   "source": [
    "# En iyi f1 skoru için belirlenen parametreleri getirelim;\n",
    "\n",
    "cart_best_grid.best_params_"
   ]
  },
  {
   "cell_type": "code",
   "execution_count": 32,
   "metadata": {},
   "outputs": [
    {
     "data": {
      "text/plain": [
       "0.8020768693221523"
      ]
     },
     "execution_count": 32,
     "metadata": {},
     "output_type": "execute_result"
    }
   ],
   "source": [
    "# En iyi parametrelere ait f1 skoruna bakacak olursak;\n",
    "\n",
    "cart_best_grid.best_score_"
   ]
  },
  {
   "attachments": {},
   "cell_type": "markdown",
   "metadata": {},
   "source": [
    "    Buradan çıkaracağımız sonuç ise istediğimiz model değerlendirme metriklerine göre hiper parametrelerin değişkenlik göstereceğidir."
   ]
  },
  {
   "cell_type": "code",
   "execution_count": 33,
   "metadata": {},
   "outputs": [
    {
     "data": {
      "text/html": [
       "<div>\n",
       "<style scoped>\n",
       "    .dataframe tbody tr th:only-of-type {\n",
       "        vertical-align: middle;\n",
       "    }\n",
       "\n",
       "    .dataframe tbody tr th {\n",
       "        vertical-align: top;\n",
       "    }\n",
       "\n",
       "    .dataframe thead th {\n",
       "        text-align: right;\n",
       "    }\n",
       "</style>\n",
       "<table border=\"1\" class=\"dataframe\">\n",
       "  <thead>\n",
       "    <tr style=\"text-align: right;\">\n",
       "      <th></th>\n",
       "      <th>Pregnancies</th>\n",
       "      <th>Glucose</th>\n",
       "      <th>BloodPressure</th>\n",
       "      <th>SkinThickness</th>\n",
       "      <th>Insulin</th>\n",
       "      <th>BMI</th>\n",
       "      <th>DiabetesPedigreeFunction</th>\n",
       "      <th>Age</th>\n",
       "    </tr>\n",
       "  </thead>\n",
       "  <tbody>\n",
       "    <tr>\n",
       "      <th>195</th>\n",
       "      <td>5</td>\n",
       "      <td>158</td>\n",
       "      <td>84</td>\n",
       "      <td>41</td>\n",
       "      <td>210</td>\n",
       "      <td>39.4</td>\n",
       "      <td>0.395</td>\n",
       "      <td>29</td>\n",
       "    </tr>\n",
       "  </tbody>\n",
       "</table>\n",
       "</div>"
      ],
      "text/plain": [
       "     Pregnancies  Glucose  BloodPressure  SkinThickness  Insulin   BMI  DiabetesPedigreeFunction  Age\n",
       "195            5      158             84             41      210  39.4                     0.395   29"
      ]
     },
     "execution_count": 33,
     "metadata": {},
     "output_type": "execute_result"
    }
   ],
   "source": [
    "# En iyi hiper parametrelere sahip model ile tahmin yapmak istersek;\n",
    "\n",
    "# Bağımsız değişkenlerin içerisinden rasgele bir gözlem alalım;\n",
    "random = X.sample(1, random_state=45)\n",
    "random"
   ]
  },
  {
   "attachments": {},
   "cell_type": "markdown",
   "metadata": {},
   "source": [
    "Ağaç yöntemlerinde değişkenleri normalleştirmeye gerek yoktur !!!"
   ]
  },
  {
   "cell_type": "code",
   "execution_count": 34,
   "metadata": {},
   "outputs": [
    {
     "data": {
      "text/plain": [
       "array([1])"
      ]
     },
     "execution_count": 34,
     "metadata": {},
     "output_type": "execute_result"
    }
   ],
   "source": [
    "# Tahminde bulunalım;\n",
    "\n",
    "cart_best_grid.predict(random)\n",
    "\n",
    "# Bu gözleme ait tahminimiz \"1\" oldu."
   ]
  },
  {
   "attachments": {},
   "cell_type": "markdown",
   "metadata": {},
   "source": [
    "    Burada tahmini cart_best_grid nesnesi üzerinden oluşturduk lakin her halükarda final modelin oluşturulmasını ısrarla tavsiye ediyoruz."
   ]
  },
  {
   "cell_type": "code",
   "execution_count": 35,
   "metadata": {},
   "outputs": [
    {
     "name": "stdout",
     "output_type": "stream",
     "text": [
      "Fitting 5 folds for each of 180 candidates, totalling 900 fits\n"
     ]
    }
   ],
   "source": [
    "# Bu kısımda accuracy'ye göre modelimizde bir kez daha hiper parametre denemesi yapalım;\n",
    "\n",
    "cart_best_grid = GridSearchCV(cart_model,\n",
    "                              cart_params,\n",
    "                              cv=5,\n",
    "                              n_jobs=-1,\n",
    "                              verbose=1).fit(X, y)"
   ]
  },
  {
   "cell_type": "code",
   "execution_count": 36,
   "metadata": {},
   "outputs": [
    {
     "data": {
      "text/plain": [
       "{'ccp_alpha': 0.0,\n",
       " 'class_weight': None,\n",
       " 'criterion': 'gini',\n",
       " 'max_depth': 5,\n",
       " 'max_features': None,\n",
       " 'max_leaf_nodes': None,\n",
       " 'min_impurity_decrease': 0.0,\n",
       " 'min_samples_leaf': 1,\n",
       " 'min_samples_split': 4,\n",
       " 'min_weight_fraction_leaf': 0.0,\n",
       " 'random_state': 17,\n",
       " 'splitter': 'best'}"
      ]
     },
     "execution_count": 36,
     "metadata": {},
     "output_type": "execute_result"
    }
   ],
   "source": [
    "################################################\n",
    "# 5. Final Model\n",
    "################################################\n",
    "\n",
    "# Final modelimizi kuralım;\n",
    "cart_final = DecisionTreeClassifier(**cart_best_grid.best_params_, random_state=17).fit(X, y)\n",
    "\n",
    "# Final modelin parametrelerine bakalım;\n",
    "cart_final.get_params()"
   ]
  },
  {
   "cell_type": "code",
   "execution_count": 37,
   "metadata": {},
   "outputs": [],
   "source": [
    "# Bir diğer hiper parametre atama yöntemi ise;\n",
    "\n",
    "cart_final = cart_model.set_params(**cart_best_grid.best_params_).fit(X, y)\n",
    "\n",
    "# Bunun yukarıdaki işlemden farkı ise, yukarıda yeniden bir model kuruyoruz aslında,\n",
    "# Lakin bu kod satırında ise daha önceden kurduğumuz model nesnesinin içerisine \n",
    "# yeniden bir hiper parametre gönderiyoruz."
   ]
  },
  {
   "attachments": {},
   "cell_type": "markdown",
   "metadata": {},
   "source": [
    "    Peki neden bu farkı bilmeliyiz?\n",
    "\n",
    "İleride yapacağımız işlemlerde hiper parametre optimizasyonu gibi işlemleri otomatize etmeyi göreceğiz. Bu sebeple burası bizim için önemli ve bilmemiz gereken bir farktır."
   ]
  },
  {
   "cell_type": "code",
   "execution_count": 38,
   "metadata": {},
   "outputs": [],
   "source": [
    "# Şimdi final model üzerinden 5 katlı bir cross validation yapalım;\n",
    "\n",
    "cv_results = cross_validate(cart_final,\n",
    "                            X, y,\n",
    "                            cv=5,\n",
    "                            scoring=[\"accuracy\", \"f1\", \"roc_auc\"])"
   ]
  },
  {
   "cell_type": "code",
   "execution_count": 39,
   "metadata": {},
   "outputs": [
    {
     "data": {
      "text/plain": [
       "0.7500806383159324"
      ]
     },
     "execution_count": 39,
     "metadata": {},
     "output_type": "execute_result"
    }
   ],
   "source": [
    "# Final modelin test accuracy ortalamalarına bakalım;\n",
    "cv_results['test_accuracy'].mean()"
   ]
  },
  {
   "cell_type": "code",
   "execution_count": 40,
   "metadata": {},
   "outputs": [
    {
     "data": {
      "text/plain": [
       "0.614625004082526"
      ]
     },
     "execution_count": 40,
     "metadata": {},
     "output_type": "execute_result"
    }
   ],
   "source": [
    "# Final modelin f1 skoru ortalamalarına bakalım;\n",
    "cv_results['test_f1'].mean()"
   ]
  },
  {
   "cell_type": "code",
   "execution_count": 41,
   "metadata": {},
   "outputs": [
    {
     "data": {
      "text/plain": [
       "0.797796645702306"
      ]
     },
     "execution_count": 41,
     "metadata": {},
     "output_type": "execute_result"
    }
   ],
   "source": [
    "# Final modelin AUC değeri ortalamalarına bakalım;\n",
    "cv_results['test_roc_auc'].mean()"
   ]
  },
  {
   "attachments": {},
   "cell_type": "markdown",
   "metadata": {},
   "source": [
    "    Peki bu hiper parametre optimizasyonu işe yaradı mı?\n",
    "\n",
    "Bunun için hiper parametre optimizasyonu yapmadan önceki model çıktılarını kıyaslayalım."
   ]
  },
  {
   "cell_type": "code",
   "execution_count": 42,
   "metadata": {},
   "outputs": [],
   "source": [
    "# cv_results['test_accuracy'].mean()\n",
    "# 0.7058568882098294\n",
    "# cv_results['test_f1'].mean()\n",
    "# 0.5710621194523633\n",
    "# cv_results['test_roc_auc'].mean()\n",
    "# 0.6719440950384347"
   ]
  },
  {
   "attachments": {},
   "cell_type": "markdown",
   "metadata": {},
   "source": [
    "    Evet hiper parametre optimizasyonu işe yaramış gibi gözüküyor.\n",
    "    Optimizasyon yaptıktan sonra;\n",
    "    \n",
    "            accuracy 0.70'ten 0.75'e çıkmış,\n",
    "            f1 skoru 0.57'den 0.61'e çıkmış,\n",
    "            AUC değeri ise 0.67'den 0.79'a çıkmıştır."
   ]
  },
  {
   "cell_type": "code",
   "execution_count": 43,
   "metadata": {},
   "outputs": [
    {
     "data": {
      "text/plain": [
       "array([0.01129738, 0.49448119, 0.05065617, 0.        , 0.01497644,\n",
       "       0.22221379, 0.06819923, 0.13817579])"
      ]
     },
     "execution_count": 43,
     "metadata": {},
     "output_type": "execute_result"
    }
   ],
   "source": [
    "################################################\n",
    "# 6. Feature Importance\n",
    "################################################\n",
    "\n",
    "# Hangi değişkenin modele ne kadar katkı sağladığını görmek istersek;\n",
    "cart_final.feature_importances_"
   ]
  },
  {
   "attachments": {},
   "cell_type": "markdown",
   "metadata": {},
   "source": [
    "Yukarıdaki çıktıyı anlamak biraz zor gibi geliyor. Aslında her bir değişkenin sırasıyla önem sırasını ifade ediyor. Lakin biz bunu daha güzel ifade etmek istiyoruz."
   ]
  },
  {
   "cell_type": "code",
   "execution_count": 44,
   "metadata": {},
   "outputs": [],
   "source": [
    "# Bu ifadeyi güzelleştirmek için bir fonksiyon tanımlayalım;\n",
    "\n",
    "def plot_importance(model, features, num=len(X), save=False):\n",
    "    feature_imp = pd.DataFrame({'Value': model.feature_importances_, 'Feature': features.columns})\n",
    "    plt.figure(figsize=(10, 10))\n",
    "    sns.set(font_scale=1)\n",
    "    sns.barplot(x=\"Value\", y=\"Feature\", data=feature_imp.sort_values(by=\"Value\",\n",
    "                                                                     ascending=False)[0:num])\n",
    "    plt.title('Features')\n",
    "    plt.tight_layout()\n",
    "    plt.show()\n",
    "    if save:\n",
    "        plt.savefig('importances.png')"
   ]
  },
  {
   "cell_type": "code",
   "execution_count": 45,
   "metadata": {},
   "outputs": [
    {
     "data": {
      "image/png": "[encoded data removed]",
      "text/plain": [
       "<Figure size 1000x1000 with 1 Axes>"
      ]
     },
     "metadata": {},
     "output_type": "display_data"
    }
   ],
   "source": [
    "# modelimizin feature önem düzeylerine bakalım;\n",
    "# \"num=\" argümanı ise en önemli kaç argümanı göstereceğini söylüyoruz.\n",
    "\n",
    "plot_importance(cart_final, X)"
   ]
  },
  {
   "cell_type": "code",
   "execution_count": 46,
   "metadata": {},
   "outputs": [],
   "source": [
    "################################################\n",
    "# 7. Analyzing Model Complexity with Learning Curves (BONUS)\n",
    "################################################\n",
    "\n",
    "# Makine öğrenmesinin temel kavramlar kısmında model karmaşıklığından bahsetmiştik. Nedir bu model karmaşıklığı?\n",
    "# Hatırlayalım..."
   ]
  },
  {
   "attachments": {},
   "cell_type": "markdown",
   "metadata": {},
   "source": [
    "    Model kurmak bağımlı ve bağımsız değişkenler arasındaki ilişkiyi ve bu ilişkinin anlamını çıkartmaktır. Bu durumda modelimizden veriyi ezberlemesini (veriyi aşırı öğrenmesini) değil, verinin yapısını öğrenmesini bekleriz.\n",
    "\n",
    "    Aşırı öğrenme sorunu eğitim seti ve test setinin, model karmaşıklığı ve tahmin hatası çerçevesinde birlikte değerlendirilmesiyle tespit edilebilir. Eğitim seti ve Test setindeki hata değişimleri incelenir.\n",
    "\n",
    "<p align=\"center\">\n",
    "  <img src=\"grafikler/asiri_ogrenme.png\" height=250 >\n",
    "</p>\n",
    "\n",
    "İki hatanın birbirinden ayrılmaya başladığı nokta (çatallanmanın başladığı nokta) itibariyle aşırı öğrenme başlamıştır demektir. Aşırı öğrenmenin önüne nasıl geçilir sorusunun yanıtı bu noktada aranır. Bu noktada hiper parametreler üzerinde değişiklikler yaparak aşırı öğrenmenin önüne geçilir."
   ]
  },
  {
   "cell_type": "code",
   "execution_count": 48,
   "metadata": {},
   "outputs": [],
   "source": [
    "# Model karmaşıklığını inceleyebilmek için \"validation_curve()\" fonksiyonunu kullanacağız.\n",
    "# \"validation_curve()\" fonksiyonu ile değiştirmek istediğimiz hiper parametreleri seçebiliriz.\n",
    "# Seçtiğimiz hiper parametrelerin denenecek değerlerini ifade ederiz.\n",
    "# Daha sonrasında istediğimiz bir başarı değerlendirme metriğine göre yorumlamasını yaparız.\n",
    "\n",
    "train_score, test_score = validation_curve(cart_final, X, y,\n",
    "                                           param_name=\"max_depth\",\n",
    "                                           param_range=range(1, 16),\n",
    "                                           scoring=\"roc_auc\",\n",
    "                                           cv=10)\n",
    "\n",
    "# \"validation_curve()\" fonksiyonunun içerisine ilk önce model nesnemizi gönderiyoruz.\n",
    "# Daha sonrasında bağımsız ve bağımlı değişkenlerimizi gönderiyoruz.\n",
    "# Bakılacak hiper parametreyi ifade ediyoruz.\n",
    "# Hiper parametrenin alacağı değerleri söylüyoruz.\n",
    "# Hangi başarı metriğine göre değerlendirme istediğimizi ifade ediyoruz.\n",
    "# Kaç katlı bir cross validation yapılmasını istediğimizi ifade ediyoruz."
   ]
  },
  {
   "cell_type": "code",
   "execution_count": 57,
   "metadata": {},
   "outputs": [
    {
     "name": "stdout",
     "output_type": "stream",
     "text": [
      "[[0.72320885 0.72306132 0.68555095 0.72350392 0.71698479 0.7011941\n",
      "  0.66131397 0.71142923 0.71549128 0.71120294]\n",
      " [0.7987598  0.79874136 0.76659751 0.8000461  0.80217151 0.77901798\n",
      "  0.76472568 0.79175657 0.80145087 0.79440771]\n",
      " [0.84255417 0.84810512 0.82195943 0.84559705 0.8434532  0.81859843\n",
      "  0.82218534 0.83455048 0.8413315  0.84593664]\n",
      " [0.8834947  0.88264638 0.86355002 0.88926233 0.88226372 0.87104195\n",
      "  0.86404334 0.87285846 0.87436639 0.87684114]\n",
      " [0.91531581 0.9138497  0.89976487 0.92513601 0.91451821 0.90380821\n",
      "  0.88505302 0.90792531 0.91068411 0.90586318]\n",
      " [0.94068234 0.94559244 0.92840479 0.94609959 0.94535731 0.9309728\n",
      "  0.91167819 0.93286307 0.94030303 0.93088154]\n",
      " [0.96760258 0.96744583 0.95147533 0.96842785 0.96832181 0.95850161\n",
      "  0.93983864 0.96071    0.96145546 0.95757576]\n",
      " [0.97867681 0.98590595 0.97366067 0.98507146 0.98053481 0.9728308\n",
      "  0.95985247 0.97829414 0.98042241 0.97642792]\n",
      " [0.99069617 0.99204703 0.98704472 0.99204703 0.98892577 0.98575841\n",
      "  0.97496542 0.98844168 0.98833792 0.9898944 ]\n",
      " [0.99497003 0.99533887 0.99343937 0.99477639 0.99300599 0.99209774\n",
      "  0.98784232 0.99456893 0.9943067  0.9956382 ]\n",
      " [0.99704933 0.99719225 0.99633472 0.99691102 0.99609497 0.99514523\n",
      "  0.9939834  0.99658368 0.99740129 0.99796143]\n",
      " [0.99852006 0.99764408 0.99680498 0.99788843 0.99790687 0.9957077\n",
      "  0.9977455  0.99765791 0.99849403 0.9989348 ]\n",
      " [0.99852006 0.99809129 0.99700784 0.9982757  0.99842785 0.99655602\n",
      "  0.99846473 0.99881512 0.99849403 0.99893939]\n",
      " [0.99852006 0.9982757  0.99721992 0.99852006 0.99857538 0.99735362\n",
      "  0.99886584 0.99881512 0.99849403 0.99913223]\n",
      " [0.99852006 0.9982757  0.99721992 0.99852006 0.99857538 0.99742739\n",
      "  0.99886584 0.99881512 0.99849403 0.99913223]]\n",
      "\n",
      "\n",
      "15\n",
      "10\n"
     ]
    }
   ],
   "source": [
    "# Train skorlarımıza bakalım;\n",
    "\n",
    "print(train_score, end=\"\\n\\n\\n\")\n",
    "print(len(train_score))\n",
    "print(len(train_score[0]))\n",
    "\n",
    "# Aşağıda train skorlarımızı, \"15\" ve \"10\" sayılarını görüyoruz.\n",
    "# Train skorun içerisinde 15 tane array bulunmaktadır. \n",
    "# Bu 15 array, yukarıda 15 adet hiper parametre denenmesini söylemiştik. Denenen hiper parametre sonuçlarını söylüyor.\n",
    "\n",
    "# 10 sayısı ise \"10 Katlı CV\" istediğimiz iin her bir validasyon için olan ROC skorlarını ifade ediyor.\n",
    "\n",
    "# Yani yukarıdan da hareketle; 1. array'in ilk değeri, max_depth = 1 ve 1. CV için hesaplanan AUC değeridir."
   ]
  },
  {
   "cell_type": "code",
   "execution_count": 58,
   "metadata": {},
   "outputs": [
    {
     "name": "stdout",
     "output_type": "stream",
     "text": [
      "[[0.64777778 0.64925926 0.68074074 0.64481481 0.64222222 0.68481481\n",
      "  0.63666667 0.75333333 0.71692308 0.75615385]\n",
      " [0.73407407 0.74888889 0.73555556 0.71592593 0.61703704 0.77777778\n",
      "  0.70481481 0.82555556 0.74615385 0.80038462]\n",
      " [0.78407407 0.81333333 0.77222222 0.68296296 0.69296296 0.82925926\n",
      "  0.79259259 0.85814815 0.72615385 0.80807692]\n",
      " [0.76481481 0.81148148 0.74962963 0.60740741 0.70888889 0.82111111\n",
      "  0.83851852 0.87333333 0.77038462 0.81961538]\n",
      " [0.73444444 0.78666667 0.76333333 0.60037037 0.71925926 0.84814815\n",
      "  0.80074074 0.88296296 0.75730769 0.81769231]\n",
      " [0.72814815 0.77962963 0.7462963  0.59481481 0.76259259 0.82740741\n",
      "  0.81592593 0.83185185 0.76038462 0.77692308]\n",
      " [0.74222222 0.77888889 0.75222222 0.54296296 0.71851852 0.75444444\n",
      "  0.82481481 0.8462963  0.67346154 0.76961538]\n",
      " [0.71481481 0.7137037  0.75222222 0.54148148 0.63851852 0.75259259\n",
      "  0.81222222 0.74555556 0.68538462 0.78076923]\n",
      " [0.69185185 0.69851852 0.72296296 0.52407407 0.62185185 0.7262963\n",
      "  0.82111111 0.78037037 0.70076923 0.70884615]\n",
      " [0.63592593 0.70814815 0.74185185 0.5362963  0.64407407 0.7162963\n",
      "  0.82111111 0.75296296 0.62653846 0.74      ]\n",
      " [0.63518519 0.73777778 0.7062963  0.54814815 0.62111111 0.7462963\n",
      "  0.82740741 0.79       0.6        0.74615385]\n",
      " [0.60777778 0.70111111 0.69111111 0.56518519 0.65148148 0.72\n",
      "  0.79962963 0.78074074 0.56423077 0.74615385]\n",
      " [0.60777778 0.70925926 0.66407407 0.53814815 0.65222222 0.71333333\n",
      "  0.79962963 0.78296296 0.56423077 0.73      ]\n",
      " [0.60777778 0.74111111 0.67555556 0.55555556 0.64592593 0.73\n",
      "  0.78259259 0.78296296 0.56423077 0.71692308]\n",
      " [0.60777778 0.74111111 0.67555556 0.55555556 0.64592593 0.71481481\n",
      "  0.78259259 0.78296296 0.56423077 0.71692308]]\n",
      "\n",
      "\n",
      "15\n",
      "10\n"
     ]
    }
   ],
   "source": [
    "# Test skorlarımıza bakalım;\n",
    "\n",
    "print(test_score, end=\"\\n\\n\\n\")\n",
    "print(len(test_score))\n",
    "print(len(test_score[0]))\n",
    "\n",
    "# Yukarıda aldığımız notlar test seti için de geçerlidir."
   ]
  },
  {
   "attachments": {},
   "cell_type": "markdown",
   "metadata": {},
   "source": [
    "    Şimdi bu denenen değerlerin, AUC değerleri ortalamasın bakacağız. Zira 1 CV'ye ait AUC değeri bize pek de bir şey ifade etmemektedir."
   ]
  },
  {
   "cell_type": "code",
   "execution_count": 62,
   "metadata": {},
   "outputs": [
    {
     "data": {
      "text/plain": [
       "array([0.70729413, 0.78976751, 0.83642714, 0.87603684, 0.90819184,\n",
       "       0.93528351, 0.96013549, 0.97716774, 0.98781586, 0.99359846,\n",
       "       0.99646573, 0.99773044, 0.9981592 , 0.9983772 , 0.99838457])"
      ]
     },
     "execution_count": 62,
     "metadata": {},
     "output_type": "execute_result"
    }
   ],
   "source": [
    "mean_train_score = np.mean(train_score, axis=1)\n",
    "mean_train_score\n",
    "\n",
    "# Aşağıda 15 değer olduğunu görüyoruz, zira denenen 15 farklı değerin hatalarının ortalamasına bakıyoruz.\n",
    "# Yukarıda da \"axis=1\" değeri girdik. Bunu bir aşağıda açıklayalım."
   ]
  },
  {
   "attachments": {},
   "cell_type": "markdown",
   "metadata": {},
   "source": [
    "##### Açıklama Başlangıcı"
   ]
  },
  {
   "cell_type": "code",
   "execution_count": 64,
   "metadata": {},
   "outputs": [
    {
     "data": {
      "text/html": [
       "<div>\n",
       "<style scoped>\n",
       "    .dataframe tbody tr th:only-of-type {\n",
       "        vertical-align: middle;\n",
       "    }\n",
       "\n",
       "    .dataframe tbody tr th {\n",
       "        vertical-align: top;\n",
       "    }\n",
       "\n",
       "    .dataframe thead th {\n",
       "        text-align: right;\n",
       "    }\n",
       "</style>\n",
       "<table border=\"1\" class=\"dataframe\">\n",
       "  <thead>\n",
       "    <tr style=\"text-align: right;\">\n",
       "      <th></th>\n",
       "      <th>0</th>\n",
       "      <th>1</th>\n",
       "      <th>2</th>\n",
       "      <th>3</th>\n",
       "      <th>4</th>\n",
       "      <th>5</th>\n",
       "      <th>6</th>\n",
       "      <th>7</th>\n",
       "      <th>8</th>\n",
       "      <th>9</th>\n",
       "    </tr>\n",
       "  </thead>\n",
       "  <tbody>\n",
       "    <tr>\n",
       "      <th>0</th>\n",
       "      <td>0.723209</td>\n",
       "      <td>0.723061</td>\n",
       "      <td>0.685551</td>\n",
       "      <td>0.723504</td>\n",
       "      <td>0.716985</td>\n",
       "      <td>0.701194</td>\n",
       "      <td>0.661314</td>\n",
       "      <td>0.711429</td>\n",
       "      <td>0.715491</td>\n",
       "      <td>0.711203</td>\n",
       "    </tr>\n",
       "    <tr>\n",
       "      <th>1</th>\n",
       "      <td>0.798760</td>\n",
       "      <td>0.798741</td>\n",
       "      <td>0.766598</td>\n",
       "      <td>0.800046</td>\n",
       "      <td>0.802172</td>\n",
       "      <td>0.779018</td>\n",
       "      <td>0.764726</td>\n",
       "      <td>0.791757</td>\n",
       "      <td>0.801451</td>\n",
       "      <td>0.794408</td>\n",
       "    </tr>\n",
       "    <tr>\n",
       "      <th>2</th>\n",
       "      <td>0.842554</td>\n",
       "      <td>0.848105</td>\n",
       "      <td>0.821959</td>\n",
       "      <td>0.845597</td>\n",
       "      <td>0.843453</td>\n",
       "      <td>0.818598</td>\n",
       "      <td>0.822185</td>\n",
       "      <td>0.834550</td>\n",
       "      <td>0.841331</td>\n",
       "      <td>0.845937</td>\n",
       "    </tr>\n",
       "    <tr>\n",
       "      <th>3</th>\n",
       "      <td>0.883495</td>\n",
       "      <td>0.882646</td>\n",
       "      <td>0.863550</td>\n",
       "      <td>0.889262</td>\n",
       "      <td>0.882264</td>\n",
       "      <td>0.871042</td>\n",
       "      <td>0.864043</td>\n",
       "      <td>0.872858</td>\n",
       "      <td>0.874366</td>\n",
       "      <td>0.876841</td>\n",
       "    </tr>\n",
       "    <tr>\n",
       "      <th>4</th>\n",
       "      <td>0.915316</td>\n",
       "      <td>0.913850</td>\n",
       "      <td>0.899765</td>\n",
       "      <td>0.925136</td>\n",
       "      <td>0.914518</td>\n",
       "      <td>0.903808</td>\n",
       "      <td>0.885053</td>\n",
       "      <td>0.907925</td>\n",
       "      <td>0.910684</td>\n",
       "      <td>0.905863</td>\n",
       "    </tr>\n",
       "    <tr>\n",
       "      <th>5</th>\n",
       "      <td>0.940682</td>\n",
       "      <td>0.945592</td>\n",
       "      <td>0.928405</td>\n",
       "      <td>0.946100</td>\n",
       "      <td>0.945357</td>\n",
       "      <td>0.930973</td>\n",
       "      <td>0.911678</td>\n",
       "      <td>0.932863</td>\n",
       "      <td>0.940303</td>\n",
       "      <td>0.930882</td>\n",
       "    </tr>\n",
       "    <tr>\n",
       "      <th>6</th>\n",
       "      <td>0.967603</td>\n",
       "      <td>0.967446</td>\n",
       "      <td>0.951475</td>\n",
       "      <td>0.968428</td>\n",
       "      <td>0.968322</td>\n",
       "      <td>0.958502</td>\n",
       "      <td>0.939839</td>\n",
       "      <td>0.960710</td>\n",
       "      <td>0.961455</td>\n",
       "      <td>0.957576</td>\n",
       "    </tr>\n",
       "    <tr>\n",
       "      <th>7</th>\n",
       "      <td>0.978677</td>\n",
       "      <td>0.985906</td>\n",
       "      <td>0.973661</td>\n",
       "      <td>0.985071</td>\n",
       "      <td>0.980535</td>\n",
       "      <td>0.972831</td>\n",
       "      <td>0.959852</td>\n",
       "      <td>0.978294</td>\n",
       "      <td>0.980422</td>\n",
       "      <td>0.976428</td>\n",
       "    </tr>\n",
       "    <tr>\n",
       "      <th>8</th>\n",
       "      <td>0.990696</td>\n",
       "      <td>0.992047</td>\n",
       "      <td>0.987045</td>\n",
       "      <td>0.992047</td>\n",
       "      <td>0.988926</td>\n",
       "      <td>0.985758</td>\n",
       "      <td>0.974965</td>\n",
       "      <td>0.988442</td>\n",
       "      <td>0.988338</td>\n",
       "      <td>0.989894</td>\n",
       "    </tr>\n",
       "    <tr>\n",
       "      <th>9</th>\n",
       "      <td>0.994970</td>\n",
       "      <td>0.995339</td>\n",
       "      <td>0.993439</td>\n",
       "      <td>0.994776</td>\n",
       "      <td>0.993006</td>\n",
       "      <td>0.992098</td>\n",
       "      <td>0.987842</td>\n",
       "      <td>0.994569</td>\n",
       "      <td>0.994307</td>\n",
       "      <td>0.995638</td>\n",
       "    </tr>\n",
       "    <tr>\n",
       "      <th>10</th>\n",
       "      <td>0.997049</td>\n",
       "      <td>0.997192</td>\n",
       "      <td>0.996335</td>\n",
       "      <td>0.996911</td>\n",
       "      <td>0.996095</td>\n",
       "      <td>0.995145</td>\n",
       "      <td>0.993983</td>\n",
       "      <td>0.996584</td>\n",
       "      <td>0.997401</td>\n",
       "      <td>0.997961</td>\n",
       "    </tr>\n",
       "    <tr>\n",
       "      <th>11</th>\n",
       "      <td>0.998520</td>\n",
       "      <td>0.997644</td>\n",
       "      <td>0.996805</td>\n",
       "      <td>0.997888</td>\n",
       "      <td>0.997907</td>\n",
       "      <td>0.995708</td>\n",
       "      <td>0.997746</td>\n",
       "      <td>0.997658</td>\n",
       "      <td>0.998494</td>\n",
       "      <td>0.998935</td>\n",
       "    </tr>\n",
       "    <tr>\n",
       "      <th>12</th>\n",
       "      <td>0.998520</td>\n",
       "      <td>0.998091</td>\n",
       "      <td>0.997008</td>\n",
       "      <td>0.998276</td>\n",
       "      <td>0.998428</td>\n",
       "      <td>0.996556</td>\n",
       "      <td>0.998465</td>\n",
       "      <td>0.998815</td>\n",
       "      <td>0.998494</td>\n",
       "      <td>0.998939</td>\n",
       "    </tr>\n",
       "    <tr>\n",
       "      <th>13</th>\n",
       "      <td>0.998520</td>\n",
       "      <td>0.998276</td>\n",
       "      <td>0.997220</td>\n",
       "      <td>0.998520</td>\n",
       "      <td>0.998575</td>\n",
       "      <td>0.997354</td>\n",
       "      <td>0.998866</td>\n",
       "      <td>0.998815</td>\n",
       "      <td>0.998494</td>\n",
       "      <td>0.999132</td>\n",
       "    </tr>\n",
       "    <tr>\n",
       "      <th>14</th>\n",
       "      <td>0.998520</td>\n",
       "      <td>0.998276</td>\n",
       "      <td>0.997220</td>\n",
       "      <td>0.998520</td>\n",
       "      <td>0.998575</td>\n",
       "      <td>0.997427</td>\n",
       "      <td>0.998866</td>\n",
       "      <td>0.998815</td>\n",
       "      <td>0.998494</td>\n",
       "      <td>0.999132</td>\n",
       "    </tr>\n",
       "  </tbody>\n",
       "</table>\n",
       "</div>"
      ],
      "text/plain": [
       "           0         1         2         3         4         5         6         7         8         9\n",
       "0   0.723209  0.723061  0.685551  0.723504  0.716985  0.701194  0.661314  0.711429  0.715491  0.711203\n",
       "1   0.798760  0.798741  0.766598  0.800046  0.802172  0.779018  0.764726  0.791757  0.801451  0.794408\n",
       "2   0.842554  0.848105  0.821959  0.845597  0.843453  0.818598  0.822185  0.834550  0.841331  0.845937\n",
       "3   0.883495  0.882646  0.863550  0.889262  0.882264  0.871042  0.864043  0.872858  0.874366  0.876841\n",
       "4   0.915316  0.913850  0.899765  0.925136  0.914518  0.903808  0.885053  0.907925  0.910684  0.905863\n",
       "5   0.940682  0.945592  0.928405  0.946100  0.945357  0.930973  0.911678  0.932863  0.940303  0.930882\n",
       "6   0.967603  0.967446  0.951475  0.968428  0.968322  0.958502  0.939839  0.960710  0.961455  0.957576\n",
       "7   0.978677  0.985906  0.973661  0.985071  0.980535  0.972831  0.959852  0.978294  0.980422  0.976428\n",
       "8   0.990696  0.992047  0.987045  0.992047  0.988926  0.985758  0.974965  0.988442  0.988338  0.989894\n",
       "9   0.994970  0.995339  0.993439  0.994776  0.993006  0.992098  0.987842  0.994569  0.994307  0.995638\n",
       "10  0.997049  0.997192  0.996335  0.996911  0.996095  0.995145  0.993983  0.996584  0.997401  0.997961\n",
       "11  0.998520  0.997644  0.996805  0.997888  0.997907  0.995708  0.997746  0.997658  0.998494  0.998935\n",
       "12  0.998520  0.998091  0.997008  0.998276  0.998428  0.996556  0.998465  0.998815  0.998494  0.998939\n",
       "13  0.998520  0.998276  0.997220  0.998520  0.998575  0.997354  0.998866  0.998815  0.998494  0.999132\n",
       "14  0.998520  0.998276  0.997220  0.998520  0.998575  0.997427  0.998866  0.998815  0.998494  0.999132"
      ]
     },
     "execution_count": 64,
     "metadata": {},
     "output_type": "execute_result"
    }
   ],
   "source": [
    "# Train skorumuzu df olarak görseydik aşağıdaki gibi görürdük;\n",
    "\n",
    "pd.DataFrame(train_score)"
   ]
  },
  {
   "attachments": {},
   "cell_type": "markdown",
   "metadata": {},
   "source": [
    "Satırlar 15 farklı hiper parametre değerini ifade ederken, sütunlar ise 10 katlı CV'den kaynaklanan AUC değerlerini ifade etmektedir. Bizim ise sütun **ortalamasına değil**, satır ortalamasına ihtiyacımız vardır.\n",
    "\n",
    "<p align=\"center\">\n",
    "  <img src=\"grafikler/cart14.png\" height=250 >\n",
    "</p>\n",
    "\n",
    "##### Açıklama Bitişi"
   ]
  },
  {
   "cell_type": "code",
   "execution_count": 65,
   "metadata": {},
   "outputs": [],
   "source": [
    "# test skorları için de ortalamamızı alalım;\n",
    "\n",
    "mean_test_score = np.mean(test_score, axis=1)"
   ]
  },
  {
   "cell_type": "code",
   "execution_count": 66,
   "metadata": {},
   "outputs": [
    {
     "data": {
      "image/png": "[encoded data removed]",
      "text/plain": [
       "<Figure size 640x480 with 1 Axes>"
      ]
     },
     "metadata": {},
     "output_type": "display_data"
    }
   ],
   "source": [
    "# Şimdi bu veriyi görselleştirelim;\n",
    "\n",
    "plt.plot(range(1, 16), mean_train_score,\n",
    "         label=\"Training Score\", color='b')\n",
    "\n",
    "plt.plot(range(1, 16), mean_test_score,\n",
    "         label=\"Validation Score\", color='g')\n",
    "\n",
    "plt.title(\"Validation Curve for CART\")\n",
    "plt.xlabel(\"Number of max_depth\")\n",
    "plt.ylabel(\"AUC\")\n",
    "plt.tight_layout()\n",
    "plt.legend(loc='best')\n",
    "plt.show()\n",
    "\n",
    "# Yukarıda test skor'u, validation skor olarak isimlendirdik.\n",
    "# Bazı kaynaklarda bu şekilde adlandırılıyor. Aşinalık olması açısından burada da böyle ifade etmek istedik."
   ]
  },
  {
   "attachments": {},
   "cell_type": "markdown",
   "metadata": {},
   "source": [
    "Yukarıda görüldüğü üzere; \"max_depth\" 3'e kadar training ve validation skorlar birbirine paralel gidiyorken, sonrasında uzaklaşmaya başlıyorlar. Burada model train veri setini ezberlemeye başlarken, testte sorun yaşamaya başlıyor.\n",
    "\n",
    "    Lakin burada akıllara başka sorular geliyor. Biz daha önceden hiper parametre olarak 'max_depth'i 5 ve 'min_samples_split'i ise 4 olarak seçmiştik. Burada ise \"max_depth\" 3'ten sonra modelimizi aşırı öğrenmeye başlıyor olarak gözükmektedir. Biz model kurduğumuzda bütün değişkenleri birlikte (eş anlı) olarak değerlendiriyoruz. Yani maksimum derinliği tek başına değiştirdiğimizde bu çıktıyı görüyoruz ama maksimum derinliği \"3\", \"min_samples_split\"i 5 yaptığımız değere burada bakmıyoruz. Yani model karmaşıklığını tek bir hiper parametre üzerinden değerlendiriyoruz."
   ]
  },
  {
   "cell_type": "code",
   "execution_count": 67,
   "metadata": {},
   "outputs": [],
   "source": [
    "# Bu işlem için bir fonksiyon tanımlayalım;\n",
    "\n",
    "def val_curve_params(model, X, y, param_name, param_range, scoring=\"roc_auc\", cv=10):\n",
    "    train_score, test_score = validation_curve(\n",
    "        model, X=X, y=y, param_name=param_name, param_range=param_range, scoring=scoring, cv=cv)\n",
    "\n",
    "    mean_train_score = np.mean(train_score, axis=1)\n",
    "    mean_test_score = np.mean(test_score, axis=1)\n",
    "\n",
    "    plt.plot(param_range, mean_train_score,\n",
    "             label=\"Training Score\", color='b')\n",
    "\n",
    "    plt.plot(param_range, mean_test_score,\n",
    "             label=\"Validation Score\", color='g')\n",
    "\n",
    "    plt.title(f\"Validation Curve for {type(model).__name__}\")\n",
    "    plt.xlabel(f\"Number of {param_name}\")\n",
    "    plt.ylabel(f\"{scoring}\")\n",
    "    plt.tight_layout()\n",
    "    plt.legend(loc='best')\n",
    "    plt.show(block=True)"
   ]
  },
  {
   "cell_type": "code",
   "execution_count": 68,
   "metadata": {},
   "outputs": [
    {
     "data": {
      "image/png": "[encoded data removed]",
      "text/plain": [
       "<Figure size 640x480 with 1 Axes>"
      ]
     },
     "metadata": {},
     "output_type": "display_data"
    }
   ],
   "source": [
    "# Fonksiyonumuzu deneyelim;\n",
    "\n",
    "val_curve_params(cart_final, X, y, \"max_depth\", range(1, 11), scoring=\"f1\")"
   ]
  },
  {
   "attachments": {},
   "cell_type": "markdown",
   "metadata": {},
   "source": [
    "    F1 skoru açısından ise \"max_depth\" 4 olduktan sonra asıl kırılma başlıyor."
   ]
  },
  {
   "cell_type": "code",
   "execution_count": 69,
   "metadata": {},
   "outputs": [
    {
     "data": {
      "image/png": "[encoded data removed]",
      "text/plain": [
       "<Figure size 640x480 with 1 Axes>"
      ]
     },
     "metadata": {},
     "output_type": "display_data"
    },
    {
     "data": {
      "image/png": "[encoded data removed]",
      "text/plain": [
       "<Figure size 640x480 with 1 Axes>"
      ]
     },
     "metadata": {},
     "output_type": "display_data"
    }
   ],
   "source": [
    "# İki hiper parametre için model karmaşıklığı incelemek istersek;\n",
    "\n",
    "cart_val_params = [[\"max_depth\", range(1, 11)], [\"min_samples_split\", range(2, 20)]]\n",
    "\n",
    "for i in range(len(cart_val_params)):\n",
    "    val_curve_params(cart_model, X, y, cart_val_params[i][0], cart_val_params[i][1])"
   ]
  },
  {
   "attachments": {},
   "cell_type": "markdown",
   "metadata": {},
   "source": [
    "Yukarıdaki grafiği zaten bir önceki işlemden tanıyoruz.\n",
    "\n",
    "    II. Grafikte ise, ilgili dalda kaç değer kalmasını istediğimizi denedik."
   ]
  },
  {
   "cell_type": "code",
   "execution_count": 76,
   "metadata": {},
   "outputs": [],
   "source": [
    "################################################\n",
    "# 8. Visualizing the Decision Tree\n",
    "################################################\n",
    "\n",
    "# Burası açıklaması uzun bir kısımdır. Burayı direk kabul edip geçmekte fayda var. :)\n",
    "# Yine de araştırma yapmak isterseniz, aşağıdaki linkten faydalanabilir dokümantasyonu okuyabilirsiniz,\n",
    "# https://scikit-learn.org/stable/modules/generated/sklearn.tree.export_graphviz.html\n",
    "\n",
    "import graphviz\n",
    "\n",
    "def tree_graph(model, col_names, file_name):\n",
    "    tree_str = export_graphviz(model, feature_names=col_names, filled=True, out_file=None)\n",
    "    graph = pydotplus.graph_from_dot_data(tree_str)\n",
    "    graph.write_png(file_name)\n"
   ]
  },
  {
   "cell_type": "code",
   "execution_count": 78,
   "metadata": {},
   "outputs": [],
   "source": [
    "tree_graph(model=cart_final, col_names=X.columns, file_name=\"grafikler/cart_final.png\")"
   ]
  },
  {
   "attachments": {},
   "cell_type": "markdown",
   "metadata": {},
   "source": [
    "<p align=\"center\">\n",
    "  <img src=\"grafikler/cart_final.png\" >\n",
    "</p>"
   ]
  },
  {
   "attachments": {},
   "cell_type": "markdown",
   "metadata": {},
   "source": [
    "    Üzerinde çalıştığımız modelin görsel halidir."
   ]
  },
  {
   "cell_type": "code",
   "execution_count": 79,
   "metadata": {},
   "outputs": [
    {
     "name": "stdout",
     "output_type": "stream",
     "text": [
      "|--- Glucose <= 127.50\n",
      "|   |--- Age <= 28.50\n",
      "|   |   |--- BMI <= 45.40\n",
      "|   |   |   |--- BMI <= 30.95\n",
      "|   |   |   |   |--- Pregnancies <= 7.50\n",
      "|   |   |   |   |   |--- class: 0\n",
      "|   |   |   |   |--- Pregnancies >  7.50\n",
      "|   |   |   |   |   |--- class: 1\n",
      "|   |   |   |--- BMI >  30.95\n",
      "|   |   |   |   |--- DiabetesPedigreeFunction <= 0.50\n",
      "|   |   |   |   |   |--- class: 0\n",
      "|   |   |   |   |--- DiabetesPedigreeFunction >  0.50\n",
      "|   |   |   |   |   |--- class: 0\n",
      "|   |   |--- BMI >  45.40\n",
      "|   |   |   |--- BloodPressure <= 99.00\n",
      "|   |   |   |   |--- class: 1\n",
      "|   |   |   |--- BloodPressure >  99.00\n",
      "|   |   |   |   |--- class: 0\n",
      "|   |--- Age >  28.50\n",
      "|   |   |--- BMI <= 26.35\n",
      "|   |   |   |--- BMI <= 9.65\n",
      "|   |   |   |   |--- class: 1\n",
      "|   |   |   |--- BMI >  9.65\n",
      "|   |   |   |   |--- class: 0\n",
      "|   |   |--- BMI >  26.35\n",
      "|   |   |   |--- Glucose <= 99.50\n",
      "|   |   |   |   |--- Glucose <= 28.50\n",
      "|   |   |   |   |   |--- class: 1\n",
      "|   |   |   |   |--- Glucose >  28.50\n",
      "|   |   |   |   |   |--- class: 0\n",
      "|   |   |   |--- Glucose >  99.50\n",
      "|   |   |   |   |--- DiabetesPedigreeFunction <= 0.56\n",
      "|   |   |   |   |   |--- class: 0\n",
      "|   |   |   |   |--- DiabetesPedigreeFunction >  0.56\n",
      "|   |   |   |   |   |--- class: 1\n",
      "|--- Glucose >  127.50\n",
      "|   |--- BMI <= 29.95\n",
      "|   |   |--- Glucose <= 145.50\n",
      "|   |   |   |--- Insulin <= 132.50\n",
      "|   |   |   |   |--- BMI <= 28.15\n",
      "|   |   |   |   |   |--- class: 0\n",
      "|   |   |   |   |--- BMI >  28.15\n",
      "|   |   |   |   |   |--- class: 1\n",
      "|   |   |   |--- Insulin >  132.50\n",
      "|   |   |   |   |--- class: 0\n",
      "|   |   |--- Glucose >  145.50\n",
      "|   |   |   |--- Age <= 25.50\n",
      "|   |   |   |   |--- class: 0\n",
      "|   |   |   |--- Age >  25.50\n",
      "|   |   |   |   |--- Age <= 61.00\n",
      "|   |   |   |   |   |--- class: 1\n",
      "|   |   |   |   |--- Age >  61.00\n",
      "|   |   |   |   |   |--- class: 0\n",
      "|   |--- BMI >  29.95\n",
      "|   |   |--- Glucose <= 157.50\n",
      "|   |   |   |--- Age <= 30.50\n",
      "|   |   |   |   |--- BloodPressure <= 61.00\n",
      "|   |   |   |   |   |--- class: 1\n",
      "|   |   |   |   |--- BloodPressure >  61.00\n",
      "|   |   |   |   |   |--- class: 0\n",
      "|   |   |   |--- Age >  30.50\n",
      "|   |   |   |   |--- DiabetesPedigreeFunction <= 0.43\n",
      "|   |   |   |   |   |--- class: 1\n",
      "|   |   |   |   |--- DiabetesPedigreeFunction >  0.43\n",
      "|   |   |   |   |   |--- class: 1\n",
      "|   |   |--- Glucose >  157.50\n",
      "|   |   |   |--- Insulin <= 629.50\n",
      "|   |   |   |   |--- DiabetesPedigreeFunction <= 0.30\n",
      "|   |   |   |   |   |--- class: 1\n",
      "|   |   |   |   |--- DiabetesPedigreeFunction >  0.30\n",
      "|   |   |   |   |   |--- class: 1\n",
      "|   |   |   |--- Insulin >  629.50\n",
      "|   |   |   |   |--- class: 0\n",
      "\n"
     ]
    }
   ],
   "source": [
    "################################################\n",
    "# 9. Extracting Decision Rules\n",
    "################################################\n",
    "\n",
    "# Karar ağacının kurallarını çıkarmak istersek;\n",
    "\n",
    "tree_rules = export_text(cart_final, feature_names=list(X.columns))\n",
    "print(tree_rules)\n",
    "\n",
    "# Sol taraftaki çizgiler takip edilerek dallanmalar izlenebilir."
   ]
  },
  {
   "cell_type": "code",
   "execution_count": 80,
   "metadata": {},
   "outputs": [
    {
     "name": "stdout",
     "output_type": "stream",
     "text": [
      "(((((0 if x[0] <= 7.5 else 1) if x[5] <= 30.949999809265137 else 0 if x[6] <=\n",
      "    0.5005000084638596 else 0) if x[5] <= 45.39999961853027 else 1 if x[2] <=\n",
      "    99.0 else 0) if x[7] <= 28.5 else (1 if x[5] <= 9.649999618530273 else \n",
      "    0) if x[5] <= 26.350000381469727 else (1 if x[1] <= 28.5 else 0) if x[1\n",
      "    ] <= 99.5 else 0 if x[6] <= 0.5609999895095825 else 1) if x[1] <= 127.5\n",
      "     else (((0 if x[5] <= 28.149999618530273 else 1) if x[4] <= 132.5 else \n",
      "    0) if x[1] <= 145.5 else 0 if x[7] <= 25.5 else 1 if x[7] <= 61.0 else \n",
      "    0) if x[5] <= 29.949999809265137 else ((1 if x[2] <= 61.0 else 0) if x[\n",
      "    7] <= 30.5 else 1 if x[6] <= 0.4294999986886978 else 1) if x[1] <= \n",
      "    157.5 else (1 if x[6] <= 0.3004999905824661 else 1) if x[4] <= 629.5 else 0\n",
      "    )\n",
      "\n"
     ]
    }
   ],
   "source": [
    "################################################\n",
    "# 10. Extracting Python Codes of Decision Rules\n",
    "################################################\n",
    "\n",
    "# Karar kuralların PYTHON kodlarını çıkarmak istersek;\n",
    "\n",
    "print(skompile(cart_final.predict).to('python/code'))"
   ]
  },
  {
   "cell_type": "code",
   "execution_count": 81,
   "metadata": {},
   "outputs": [
    {
     "name": "stdout",
     "output_type": "stream",
     "text": [
      "SELECT CASE WHEN (x2 <= 127.5) THEN CASE WHEN (x8 <= 28.5) THEN CASE WHEN (x6 <= 45.39999961853027) THEN CASE WHEN (x6 <= 30.949999809265137) THEN CASE WHEN (x1 <= 7.5) THEN 0 ELSE 1 END ELSE 0 END ELSE CASE WHEN (x3 <= 99.0) THEN 1 ELSE 0 END END ELSE CASE WHEN (x6 <= 26.350000381469727) THEN CASE WHEN (x6 <= 9.649999618530273) THEN 1 ELSE 0 END ELSE CASE WHEN (x2 <= 99.5) THEN CASE WHEN (x2 <= 28.5) THEN 1 ELSE 0 END ELSE CASE WHEN (x7 <= 0.5609999895095825) THEN 0 ELSE 1 END END END END ELSE CASE WHEN (x6 <= 29.949999809265137) THEN CASE WHEN (x2 <= 145.5) THEN CASE WHEN (x5 <= 132.5) THEN CASE WHEN (x6 <= 28.149999618530273) THEN 0 ELSE 1 END ELSE 0 END ELSE CASE WHEN (x8 <= 25.5) THEN 0 ELSE CASE WHEN (x8 <= 61.0) THEN 1 ELSE 0 END END END ELSE CASE WHEN (x2 <= 157.5) THEN CASE WHEN (x8 <= 30.5) THEN CASE WHEN (x3 <= 61.0) THEN 1 ELSE 0 END ELSE 1 END ELSE CASE WHEN (x5 <= 629.5) THEN 1 ELSE 0 END END END END AS y \n",
      "FROM data\n"
     ]
    }
   ],
   "source": [
    "# Karar kuralların SQL kodlarını çıkarmak istersek;\n",
    "\n",
    "print(skompile(cart_final.predict).to('sqlalchemy/sqlite'))"
   ]
  },
  {
   "cell_type": "code",
   "execution_count": 82,
   "metadata": {},
   "outputs": [
    {
     "name": "stdout",
     "output_type": "stream",
     "text": [
      "A1=IF((x2<=127.5),IF((x ...418 chars skipped... ((x5<=629.5),1,0))))\n"
     ]
    }
   ],
   "source": [
    "# Karar kuralların EXCEL formüllerini çıkarmak istersek;\n",
    "\n",
    "print(skompile(cart_final.predict).to('excel'))"
   ]
  },
  {
   "attachments": {},
   "cell_type": "markdown",
   "metadata": {},
   "source": [
    "    Biz yukarda modelimizi oluşturduk lakin, daha sonrasında bu modeli canlı bir sisteme entegre etmek isteyebiliriz. Bu sebeple bu kodlara ihtiyacımız olabilir. Bu kodları çıkarmak istersek yukarıdaki kodları çalıştırırız."
   ]
  },
  {
   "cell_type": "code",
   "execution_count": 84,
   "metadata": {},
   "outputs": [
    {
     "data": {
      "text/plain": [
       "'1.0.2'"
      ]
     },
     "execution_count": 84,
     "metadata": {},
     "output_type": "execute_result"
    }
   ],
   "source": [
    "# sklearn '0.23.1' versiyonu ile de yapılabilir. Yukarıda bir hata alma ihtimaline karşın bundan bahsediyoruz.\n",
    "# pip install scikit-learn==0.23.1 ile bu version'u install edebilirsiniz.\n",
    "\n",
    "# Eğer ki biz kendi versiyonumuzu görmek istersek.\n",
    "\n",
    "import sklearn\n",
    "sklearn.__version__"
   ]
  },
  {
   "cell_type": "code",
   "execution_count": 85,
   "metadata": {},
   "outputs": [],
   "source": [
    "################################################\n",
    "# 11. Prediction using Python Codes\n",
    "################################################\n",
    "\n",
    "# Yukarıdaki pyhon kodunu fonksiyon içerisine tanımlarsak;\n",
    "\n",
    "def predict_with_rules(x):\n",
    "    return ((((((0 if x[6] <= 0.671999990940094 else 1 if x[6] <= 0.6864999830722809 else\n",
    "        0) if x[0] <= 7.5 else 1) if x[5] <= 30.949999809265137 else ((1 if x[5\n",
    "        ] <= 32.45000076293945 else 1 if x[3] <= 10.5 else 0) if x[2] <= 53.0 else\n",
    "        ((0 if x[1] <= 111.5 else 0 if x[2] <= 72.0 else 1 if x[3] <= 31.0 else\n",
    "        0) if x[2] <= 82.5 else 1) if x[4] <= 36.5 else 0) if x[6] <=\n",
    "        0.5005000084638596 else (0 if x[1] <= 88.5 else (((0 if x[0] <= 1.0 else\n",
    "        1) if x[1] <= 98.5 else 1) if x[6] <= 0.9269999861717224 else 0) if x[1\n",
    "        ] <= 116.0 else 0 if x[4] <= 166.0 else 1) if x[2] <= 69.0 else ((0 if\n",
    "        x[2] <= 79.0 else 0 if x[1] <= 104.5 else 1) if x[3] <= 5.5 else 0) if\n",
    "        x[6] <= 1.098000019788742 else 1) if x[5] <= 45.39999961853027 else 0 if\n",
    "        x[7] <= 22.5 else 1) if x[7] <= 28.5 else (1 if x[5] <=\n",
    "        9.649999618530273 else 0) if x[5] <= 26.350000381469727 else (1 if x[1] <=\n",
    "        28.5 else ((0 if x[0] <= 11.5 else 1 if x[5] <= 31.25 else 0) if x[1] <=\n",
    "        94.5 else (1 if x[5] <= 36.19999885559082 else 0) if x[1] <= 97.5 else\n",
    "        0) if x[6] <= 0.7960000038146973 else 0 if x[0] <= 3.0 else (1 if x[6] <=\n",
    "        0.9614999890327454 else 0) if x[3] <= 20.0 else 1) if x[1] <= 99.5 else\n",
    "        ((1 if x[5] <= 27.649999618530273 else 0 if x[0] <= 5.5 else (((1 if x[\n",
    "        0] <= 7.0 else 0) if x[1] <= 103.5 else 0) if x[1] <= 118.5 else 1) if\n",
    "        x[0] <= 9.0 else 0) if x[6] <= 0.19999999552965164 else ((0 if x[5] <=\n",
    "        36.14999961853027 else 1) if x[1] <= 113.0 else 1) if x[0] <= 1.5 else\n",
    "        (1 if x[6] <= 0.3620000034570694 else 1 if x[5] <= 30.050000190734863 else\n",
    "        0) if x[2] <= 67.0 else (((0 if x[6] <= 0.2524999976158142 else 1) if x\n",
    "        [1] <= 120.0 else 1 if x[6] <= 0.23899999260902405 else 1 if x[7] <=\n",
    "        30.5 else 0) if x[2] <= 83.0 else 0) if x[5] <= 34.45000076293945 else\n",
    "        1 if x[1] <= 101.0 else 0 if x[5] <= 43.10000038146973 else 1) if x[6] <=\n",
    "        0.5609999895095825 else ((0 if x[7] <= 34.5 else 1 if x[5] <=\n",
    "        33.14999961853027 else 0) if x[4] <= 120.5 else (1 if x[3] <= 47.5 else\n",
    "        0) if x[4] <= 225.0 else 0) if x[0] <= 6.5 else 1) if x[1] <= 127.5 else\n",
    "        (((((1 if x[1] <= 129.5 else ((1 if x[6] <= 0.5444999933242798 else 0) if\n",
    "        x[2] <= 56.0 else 0) if x[2] <= 71.0 else 1) if x[2] <= 73.0 else 0) if\n",
    "        x[5] <= 28.149999618530273 else (1 if x[1] <= 135.0 else 0) if x[3] <=\n",
    "        21.0 else 1) if x[4] <= 132.5 else 0) if x[1] <= 145.5 else 0 if x[7] <=\n",
    "        25.5 else ((0 if x[1] <= 151.0 else 1) if x[5] <= 27.09999942779541 else\n",
    "        ((1 if x[0] <= 6.5 else 0) if x[6] <= 0.3974999934434891 else 0) if x[2\n",
    "        ] <= 82.0 else 0) if x[7] <= 61.0 else 0) if x[5] <= 29.949999809265137\n",
    "         else ((1 if x[2] <= 61.0 else (((((0 if x[6] <= 0.18299999833106995 else\n",
    "        1) if x[0] <= 0.5 else 1 if x[5] <= 32.45000076293945 else 0) if x[2] <=\n",
    "        73.0 else 0) if x[0] <= 4.5 else 1 if x[6] <= 0.6169999837875366 else 0\n",
    "        ) if x[6] <= 1.1414999961853027 else 1) if x[5] <= 41.79999923706055 else\n",
    "        1 if x[6] <= 0.37299999594688416 else 1 if x[1] <= 142.5 else 0) if x[7\n",
    "        ] <= 30.5 else (((1 if x[6] <= 0.13649999350309372 else 0 if x[5] <=\n",
    "        32.45000076293945 else 1 if x[5] <= 33.05000114440918 else (0 if x[6] <=\n",
    "        0.25599999725818634 else (0 if x[1] <= 130.5 else 1) if x[0] <= 8.5 else\n",
    "        0) if x[0] <= 13.5 else 1) if x[2] <= 92.0 else 1) if x[5] <=\n",
    "        45.54999923706055 else 1) if x[6] <= 0.4294999986886978 else (1 if x[5] <=\n",
    "        40.05000114440918 else 0 if x[5] <= 40.89999961853027 else 1) if x[4] <=\n",
    "        333.5 else 1 if x[2] <= 64.0 else 0) if x[1] <= 157.5 else ((((1 if x[7\n",
    "        ] <= 25.5 else 0 if x[4] <= 87.5 else 1 if x[5] <= 45.60000038146973 else\n",
    "        0) if x[7] <= 37.5 else 1 if x[7] <= 56.5 else 0 if x[6] <=\n",
    "        0.22100000083446503 else 1) if x[6] <= 0.28849999606609344 else 0) if x\n",
    "        [6] <= 0.3004999905824661 else 1 if x[7] <= 44.0 else (0 if x[7] <=\n",
    "        51.0 else 1 if x[6] <= 1.1565000414848328 else 0) if x[0] <= 6.5 else 1\n",
    "        ) if x[4] <= 629.5 else 1 if x[6] <= 0.4124999940395355 else 0)"
   ]
  },
  {
   "cell_type": "code",
   "execution_count": 86,
   "metadata": {},
   "outputs": [
    {
     "data": {
      "text/plain": [
       "Index(['Pregnancies', 'Glucose', 'BloodPressure', 'SkinThickness', 'Insulin', 'BMI', 'DiabetesPedigreeFunction', 'Age'], dtype='object')"
      ]
     },
     "execution_count": 86,
     "metadata": {},
     "output_type": "execute_result"
    }
   ],
   "source": [
    "X.columns"
   ]
  },
  {
   "cell_type": "code",
   "execution_count": 87,
   "metadata": {},
   "outputs": [
    {
     "data": {
      "text/plain": [
       "0"
      ]
     },
     "execution_count": 87,
     "metadata": {},
     "output_type": "execute_result"
    }
   ],
   "source": [
    "x = [12, 13, 20, 23, 4, 55, 12, 7]\n",
    "\n",
    "predict_with_rules(x)\n",
    "\n",
    "# Tahmin sonucu diyabet değildir çıktı."
   ]
  },
  {
   "cell_type": "code",
   "execution_count": 88,
   "metadata": {},
   "outputs": [
    {
     "data": {
      "text/plain": [
       "1"
      ]
     },
     "execution_count": 88,
     "metadata": {},
     "output_type": "execute_result"
    }
   ],
   "source": [
    "x = [6, 148, 70, 35, 0, 30, 0.62, 50]\n",
    "\n",
    "predict_with_rules(x)\n",
    "\n",
    "# Tahmin sonucu diyabettir çıktı."
   ]
  },
  {
   "cell_type": "code",
   "execution_count": 89,
   "metadata": {},
   "outputs": [
    {
     "data": {
      "text/plain": [
       "['cart_final.pkl']"
      ]
     },
     "execution_count": 89,
     "metadata": {},
     "output_type": "execute_result"
    }
   ],
   "source": [
    "################################################\n",
    "# 12. Saving and Loading Model\n",
    "################################################\n",
    "\n",
    "# Bu bölümde makine ööğrenmesi modellerini kaydetme ve kaydedilen modelleri çağırma işlemi gerçekleştireceğiz.\n",
    "# Burada oluşturduğumuz model nesnesi saklayarak, \n",
    "# daha sonrasında saklamış olduğumuz model nesnesini çağırarak tahminde bulunmak istiyoruz.\n",
    "\n",
    "joblib.dump(cart_final, \"cart_final.pkl\")\n",
    "\n",
    "# Yukardaki kodu çalıştırdığımızda içinde bulundumuz dizine bir pkl dosyası oluşturur."
   ]
  },
  {
   "cell_type": "code",
   "execution_count": 90,
   "metadata": {},
   "outputs": [],
   "source": [
    "# Şimdi dizinden çağıralım bu modeli;\n",
    "\n",
    "cart_model_from_disc = joblib.load(\"cart_final.pkl\")"
   ]
  },
  {
   "cell_type": "code",
   "execution_count": 91,
   "metadata": {},
   "outputs": [
    {
     "data": {
      "text/plain": [
       "array([1])"
      ]
     },
     "execution_count": 91,
     "metadata": {},
     "output_type": "execute_result"
    }
   ],
   "source": [
    "x = [12, 13, 20, 23, 4, 55, 12, 7]\n",
    "\n",
    "# Şimdi yukarıdaki gözlem ile tahminde bulunallım;\n",
    "\n",
    "cart_model_from_disc.predict(pd.DataFrame(x).T)\n",
    "\n",
    "# Modelim diyabettir diye tahmin etti."
   ]
  },
  {
   "attachments": {},
   "cell_type": "markdown",
   "metadata": {},
   "source": [
    "Buradaki çabalarımız sonucundad bir model geliştirdik. Bu modeli;\n",
    "\n",
    "* bir başkasına gönderebilir,\n",
    "* bir sunucuda saklayabiliriz.\n",
    "\n",
    "Bir şekilde bu modele gözlem sorduğumuzda bize model sonucunda bir yanıt döner."
   ]
  }
 ],
 "metadata": {
  "kernelspec": {
   "display_name": "base",
   "language": "python",
   "name": "python3"
  },
  "language_info": {
   "codemirror_mode": {
    "name": "ipython",
    "version": 3
   },
   "file_extension": ".py",
   "mimetype": "text/x-python",
   "name": "python",
   "nbconvert_exporter": "python",
   "pygments_lexer": "ipython3",
   "version": "3.9.13"
  },
  "orig_nbformat": 4,
  "vscode": {
   "interpreter": {
    "hash": "9aacfdcc723ab9182f23d11dc6a46c787bfe07656d4548f94b1c6b5b014df5e2"
   }
  }
 },
 "nbformat": 4,
 "nbformat_minor": 2
}
