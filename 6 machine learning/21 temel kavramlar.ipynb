{
 "cells": [
  {
   "attachments": {},
   "cell_type": "markdown",
   "metadata": {},
   "source": [
    "# Makine Öğrenmesi"
   ]
  },
  {
   "attachments": {},
   "cell_type": "markdown",
   "metadata": {},
   "source": [
    "## Makine Öğrenmesi nedir?\n",
    "\n",
    "    Bilgisayarların insanlara benzer bir şekilde öğrenmesini sağlamak maksadıyla çeşitli algoritma ve tekniklerin geliştirilmesi için çalışılan bilimsel çalışma alanıdır."
   ]
  },
  {
   "attachments": {},
   "cell_type": "markdown",
   "metadata": {},
   "source": [
    "#### Değişken Türleri"
   ]
  },
  {
   "attachments": {},
   "cell_type": "markdown",
   "metadata": {},
   "source": [
    "<p align=\"center\">\n",
    "  <img src=\"grafikler/degisken_turleri.png\" height=200>\n",
    "</p>"
   ]
  },
  {
   "cell_type": "code",
   "execution_count": 1,
   "metadata": {},
   "outputs": [],
   "source": [
    "# Sayısal değişkenler; kesikli değişken ve sürekli değişken olarak ikiye ayrılır. \n",
    "\n",
    "\n",
    "# Sürekli Değişken\n",
    "\n",
    "# Belli bir değer aralığında sonsuz sayıda değer alabilen değişkenlerdir. \n",
    "# Sıcaklık, zaman, uzunluk, hacim, ağırlık, yükseklik gibi ölçülebilen ama sayılamayan değişkenlerdir.\n",
    "\n",
    "# Kesikli Değişken\n",
    "\n",
    "# Gözlemlere ait özelliklerin tam sayılarla ifade edildiği ve yalnızca belirli bir değer alan veri kümeleridir. \n",
    "# Bir sınıftaki öğrenci sayısı, bir üretim bandındaki ürün sayısı, giriş hatalarının sayısı gibi sayılabilir değişkenlerdir."
   ]
  },
  {
   "attachments": {},
   "cell_type": "markdown",
   "metadata": {},
   "source": [
    "## Makine Öğrenmesi nedir?"
   ]
  },
  {
   "attachments": {},
   "cell_type": "markdown",
   "metadata": {},
   "source": [
    "<p align=\"center\">\n",
    "  <img src=\"grafikler/ogrenme_turleri.png\" height=200>\n",
    "</p>"
   ]
  },
  {
   "cell_type": "code",
   "execution_count": 2,
   "metadata": {},
   "outputs": [],
   "source": [
    "# Makine öğrenmesinin temelinde 3 farklı öğrenme türü vardır.\n",
    "# Pratikte üzerinde en çok çalışılan alan denetimli öğrenme alanıdır."
   ]
  },
  {
   "attachments": {},
   "cell_type": "markdown",
   "metadata": {},
   "source": [
    "##### Denetimli Öğrenme\n",
    "\n",
    "    Veri setimizde label var ise; (label derken şunu kastediyor olacağız; bağımsız değişkenler sonucunda ortaya çıkan bir bağımlılık var ise) burada denetimli öğrenme problemine sahiptir.\n",
    "\n",
    "    Veri bilimciler algoritmalara; bağıntıları değerlendirmeleri için etiketlenmiş ve tanımlı veriler sağlar. Örnek verilerde algoritmanın hem girdi hem de çıktısı belirtilir. \n",
    "    \n",
    "    Örneğin, el yazısı içeren şekillerin görüntülerine açıklamalar eklenerek bu şekillerin hangi rakama karşılık geldiği belirtilir. Bir denetimli öğrenme sistemi, yeterli örnek verilmesi halinde her bir rakamla ilişkili piksel ve şekil kümelerini tanıyabilir. Bunun sonucunda 9 ile 4 veya 6 ile 8 gibi rakamları birbirinden güvenilir bir şekilde ayırt ederek elle yazılmış rakamları tanıyabilir."
   ]
  },
  {
   "cell_type": "code",
   "execution_count": 3,
   "metadata": {},
   "outputs": [],
   "source": [
    "##### Veri etiketleme nedir?\n",
    "\n",
    "# Veri etiketleme, girdi verilerini karşılık gelen tanımlı çıktı değerleriyle kategorilendirme sürecidir. \n",
    "# Denetimli öğrenme, etiketli eğitim verileri gerektirir.\n",
    "\n",
    "# Örneğin, milyonlarca elma ve muz görüntüsünün \"elma\" veya \"muz\" sözcüğüyle etiketlenmesi gerekecektir. \n",
    "# Bu işlem tamamlandığında makine öğrenimi uygulamaları bir meyve görüntüsü verildiğinde,\n",
    "# bu eğitim verilerini kullanarak meyvenin adını tahmin edebilir. \n",
    "\n",
    "# Ancak, milyonlarca yeni verinin etiketlenmesi zaman alan zorlu bir görevdir. "
   ]
  },
  {
   "attachments": {},
   "cell_type": "markdown",
   "metadata": {},
   "source": [
    "##### Denetimsiz Öğrenme\n",
    "\n",
    "    Veri setinde label yoksa, denetimsiz öğrenme problemidir.\n",
    "\n",
    "    Denetimsiz öğrenme algoritmaları, etiketsiz veriler kullanılarak eğitilir. Bu algoritmalar yeni verileri tarayarak girdiler ve önceden belirlenmiş çıktılar arasında anlamlı bağlantılar kurmaya çalışır. Düzenleri tespit edebilir ve verileri kategorilendirebilirler. \n",
    "    \n",
    "    Örneğin, denetimsiz algoritmalar farklı haber sitelerindeki haber yazılarını spor, suç vb. genel kategoriler altında gruplandırabilir. Bir yazıdaki anlamı ve duyguyu anlamak için doğal dil işleme araçlarını kullanırlar. \n",
    "    \n",
    "    Perakende sektöründe, denetimsiz öğrenme müşterilerin satın alma işlemlerinin düzenlerini tespit edebilir ve \"müşteri tereyağ satın alıyorsa büyük olasılıkla ekmek de satın alacaktır\" gibi veri analizi sonuçları sağlayabilir."
   ]
  },
  {
   "attachments": {},
   "cell_type": "markdown",
   "metadata": {},
   "source": [
    "##### Pekiştirmeli Öğrenme\n",
    "\n",
    "    Bunun için şöyle bir örnek verilebilir, boş bir oda olduğunu düşünelim ve bu oda içerinde bir robot olduğunu hayal edelim. Burada robotun görevi boş odadan kapıyı kullanarak çıkmak olsun. Bu robotun yapabileceği olası hamlelerde bir adım ileri, geri, sağa ve sola gitmek olsun. Bu robot deneme yanılma yoluyla odadan çıkmaya çalışıyor olsun ve başarısız olduğu herbir girişimden dolayı da cezalandırılıyor olsun. Bu şekilde deneme yanılma yoluyla yanlış yaptığı şeylerden pekiştire pekiştire, çarpa çarpa o kapıdan çıkmayı öğreniyor olacaktır. \n",
    "\n",
    "    Bir başka örnek ise otonom araçlardır. Bu araçlar önüne gelen engellere verebielceği reaksiyonlara sahiptir. Bu reaksiyonlar ile hızını arttırmayı, azaltmayı, sağa veya sola dönmeyi öğrenebilir.\n",
    "\n",
    "    Bir başka bakış açısıda şöyledir ki; pekiştirmeli öğrenme, algoritmanın geçmesi gereken farklı adımlara ödüllerin iliştirildiği bir yöntemdir. Dolayısıyla, modelin amacı mümkün olduğunca fazla ödül puanı biriktirerek nihai hedefe ulaşmaktır."
   ]
  },
  {
   "attachments": {},
   "cell_type": "markdown",
   "metadata": {},
   "source": [
    "## Problem Türleri\n",
    "\n",
    "İlgilendiğimiz makine öğrenmesi problemi **regresyon problemi** mi yoksa **sınıflandırma problemi** midir ona bakarız. Eğer ki bağımlı değişken sayısal ise problem **regresyon problemi,** eğer bağımlı değişken kategorik bir değişken ise problemimiz **sınıflandrıma problemidir.**"
   ]
  },
  {
   "attachments": {},
   "cell_type": "markdown",
   "metadata": {},
   "source": [
    "## Model Başarı Değerlendirme Yöntemleri\n",
    "\n",
    "Model sonucunda, modelimizin tahminleri ile gerçek değerler arasındaki farklar bize başarı değerlendirmesi açısından yardımcı olacaktır.\n",
    "\n",
    "    Bu yöntemleri inceleyecek olursak;\n",
    "        * MSE\n",
    "        * RMSE\n",
    "        * MAE metriklerine bakıyor olacağız.\n",
    "\n",
    "Bu yöntemler regresyon içindir."
   ]
  },
  {
   "attachments": {},
   "cell_type": "markdown",
   "metadata": {},
   "source": [
    "<p align=\"center\">\n",
    "  <img src=\"grafikler/model_basari_degerlendirme.png\"  height=300>\n",
    "</p>"
   ]
  },
  {
   "attachments": {},
   "cell_type": "markdown",
   "metadata": {},
   "source": [
    "    Sınıflandırma modellerinde ise başarı değerlendirmesi ise accuracy ile yapılır. "
   ]
  },
  {
   "attachments": {},
   "cell_type": "markdown",
   "metadata": {},
   "source": [
    "<p align=\"center\">\n",
    "  <img src=\"grafikler/accuracy.png\" >\n",
    "</p>"
   ]
  },
  {
   "attachments": {},
   "cell_type": "markdown",
   "metadata": {},
   "source": [
    "## Model Doğrulama Yöntemleri (Model Validation)\n",
    "\n",
    "#### Holdout Yöntemi (Sınama Seti Yöntemi)\n",
    "\n",
    "<p align=\"center\">\n",
    "  <img src=\"grafikler/model_validation.png\" height=100 >\n",
    "</p>\n",
    "\n",
    "\n",
    "    Model başarısının, modelin öğrendiği veri ile test etmenin hatalar açısından bir takım sorunlara sebep olacağını veya aşırı öğrenmeye neden olacağını düşünecek olursak, verimizi ikiye bölüm bir kısmında modelimizi eğitip diğer kısımda ise test etmenin daha iyi bir yaklaşım olduğu düşünülmektedir.\n",
    "\n",
    "#### K-Katlı Çapraz Doğrulama Yöntemi (K Fold Cross Validation)\n",
    "\n",
    "    Özellikle veri seti az olduğunda eğitim ve test setinin bölünme işlemlerinde test setinin taşıdığı bilgilerin verimliliği sorgulanabilir. Bu kapsamda Holdout metoduna alternatif olarak K-Katlı Çapraz Doğrulama Yöntemi Kullanılır. Bu yöntem iki şekilde kullanılabilir.\n",
    "\n",
    "<p align=\"center\">\n",
    "  <img src=\"grafikler/kfold.png\" height=250 >\n",
    "</p>\n",
    "\n",
    "    Birinci Metot: (Çapraz Doğrulama)\n",
    "\n",
    "  * Orijinal veri seti 5 eşit parçaya bölünür.\n",
    "  * 1,2,3,4,5 numaralı parçalardan 1,2,3,4 numaralı ile model kurulur. 5 numaralı parça ile test edilir.\n",
    "  * Ardından 1,2,3,5 numaralı parça ile model kurulur ve 4 numaralı parça ile test edilir.\n",
    "  * Ardından 1,2,4,5 numara model, 3 numara test, 1,3,4,5 numara model ve 2 numara test ve son olarak 2,3,4,5 numaralı parça model ve 1 numaralı parça test için kullanılır.\n",
    "  * Testlerin hatalarının ve başarılarının ortalaması alınır ve Cross Validation hatası bulunur."
   ]
  },
  {
   "attachments": {},
   "cell_type": "markdown",
   "metadata": {},
   "source": [
    "    İkinci Metot: Özellikle zengin ve bol gözlem değerine sahip bir veri setinde çalışıldığında yaygın bir kullanıma sahiptir.\n",
    "\n",
    "  * Veri Seti, Eğitim ve Test seti olacak şekilde ikiye bölünür.\n",
    "  * Eğitim setine birinci metottaki Çapraz Doğrulama (Cross Validation) uygulanır.\n",
    "  * En son modelin hiç görmediği Test seti ile tekrar test edilir.\n"
   ]
  },
  {
   "attachments": {},
   "cell_type": "markdown",
   "metadata": {},
   "source": [
    "## Yanlılık-Varyans Değiş Tokuşu (Bias-Variance Tradeoff)\n",
    "\n",
    "    Bir yapay öğrenme problemi çözülürken uygun bir model geliştirilip kullanılmasının ardından, modelin başarısıyla ilgili değerlendirilme yapılan süreçte karşılaşılan bir takım problemler söz konusudur. Bunlar Underfitting ve Overfitting problemleridir.\n",
    "\n",
    "<p align=\"center\">\n",
    "  <img src=\"grafikler/yanlilik.png\" height=250 >\n",
    "</p>\n",
    "    \n",
    "    Model kurmak bağımlı ve bağımsız değişkenler arasındaki ilişkiyi ve bu ilişkinin anlamını çıkartmaktır. Bu durumda modelimizden veriyi ezberlemesini değil, verinin yapısını öğrenmesini bekleriz.\n",
    "\n",
    "**Underfitting:** Modelin veriyi yeteri kadar öğrenememesidir. Yanlılık yüksektir. Varyans düşüktür. Genellenebilirlik kabiliyeti zayıftır.\n",
    "\n",
    "**Aşırı öğrenme (Overfitting):** Modelin veriyi ezberlemesidir. Varyans yüksektir. Test setine gidildiğinde ezberlediği veriden farklı verilerle karşılaşacağından başarı oranı düşük olacaktır. Tahmin fonksiyonu gerçek değerleri birebir temsil eder.\n",
    "\n",
    "**Doğru Model:** Yanlılığı ve varyansı düşük modeldir. Veri setinin temsil edildiği veya ezberlendiği bir model değildir. Doğru modelin amacı veri setindeki ilişkinin, örüntünün yani yapının temsil edilmesidir."
   ]
  },
  {
   "attachments": {},
   "cell_type": "markdown",
   "metadata": {},
   "source": [
    "    Aşırı öğrenme sorunu eğitim seti ve test setinin, model karmaşıklığı ve tahmin hatası çerçevesinde birlikte değerlendirilmesiyle tespit edilebilir. Eğitim seti ve Test setindeki hata değişimleri incelenir.\n",
    "\n",
    "<p align=\"center\">\n",
    "  <img src=\"grafikler/asiri_ogrenme.png\" height=250 >\n",
    "</p>\n",
    "\n",
    "İki hatanın birbirinden ayrılmaya başladığı nokta (çatallanmanın başladığı nokta) itibariyle aşırı öğrenme başlamıştır demektir. Aşırı öğrenmenin önüne nasıl geçilir sorusunun yanıtı bu noktada aranır. Bu noktada model karmaşıklığını, eğitim süresini ve iterasyon süresini durdurarak aşırı öğrenmenin önüne geçilir."
   ]
  },
  {
   "attachments": {},
   "cell_type": "markdown",
   "metadata": {},
   "source": [
    "    Model karmaşıklığı modelin hassaslaştırılması yani daha detaylı tahminler yapabilmesi için özelliklerinin kuvvenlendirilmesi olarak ifade edilir. \n",
    "    \n",
    "Model karmaşıklığı **doğrusal modellere göre, ağaç yöntemlerine göre, sinir ağlarına** göre farklılık gösterecektir. Model karmaşıklaştırma bir noktaya kadar alınan hataları azaltıyor olacaktır."
   ]
  },
  {
   "attachments": {},
   "cell_type": "markdown",
   "metadata": {},
   "source": [
    "    Model karmaşıklaştırma aşırı öğrenmenin başladığı noktaya (Modelin eğitim setini çok iyi öğrendiği noktaya) kadar işe yarar bir tekniktir. Ancak bir noktadan sonra model eğitim setini aşırı öğreneceğinden dolayı, bu durum bağımlı ve bağımsız değişkenler arasındaki ilişkiyi öğrenmenin ötesine geçip, veriyi ezberleme halini alacaktır. Bu noktadan sonra aşırı öğrenme sonucu test hatası artmaya başlayacaktır."
   ]
  }
 ],
 "metadata": {
  "kernelspec": {
   "display_name": "base",
   "language": "python",
   "name": "python3"
  },
  "language_info": {
   "codemirror_mode": {
    "name": "ipython",
    "version": 3
   },
   "file_extension": ".py",
   "mimetype": "text/x-python",
   "name": "python",
   "nbconvert_exporter": "python",
   "pygments_lexer": "ipython3",
   "version": "3.9.13"
  },
  "orig_nbformat": 4,
  "vscode": {
   "interpreter": {
    "hash": "9aacfdcc723ab9182f23d11dc6a46c787bfe07656d4548f94b1c6b5b014df5e2"
   }
  }
 },
 "nbformat": 4,
 "nbformat_minor": 2
}
