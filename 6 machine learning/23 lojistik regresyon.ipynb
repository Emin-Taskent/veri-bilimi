{
 "cells": [
  {
   "attachments": {},
   "cell_type": "markdown",
   "metadata": {},
   "source": [
    "# Lojistik Regresyon"
   ]
  },
  {
   "attachments": {},
   "cell_type": "markdown",
   "metadata": {},
   "source": [
    "    Lojistik regresyonun genel amacı, sınıflandırma problemi için bağımlı ve bağımsız değişkenler arasındaki ilişkiyi doğrusal olarak modellemektir.\n",
    "\n",
    "<p align=\"center\">\n",
    "  <img src=\"grafikler/LR_1.png\" height=150 >\n",
    "</p>"
   ]
  },
  {
   "attachments": {},
   "cell_type": "markdown",
   "metadata": {},
   "source": [
    "    Z doğrusal regresyon denkleminin sonucu Sigmoid fonksiyona yazıldığında, Sigmoid fonksiyonu 0 ve 1 arasında bir olasılık değeri verir. Bu olasılık değerine göre 1 veya 0 sınıf ataması yapılır. Sınıf ataması yapılırken 1 sınıfına ait olma olasılığı hesaplanır.\n",
    "\n",
    "Sigmoid Fonksiyonuna detaylıca bakmak isterseniz:\n",
    "\n",
    "https://bilgisayarkavramlari.com/2008/11/02/sigmoid-fonksiyon/\n",
    "\n",
    "\n",
    "https://tr.wikipedia.org/wiki/Sigmoid_i%C5%9Flevi"
   ]
  },
  {
   "attachments": {},
   "cell_type": "markdown",
   "metadata": {},
   "source": [
    "Bağımlı değişkenin 1 ve 0'lardan oluştuğu durumlarda, Lineer regresyon yöntemlerinden elde edilen tahmin değerlerinin her zaman 1 ve 0 arasında olması her iş probleminde mümkün değildir. Bu sebeple **Sigmoid fonksiyonu z doğrusal formunun değerlerini 1 ve 0 arası değerlere eşler.**"
   ]
  },
  {
   "attachments": {},
   "cell_type": "markdown",
   "metadata": {},
   "source": [
    "<p align=\"center\">\n",
    "  <img src=\"grafikler/LR_2.png\" height=350 >\n",
    "</p>"
   ]
  },
  {
   "attachments": {},
   "cell_type": "markdown",
   "metadata": {},
   "source": [
    "    Yukarıda, \"Sınıf ataması yapılırken 1 sınıfına ait olma olasılığı hesaplanır.\" dedik bu ifadeyi biraz açalım."
   ]
  },
  {
   "attachments": {},
   "cell_type": "markdown",
   "metadata": {},
   "source": [
    "Yukarıdaki Z denklemi Linear Regresyon denklemidir. Bağımsız değişkenler x1, x2, x3, ... xp ile gösterilmiş, intercept \"b\" ile ve bağımsız değişkenlerin katsayıları ise w1, w2, w3, ... w4 ile gösterilmiştir.\n",
    "\n",
    "Yukarıdaki ****y_hat = P(Y = 1 | X = x)**** ifadesini açıklayacak olursak;\n",
    "* X = x; ifadesi ile X bağımsız değişkenleri değerlerini aldığında,\n",
    "* Y = 1; ifadesi ile Y bağımlı değişkeninin 1. sınıfının (buradaki birinci sınıf 1 veya True değeri) gerçekleşme olasılığıdır.\n",
    "\n",
    "Örnek olarak diyelim ki titanik verisindeki gibi hayatta kaldı, kalamadı; diabet veri setindeki gibi bir kişi hasta veya hasta değil gibi sınıflandırmalar olsun, ve bizim y_hat değerimiz yani fonksiyonun ürettiği değer 0.78 olsun. Bu değer ilgili problemdeki 1 sınıfının gerçekleşmesi olasılığıdır.\n",
    "\n",
    "Örneğimizden devam edersek; titanik veri seti açısıdan %78 ihtimalle ilgili özellikleri gösteren kişi kurtulacaktır, diabet veri setinden düşünecek olursak %78 ihtimalle ilgili özellikleri taşıyan kişi diabet hastasıdır diyeceğiz."
   ]
  },
  {
   "attachments": {},
   "cell_type": "markdown",
   "metadata": {},
   "source": [
    "    Sonuç olarak bu olasılıklar açısından bir eşik değer belirlenerek, olasılığın bu eşik değerden yukarıda olursa 1 sınıfına, aşağıda olursa 0 sınıfına ait olacağı şeklinde tahminler yapılacaktır."
   ]
  },
  {
   "attachments": {},
   "cell_type": "markdown",
   "metadata": {},
   "source": [
    "## Logistic Regression için Gradient Descent"
   ]
  },
  {
   "attachments": {},
   "cell_type": "markdown",
   "metadata": {},
   "source": [
    "    Gradient Descent (Gradyan Azalma), rastgele alınan değişkenlerle başlayarak global minimum değerine ulaşmayı amaçlayan en popüler optimizasyon algoritmalarından biridir. Lojistik Regresyon kapsamında, Gradient Descent ile iterasyonlarda kullanılmak üzere, Cost Fonksiyonu üzerinden elde edilen J(θ) değerlerine ulaşılır:\n",
    "\n",
    "J(θ) yine lineer regresyondaki gibi bir cost (hata şeklinde de adlandırılabilir.) fonksiyonudur. Lakin buradaki cost fonksiyonumuz lineer resgresyondan (Lineer regresyonda MSE idi) farklı olarak **Log Loss** fonksiyonudur."
   ]
  },
  {
   "attachments": {},
   "cell_type": "markdown",
   "metadata": {},
   "source": [
    "<p align=\"center\">\n",
    "  <img src=\"grafikler/LR_3.png\" height=150 >\n",
    "</p>"
   ]
  },
  {
   "attachments": {},
   "cell_type": "markdown",
   "metadata": {},
   "source": [
    "* hₒ(x_i) **tahmin edilen** değerleri, y_i değerleri ise **gerçek değerleri** ifade etmektedir.\n",
    "\n",
    "* Her bir gözlem birimi tek tek gezilerek cost hesaplanır.\n",
    "* Log loss fonksiyonu içerisindeki hₒ(x_i) ifadesi ise **bağımlı değişkenin 1 sınıfının tahmin edilen gerçekleşmesi olasılığıdır.** "
   ]
  },
  {
   "attachments": {},
   "cell_type": "markdown",
   "metadata": {},
   "source": [
    "**Log Loss formulü iki kısımdan oluşmaktadır.**;\n",
    "\n",
    "Birinci Kısım;\n",
    "\n",
    "        -( y_i * log(hₒ(x_i)) )\n",
    "\n",
    "İkinci Kısım ise;\n",
    "\n",
    "        (1-y_i) * log(1-hₒ(x_i))\n"
   ]
  },
  {
   "cell_type": "code",
   "execution_count": 1,
   "metadata": {},
   "outputs": [],
   "source": [
    "# Bu ifadeye Çapraz Entropi Fonksiyonu da denir. (Cross-Entropy Loss Function) \n",
    "# Çapraz entropinin ne demek olduğunu birazdan inceleyeceğiz."
   ]
  },
  {
   "attachments": {},
   "cell_type": "markdown",
   "metadata": {},
   "source": [
    "Formulümüzü biraz daha detaylı inceleyelim;"
   ]
  },
  {
   "cell_type": "code",
   "execution_count": 2,
   "metadata": {},
   "outputs": [],
   "source": [
    "# Formulümüzü bir hatırlayalım;\n",
    "\n",
    "# -( y_i * log(hₒ(x_i)) ) + (1-y_i) * log(1-hₒ(x_i))\n",
    "# ¯¯¯¯¯¯ 1. Kısım ¯¯¯¯¯¯¯ + ¯¯¯¯¯¯¯ 2. Kısım ¯¯¯¯¯¯¯"
   ]
  },
  {
   "attachments": {},
   "cell_type": "markdown",
   "metadata": {},
   "source": [
    "1. Seneryo\n",
    "\n",
    "Diyelim ki herhangi bir gözlem için bağımlı değişkenimizin **gerçek değeri 1** olsun ve bizim **tahmin değerimiz ise 0.80** olsun;"
   ]
  },
  {
   "cell_type": "code",
   "execution_count": 3,
   "metadata": {},
   "outputs": [],
   "source": [
    "# - ( 1 * log(0.80) ) + (1 - 1) * log( 1-0.80 )\n",
    "# ¯¯¯¯ 1. Kısım ¯¯¯¯¯ + ¯¯¯¯¯¯ 2. Kısım ¯¯¯¯¯¯¯\n",
    "\n",
    "# Yukarıda 2. Kısımdan zaten 0 değeri gelecek ve Log Loss fonksiyonumuzda 1. kısımın sonucu çıkacak."
   ]
  },
  {
   "attachments": {},
   "cell_type": "markdown",
   "metadata": {},
   "source": [
    "2. Seneryo\n",
    "\n",
    "Diyelim ki herhangi bir gözlem için bağımlı değişkenimizin **gerçek değeri 0** olsun ve bizim tahmin değerimiz 0.20 olsun; "
   ]
  },
  {
   "cell_type": "code",
   "execution_count": 4,
   "metadata": {},
   "outputs": [],
   "source": [
    "# - ( 0 * log(0.20) ) + (1 - 0) * log( 1-0.20 )\n",
    "# ¯¯¯¯ 1. Kısım ¯¯¯¯¯ + ¯¯¯¯¯¯ 2. Kısım ¯¯¯¯¯¯¯\n",
    "\n",
    "# Yukarıda 1. Kısımdan zaten 0 değeri gelecek ve Log Loss fonksiyonumuzda 2. kısımın sonucu çıkacak."
   ]
  },
  {
   "attachments": {},
   "cell_type": "markdown",
   "metadata": {},
   "source": [
    "    Yukarıdaki açıklamalardan cost (hata) fonksiyonunun nasıl hesaplandığını detaylıca gördük. Dolayısıyla biz bu çıktıların en az (minimum) olmasını isteriz."
   ]
  },
  {
   "attachments": {},
   "cell_type": "markdown",
   "metadata": {},
   "source": [
    "Şimdi gelelim entropi kısmına; \n",
    "\n",
    "Entropi ne kadar yüksek olursa çeşitlilik o kadar fazla olacaktır. **Dolayısıyla gerçek değer ve tahmin edilen değer açısından entropinin düşük yani çeşitliliğin az olması istenir.** \n",
    "\n",
    "* **Eğer bir sınıfa ait olmanın tahmin edilen gerçekleşme olasılığı ne kadar yüksekse entropi o kadar düşük olacaktır.**"
   ]
  },
  {
   "attachments": {},
   "cell_type": "markdown",
   "metadata": {},
   "source": [
    "    Sonuç olarak: Gerçek değerler ile o gerçek değerlerin gerçekleşmesi olasılığı birbirine ne kadar yakın ise Loss Değeri (kayıp değeri) o kadar küçük olacaktır."
   ]
  },
  {
   "attachments": {},
   "cell_type": "markdown",
   "metadata": {},
   "source": [
    "## Sınıflandırma Problemlerinde Başarı Değerlendirme"
   ]
  },
  {
   "attachments": {},
   "cell_type": "markdown",
   "metadata": {},
   "source": [
    "Örnek olarak müşteri terk veri seti incelendiğinde, müşterilerin terk etme durumu bağımlı değişken olan Churn altında 1 ve terk etmeme durumu 0 ile ifade edilmiştir. \n",
    "\n",
    "Bu kapsamda kurulmak istenilen model, özellikleri verilen müşterilerin terk etme/etmeme durumunu tahmin etmek üzerinedir. \n",
    "\n",
    "Bu modelde başarı, ilgili gözlem birimi için tahmin edilen ve gerçek değerin eşleşmesidir."
   ]
  },
  {
   "attachments": {},
   "cell_type": "markdown",
   "metadata": {},
   "source": [
    "<p align=\"center\">\n",
    "  <img src=\"grafikler/LR_4.png\" height=350 >\n",
    "</p>"
   ]
  },
  {
   "attachments": {},
   "cell_type": "markdown",
   "metadata": {},
   "source": [
    "### Confusion Matrix: (Karmaşıklık Matrisi)\n",
    "\n",
    "Model kurulduktan sonra ortaya çıkan tahmin edilen değerler sonucunda,\n",
    "Tahmin edilen değerin ve Gerçek değerin eşleştiği gözlem birimleri:\n",
    "\n",
    "* **1 sınıfı** için **True Positive (TP)**\n",
    "* **0 sınıfı** için **True Negative (TN)**\n",
    "\n",
    "Tahmin edilen değerin ve Gerçek değerin eşleşmediği gözlem birimleri:\n",
    "\n",
    "* **1 sınıfı** için **False Positive (FP)** (İstatistikte 1.tip hata olarak betimlenir)\n",
    "* **0 sınıfı** için **False Negative (FN)** (İstatistikte 2.tip hata olarak betimlenir)"
   ]
  },
  {
   "attachments": {},
   "cell_type": "markdown",
   "metadata": {},
   "source": [
    "<p align=\"center\">\n",
    "  <img src=\"grafikler/LR_5.png\" height=200 >\n",
    "</p>"
   ]
  },
  {
   "attachments": {},
   "cell_type": "markdown",
   "metadata": {},
   "source": [
    "* **Accuracy:** Doğru sınıflandırma oranıdır. **(TP+TN)/(TP+TN+FP+FN)**"
   ]
  },
  {
   "attachments": {},
   "cell_type": "markdown",
   "metadata": {},
   "source": [
    "    İncelenen sınıflandırma problemi dengeli sınıf dağılımına sahipse Accuracy metriği kullanılabilir. Sınıf dağılımı dengesizse, sınıf sayısı düşük olan sınıfı yakalama problemi oluşur."
   ]
  },
  {
   "attachments": {},
   "cell_type": "markdown",
   "metadata": {},
   "source": [
    "##### Sınıf dağılımları dengesiz olduğu durumlarda Accuracy kullanılmaz. Bu durumlarda ise Precision ve Recall değerleri incelenir."
   ]
  },
  {
   "attachments": {},
   "cell_type": "markdown",
   "metadata": {},
   "source": [
    "* **Precision:** Pozitif sınıf (1) tahminlerinin başarı oranıdır. **TP/(TP+FP)**\n",
    " \n",
    " Tahmin edilen değerlerde **ne kadar başarılı olunduğunun** ölçüsüdür. Tahmin edilen pozitif sınıfların (1 olarak tahmin edilen sınıfların) gerçekte ne kadarının pozitif olduğunu gösterir. 1. tip hata ile ilgilenilir. Tahminlerin başarısına odaklanır."
   ]
  },
  {
   "attachments": {},
   "cell_type": "markdown",
   "metadata": {},
   "source": [
    "<p align=\"center\">\n",
    "  <img src=\"grafikler/LR_6.png\" height=200 >\n",
    "</p>"
   ]
  },
  {
   "attachments": {},
   "cell_type": "markdown",
   "metadata": {},
   "source": [
    "* **Recall:** Pozitif sınıfın (1) doğru tahmin edilme oranıdır. **TP/(TP+FN)**\n",
    "\n",
    "Tahmin edilen pozitif sınıfların **ne kadarının doğru tahmin edildiğini** betimler. 2. tip hata ile ilgilenir. Önemli bir ölçüdür. Gözden kaçırmaların maliyeti hakkında bilgi verir. Gerçekleri yakalama başarısına odaklanır."
   ]
  },
  {
   "attachments": {},
   "cell_type": "markdown",
   "metadata": {},
   "source": [
    "<p align=\"center\">\n",
    "  <img src=\"grafikler/LR_7.png\" height=200 >\n",
    "</p>"
   ]
  },
  {
   "attachments": {},
   "cell_type": "markdown",
   "metadata": {},
   "source": [
    "* **F1 Score:** Precision ve Recall değerlerinin harmonik ortalamasıdır.\n",
    "\n",
    "2*(Precision*Recall)/(Precision+Recall)\n",
    "\n",
    "Hem Precision Hem de Recall değerinin etkisini tutmaktadır."
   ]
  },
  {
   "attachments": {},
   "cell_type": "markdown",
   "metadata": {},
   "source": [
    "### Sınıflandırmalarda Olasılık Eşik Değeri: (Classification Threshold)\n",
    "\n",
    "Sınıflandırma modellerinin başarı değerlendirme süreçlerinde, başarı ölçüm metriklerine geçmeden önce, bağımlı değişkenin tahmin edilmesi gerekmektedir. \n",
    "\n",
    "Bu kapsamda sigmoid fonksiyonu kullanılarak ulaşılan olasılık değerlerinin, belirlenen bir eşik değerin üstünde veya altında olması durumuna göre tahmin değerleri elde edilir.\n",
    "\n",
    "Bu eşik değere **Classification Threshold** denir.\n",
    "\n",
    "    Bir örnek üzerinde gözlemleyelim:"
   ]
  },
  {
   "attachments": {},
   "cell_type": "markdown",
   "metadata": {},
   "source": [
    "<p align=\"center\">\n",
    "  <img src=\"grafikler/LR_8.png\" height=300 >\n",
    "</p>"
   ]
  },
  {
   "cell_type": "code",
   "execution_count": 5,
   "metadata": {},
   "outputs": [],
   "source": [
    "# Bu örnekte birinci sınıfın gerçekleşme olasılığına ilişkin eşik değeri 0.50 olarak belirledik.(Ön tanımlı değerdir.)\n",
    "\n",
    "# Her zaman olmasa da bu örnek için eşik değerin yükseltilmesi Accuracy’i düşürecektir.\n",
    "# Öte yandan eşik değerin düşürülmesi ise Accuracy değerini yükseltecektir.\n",
    "\n",
    "# Model bazında optimal çıktıyı bulmak gerekir."
   ]
  },
  {
   "attachments": {},
   "cell_type": "markdown",
   "metadata": {},
   "source": [
    "    Özetle: Belirlenen eşik değere göre, tahmin edilen değerlere ulaşılır. Ardından başarı ölçüm metriklerince değerlendirilir. Bu kapsamda eşik değeri değiştikçe başarı ölçüm değerleri de değişkecektir. Dolayısıyla olası tüm eşik değer değişimleri göz önüne alınarak hesaplanmalar yapılması gerekmektedir. "
   ]
  },
  {
   "attachments": {},
   "cell_type": "markdown",
   "metadata": {},
   "source": [
    "### Sınıflandırma Problemlerinda Başarı Değerlendirme - ROC Curve -"
   ]
  },
  {
   "attachments": {},
   "cell_type": "markdown",
   "metadata": {},
   "source": [
    "<p align=\"center\">\n",
    "  <img src=\"grafikler/LR_5.png\" height=200 >\n",
    "</p>"
   ]
  },
  {
   "attachments": {},
   "cell_type": "markdown",
   "metadata": {},
   "source": [
    "Bu kısımı anlayabilmek için biraz tekrar yapalım;\n",
    "\n",
    "* **Precision:** Pozitif sınıf (1) tahminlerinin başarı oranıdır. **TP/(TP+FP)**\n",
    "* **Recall:** Pozitif sınıfın (1) doğru tahmin edilme oranıdır. **TP/(TP+FN)**\n",
    "\n",
    "Yukarıdaki 2 metriki iyi bilmeliyiz.\n",
    "\n",
    "    Yukarıdaki iki metriğe ek olarak;\n",
    "\n",
    "* Recall metriğine **Sensitivity veya True Positive Rate (TPR)** denir.\n"
   ]
  },
  {
   "attachments": {},
   "cell_type": "markdown",
   "metadata": {},
   "source": [
    "* **Specifity - True Negative Rate (TNR):** Negatif sınıf (0) değerini tahmin başarısıdır. **TN/(FP+TN)**\n",
    "* **False Positive Rate (FPR):** Negatif sınıf (0) değerine pozitif sınıf (1) deme oranıdır. **FP/(FP+TN)**"
   ]
  },
  {
   "attachments": {},
   "cell_type": "markdown",
   "metadata": {},
   "source": [
    "    Bir yukarıdaki başlıkta gördük ki, eşik değer değişimleri; confusion matrisde dolayısıyla accuracy, precision, recall vb. metriklerimizde değişikliğe neden olmaktadır."
   ]
  },
  {
   "attachments": {},
   "cell_type": "markdown",
   "metadata": {},
   "source": [
    "Eşik değerin düşürülmesi, doğal olarak tahmin edilen 1'lerimizin artmasına neden olur.\n",
    "\n",
    "    Tahmin edilen 1'ler True Positive ve False positive olmak üzere 2 sınıftan oluşmaktadır. Yani eşik değerin düşmesi hem True Positive hem de False positive'ler de artışa sebep olur.\n",
    "\n",
    "* True Positive'lerdeki artış bizim recall (sensitivity) metriğimizi arttırır ki bu bizim için iyi bir şeydir.\n",
    "* Lakin False Positive'lerdeki artış bizim işimize gelmeyen bir şeydir. False positivelerdeki artış ise False positive rate (FPR) ile ölçülür."
   ]
  },
  {
   "attachments": {},
   "cell_type": "markdown",
   "metadata": {},
   "source": [
    "##### NOT !!! : False Positive Rate bazı yerlerde (1-Specifity olarak da gösterilir.) Bu sebeple yukarıda Specifity metriğinden bahsettik."
   ]
  },
  {
   "attachments": {},
   "cell_type": "markdown",
   "metadata": {},
   "source": [
    "     Nihai Çıktı:\n",
    "     \n",
    "     Yani sonuç olarak biz sensitivity (TPR) metriğimizin yüksek, False Positive Rate (FPR) değerimizin düşük olmasını isteriz."
   ]
  },
  {
   "cell_type": "code",
   "execution_count": 6,
   "metadata": {},
   "outputs": [],
   "source": [
    "# Nihai çıktıdan yola çıkarak;\n",
    "\n",
    "# Bir grafik oluşturulmuş olsun, bu grafiğin;\n",
    "\n",
    "# x ekseninde FPR (1- specificity) metriğini, \n",
    "# y ekseninde ise TPR metriğini ölçümleyelim,\n",
    "\n",
    "# Buna göre grafiğimiz aşağıdaki gibi olurdu."
   ]
  },
  {
   "attachments": {},
   "cell_type": "markdown",
   "metadata": {},
   "source": [
    "<p align=\"center\">\n",
    "  <img src=\"grafikler/LR_9.jpg\" height=400 >\n",
    "</p>"
   ]
  },
  {
   "attachments": {},
   "cell_type": "markdown",
   "metadata": {},
   "source": [
    "A noktası bizim için istenen en mükemmel noktadır. Sensitiviy 1, FPR ise 0'dır.\n",
    "\n",
    "Yukarıda da bahsetmiştik, eşik değerlerin değişiminden dolayı metriklerde, dolayısyla TPR ve FPR'lerde değişim olmaktadır. Bu değişimleri birleştirdiğimiz zaman ortaya **ROC eğrisi** çıkar.\n",
    "\n",
    "Bu ROC eğrisi modelden modele göre farklı şekillerde olabilirken, örneğin yukarıdaki grafikteki gibi B ve C eğrilerine benzeyebilir."
   ]
  },
  {
   "cell_type": "code",
   "execution_count": 7,
   "metadata": {},
   "outputs": [],
   "source": [
    "# C eğrisinin özel bir durumu vardır;\n",
    "\n",
    "# C eğrisindeki her bir noktada True Positive Rate ve False Positive Rate bir birine eşittir.\n",
    "# Eğer ki rasgele olarak tahmin yaparsak, 0 ve 1'lerin zaten yarısını bilmeyi bekleriz. (Bknz: Büyük Sayılar Kanunu)\n",
    "# Dolayısıyla karmaşıklık matrisimiz şöyle olur;                            "
   ]
  },
  {
   "attachments": {},
   "cell_type": "markdown",
   "metadata": {},
   "source": [
    "<p align=\"center\">\n",
    "  <img src=\"grafikler/LR_10.png\" height=400 >\n",
    "</p>"
   ]
  },
  {
   "cell_type": "code",
   "execution_count": 8,
   "metadata": {},
   "outputs": [],
   "source": [
    "# Yani gerçek positive (1) değerlerin ancak yarısını doğru tahmin edebiliriz.\n",
    "# Gerçek Negative (0) değerlerinin de ancak yarısını doğru tahmin edebiliriz.\n",
    "\n",
    "# 2. tablodaki değerlerden dolayı, True Positive Rate ve False Positive Rate birbirine eşit olur.\n",
    "# True Positive Rate ile False Positive Rate'in birbirine eşit olduğu çizgi C çizgisiydi."
   ]
  },
  {
   "attachments": {},
   "cell_type": "markdown",
   "metadata": {},
   "source": [
    "    Yani biz model kurmadan rasgele bir tahminde bulunduğumuzda ROC çizgimiz zaten C çizgisi gibi olmaktadır."
   ]
  },
  {
   "attachments": {},
   "cell_type": "markdown",
   "metadata": {},
   "source": [
    "TPR'in FPR'den büyük olduğu yer de random guess çizgisinin üst kısmıdır.\n",
    "\n",
    "<p align=\"center\">\n",
    "  <img src=\"grafikler/LR_11.png\" height=500 >\n",
    "</p>"
   ]
  },
  {
   "attachments": {},
   "cell_type": "markdown",
   "metadata": {},
   "source": [
    "Random Guess doğrusunun üstünde kalan ROC eğrileri, Perfect Classification'a doğru iç bükeyleştikçe başarı oranının artması beklenir."
   ]
  },
  {
   "attachments": {},
   "cell_type": "markdown",
   "metadata": {},
   "source": [
    "    ROC eğrisi ile Random Guess Doğrusu arasındaki alana Area Under Curve (AUC) denir. AUC, “ROC Eğrisi altındaki alan” anlamına gelir. Bu metrik ROC eğrisinin sayısal bir şekilde ifade edilişidir. AUC, tüm olası sınıflandırma eşikleri için toplu bir performans ölçüsüdür. AUC değerinin yüksek olması sınıflandırmanın iyi yapıldığı anlamına gelir."
   ]
  },
  {
   "attachments": {},
   "cell_type": "markdown",
   "metadata": {},
   "source": [
    "### Log Loss"
   ]
  },
  {
   "attachments": {},
   "cell_type": "markdown",
   "metadata": {},
   "source": [
    "<p align=\"center\">\n",
    "  <img src=\"grafikler/LR_12.png\" height=100 >\n",
    "</p>"
   ]
  },
  {
   "attachments": {},
   "cell_type": "markdown",
   "metadata": {},
   "source": [
    "* LOG loss ifadesi hem modelin başarısı, hem de optimizasyon için değerlendirilen bir metriktir. \n",
    "* Hiperparametreler ve ağırlıklar bulabilmek için optimize edeceğimiz parametredir."
   ]
  },
  {
   "attachments": {},
   "cell_type": "markdown",
   "metadata": {},
   "source": [
    "### Problem ve Veri Setinin Hikayesi"
   ]
  },
  {
   "cell_type": "code",
   "execution_count": 9,
   "metadata": {},
   "outputs": [],
   "source": [
    "# İş Problemi:\n",
    "\n",
    "# Özellikleri belirtildiğinde kişilerin diyabet hastası olup\n",
    "# olmadıklarını tahmin edebilecek bir makine öğrenmesi\n",
    "# modeli geliştirebilir misiniz?"
   ]
  },
  {
   "attachments": {},
   "cell_type": "markdown",
   "metadata": {},
   "source": [
    "Veri seti ABD'deki Ulusal Diyabet-Sindirim-Böbrek Hastalıkları Enstitüleri'nde tutulan büyük veri setinin parçasıdır. ABD'deki Arizona Eyaleti'nin en büyük 5. şehri olan Phoenix şehrinde yaşayan 21 yaş ve üzerinde olan Pima Indian kadınları üzerinde yapılan diyabet araştırması için kullanılan verilerdir. 768 gözlem ve 8 sayısal bağımsız değişkenden oluşmaktadır. Hedef değişken \"outcome\" olarak belirtilmiş olup; 1 diyabet test sonucunun pozitif oluşunu, 0 ise negatif oluşunu belirtmektedir."
   ]
  },
  {
   "cell_type": "code",
   "execution_count": 10,
   "metadata": {},
   "outputs": [],
   "source": [
    "# Değişkenler\n",
    "\n",
    "# Pregnancies: Hamilelik sayısı\n",
    "# Glucose: Glikoz.\n",
    "# BloodPressure: Kan basıncı.\n",
    "# SkinThickness: Cilt Kalınlığı\n",
    "# Insulin: İnsülin.\n",
    "# BMI: Beden kitle indeksi.\n",
    "# DiabetesPedigreeFunction: Soyumuzdaki kişilere göre diyabet olma ihtimalimizi hesaplayan bir fonksiyon.\n",
    "# Age: Yaş (yıl)\n",
    "# Outcome: Kişinin diyabet olup olmadığı bilgisi. Hastalığa sahip (1) ya da değil (0)"
   ]
  },
  {
   "cell_type": "code",
   "execution_count": 11,
   "metadata": {},
   "outputs": [],
   "source": [
    "# Model Kurma ve Tahmin Aşamaları\n",
    "\n",
    "# 1. Exploratory Data Analysis\n",
    "# 2. Data Preprocessing\n",
    "# 3. Model & Prediction\n",
    "# 4. Model Evaluation\n",
    "# 5. Model Validation: Holdout\n",
    "# 6. Model Validation: 10-Fold Cross Validation\n",
    "# 7. Prediction for A New Observation"
   ]
  },
  {
   "cell_type": "code",
   "execution_count": 12,
   "metadata": {},
   "outputs": [],
   "source": [
    "import matplotlib.pyplot as plt\n",
    "import numpy as np\n",
    "import pandas as pd\n",
    "import seaborn as sns\n",
    "\n",
    "from sklearn.preprocessing import RobustScaler\n",
    "from sklearn.linear_model import LogisticRegression\n",
    "from sklearn.metrics import accuracy_score, roc_auc_score, confusion_matrix, classification_report, plot_roc_curve\n",
    "from sklearn.model_selection import train_test_split, cross_validate"
   ]
  },
  {
   "cell_type": "code",
   "execution_count": 13,
   "metadata": {},
   "outputs": [],
   "source": [
    "# Önceki bölümlerden bir takım fonksiyonları tekrardan tanımlayalım;\n",
    "\n",
    "def outlier_thresholds(dataframe, col_name, q1=0.05, q3=0.95):\n",
    "    quartile1 = dataframe[col_name].quantile(q1)\n",
    "    quartile3 = dataframe[col_name].quantile(q3)\n",
    "    interquantile_range = quartile3 - quartile1\n",
    "    up_limit = quartile3 + 1.5 * interquantile_range\n",
    "    low_limit = quartile1 - 1.5 * interquantile_range\n",
    "    return low_limit, up_limit\n",
    "\n",
    "def check_outlier(dataframe, col_name):\n",
    "    low_limit, up_limit = outlier_thresholds(dataframe, col_name)\n",
    "    if dataframe[(dataframe[col_name] > up_limit) | (dataframe[col_name] < low_limit)].any(axis=None):\n",
    "        return True\n",
    "    else:\n",
    "        return False\n",
    "\n",
    "def replace_with_thresholds(dataframe, variable):\n",
    "    low_limit, up_limit = outlier_thresholds(dataframe, variable)\n",
    "    dataframe.loc[(dataframe[variable] < low_limit), variable] = low_limit\n",
    "    dataframe.loc[(dataframe[variable] > up_limit), variable] = up_limit"
   ]
  },
  {
   "attachments": {},
   "cell_type": "markdown",
   "metadata": {},
   "source": [
    "### 1. Keşifçi Veri Analizi (EDA)"
   ]
  },
  {
   "cell_type": "code",
   "execution_count": 14,
   "metadata": {},
   "outputs": [
    {
     "data": {
      "text/html": [
       "<div>\n",
       "<style scoped>\n",
       "    .dataframe tbody tr th:only-of-type {\n",
       "        vertical-align: middle;\n",
       "    }\n",
       "\n",
       "    .dataframe tbody tr th {\n",
       "        vertical-align: top;\n",
       "    }\n",
       "\n",
       "    .dataframe thead th {\n",
       "        text-align: right;\n",
       "    }\n",
       "</style>\n",
       "<table border=\"1\" class=\"dataframe\">\n",
       "  <thead>\n",
       "    <tr style=\"text-align: right;\">\n",
       "      <th></th>\n",
       "      <th>Pregnancies</th>\n",
       "      <th>Glucose</th>\n",
       "      <th>BloodPressure</th>\n",
       "      <th>SkinThickness</th>\n",
       "      <th>Insulin</th>\n",
       "      <th>BMI</th>\n",
       "      <th>DiabetesPedigreeFunction</th>\n",
       "      <th>Age</th>\n",
       "      <th>Outcome</th>\n",
       "    </tr>\n",
       "  </thead>\n",
       "  <tbody>\n",
       "    <tr>\n",
       "      <th>0</th>\n",
       "      <td>6</td>\n",
       "      <td>148</td>\n",
       "      <td>72</td>\n",
       "      <td>35</td>\n",
       "      <td>0</td>\n",
       "      <td>33.6</td>\n",
       "      <td>0.627</td>\n",
       "      <td>50</td>\n",
       "      <td>1</td>\n",
       "    </tr>\n",
       "    <tr>\n",
       "      <th>1</th>\n",
       "      <td>1</td>\n",
       "      <td>85</td>\n",
       "      <td>66</td>\n",
       "      <td>29</td>\n",
       "      <td>0</td>\n",
       "      <td>26.6</td>\n",
       "      <td>0.351</td>\n",
       "      <td>31</td>\n",
       "      <td>0</td>\n",
       "    </tr>\n",
       "    <tr>\n",
       "      <th>2</th>\n",
       "      <td>8</td>\n",
       "      <td>183</td>\n",
       "      <td>64</td>\n",
       "      <td>0</td>\n",
       "      <td>0</td>\n",
       "      <td>23.3</td>\n",
       "      <td>0.672</td>\n",
       "      <td>32</td>\n",
       "      <td>1</td>\n",
       "    </tr>\n",
       "    <tr>\n",
       "      <th>3</th>\n",
       "      <td>1</td>\n",
       "      <td>89</td>\n",
       "      <td>66</td>\n",
       "      <td>23</td>\n",
       "      <td>94</td>\n",
       "      <td>28.1</td>\n",
       "      <td>0.167</td>\n",
       "      <td>21</td>\n",
       "      <td>0</td>\n",
       "    </tr>\n",
       "    <tr>\n",
       "      <th>4</th>\n",
       "      <td>0</td>\n",
       "      <td>137</td>\n",
       "      <td>40</td>\n",
       "      <td>35</td>\n",
       "      <td>168</td>\n",
       "      <td>43.1</td>\n",
       "      <td>2.288</td>\n",
       "      <td>33</td>\n",
       "      <td>1</td>\n",
       "    </tr>\n",
       "  </tbody>\n",
       "</table>\n",
       "</div>"
      ],
      "text/plain": [
       "   Pregnancies  Glucose  BloodPressure  SkinThickness  Insulin   BMI  \\\n",
       "0            6      148             72             35        0  33.6   \n",
       "1            1       85             66             29        0  26.6   \n",
       "2            8      183             64              0        0  23.3   \n",
       "3            1       89             66             23       94  28.1   \n",
       "4            0      137             40             35      168  43.1   \n",
       "\n",
       "   DiabetesPedigreeFunction  Age  Outcome  \n",
       "0                     0.627   50        1  \n",
       "1                     0.351   31        0  \n",
       "2                     0.672   32        1  \n",
       "3                     0.167   21        0  \n",
       "4                     2.288   33        1  "
      ]
     },
     "execution_count": 14,
     "metadata": {},
     "output_type": "execute_result"
    }
   ],
   "source": [
    "df = pd.read_csv(\"datasets/diabetes.csv\")\n",
    "df.head()"
   ]
  },
  {
   "cell_type": "code",
   "execution_count": 15,
   "metadata": {},
   "outputs": [
    {
     "data": {
      "text/plain": [
       "0    500\n",
       "1    268\n",
       "Name: Outcome, dtype: int64"
      ]
     },
     "execution_count": 15,
     "metadata": {},
     "output_type": "execute_result"
    }
   ],
   "source": [
    "##########################\n",
    "# Target'ın Analizi\n",
    "##########################\n",
    "\n",
    "df[\"Outcome\"].value_counts()"
   ]
  },
  {
   "cell_type": "code",
   "execution_count": 16,
   "metadata": {},
   "outputs": [
    {
     "data": {
      "image/png": "[encoded data removed]",
      "text/plain": [
       "<Figure size 640x480 with 1 Axes>"
      ]
     },
     "metadata": {},
     "output_type": "display_data"
    }
   ],
   "source": [
    "# Bağımlı değişkenin sınıf bilgilerini sütün grafiği haline getirelim;\n",
    "\n",
    "sns.countplot(x=\"Outcome\", data=df)\n",
    "plt.show()"
   ]
  },
  {
   "cell_type": "code",
   "execution_count": 17,
   "metadata": {},
   "outputs": [
    {
     "data": {
      "text/plain": [
       "0    65.104167\n",
       "1    34.895833\n",
       "Name: Outcome, dtype: float64"
      ]
     },
     "execution_count": 17,
     "metadata": {},
     "output_type": "execute_result"
    }
   ],
   "source": [
    "# Bağımlı değişkenin sınıf bilgilerinin oranına bakmak istersek;\n",
    "\n",
    "100 * df[\"Outcome\"].value_counts() / len(df)"
   ]
  },
  {
   "cell_type": "code",
   "execution_count": 18,
   "metadata": {},
   "outputs": [
    {
     "data": {
      "text/html": [
       "<div>\n",
       "<style scoped>\n",
       "    .dataframe tbody tr th:only-of-type {\n",
       "        vertical-align: middle;\n",
       "    }\n",
       "\n",
       "    .dataframe tbody tr th {\n",
       "        vertical-align: top;\n",
       "    }\n",
       "\n",
       "    .dataframe thead th {\n",
       "        text-align: right;\n",
       "    }\n",
       "</style>\n",
       "<table border=\"1\" class=\"dataframe\">\n",
       "  <thead>\n",
       "    <tr style=\"text-align: right;\">\n",
       "      <th></th>\n",
       "      <th>Pregnancies</th>\n",
       "      <th>Glucose</th>\n",
       "      <th>BloodPressure</th>\n",
       "      <th>SkinThickness</th>\n",
       "      <th>Insulin</th>\n",
       "      <th>BMI</th>\n",
       "      <th>DiabetesPedigreeFunction</th>\n",
       "      <th>Age</th>\n",
       "      <th>Outcome</th>\n",
       "    </tr>\n",
       "  </thead>\n",
       "  <tbody>\n",
       "    <tr>\n",
       "      <th>0</th>\n",
       "      <td>6</td>\n",
       "      <td>148</td>\n",
       "      <td>72</td>\n",
       "      <td>35</td>\n",
       "      <td>0</td>\n",
       "      <td>33.6</td>\n",
       "      <td>0.627</td>\n",
       "      <td>50</td>\n",
       "      <td>1</td>\n",
       "    </tr>\n",
       "    <tr>\n",
       "      <th>1</th>\n",
       "      <td>1</td>\n",
       "      <td>85</td>\n",
       "      <td>66</td>\n",
       "      <td>29</td>\n",
       "      <td>0</td>\n",
       "      <td>26.6</td>\n",
       "      <td>0.351</td>\n",
       "      <td>31</td>\n",
       "      <td>0</td>\n",
       "    </tr>\n",
       "    <tr>\n",
       "      <th>2</th>\n",
       "      <td>8</td>\n",
       "      <td>183</td>\n",
       "      <td>64</td>\n",
       "      <td>0</td>\n",
       "      <td>0</td>\n",
       "      <td>23.3</td>\n",
       "      <td>0.672</td>\n",
       "      <td>32</td>\n",
       "      <td>1</td>\n",
       "    </tr>\n",
       "    <tr>\n",
       "      <th>3</th>\n",
       "      <td>1</td>\n",
       "      <td>89</td>\n",
       "      <td>66</td>\n",
       "      <td>23</td>\n",
       "      <td>94</td>\n",
       "      <td>28.1</td>\n",
       "      <td>0.167</td>\n",
       "      <td>21</td>\n",
       "      <td>0</td>\n",
       "    </tr>\n",
       "    <tr>\n",
       "      <th>4</th>\n",
       "      <td>0</td>\n",
       "      <td>137</td>\n",
       "      <td>40</td>\n",
       "      <td>35</td>\n",
       "      <td>168</td>\n",
       "      <td>43.1</td>\n",
       "      <td>2.288</td>\n",
       "      <td>33</td>\n",
       "      <td>1</td>\n",
       "    </tr>\n",
       "  </tbody>\n",
       "</table>\n",
       "</div>"
      ],
      "text/plain": [
       "   Pregnancies  Glucose  BloodPressure  SkinThickness  Insulin   BMI  \\\n",
       "0            6      148             72             35        0  33.6   \n",
       "1            1       85             66             29        0  26.6   \n",
       "2            8      183             64              0        0  23.3   \n",
       "3            1       89             66             23       94  28.1   \n",
       "4            0      137             40             35      168  43.1   \n",
       "\n",
       "   DiabetesPedigreeFunction  Age  Outcome  \n",
       "0                     0.627   50        1  \n",
       "1                     0.351   31        0  \n",
       "2                     0.672   32        1  \n",
       "3                     0.167   21        0  \n",
       "4                     2.288   33        1  "
      ]
     },
     "execution_count": 18,
     "metadata": {},
     "output_type": "execute_result"
    }
   ],
   "source": [
    "##########################\n",
    "# Feature'ların Analizi\n",
    "##########################\n",
    "\n",
    "df.head()"
   ]
  },
  {
   "cell_type": "code",
   "execution_count": 19,
   "metadata": {},
   "outputs": [
    {
     "data": {
      "text/html": [
       "<div>\n",
       "<style scoped>\n",
       "    .dataframe tbody tr th:only-of-type {\n",
       "        vertical-align: middle;\n",
       "    }\n",
       "\n",
       "    .dataframe tbody tr th {\n",
       "        vertical-align: top;\n",
       "    }\n",
       "\n",
       "    .dataframe thead th {\n",
       "        text-align: right;\n",
       "    }\n",
       "</style>\n",
       "<table border=\"1\" class=\"dataframe\">\n",
       "  <thead>\n",
       "    <tr style=\"text-align: right;\">\n",
       "      <th></th>\n",
       "      <th>count</th>\n",
       "      <th>mean</th>\n",
       "      <th>std</th>\n",
       "      <th>min</th>\n",
       "      <th>25%</th>\n",
       "      <th>50%</th>\n",
       "      <th>75%</th>\n",
       "      <th>max</th>\n",
       "    </tr>\n",
       "  </thead>\n",
       "  <tbody>\n",
       "    <tr>\n",
       "      <th>Pregnancies</th>\n",
       "      <td>768.0</td>\n",
       "      <td>3.845052</td>\n",
       "      <td>3.369578</td>\n",
       "      <td>0.000</td>\n",
       "      <td>1.00000</td>\n",
       "      <td>3.0000</td>\n",
       "      <td>6.00000</td>\n",
       "      <td>17.00</td>\n",
       "    </tr>\n",
       "    <tr>\n",
       "      <th>Glucose</th>\n",
       "      <td>768.0</td>\n",
       "      <td>120.894531</td>\n",
       "      <td>31.972618</td>\n",
       "      <td>0.000</td>\n",
       "      <td>99.00000</td>\n",
       "      <td>117.0000</td>\n",
       "      <td>140.25000</td>\n",
       "      <td>199.00</td>\n",
       "    </tr>\n",
       "    <tr>\n",
       "      <th>BloodPressure</th>\n",
       "      <td>768.0</td>\n",
       "      <td>69.105469</td>\n",
       "      <td>19.355807</td>\n",
       "      <td>0.000</td>\n",
       "      <td>62.00000</td>\n",
       "      <td>72.0000</td>\n",
       "      <td>80.00000</td>\n",
       "      <td>122.00</td>\n",
       "    </tr>\n",
       "    <tr>\n",
       "      <th>SkinThickness</th>\n",
       "      <td>768.0</td>\n",
       "      <td>20.536458</td>\n",
       "      <td>15.952218</td>\n",
       "      <td>0.000</td>\n",
       "      <td>0.00000</td>\n",
       "      <td>23.0000</td>\n",
       "      <td>32.00000</td>\n",
       "      <td>99.00</td>\n",
       "    </tr>\n",
       "    <tr>\n",
       "      <th>Insulin</th>\n",
       "      <td>768.0</td>\n",
       "      <td>79.799479</td>\n",
       "      <td>115.244002</td>\n",
       "      <td>0.000</td>\n",
       "      <td>0.00000</td>\n",
       "      <td>30.5000</td>\n",
       "      <td>127.25000</td>\n",
       "      <td>846.00</td>\n",
       "    </tr>\n",
       "    <tr>\n",
       "      <th>BMI</th>\n",
       "      <td>768.0</td>\n",
       "      <td>31.992578</td>\n",
       "      <td>7.884160</td>\n",
       "      <td>0.000</td>\n",
       "      <td>27.30000</td>\n",
       "      <td>32.0000</td>\n",
       "      <td>36.60000</td>\n",
       "      <td>67.10</td>\n",
       "    </tr>\n",
       "    <tr>\n",
       "      <th>DiabetesPedigreeFunction</th>\n",
       "      <td>768.0</td>\n",
       "      <td>0.471876</td>\n",
       "      <td>0.331329</td>\n",
       "      <td>0.078</td>\n",
       "      <td>0.24375</td>\n",
       "      <td>0.3725</td>\n",
       "      <td>0.62625</td>\n",
       "      <td>2.42</td>\n",
       "    </tr>\n",
       "    <tr>\n",
       "      <th>Age</th>\n",
       "      <td>768.0</td>\n",
       "      <td>33.240885</td>\n",
       "      <td>11.760232</td>\n",
       "      <td>21.000</td>\n",
       "      <td>24.00000</td>\n",
       "      <td>29.0000</td>\n",
       "      <td>41.00000</td>\n",
       "      <td>81.00</td>\n",
       "    </tr>\n",
       "    <tr>\n",
       "      <th>Outcome</th>\n",
       "      <td>768.0</td>\n",
       "      <td>0.348958</td>\n",
       "      <td>0.476951</td>\n",
       "      <td>0.000</td>\n",
       "      <td>0.00000</td>\n",
       "      <td>0.0000</td>\n",
       "      <td>1.00000</td>\n",
       "      <td>1.00</td>\n",
       "    </tr>\n",
       "  </tbody>\n",
       "</table>\n",
       "</div>"
      ],
      "text/plain": [
       "                          count        mean         std     min       25%  \\\n",
       "Pregnancies               768.0    3.845052    3.369578   0.000   1.00000   \n",
       "Glucose                   768.0  120.894531   31.972618   0.000  99.00000   \n",
       "BloodPressure             768.0   69.105469   19.355807   0.000  62.00000   \n",
       "SkinThickness             768.0   20.536458   15.952218   0.000   0.00000   \n",
       "Insulin                   768.0   79.799479  115.244002   0.000   0.00000   \n",
       "BMI                       768.0   31.992578    7.884160   0.000  27.30000   \n",
       "DiabetesPedigreeFunction  768.0    0.471876    0.331329   0.078   0.24375   \n",
       "Age                       768.0   33.240885   11.760232  21.000  24.00000   \n",
       "Outcome                   768.0    0.348958    0.476951   0.000   0.00000   \n",
       "\n",
       "                               50%        75%     max  \n",
       "Pregnancies                 3.0000    6.00000   17.00  \n",
       "Glucose                   117.0000  140.25000  199.00  \n",
       "BloodPressure              72.0000   80.00000  122.00  \n",
       "SkinThickness              23.0000   32.00000   99.00  \n",
       "Insulin                    30.5000  127.25000  846.00  \n",
       "BMI                        32.0000   36.60000   67.10  \n",
       "DiabetesPedigreeFunction    0.3725    0.62625    2.42  \n",
       "Age                        29.0000   41.00000   81.00  \n",
       "Outcome                     0.0000    1.00000    1.00  "
      ]
     },
     "execution_count": 19,
     "metadata": {},
     "output_type": "execute_result"
    }
   ],
   "source": [
    "# Bağımsız değişkenleri bir özetlersek;\n",
    "\n",
    "df.describe().T"
   ]
  },
  {
   "cell_type": "code",
   "execution_count": 20,
   "metadata": {},
   "outputs": [
    {
     "data": {
      "image/png": "[encoded data removed]",
      "text/plain": [
       "<Figure size 640x480 with 1 Axes>"
      ]
     },
     "metadata": {},
     "output_type": "display_data"
    }
   ],
   "source": [
    "# Yukarıda sayısal değişkenlerin özet tablosuna baktık;\n",
    "# Bu sayısal değişkenleri görselleştirmek istersek;\n",
    "\n",
    "# Sayısal değişkenleri görselleştirmek istersek; \n",
    "# Kutu grafik ve histogram olmak üzere, öncelikli olarak aklımıza iki grafik türünün gelmesi gerekir.\n",
    "\n",
    "df[\"BloodPressure\"].hist(bins=20)\n",
    "plt.xlabel(\"BloodPressure\")\n",
    "plt.show()\n"
   ]
  },
  {
   "cell_type": "code",
   "execution_count": 21,
   "metadata": {},
   "outputs": [],
   "source": [
    "# Yukarıdaki işlemi fonksiyonlaştırıp, numerik sütunları görebileceğimiz bir fonksiyon tanımlayalım;\n",
    "\n",
    "def plot_numerical_col(dataframe, numerical_col):\n",
    "    dataframe[numerical_col].hist(bins=20)\n",
    "    plt.xlabel(numerical_col)\n",
    "    plt.show(block=True)\n",
    "\n",
    "# \"block=True\" argümanını eklememizin sebebi, peş peşe göndereceğimiz grafiklerin üst üste gelmemesini istiyoruz.\n",
    "# Jupyter Notebook da böyle bir problem olmasa da başka IDE'lerde olabilir."
   ]
  },
  {
   "cell_type": "code",
   "execution_count": 22,
   "metadata": {},
   "outputs": [
    {
     "data": {
      "image/png": "[encoded data removed]",
      "text/plain": [
       "<Figure size 640x480 with 1 Axes>"
      ]
     },
     "metadata": {},
     "output_type": "display_data"
    },
    {
     "data": {
      "image/png": "[encoded data removed]",
      "text/plain": [
       "<Figure size 640x480 with 1 Axes>"
      ]
     },
     "metadata": {},
     "output_type": "display_data"
    },
    {
     "data": {
      "image/png": "[encoded data removed]",
      "text/plain": [
       "<Figure size 640x480 with 1 Axes>"
      ]
     },
     "metadata": {},
     "output_type": "display_data"
    },
    {
     "data": {
      "image/png": "[encoded data removed]",
      "text/plain": [
       "<Figure size 640x480 with 1 Axes>"
      ]
     },
     "metadata": {},
     "output_type": "display_data"
    },
    {
     "data": {
      "image/png": "[encoded data removed]",
      "text/plain": [
       "<Figure size 640x480 with 1 Axes>"
      ]
     },
     "metadata": {},
     "output_type": "display_data"
    },
    {
     "data": {
      "image/png": "[encoded data removed]",
      "text/plain": [
       "<Figure size 640x480 with 1 Axes>"
      ]
     },
     "metadata": {},
     "output_type": "display_data"
    },
    {
     "data": {
      "image/png": "[encoded data removed]",
      "text/plain": [
       "<Figure size 640x480 with 1 Axes>"
      ]
     },
     "metadata": {},
     "output_type": "display_data"
    },
    {
     "data": {
      "image/png": "[encoded data removed]",
      "text/plain": [
       "<Figure size 640x480 with 1 Axes>"
      ]
     },
     "metadata": {},
     "output_type": "display_data"
    },
    {
     "data": {
      "image/png": "[encoded data removed]",
      "text/plain": [
       "<Figure size 640x480 with 1 Axes>"
      ]
     },
     "metadata": {},
     "output_type": "display_data"
    }
   ],
   "source": [
    "for col in df.columns:\n",
    "    plot_numerical_col(df, col)"
   ]
  },
  {
   "cell_type": "code",
   "execution_count": 23,
   "metadata": {},
   "outputs": [],
   "source": [
    "# Outcome çıktısını istemezsek;\n",
    "\n",
    "cols = [col for col in df.columns if \"Outcome\" not in col]"
   ]
  },
  {
   "cell_type": "code",
   "execution_count": 24,
   "metadata": {},
   "outputs": [
    {
     "data": {
      "text/html": [
       "<div>\n",
       "<style scoped>\n",
       "    .dataframe tbody tr th:only-of-type {\n",
       "        vertical-align: middle;\n",
       "    }\n",
       "\n",
       "    .dataframe tbody tr th {\n",
       "        vertical-align: top;\n",
       "    }\n",
       "\n",
       "    .dataframe thead th {\n",
       "        text-align: right;\n",
       "    }\n",
       "</style>\n",
       "<table border=\"1\" class=\"dataframe\">\n",
       "  <thead>\n",
       "    <tr style=\"text-align: right;\">\n",
       "      <th></th>\n",
       "      <th>Pregnancies</th>\n",
       "    </tr>\n",
       "    <tr>\n",
       "      <th>Outcome</th>\n",
       "      <th></th>\n",
       "    </tr>\n",
       "  </thead>\n",
       "  <tbody>\n",
       "    <tr>\n",
       "      <th>0</th>\n",
       "      <td>3.298000</td>\n",
       "    </tr>\n",
       "    <tr>\n",
       "      <th>1</th>\n",
       "      <td>4.865672</td>\n",
       "    </tr>\n",
       "  </tbody>\n",
       "</table>\n",
       "</div>"
      ],
      "text/plain": [
       "         Pregnancies\n",
       "Outcome             \n",
       "0           3.298000\n",
       "1           4.865672"
      ]
     },
     "execution_count": 24,
     "metadata": {},
     "output_type": "execute_result"
    }
   ],
   "source": [
    "##########################\n",
    "# Target vs Features\n",
    "##########################\n",
    "\n",
    "df.groupby(\"Outcome\").agg({\"Pregnancies\": \"mean\"})"
   ]
  },
  {
   "attachments": {},
   "cell_type": "markdown",
   "metadata": {},
   "source": [
    "    Yukarıda görüyoruz ki diyabet hastası olanların hamilelik sayısının ortalaması 4.86 iken, hasta olmayanların ortalama hamilelik sayısı ise 3.29'dur."
   ]
  },
  {
   "cell_type": "code",
   "execution_count": 25,
   "metadata": {},
   "outputs": [],
   "source": [
    "def target_summary_with_num(dataframe, target, numerical_col):\n",
    "    print(dataframe.groupby(target).agg({numerical_col: \"mean\"}), end=\"\\n\\n\\n\")"
   ]
  },
  {
   "cell_type": "code",
   "execution_count": 26,
   "metadata": {},
   "outputs": [
    {
     "name": "stdout",
     "output_type": "stream",
     "text": [
      "         Pregnancies\n",
      "Outcome             \n",
      "0           3.298000\n",
      "1           4.865672\n",
      "\n",
      "\n",
      "            Glucose\n",
      "Outcome            \n",
      "0        109.980000\n",
      "1        141.257463\n",
      "\n",
      "\n",
      "         BloodPressure\n",
      "Outcome               \n",
      "0            68.184000\n",
      "1            70.824627\n",
      "\n",
      "\n",
      "         SkinThickness\n",
      "Outcome               \n",
      "0            19.664000\n",
      "1            22.164179\n",
      "\n",
      "\n",
      "            Insulin\n",
      "Outcome            \n",
      "0         68.792000\n",
      "1        100.335821\n",
      "\n",
      "\n",
      "               BMI\n",
      "Outcome           \n",
      "0        30.304200\n",
      "1        35.142537\n",
      "\n",
      "\n",
      "         DiabetesPedigreeFunction\n",
      "Outcome                          \n",
      "0                        0.429734\n",
      "1                        0.550500\n",
      "\n",
      "\n",
      "               Age\n",
      "Outcome           \n",
      "0        31.190000\n",
      "1        37.067164\n",
      "\n",
      "\n"
     ]
    }
   ],
   "source": [
    "# Yukarıdaki cols'da döngü döndürüyoruz;\n",
    "\n",
    "for col in cols:\n",
    "    target_summary_with_num(df, \"Outcome\", col)"
   ]
  },
  {
   "attachments": {},
   "cell_type": "markdown",
   "metadata": {},
   "source": [
    "### 2. Veri Ön İşleme"
   ]
  },
  {
   "cell_type": "code",
   "execution_count": 27,
   "metadata": {},
   "outputs": [
    {
     "data": {
      "text/plain": [
       "(768, 9)"
      ]
     },
     "execution_count": 27,
     "metadata": {},
     "output_type": "execute_result"
    }
   ],
   "source": [
    "df.shape"
   ]
  },
  {
   "cell_type": "code",
   "execution_count": 28,
   "metadata": {},
   "outputs": [
    {
     "data": {
      "text/plain": [
       "Pregnancies                 0\n",
       "Glucose                     0\n",
       "BloodPressure               0\n",
       "SkinThickness               0\n",
       "Insulin                     0\n",
       "BMI                         0\n",
       "DiabetesPedigreeFunction    0\n",
       "Age                         0\n",
       "Outcome                     0\n",
       "dtype: int64"
      ]
     },
     "execution_count": 28,
     "metadata": {},
     "output_type": "execute_result"
    }
   ],
   "source": [
    "# Eksik veri var mı bir ona bakalım;\n",
    "\n",
    "df.isnull().sum()\n",
    "\n",
    "# Eksik veri olmadığını görüyoruz."
   ]
  },
  {
   "attachments": {},
   "cell_type": "markdown",
   "metadata": {},
   "source": [
    "    Ama bakalım gerçekten öyle mi?"
   ]
  },
  {
   "cell_type": "code",
   "execution_count": 29,
   "metadata": {},
   "outputs": [
    {
     "data": {
      "text/html": [
       "<div>\n",
       "<style scoped>\n",
       "    .dataframe tbody tr th:only-of-type {\n",
       "        vertical-align: middle;\n",
       "    }\n",
       "\n",
       "    .dataframe tbody tr th {\n",
       "        vertical-align: top;\n",
       "    }\n",
       "\n",
       "    .dataframe thead th {\n",
       "        text-align: right;\n",
       "    }\n",
       "</style>\n",
       "<table border=\"1\" class=\"dataframe\">\n",
       "  <thead>\n",
       "    <tr style=\"text-align: right;\">\n",
       "      <th></th>\n",
       "      <th>count</th>\n",
       "      <th>mean</th>\n",
       "      <th>std</th>\n",
       "      <th>min</th>\n",
       "      <th>25%</th>\n",
       "      <th>50%</th>\n",
       "      <th>75%</th>\n",
       "      <th>max</th>\n",
       "    </tr>\n",
       "  </thead>\n",
       "  <tbody>\n",
       "    <tr>\n",
       "      <th>Pregnancies</th>\n",
       "      <td>768.0</td>\n",
       "      <td>3.845052</td>\n",
       "      <td>3.369578</td>\n",
       "      <td>0.000</td>\n",
       "      <td>1.00000</td>\n",
       "      <td>3.0000</td>\n",
       "      <td>6.00000</td>\n",
       "      <td>17.00</td>\n",
       "    </tr>\n",
       "    <tr>\n",
       "      <th>Glucose</th>\n",
       "      <td>768.0</td>\n",
       "      <td>120.894531</td>\n",
       "      <td>31.972618</td>\n",
       "      <td>0.000</td>\n",
       "      <td>99.00000</td>\n",
       "      <td>117.0000</td>\n",
       "      <td>140.25000</td>\n",
       "      <td>199.00</td>\n",
       "    </tr>\n",
       "    <tr>\n",
       "      <th>BloodPressure</th>\n",
       "      <td>768.0</td>\n",
       "      <td>69.105469</td>\n",
       "      <td>19.355807</td>\n",
       "      <td>0.000</td>\n",
       "      <td>62.00000</td>\n",
       "      <td>72.0000</td>\n",
       "      <td>80.00000</td>\n",
       "      <td>122.00</td>\n",
       "    </tr>\n",
       "    <tr>\n",
       "      <th>SkinThickness</th>\n",
       "      <td>768.0</td>\n",
       "      <td>20.536458</td>\n",
       "      <td>15.952218</td>\n",
       "      <td>0.000</td>\n",
       "      <td>0.00000</td>\n",
       "      <td>23.0000</td>\n",
       "      <td>32.00000</td>\n",
       "      <td>99.00</td>\n",
       "    </tr>\n",
       "    <tr>\n",
       "      <th>Insulin</th>\n",
       "      <td>768.0</td>\n",
       "      <td>79.799479</td>\n",
       "      <td>115.244002</td>\n",
       "      <td>0.000</td>\n",
       "      <td>0.00000</td>\n",
       "      <td>30.5000</td>\n",
       "      <td>127.25000</td>\n",
       "      <td>846.00</td>\n",
       "    </tr>\n",
       "    <tr>\n",
       "      <th>BMI</th>\n",
       "      <td>768.0</td>\n",
       "      <td>31.992578</td>\n",
       "      <td>7.884160</td>\n",
       "      <td>0.000</td>\n",
       "      <td>27.30000</td>\n",
       "      <td>32.0000</td>\n",
       "      <td>36.60000</td>\n",
       "      <td>67.10</td>\n",
       "    </tr>\n",
       "    <tr>\n",
       "      <th>DiabetesPedigreeFunction</th>\n",
       "      <td>768.0</td>\n",
       "      <td>0.471876</td>\n",
       "      <td>0.331329</td>\n",
       "      <td>0.078</td>\n",
       "      <td>0.24375</td>\n",
       "      <td>0.3725</td>\n",
       "      <td>0.62625</td>\n",
       "      <td>2.42</td>\n",
       "    </tr>\n",
       "    <tr>\n",
       "      <th>Age</th>\n",
       "      <td>768.0</td>\n",
       "      <td>33.240885</td>\n",
       "      <td>11.760232</td>\n",
       "      <td>21.000</td>\n",
       "      <td>24.00000</td>\n",
       "      <td>29.0000</td>\n",
       "      <td>41.00000</td>\n",
       "      <td>81.00</td>\n",
       "    </tr>\n",
       "    <tr>\n",
       "      <th>Outcome</th>\n",
       "      <td>768.0</td>\n",
       "      <td>0.348958</td>\n",
       "      <td>0.476951</td>\n",
       "      <td>0.000</td>\n",
       "      <td>0.00000</td>\n",
       "      <td>0.0000</td>\n",
       "      <td>1.00000</td>\n",
       "      <td>1.00</td>\n",
       "    </tr>\n",
       "  </tbody>\n",
       "</table>\n",
       "</div>"
      ],
      "text/plain": [
       "                          count        mean         std     min       25%  \\\n",
       "Pregnancies               768.0    3.845052    3.369578   0.000   1.00000   \n",
       "Glucose                   768.0  120.894531   31.972618   0.000  99.00000   \n",
       "BloodPressure             768.0   69.105469   19.355807   0.000  62.00000   \n",
       "SkinThickness             768.0   20.536458   15.952218   0.000   0.00000   \n",
       "Insulin                   768.0   79.799479  115.244002   0.000   0.00000   \n",
       "BMI                       768.0   31.992578    7.884160   0.000  27.30000   \n",
       "DiabetesPedigreeFunction  768.0    0.471876    0.331329   0.078   0.24375   \n",
       "Age                       768.0   33.240885   11.760232  21.000  24.00000   \n",
       "Outcome                   768.0    0.348958    0.476951   0.000   0.00000   \n",
       "\n",
       "                               50%        75%     max  \n",
       "Pregnancies                 3.0000    6.00000   17.00  \n",
       "Glucose                   117.0000  140.25000  199.00  \n",
       "BloodPressure              72.0000   80.00000  122.00  \n",
       "SkinThickness              23.0000   32.00000   99.00  \n",
       "Insulin                    30.5000  127.25000  846.00  \n",
       "BMI                        32.0000   36.60000   67.10  \n",
       "DiabetesPedigreeFunction    0.3725    0.62625    2.42  \n",
       "Age                        29.0000   41.00000   81.00  \n",
       "Outcome                     0.0000    1.00000    1.00  "
      ]
     },
     "execution_count": 29,
     "metadata": {},
     "output_type": "execute_result"
    }
   ],
   "source": [
    "df.describe().T"
   ]
  },
  {
   "attachments": {},
   "cell_type": "markdown",
   "metadata": {},
   "source": [
    "    Yukarıya bakıldığında hamilelik sayısının minimum değerinin 0 olduğu gözüküyor. Bu pek tabi anlaşılabilir.\n",
    "    Lakin, \"BloodPressure\" yani kan basıncının 0 olduğunu görüyoruz, yani kalbin atmadığı anlamına mı geliyor bu?\n",
    "    Ayrıca; Insulin, BMI (Vücut Kitle Indeksinin), SkinThickness (Deri Kalınlığının), Glucose değerlerinin de sıfır olduğunu görüyoruz."
   ]
  },
  {
   "attachments": {},
   "cell_type": "markdown",
   "metadata": {},
   "source": [
    "##### NOT!!! : Anlıyoruz ki bu veri setindeki eksik değerler \"0\" ile doldurulmuş."
   ]
  },
  {
   "attachments": {},
   "cell_type": "markdown",
   "metadata": {},
   "source": [
    "Lakin biz veri ön işleme eğitiminde olmadığımız için bu kısımları düzeltmek adına bir aksiyon almayacağız. Lakin bu durumların da farkında olunması gerekir.\n",
    "\n",
    "Ayrıca anlıyoruz ki veri analizinde **\"domain knowledge\"** önemli bir yere sahiptir."
   ]
  },
  {
   "cell_type": "code",
   "execution_count": 30,
   "metadata": {},
   "outputs": [
    {
     "name": "stdout",
     "output_type": "stream",
     "text": [
      "Pregnancies False\n",
      "Glucose False\n",
      "BloodPressure False\n",
      "SkinThickness False\n",
      "Insulin True\n",
      "BMI False\n",
      "DiabetesPedigreeFunction False\n",
      "Age False\n"
     ]
    }
   ],
   "source": [
    "# Aykırı değer var mı bakalım;\n",
    "\n",
    "for col in cols:\n",
    "    print(col, check_outlier(df, col))\n",
    "\n",
    "# Sadece insulin değişkeninde aykırı değer olduğu gözüküyor."
   ]
  },
  {
   "cell_type": "code",
   "execution_count": 31,
   "metadata": {},
   "outputs": [],
   "source": [
    "# Aykırı değerleri eşik değerler ile değiştirelim;\n",
    "\n",
    "replace_with_thresholds(df, \"Insulin\")"
   ]
  },
  {
   "cell_type": "code",
   "execution_count": 32,
   "metadata": {},
   "outputs": [
    {
     "name": "stdout",
     "output_type": "stream",
     "text": [
      "Pregnancies False\n",
      "Glucose False\n",
      "BloodPressure False\n",
      "SkinThickness False\n",
      "Insulin False\n",
      "BMI False\n",
      "DiabetesPedigreeFunction False\n",
      "Age False\n"
     ]
    }
   ],
   "source": [
    "# Aykırı değerleri bir daha kontrol edelim;\n",
    "\n",
    "for col in cols:\n",
    "    print(col, check_outlier(df, col))\n",
    "\n",
    "# Aykırı değer problemini gözdük."
   ]
  },
  {
   "cell_type": "code",
   "execution_count": 33,
   "metadata": {},
   "outputs": [],
   "source": [
    "# Veri ön işleme ile ilgili yapılması gereken bir başka şey ise;\n",
    "# Verinin standartlaştırılmasıdır (scale edilmesidir).\n",
    "\n",
    "# Doğrusal yöntemlerde, uzaklık temelli yöntemlerde ve gradient descent kullanan yöntemlerde;\n",
    "# standartlaştırma işlemleri genelde önem taşır."
   ]
  },
  {
   "attachments": {},
   "cell_type": "markdown",
   "metadata": {},
   "source": [
    "    Standartlaştırma şu açılardan önemlidir;\n",
    "\n",
    "* Modellerin, modelde kullanılacak değişkenlere eşit derecede yaklaşması gerekmektedir. (Örneğin değer olarak büyük değişkenlerin, değer olarak küçük değişkenlerden daha önemli olmadığını modele ifade etmemiz gerekir.)\n",
    "\n",
    "* Kullanılan parametre tahmin yöntemlerinin daha hızlı ve daha doğru tahminlerde bulunması için değişken standartlaştırmayı tercih ederiz.\n"
   ]
  },
  {
   "cell_type": "code",
   "execution_count": 34,
   "metadata": {},
   "outputs": [],
   "source": [
    "# Burada biz robustscaler ile değişkenlerimiz scale edeceğiz;\n",
    "\n",
    "# Robust Scaler ile standart scaler arasıdaki farkı bir hatırlayacak olursak;\n",
    "# Robust Scaler aykırı değişkenlerden daha az etkilenmektedir.\n",
    "\n",
    "\n",
    "# Standart scaler hesaplanırken kullanılan;\n",
    "# ortalama ve standart sapma değişkenin değerleri (gözlemler) kullanılarak hesaplandığı için,\n",
    "# hem ortalama hem de standart sapma aykırı değerlerden etkilenen parametrelerdir.\n",
    "\n",
    "# Şimdi aşağıda değişkenlerimi scale edelim;\n",
    "\n",
    "for col in cols:\n",
    "    df[col] = RobustScaler().fit_transform(df[[col]])"
   ]
  },
  {
   "cell_type": "code",
   "execution_count": 35,
   "metadata": {},
   "outputs": [
    {
     "data": {
      "text/html": [
       "<div>\n",
       "<style scoped>\n",
       "    .dataframe tbody tr th:only-of-type {\n",
       "        vertical-align: middle;\n",
       "    }\n",
       "\n",
       "    .dataframe tbody tr th {\n",
       "        vertical-align: top;\n",
       "    }\n",
       "\n",
       "    .dataframe thead th {\n",
       "        text-align: right;\n",
       "    }\n",
       "</style>\n",
       "<table border=\"1\" class=\"dataframe\">\n",
       "  <thead>\n",
       "    <tr style=\"text-align: right;\">\n",
       "      <th></th>\n",
       "      <th>Pregnancies</th>\n",
       "      <th>Glucose</th>\n",
       "      <th>BloodPressure</th>\n",
       "      <th>SkinThickness</th>\n",
       "      <th>Insulin</th>\n",
       "      <th>BMI</th>\n",
       "      <th>DiabetesPedigreeFunction</th>\n",
       "      <th>Age</th>\n",
       "      <th>Outcome</th>\n",
       "    </tr>\n",
       "  </thead>\n",
       "  <tbody>\n",
       "    <tr>\n",
       "      <th>0</th>\n",
       "      <td>0.6</td>\n",
       "      <td>0.751515</td>\n",
       "      <td>0.000000</td>\n",
       "      <td>0.37500</td>\n",
       "      <td>-0.239686</td>\n",
       "      <td>0.172043</td>\n",
       "      <td>0.665359</td>\n",
       "      <td>1.235294</td>\n",
       "      <td>1</td>\n",
       "    </tr>\n",
       "    <tr>\n",
       "      <th>1</th>\n",
       "      <td>-0.4</td>\n",
       "      <td>-0.775758</td>\n",
       "      <td>-0.333333</td>\n",
       "      <td>0.18750</td>\n",
       "      <td>-0.239686</td>\n",
       "      <td>-0.580645</td>\n",
       "      <td>-0.056209</td>\n",
       "      <td>0.117647</td>\n",
       "      <td>0</td>\n",
       "    </tr>\n",
       "    <tr>\n",
       "      <th>2</th>\n",
       "      <td>1.0</td>\n",
       "      <td>1.600000</td>\n",
       "      <td>-0.444444</td>\n",
       "      <td>-0.71875</td>\n",
       "      <td>-0.239686</td>\n",
       "      <td>-0.935484</td>\n",
       "      <td>0.783007</td>\n",
       "      <td>0.176471</td>\n",
       "      <td>1</td>\n",
       "    </tr>\n",
       "    <tr>\n",
       "      <th>3</th>\n",
       "      <td>-0.4</td>\n",
       "      <td>-0.678788</td>\n",
       "      <td>-0.333333</td>\n",
       "      <td>0.00000</td>\n",
       "      <td>0.499018</td>\n",
       "      <td>-0.419355</td>\n",
       "      <td>-0.537255</td>\n",
       "      <td>-0.470588</td>\n",
       "      <td>0</td>\n",
       "    </tr>\n",
       "    <tr>\n",
       "      <th>4</th>\n",
       "      <td>-0.6</td>\n",
       "      <td>0.484848</td>\n",
       "      <td>-1.777778</td>\n",
       "      <td>0.37500</td>\n",
       "      <td>1.080550</td>\n",
       "      <td>1.193548</td>\n",
       "      <td>5.007843</td>\n",
       "      <td>0.235294</td>\n",
       "      <td>1</td>\n",
       "    </tr>\n",
       "  </tbody>\n",
       "</table>\n",
       "</div>"
      ],
      "text/plain": [
       "   Pregnancies   Glucose  BloodPressure  SkinThickness   Insulin       BMI  \\\n",
       "0          0.6  0.751515       0.000000        0.37500 -0.239686  0.172043   \n",
       "1         -0.4 -0.775758      -0.333333        0.18750 -0.239686 -0.580645   \n",
       "2          1.0  1.600000      -0.444444       -0.71875 -0.239686 -0.935484   \n",
       "3         -0.4 -0.678788      -0.333333        0.00000  0.499018 -0.419355   \n",
       "4         -0.6  0.484848      -1.777778        0.37500  1.080550  1.193548   \n",
       "\n",
       "   DiabetesPedigreeFunction       Age  Outcome  \n",
       "0                  0.665359  1.235294        1  \n",
       "1                 -0.056209  0.117647        0  \n",
       "2                  0.783007  0.176471        1  \n",
       "3                 -0.537255 -0.470588        0  \n",
       "4                  5.007843  0.235294        1  "
      ]
     },
     "execution_count": 35,
     "metadata": {},
     "output_type": "execute_result"
    }
   ],
   "source": [
    "# Verimize hızlı bir göz atalım;\n",
    "\n",
    "df.head()"
   ]
  },
  {
   "attachments": {},
   "cell_type": "markdown",
   "metadata": {},
   "source": [
    "### 3. Modelleme ve Tahmin Etme"
   ]
  },
  {
   "cell_type": "code",
   "execution_count": 36,
   "metadata": {},
   "outputs": [],
   "source": [
    "# Modele belirtmeden önce, bağımlı ve bağımsız değişkenlerimizi tanımlayalım;\n",
    "\n",
    "y = df[\"Outcome\"]\n",
    "\n",
    "X = df.drop([\"Outcome\"], axis=1)"
   ]
  },
  {
   "cell_type": "code",
   "execution_count": 37,
   "metadata": {},
   "outputs": [],
   "source": [
    "# Modelimizi kurup fit edelim;\n",
    "\n",
    "log_model = LogisticRegression().fit(X, y)"
   ]
  },
  {
   "cell_type": "code",
   "execution_count": 38,
   "metadata": {},
   "outputs": [
    {
     "data": {
      "text/plain": [
       "array([-1.23439588])"
      ]
     },
     "execution_count": 38,
     "metadata": {},
     "output_type": "execute_result"
    }
   ],
   "source": [
    "# Modelin sabitine erişmek istersek;\n",
    "\n",
    "log_model.intercept_"
   ]
  },
  {
   "cell_type": "code",
   "execution_count": 39,
   "metadata": {},
   "outputs": [
    {
     "data": {
      "text/plain": [
       "array([[ 0.59906785,  1.41770936, -0.23152362,  0.01973855, -0.14571255,\n",
       "         0.81741997,  0.35522795,  0.25655154]])"
      ]
     },
     "execution_count": 39,
     "metadata": {},
     "output_type": "execute_result"
    }
   ],
   "source": [
    "# Modelin katsayılarına erişmek istersek;\n",
    "\n",
    "log_model.coef_"
   ]
  },
  {
   "cell_type": "code",
   "execution_count": 40,
   "metadata": {},
   "outputs": [],
   "source": [
    "# Şimdi önceki verielrden yola çıkarak tahminde bulunalım;\n",
    "\n",
    "y_pred = log_model.predict(X)"
   ]
  },
  {
   "cell_type": "code",
   "execution_count": 41,
   "metadata": {},
   "outputs": [
    {
     "data": {
      "text/plain": [
       "array([1, 0, 1, 0, 1, 0, 0, 1, 1, 0])"
      ]
     },
     "execution_count": 41,
     "metadata": {},
     "output_type": "execute_result"
    }
   ],
   "source": [
    "# Tahmin sonuçlarımız;\n",
    "\n",
    "y_pred[0:10]"
   ]
  },
  {
   "cell_type": "code",
   "execution_count": 42,
   "metadata": {},
   "outputs": [
    {
     "data": {
      "text/plain": [
       "0    1\n",
       "1    0\n",
       "2    1\n",
       "3    0\n",
       "4    1\n",
       "5    0\n",
       "6    1\n",
       "7    0\n",
       "8    1\n",
       "9    1\n",
       "Name: Outcome, dtype: int64"
      ]
     },
     "execution_count": 42,
     "metadata": {},
     "output_type": "execute_result"
    }
   ],
   "source": [
    "# Gerçek değerler;\n",
    "\n",
    "y[0:10]"
   ]
  },
  {
   "attachments": {},
   "cell_type": "markdown",
   "metadata": {},
   "source": [
    "### 4. Model Başarı Değerlendirme"
   ]
  },
  {
   "cell_type": "code",
   "execution_count": 43,
   "metadata": {},
   "outputs": [],
   "source": [
    "# Karmaşıklık matrisini görebilmek için bir fonksiyon tanımlayalım;\n",
    "\n",
    "def plot_confusion_matrix(y, y_pred):\n",
    "    acc = round(accuracy_score(y, y_pred), 2)\n",
    "    cm = confusion_matrix(y, y_pred)\n",
    "    sns.heatmap(cm, annot=True, fmt=\".0f\")\n",
    "    # \"annot=True\" argümanı ile ilgili değeri karenin ortasına yazdırıyoruz.\n",
    "    # \"fmt= argümanı\" ile de gösterilecek sayının formatını giriyoruz.\n",
    "    \n",
    "    plt.xlabel('y_pred')\n",
    "    plt.ylabel('y')\n",
    "    plt.title('Accuracy Score: {0}'.format(acc), size=10)\n",
    "    plt.show()"
   ]
  },
  {
   "cell_type": "code",
   "execution_count": 44,
   "metadata": {},
   "outputs": [
    {
     "data": {
      "image/png": "[encoded data removed]",
      "text/plain": [
       "<Figure size 640x480 with 2 Axes>"
      ]
     },
     "metadata": {},
     "output_type": "display_data"
    }
   ],
   "source": [
    "plot_confusion_matrix(y, y_pred)"
   ]
  },
  {
   "cell_type": "code",
   "execution_count": 45,
   "metadata": {},
   "outputs": [
    {
     "name": "stdout",
     "output_type": "stream",
     "text": [
      "              precision    recall  f1-score   support\n",
      "\n",
      "           0       0.80      0.89      0.84       500\n",
      "           1       0.74      0.58      0.65       268\n",
      "\n",
      "    accuracy                           0.78       768\n",
      "   macro avg       0.77      0.74      0.75       768\n",
      "weighted avg       0.78      0.78      0.78       768\n",
      "\n"
     ]
    }
   ],
   "source": [
    "# İlgili metriklerin hesaplandığı fonksiyonumuzu çağıralım;\n",
    "\n",
    "print(classification_report(y, y_pred))\n",
    "\n",
    "# Biz tabloyu \"1\" sınıfının başarı metriklerine göre yorumluyor olcağız.\n",
    "# support ise frekansdır, \"1\" ve \"0\" gruplarının görülme sıklığıdır."
   ]
  },
  {
   "attachments": {},
   "cell_type": "markdown",
   "metadata": {},
   "source": [
    "                           Precision                                             Recall"
   ]
  },
  {
   "attachments": {},
   "cell_type": "markdown",
   "metadata": {},
   "source": [
    "<p align=\"left\">\n",
    "  <img src=\"grafikler/LR_6.png\" height=150 >\n",
    "  <img src=\"grafikler/LR_7.png\" height=150 >\n",
    "</p>\n"
   ]
  },
  {
   "attachments": {},
   "cell_type": "markdown",
   "metadata": {},
   "source": [
    "    Yukarıdaki tablloya baktığımızda \"1\" sınıfının precision değerinin 0.74 olduğunu görüyoruz, yani bu ne demek?\n",
    "\n",
    "* 1 olarak yaptığımız tahminlerin %74'ü başarılıdır."
   ]
  },
  {
   "attachments": {},
   "cell_type": "markdown",
   "metadata": {},
   "source": [
    "    Recall değeri ise 0.58'dir.\n",
    "\n",
    "* Yani 1 olanları %58 oran ile doğru sınıflandırabilmişiz."
   ]
  },
  {
   "cell_type": "code",
   "execution_count": 46,
   "metadata": {},
   "outputs": [
    {
     "name": "stdout",
     "output_type": "stream",
     "text": [
      "              precision    recall  f1-score   support\n",
      "\n",
      "           0       0.80      0.89      0.84       500\n",
      "           1       0.74      0.58      0.65       268\n",
      "\n",
      "    accuracy                           0.78       768\n",
      "   macro avg       0.77      0.74      0.75       768\n",
      "weighted avg       0.78      0.78      0.78       768\n",
      "\n"
     ]
    }
   ],
   "source": [
    "# Aşağıdaki tablonun diğer satırlarını da yorumlayalım;\n",
    "\n",
    "print(classification_report(y, y_pred))"
   ]
  },
  {
   "cell_type": "code",
   "execution_count": 47,
   "metadata": {},
   "outputs": [],
   "source": [
    "# Yukarıda 1 grubuna ait olan çıktıları yorumlayacağımızı söylemiştik.\n",
    "# Çıktılarımızı 0 grubuna göre de yorumlayabiliriz. Lakin yaygın olan 1 sınıfına ait olan çıktıları yorumlamaktır.\n",
    "\n",
    "# Eğer ki ortalama bir yorumlama yapmak istersek ise;\n",
    "\n",
    "# \"macro avg\", ilgili metriklerin aritmetik ortalaması iken;\n",
    "# \"weight avg\", ilgili metriklerin ağırlıklı ortalamasıdır.\n"
   ]
  },
  {
   "attachments": {},
   "cell_type": "markdown",
   "metadata": {},
   "source": [
    "##### Modelimizin başarısına bir de ROC eğrisi ile bakalım."
   ]
  },
  {
   "cell_type": "code",
   "execution_count": 48,
   "metadata": {},
   "outputs": [
    {
     "data": {
      "text/plain": [
       "array([[0.28359381, 0.71640619],\n",
       "       [0.94894448, 0.05105552],\n",
       "       [0.21158782, 0.78841218],\n",
       "       ...,\n",
       "       [0.82688728, 0.17311272],\n",
       "       [0.71234466, 0.28765534],\n",
       "       [0.92538489, 0.07461511]])"
      ]
     },
     "execution_count": 48,
     "metadata": {},
     "output_type": "execute_result"
    }
   ],
   "source": [
    "# ROC AUC\n",
    "y_prob = log_model.predict_proba(X)\n",
    "y_prob\n",
    "\n",
    "# \".predict_proba()\" metodunun çıktısı, ikili listeler halindedir.\n",
    "# listenin birinci elemanı \"0\" çıktısının gerçekleşme olasılığını ifade ederken,\n",
    "# listenin ikinci elemanı \"1\" çıktısının gerçekleşme olasılığını ifade eder."
   ]
  },
  {
   "cell_type": "code",
   "execution_count": 49,
   "metadata": {},
   "outputs": [
    {
     "data": {
      "text/plain": [
       "0.8393955223880598"
      ]
     },
     "execution_count": 49,
     "metadata": {},
     "output_type": "execute_result"
    }
   ],
   "source": [
    "# Bizim için önemli olan bu case'de \"1\" çıktısını gerçekleşme olasılığıdır.\n",
    "# Bu sebeple listenin 2. elemanına ihtiyacımız vardır.\n",
    "\n",
    "y_prob = log_model.predict_proba(X)[:, 1]\n",
    "roc_auc_score(y, y_prob)\n",
    "\n",
    "# \"roc_auc_score()\" fonksiyonu ile ROC eğrisi altında kalan alan hesaplanılır.\n",
    "# Bu fonksiyona da ilk önce gerçek y daha sonra ise tahmin edilen y değerleri olmak üzere iki parametre gönderilir."
   ]
  },
  {
   "attachments": {},
   "cell_type": "markdown",
   "metadata": {},
   "source": [
    "    Yukarıda modelimizi kurarken kullandığımız veri seti üzerinde bir bölme işlemi gerçekleştirmedik. Yani modeli eğittiğimiz veri üzerinde test işlemlerini gerçekleştirdik. Bu sebeple, modelimizi doğrulama ihtiyacı ortaya çıktı."
   ]
  },
  {
   "attachments": {},
   "cell_type": "markdown",
   "metadata": {},
   "source": [
    "### 5. Model Doğrulama (Model Validation)\n",
    "\n",
    "    Holdout"
   ]
  },
  {
   "cell_type": "code",
   "execution_count": 50,
   "metadata": {},
   "outputs": [],
   "source": [
    "# Veri setimizi test ve train olarak %80 Train, %20 Test olacak şekilde ikiye bölelim.\n",
    "\n",
    "X_train, X_test, y_train, y_test = train_test_split(X,\n",
    "                                                    y,\n",
    "                                                    test_size=0.20, random_state=17)\n",
    "\n",
    "# Random state daha sonra bu işlemleri deneyecek olan kişilerin aynı sonucu alması için yazılmış bir parametredir."
   ]
  },
  {
   "cell_type": "code",
   "execution_count": 51,
   "metadata": {},
   "outputs": [],
   "source": [
    "# Şimdi train veri seti ile modelimizi bir kez daha fit edelim;\n",
    "\n",
    "log_model = LogisticRegression().fit(X_train, y_train)"
   ]
  },
  {
   "cell_type": "code",
   "execution_count": 52,
   "metadata": {},
   "outputs": [],
   "source": [
    "# Kurulan modele göre test verimizi tahmin edelim;\n",
    "\n",
    "y_pred = log_model.predict(X_test)"
   ]
  },
  {
   "cell_type": "code",
   "execution_count": 53,
   "metadata": {},
   "outputs": [],
   "source": [
    "# Tahmin edilen değerlerin \"1\" sınıfına ait olma olasılıklarını hesaplayalım;\n",
    "\n",
    "y_prob = log_model.predict_proba(X_test)[:, 1]"
   ]
  },
  {
   "cell_type": "code",
   "execution_count": 54,
   "metadata": {},
   "outputs": [
    {
     "name": "stdout",
     "output_type": "stream",
     "text": [
      "              precision    recall  f1-score   support\n",
      "\n",
      "           0       0.77      0.92      0.84        97\n",
      "           1       0.79      0.53      0.63        57\n",
      "\n",
      "    accuracy                           0.77       154\n",
      "   macro avg       0.78      0.72      0.73       154\n",
      "weighted avg       0.78      0.77      0.76       154\n",
      "\n"
     ]
    }
   ],
   "source": [
    "# Model çıktılarını kontrol edelim;\n",
    "\n",
    "print(classification_report(y_test, y_pred))"
   ]
  },
  {
   "cell_type": "code",
   "execution_count": 55,
   "metadata": {},
   "outputs": [],
   "source": [
    "# Veri Setini Test ve Train diye bölmeden önce sonuçlar;  \n",
    "                                                         \n",
    "#               precision    recall  f1-score   support             \n",
    "                                                         \n",
    "#            0       0.80      0.89      0.84       500     \n",
    "#            1       0.74      0.58      0.65       268     \n",
    "   \n",
    "#     accuracy                           0.78       768\n",
    "#    macro avg       0.77      0.74      0.75       768\n",
    "# weighted avg       0.78      0.78      0.78       768\n",
    "\n",
    "\n",
    "# Veri Setini Test ve Train olarak ikiye böldükten sonra sonuçlar;\n",
    "#               precision    recall  f1-score   support\n",
    "\n",
    "#            0       0.77      0.92      0.84        97\n",
    "#            1       0.79      0.53      0.63        57\n",
    "\n",
    "#     accuracy                           0.77       154\n",
    "#    macro avg       0.78      0.72      0.73       154\n",
    "# weighted avg       0.78      0.77      0.76       154"
   ]
  },
  {
   "attachments": {},
   "cell_type": "markdown",
   "metadata": {},
   "source": [
    "    Recall 0.58'den, 0.53'e düşmüş durumda, bu konuda bir eleştiri gelebilir. Yani modelimi test ve train olarak ikiye böldükten sonra modelimin başarısında bir azalma olmuştur."
   ]
  },
  {
   "cell_type": "code",
   "execution_count": 56,
   "metadata": {},
   "outputs": [
    {
     "name": "stderr",
     "output_type": "stream",
     "text": [
      "/Users/emintaskent/opt/anaconda3/lib/python3.9/site-packages/sklearn/utils/deprecation.py:87: FutureWarning: Function plot_roc_curve is deprecated; Function :func:`plot_roc_curve` is deprecated in 1.0 and will be removed in 1.2. Use one of the class methods: :meth:`sklearn.metric.RocCurveDisplay.from_predictions` or :meth:`sklearn.metric.RocCurveDisplay.from_estimator`.\n",
      "  warnings.warn(msg, category=FutureWarning)\n"
     ]
    },
    {
     "data": {
      "image/png": "[encoded data removed]",
      "text/plain": [
       "<Figure size 640x480 with 1 Axes>"
      ]
     },
     "metadata": {},
     "output_type": "display_data"
    }
   ],
   "source": [
    "# ROC Curve'i de çizdirmek istersek;\n",
    "\n",
    "plot_roc_curve(log_model, X_test, y_test)\n",
    "plt.title('ROC Curve')\n",
    "plt.plot([0, 1], [0, 1], 'r--')\n",
    "plt.show()"
   ]
  },
  {
   "attachments": {},
   "cell_type": "markdown",
   "metadata": {},
   "source": [
    "### Model Doğrulama: 10 Katlı Çapraz Doğrulama (10-Fold Cross Validation)"
   ]
  },
  {
   "attachments": {},
   "cell_type": "markdown",
   "metadata": {},
   "source": [
    "Bir önceki bölümde veri setinde train-test ayrımı yaptık. Lakin verinin hangi 80-20'lik bölümünün alındığını tam olarak bilemiyoruz. Bu durum bizim için soru işareti oluşturabilecek bir noktadır.\n",
    "\n",
    "Bir yukarıdaki kısımda **Holdout yöntemi** ile yaptığımız doğrulamayı bu bölümde 10 katlı olarak yapacağız. Katlı olarak model çapraz doğrulama yapmak ne demektir?\n",
    "\n",
    "Veri seti 10 parçaya bölünür 9 parçası ile model kurulur ve 1 parçası ile test yapılır, daha sonra test parçası bu 10 parçanın tamamı olacak şekilde bu işlem devam eder. Bu süreç sonucunda çıkan bütün test hatalarının ortalaması alınır."
   ]
  },
  {
   "cell_type": "code",
   "execution_count": 57,
   "metadata": {},
   "outputs": [],
   "source": [
    "# Bağımlı ve bağımsız değişkenlerimizi tanımlayalım;\n",
    "\n",
    "y = df[\"Outcome\"]\n",
    "X = df.drop([\"Outcome\"], axis=1)"
   ]
  },
  {
   "cell_type": "code",
   "execution_count": 58,
   "metadata": {},
   "outputs": [],
   "source": [
    "# Modelimizi kuralım;\n",
    "\n",
    "log_model = LogisticRegression().fit(X, y)"
   ]
  },
  {
   "cell_type": "code",
   "execution_count": 59,
   "metadata": {},
   "outputs": [],
   "source": [
    "# CV fonksiyonu ile cross validation işlemini yapalım;\n",
    "\n",
    "cv_results = cross_validate(log_model,\n",
    "                            X, y,\n",
    "                            cv=5,\n",
    "                            scoring=[\"accuracy\", \"precision\", \"recall\", \"f1\", \"roc_auc\"])\n",
    "\n",
    "# \"cross_validate()\" fonksiyonu içerisine modelimizi gönderiyoruz,\n",
    "# Bağımsız ve bağımlı değişkenleri gönderiyoruz,\n",
    "# daha sonrasında veri setini kaç parçaya böleceğimizi söylüyoruz, (yukarıda 5 dedik, pek tabi 10'a da bölebilirdik.),\n",
    "# son kısımda ise hangi başarı değerlendirme metriklerini istediğimizi ifade ediyoruz."
   ]
  },
  {
   "cell_type": "code",
   "execution_count": 60,
   "metadata": {},
   "outputs": [
    {
     "data": {
      "text/plain": [
       "array([0.77272727, 0.74675325, 0.75324675, 0.81699346, 0.77124183])"
      ]
     },
     "execution_count": 60,
     "metadata": {},
     "output_type": "execute_result"
    }
   ],
   "source": [
    "# Şimdi modellerin accuracy'lerine bakalım;\n",
    "\n",
    "cv_results['test_accuracy']"
   ]
  },
  {
   "cell_type": "code",
   "execution_count": 61,
   "metadata": {},
   "outputs": [
    {
     "data": {
      "text/plain": [
       "0.7721925133689839"
      ]
     },
     "execution_count": 61,
     "metadata": {},
     "output_type": "execute_result"
    }
   ],
   "source": [
    "# Bu accuracy'lerin ortalamasını almak istersek;\n",
    "\n",
    "cv_results['test_accuracy'].mean()"
   ]
  },
  {
   "attachments": {},
   "cell_type": "markdown",
   "metadata": {},
   "source": [
    "    Yukarıdaki çıktıyı yorumlamamız gerekirse, bizim modelimizin doğru sınıflandırma oranı %77'dir."
   ]
  },
  {
   "cell_type": "code",
   "execution_count": 62,
   "metadata": {},
   "outputs": [
    {
     "data": {
      "text/plain": [
       "array([0.71111111, 0.64705882, 0.71052632, 0.79069767, 0.73684211])"
      ]
     },
     "execution_count": 62,
     "metadata": {},
     "output_type": "execute_result"
    }
   ],
   "source": [
    "# Modellerin precision değerlerine bakalım;\n",
    "\n",
    "cv_results['test_precision']"
   ]
  },
  {
   "cell_type": "code",
   "execution_count": 63,
   "metadata": {},
   "outputs": [
    {
     "data": {
      "text/plain": [
       "0.7192472060223519"
      ]
     },
     "execution_count": 63,
     "metadata": {},
     "output_type": "execute_result"
    }
   ],
   "source": [
    "# Bu precision değerlerinin ortalamasına bakalım;\n",
    "\n",
    "cv_results['test_precision'].mean()"
   ]
  },
  {
   "attachments": {},
   "cell_type": "markdown",
   "metadata": {},
   "source": [
    "    Daha önceki işlemlerimizde (veri setini train-test olarak bölmeden kurduğumuz model ve eri setini train-test olarak bölerek kurduğumuz modelden bahsediyoruz) precision değeri sırasyıla 0.74 ve 0.77 çıkmıştı. Burada ise ortalamanın 0.71 çıktığını görüyoruz. Bu daha güvenilir bir çıktıdır.\n",
    "\n",
    "    Yani \"1\" olarak tahmin ettiklerimizin %71'ini doğru tahmin ediyoruz."
   ]
  },
  {
   "cell_type": "code",
   "execution_count": 64,
   "metadata": {},
   "outputs": [
    {
     "data": {
      "text/plain": [
       "0.5747030048916841"
      ]
     },
     "execution_count": 64,
     "metadata": {},
     "output_type": "execute_result"
    }
   ],
   "source": [
    "# Recall ortalamasına bakalım;\n",
    "\n",
    "cv_results['test_recall'].mean()"
   ]
  },
  {
   "attachments": {},
   "cell_type": "markdown",
   "metadata": {},
   "source": [
    "    Daha önceden 0.58 ve 0.53 bulmuştuk. Şu anda ise ortalama olarak 0.57 buluyoruz.\n",
    "\n",
    "    Bu şu manaya gelmektedir; gerçekte \"1\" olan sınıfları tahmin etme başarımız %57'dir."
   ]
  },
  {
   "cell_type": "code",
   "execution_count": 65,
   "metadata": {},
   "outputs": [
    {
     "data": {
      "text/plain": [
       "0.6371421090986309"
      ]
     },
     "execution_count": 65,
     "metadata": {},
     "output_type": "execute_result"
    }
   ],
   "source": [
    "# F1 score'ların ortalamasına bakalım;\n",
    "\n",
    "cv_results['test_f1'].mean()"
   ]
  },
  {
   "attachments": {},
   "cell_type": "markdown",
   "metadata": {},
   "source": [
    "    F1 skoru precision ve recall değerlerinin ortalamasıydı. Diğer sonuçlara yakın olduğunu görüyoruz."
   ]
  },
  {
   "cell_type": "code",
   "execution_count": 66,
   "metadata": {},
   "outputs": [
    {
     "data": {
      "text/plain": [
       "0.8327295597484277"
      ]
     },
     "execution_count": 66,
     "metadata": {},
     "output_type": "execute_result"
    }
   ],
   "source": [
    "# ROC AUC ortalamalarına bakalım;\n",
    "\n",
    "cv_results['test_roc_auc'].mean()"
   ]
  },
  {
   "cell_type": "code",
   "execution_count": 67,
   "metadata": {},
   "outputs": [],
   "source": [
    "######################################################\n",
    "# Prediction for A New Observation\n",
    "######################################################"
   ]
  },
  {
   "cell_type": "code",
   "execution_count": 68,
   "metadata": {},
   "outputs": [
    {
     "data": {
      "text/plain": [
       "Index(['Pregnancies', 'Glucose', 'BloodPressure', 'SkinThickness', 'Insulin',\n",
       "       'BMI', 'DiabetesPedigreeFunction', 'Age'],\n",
       "      dtype='object')"
      ]
     },
     "execution_count": 68,
     "metadata": {},
     "output_type": "execute_result"
    }
   ],
   "source": [
    "X.columns"
   ]
  },
  {
   "cell_type": "code",
   "execution_count": 69,
   "metadata": {},
   "outputs": [
    {
     "data": {
      "text/html": [
       "<div>\n",
       "<style scoped>\n",
       "    .dataframe tbody tr th:only-of-type {\n",
       "        vertical-align: middle;\n",
       "    }\n",
       "\n",
       "    .dataframe tbody tr th {\n",
       "        vertical-align: top;\n",
       "    }\n",
       "\n",
       "    .dataframe thead th {\n",
       "        text-align: right;\n",
       "    }\n",
       "</style>\n",
       "<table border=\"1\" class=\"dataframe\">\n",
       "  <thead>\n",
       "    <tr style=\"text-align: right;\">\n",
       "      <th></th>\n",
       "      <th>Pregnancies</th>\n",
       "      <th>Glucose</th>\n",
       "      <th>BloodPressure</th>\n",
       "      <th>SkinThickness</th>\n",
       "      <th>Insulin</th>\n",
       "      <th>BMI</th>\n",
       "      <th>DiabetesPedigreeFunction</th>\n",
       "      <th>Age</th>\n",
       "    </tr>\n",
       "  </thead>\n",
       "  <tbody>\n",
       "    <tr>\n",
       "      <th>195</th>\n",
       "      <td>0.4</td>\n",
       "      <td>0.993939</td>\n",
       "      <td>0.666667</td>\n",
       "      <td>0.5625</td>\n",
       "      <td>1.410609</td>\n",
       "      <td>0.795699</td>\n",
       "      <td>0.058824</td>\n",
       "      <td>0.0</td>\n",
       "    </tr>\n",
       "  </tbody>\n",
       "</table>\n",
       "</div>"
      ],
      "text/plain": [
       "     Pregnancies   Glucose  BloodPressure  SkinThickness   Insulin       BMI  \\\n",
       "195          0.4  0.993939       0.666667         0.5625  1.410609  0.795699   \n",
       "\n",
       "     DiabetesPedigreeFunction  Age  \n",
       "195                  0.058824  0.0  "
      ]
     },
     "execution_count": 69,
     "metadata": {},
     "output_type": "execute_result"
    }
   ],
   "source": [
    "# Bağımsız değişkenlerimizin olduğu verilerden rasgele birini alığ tahmin etmeye çalışalım;\n",
    "\n",
    "random_user = X.sample(1, random_state=45)\n",
    "random_user"
   ]
  },
  {
   "cell_type": "code",
   "execution_count": 70,
   "metadata": {},
   "outputs": [
    {
     "data": {
      "text/plain": [
       "array([1])"
      ]
     },
     "execution_count": 70,
     "metadata": {},
     "output_type": "execute_result"
    }
   ],
   "source": [
    "log_model.predict(random_user)\n",
    "\n",
    "# Bu aldığımız rasgele kişi diabettir tahmininde bulundu model."
   ]
  },
  {
   "cell_type": "code",
   "execution_count": null,
   "metadata": {},
   "outputs": [],
   "source": []
  }
 ],
 "metadata": {
  "kernelspec": {
   "display_name": "base",
   "language": "python",
   "name": "python3"
  },
  "language_info": {
   "codemirror_mode": {
    "name": "ipython",
    "version": 3
   },
   "file_extension": ".py",
   "mimetype": "text/x-python",
   "name": "python",
   "nbconvert_exporter": "python",
   "pygments_lexer": "ipython3",
   "version": "3.9.13"
  },
  "orig_nbformat": 4,
  "vscode": {
   "interpreter": {
    "hash": "9aacfdcc723ab9182f23d11dc6a46c787bfe07656d4548f94b1c6b5b014df5e2"
   }
  }
 },
 "nbformat": 4,
 "nbformat_minor": 2
}
