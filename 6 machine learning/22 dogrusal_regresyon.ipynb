{
 "cells": [
  {
   "attachments": {},
   "cell_type": "markdown",
   "metadata": {},
   "source": [
    "# Doğrusal Regresyon"
   ]
  },
  {
   "attachments": {},
   "cell_type": "markdown",
   "metadata": {},
   "source": [
    "    Doğrusal regresyonda amacımız bağımlı ve bağımsız değişkenler arasındaki ilişkiyi doğrusal olarak modellemektir.\n",
    "\n",
    "<p align=\"center\">\n",
    "  <img src=\"grafikler/dr_1.png\" height=150 >\n",
    "</p>\n"
   ]
  },
  {
   "attachments": {},
   "cell_type": "markdown",
   "metadata": {},
   "source": [
    "Bu kapsamda yᶦ değerleri bağımlı değişkeni, xᵢ değişkenleri bağımsız değişkenleri wᵢ ifadeleri ise ağırlıkları temsil eder. Bir doğrusal regresyon modelinin öğrenme olarak ifade ettiği kavramlar b sabiti ve wᵢ ağırlıklarıdır.\n",
    "\n",
    "* b sabiti literatürde, ß (beta), intercept, bias olarak da ifade edilir.\n",
    "* wᵢ ifadesi kat sayı yani ağırlıktır. Bazı kaynaklarda coefficient olarak da ifade edilir. Kat sayısı olduğu değişkeni ifade etmek ve etkilerini belirlemek için kullanılır."
   ]
  },
  {
   "attachments": {},
   "cell_type": "markdown",
   "metadata": {},
   "source": [
    "    b sabiti ve wᵢ ağırlıkları, gerçek değerler ile tahmin edilen değerler arasındaki farkların karelerinin toplamını/ortalamasını minimum yapabilecek şekilde kullanılır."
   ]
  },
  {
   "attachments": {},
   "cell_type": "markdown",
   "metadata": {},
   "source": [
    "Bu kapsamda b sabiti ve ağırlığın optimal olarak seçilmesini matematiksel olarak ifade edilmesi amacıyla Cost (MSE) Fonksiyonu tanımlanır: (Ortalama Hataları temsil eder.)\n",
    "\n",
    "Amaç belirli sabit ve ağırlık kombinasyonlarına karşılık elde edilen hata değerlerini gözlemleyip, bu sabit ve ağırlık değerlerini optimum olacak şekilde yani Cost fonksiyonunu en küçük verecek şekilde seçmeye çalışmaktır.\n",
    "\n",
    "<p align=\"center\">\n",
    "  <img src=\"grafikler/cost_func.png\" height=150 >\n",
    "</p>"
   ]
  },
  {
   "attachments": {},
   "cell_type": "markdown",
   "metadata": {},
   "source": [
    "    Bu amaçla optimum ağırlıkları ve sabit değerini bulmak için Normal Denklemler Yöntemi ve Gradient Descent Yöntemi kullanılır.\n",
    "\n",
    "* **Normal Denklemler Yöntemi: (En Küçük Kareler Yöntemi)** Türeve dayalı, matris formunda, Analitik bir çözümdür. OLS yöntemi olarak da isimlendirilir.\n",
    "\n",
    "* **Gradient Descent Yöntemi: (Optimizasyon Çözümü)** Gradient Descent makine öğrenmesinden bağımsız olarak bir optimizasyon yapma yöntemidir. Bu yöntemin amacı bir fonksiyonu minimum yapacak parametre değerlerini bulmaktır."
   ]
  },
  {
   "cell_type": "code",
   "execution_count": 1,
   "metadata": {},
   "outputs": [],
   "source": [
    "import numpy as np\n",
    "import pandas as pd\n",
    "import matplotlib.pyplot as plt\n",
    "import seaborn as sns\n",
    "\n",
    "pd.set_option('display.float_format', lambda x: '%.2f' % x)\n",
    "\n",
    "from sklearn.linear_model import LinearRegression\n",
    "from sklearn.metrics import mean_squared_error, mean_absolute_error\n",
    "from sklearn.model_selection import train_test_split, cross_val_score"
   ]
  },
  {
   "attachments": {},
   "cell_type": "markdown",
   "metadata": {},
   "source": [
    "### Simple Linear Regression with OLS Using Scikit-Learn"
   ]
  },
  {
   "cell_type": "code",
   "execution_count": 2,
   "metadata": {},
   "outputs": [
    {
     "data": {
      "text/html": [
       "<div>\n",
       "<style scoped>\n",
       "    .dataframe tbody tr th:only-of-type {\n",
       "        vertical-align: middle;\n",
       "    }\n",
       "\n",
       "    .dataframe tbody tr th {\n",
       "        vertical-align: top;\n",
       "    }\n",
       "\n",
       "    .dataframe thead th {\n",
       "        text-align: right;\n",
       "    }\n",
       "</style>\n",
       "<table border=\"1\" class=\"dataframe\">\n",
       "  <thead>\n",
       "    <tr style=\"text-align: right;\">\n",
       "      <th></th>\n",
       "      <th>TV</th>\n",
       "      <th>radio</th>\n",
       "      <th>newspaper</th>\n",
       "      <th>sales</th>\n",
       "    </tr>\n",
       "  </thead>\n",
       "  <tbody>\n",
       "    <tr>\n",
       "      <th>0</th>\n",
       "      <td>230.10</td>\n",
       "      <td>37.80</td>\n",
       "      <td>69.20</td>\n",
       "      <td>22.10</td>\n",
       "    </tr>\n",
       "    <tr>\n",
       "      <th>1</th>\n",
       "      <td>44.50</td>\n",
       "      <td>39.30</td>\n",
       "      <td>45.10</td>\n",
       "      <td>10.40</td>\n",
       "    </tr>\n",
       "    <tr>\n",
       "      <th>2</th>\n",
       "      <td>17.20</td>\n",
       "      <td>45.90</td>\n",
       "      <td>69.30</td>\n",
       "      <td>9.30</td>\n",
       "    </tr>\n",
       "    <tr>\n",
       "      <th>3</th>\n",
       "      <td>151.50</td>\n",
       "      <td>41.30</td>\n",
       "      <td>58.50</td>\n",
       "      <td>18.50</td>\n",
       "    </tr>\n",
       "    <tr>\n",
       "      <th>4</th>\n",
       "      <td>180.80</td>\n",
       "      <td>10.80</td>\n",
       "      <td>58.40</td>\n",
       "      <td>12.90</td>\n",
       "    </tr>\n",
       "  </tbody>\n",
       "</table>\n",
       "</div>"
      ],
      "text/plain": [
       "      TV  radio  newspaper  sales\n",
       "0 230.10  37.80      69.20  22.10\n",
       "1  44.50  39.30      45.10  10.40\n",
       "2  17.20  45.90      69.30   9.30\n",
       "3 151.50  41.30      58.50  18.50\n",
       "4 180.80  10.80      58.40  12.90"
      ]
     },
     "execution_count": 2,
     "metadata": {},
     "output_type": "execute_result"
    }
   ],
   "source": [
    "# Veri Setimizi import edelim,\n",
    "\n",
    "df = pd.read_csv(\"datasets/advertising.csv\")\n",
    "df.head()"
   ]
  },
  {
   "cell_type": "code",
   "execution_count": 3,
   "metadata": {},
   "outputs": [
    {
     "data": {
      "text/plain": [
       "(200, 4)"
      ]
     },
     "execution_count": 3,
     "metadata": {},
     "output_type": "execute_result"
    }
   ],
   "source": [
    "df.shape\n",
    "\n",
    "# Verimiz 200 gözlemden ve 4 değişkenden oluşmaktadır."
   ]
  },
  {
   "cell_type": "code",
   "execution_count": 4,
   "metadata": {},
   "outputs": [],
   "source": [
    "# df içerisinden değişkenlerimizi seçip tanımlayalım;\n",
    "\n",
    "X = df[[\"TV\"]]\n",
    "y = df[[\"sales\"]]"
   ]
  },
  {
   "cell_type": "code",
   "execution_count": 5,
   "metadata": {},
   "outputs": [],
   "source": [
    "# Modelimizi kuralım;\n",
    "\n",
    "reg_model = LinearRegression().fit(X, y)\n",
    "\n",
    "# y_hat = b + w*TV"
   ]
  },
  {
   "cell_type": "code",
   "execution_count": 6,
   "metadata": {},
   "outputs": [
    {
     "data": {
      "text/plain": [
       "7.0325935491276965"
      ]
     },
     "execution_count": 6,
     "metadata": {},
     "output_type": "execute_result"
    }
   ],
   "source": [
    "# sabit (b - bias)\n",
    "reg_model.intercept_[0]"
   ]
  },
  {
   "cell_type": "code",
   "execution_count": 7,
   "metadata": {},
   "outputs": [
    {
     "data": {
      "text/plain": [
       "0.047536640433019736"
      ]
     },
     "execution_count": 7,
     "metadata": {},
     "output_type": "execute_result"
    }
   ],
   "source": [
    "# tv'nin katsayısı (w1)\n",
    "reg_model.coef_[0][0]"
   ]
  },
  {
   "cell_type": "code",
   "execution_count": 8,
   "metadata": {},
   "outputs": [
    {
     "data": {
      "text/plain": [
       "14.163089614080658"
      ]
     },
     "execution_count": 8,
     "metadata": {},
     "output_type": "execute_result"
    }
   ],
   "source": [
    "##########################\n",
    "# Tahmin\n",
    "##########################\n",
    "\n",
    "# 150 birimlik TV harcaması olsa ne kadar satış olması beklenir?\n",
    "\n",
    "reg_model.intercept_[0] + reg_model.coef_[0][0]*150"
   ]
  },
  {
   "cell_type": "code",
   "execution_count": 9,
   "metadata": {},
   "outputs": [
    {
     "data": {
      "text/plain": [
       "30.800913765637564"
      ]
     },
     "execution_count": 9,
     "metadata": {},
     "output_type": "execute_result"
    }
   ],
   "source": [
    "# 500 birimlik tv harcaması olsa ne kadar satış olur?\n",
    "\n",
    "reg_model.intercept_[0] + reg_model.coef_[0][0]*500"
   ]
  },
  {
   "cell_type": "code",
   "execution_count": 10,
   "metadata": {},
   "outputs": [
    {
     "data": {
      "image/png": "[encoded data removed]",
      "text/plain": [
       "<Figure size 640x480 with 1 Axes>"
      ]
     },
     "metadata": {},
     "output_type": "display_data"
    }
   ],
   "source": [
    "# Modelin Görselleştirilmesi\n",
    "g = sns.regplot(x=X, y=y, scatter_kws={'color': 'b', 's': 9},\n",
    "                ci=False, color=\"r\")\n",
    "\n",
    "# regresyon grafiği oluşturmak için kullandığımız metod \".regplot()\" metodudur.\n",
    "# \"x=\" argümanı bağımsız değişken,\n",
    "# \"y=\" argümanı ise bağımlı değişkeni ifade eder.\n",
    "# \"scatter_kws=\" argümanı değerlere ilişkin parametreleri ifade eder, renk (color) ve büyüklük (s) vb...\n",
    "# \"ci=\" argümanı güven aralığı değerini ifade eder.\n",
    "# \"color=\" argümanı ise regresyon doğrusunun rengini ifade eder.\n",
    "\n",
    "g.set_title(f\"Model Denklemi: Sales = {round(reg_model.intercept_[0], 2)} + TV*{round(reg_model.coef_[0][0], 2)}\")\n",
    "g.set_ylabel(\"Satış Sayısı\")\n",
    "g.set_xlabel(\"TV Harcamaları\")\n",
    "plt.xlim(-10, 310)\n",
    "plt.ylim(bottom=0)\n",
    "plt.show()"
   ]
  },
  {
   "cell_type": "code",
   "execution_count": 11,
   "metadata": {},
   "outputs": [
    {
     "data": {
      "text/plain": [
       "10.512652915656757"
      ]
     },
     "execution_count": 11,
     "metadata": {},
     "output_type": "execute_result"
    }
   ],
   "source": [
    "##########################\n",
    "# Tahmin Başarısı\n",
    "##########################\n",
    "\n",
    "# MSE\n",
    "y_pred = reg_model.predict(X)\n",
    "mean_squared_error(y, y_pred)"
   ]
  },
  {
   "attachments": {},
   "cell_type": "markdown",
   "metadata": {},
   "source": [
    "    Yukarıda MSE'yi 10.51 olarak bulduk lakin bunun büyüklüğü ve küçüklüğü hakkında nasıl bir yorum yapabiliriz?"
   ]
  },
  {
   "cell_type": "code",
   "execution_count": 12,
   "metadata": {},
   "outputs": [
    {
     "data": {
      "text/plain": [
       "sales   14.02\n",
       "dtype: float64"
      ]
     },
     "execution_count": 12,
     "metadata": {},
     "output_type": "execute_result"
    }
   ],
   "source": [
    "y.mean()"
   ]
  },
  {
   "cell_type": "code",
   "execution_count": 13,
   "metadata": {},
   "outputs": [
    {
     "data": {
      "text/plain": [
       "sales   5.22\n",
       "dtype: float64"
      ]
     },
     "execution_count": 13,
     "metadata": {},
     "output_type": "execute_result"
    }
   ],
   "source": [
    "y.std()"
   ]
  },
  {
   "attachments": {},
   "cell_type": "markdown",
   "metadata": {},
   "source": [
    "    Yukarıda verinin ortalamasına ve standart sapması ile kıyaslayabiliriz."
   ]
  },
  {
   "cell_type": "code",
   "execution_count": 14,
   "metadata": {},
   "outputs": [
    {
     "data": {
      "text/plain": [
       "3.2423221486546887"
      ]
     },
     "execution_count": 14,
     "metadata": {},
     "output_type": "execute_result"
    }
   ],
   "source": [
    "# RMSE\n",
    "np.sqrt(mean_squared_error(y, y_pred))"
   ]
  },
  {
   "cell_type": "code",
   "execution_count": 15,
   "metadata": {},
   "outputs": [
    {
     "data": {
      "text/plain": [
       "2.549806038927486"
      ]
     },
     "execution_count": 15,
     "metadata": {},
     "output_type": "execute_result"
    }
   ],
   "source": [
    "# MAE\n",
    "mean_absolute_error(y, y_pred)"
   ]
  },
  {
   "attachments": {},
   "cell_type": "markdown",
   "metadata": {},
   "source": [
    "    RMSE ve MAE'ye bakacak olursak çok da kötü bir tahminde bulunmadığımızı GÖRECELİ olarak söyleyebiliriz."
   ]
  },
  {
   "cell_type": "code",
   "execution_count": 16,
   "metadata": {},
   "outputs": [
    {
     "data": {
      "text/plain": [
       "0.611875050850071"
      ]
     },
     "execution_count": 16,
     "metadata": {},
     "output_type": "execute_result"
    }
   ],
   "source": [
    "# R-KARE\n",
    "reg_model.score(X, y)\n",
    "\n",
    "# R-KARE veri setindeki bağımsız değişkenlerin, bağımlı değişkenleri açıklama yüzdesidir.\n",
    "# Aşağıda görüldüğü üzere TV değişkeni sales'in %61'ini açıklamaktadır."
   ]
  },
  {
   "attachments": {},
   "cell_type": "markdown",
   "metadata": {},
   "source": [
    "    NOT !!! : Bu çalışmada; istatistiksel, ekonometrik veya iktisadi açıdan bakılmamaktadır. Bu sebeple katsayıların anlamlılığı, F-istatistiği, normallik varsayımı gibi varsayımlar hesaba katılmamaktadır ve bu istatistiklerle ilgilenilmemektedir."
   ]
  },
  {
   "attachments": {},
   "cell_type": "markdown",
   "metadata": {},
   "source": [
    "### Multiple Linear Regression"
   ]
  },
  {
   "cell_type": "code",
   "execution_count": 17,
   "metadata": {},
   "outputs": [],
   "source": [
    "# dataframe'mimize bir reset atalım;\n",
    "\n",
    "df = pd.read_csv(\"datasets/advertising.csv\")"
   ]
  },
  {
   "cell_type": "code",
   "execution_count": 18,
   "metadata": {},
   "outputs": [],
   "source": [
    "# Bağımlı ve bağımsız değişkenlerimiz seçelim;\n",
    "\n",
    "X = df.drop('sales', axis=1)\n",
    "y = df[[\"sales\"]]"
   ]
  },
  {
   "cell_type": "code",
   "execution_count": 19,
   "metadata": {},
   "outputs": [
    {
     "name": "stdout",
     "output_type": "stream",
     "text": [
      "(40, 1)\n",
      "(160, 1)\n"
     ]
    }
   ],
   "source": [
    "# Modelimizi kuralım;\n",
    "\n",
    "# Modelimizi kurarken verimizi test ve train olmak üzere ikiye böleceğiz;\n",
    "\n",
    "X_train, X_test, y_train, y_test = train_test_split(X, y, test_size=0.20, random_state=1)\n",
    "\n",
    "# Bölünen verisetinin shape'lerini inceleyelim;\n",
    "\n",
    "print(y_test.shape)\n",
    "print(y_train.shape)\n"
   ]
  },
  {
   "cell_type": "code",
   "execution_count": 20,
   "metadata": {},
   "outputs": [],
   "source": [
    "# Modelimizi oluşturalım;\n",
    "\n",
    "reg_model = LinearRegression().fit(X_train, y_train)"
   ]
  },
  {
   "cell_type": "code",
   "execution_count": 21,
   "metadata": {},
   "outputs": [
    {
     "data": {
      "text/plain": [
       "array([2.90794702])"
      ]
     },
     "execution_count": 21,
     "metadata": {},
     "output_type": "execute_result"
    }
   ],
   "source": [
    "# sabit'imize bakalım (b - bias);\n",
    "\n",
    "reg_model.intercept_"
   ]
  },
  {
   "cell_type": "code",
   "execution_count": 22,
   "metadata": {},
   "outputs": [
    {
     "data": {
      "text/plain": [
       "array([[0.0468431 , 0.17854434, 0.00258619]])"
      ]
     },
     "execution_count": 22,
     "metadata": {},
     "output_type": "execute_result"
    }
   ],
   "source": [
    "# Katsayılara bakalım; coefficients (w - weights)\n",
    "reg_model.coef_"
   ]
  },
  {
   "cell_type": "code",
   "execution_count": 23,
   "metadata": {},
   "outputs": [
    {
     "data": {
      "text/plain": [
       "6.20213102"
      ]
     },
     "execution_count": 23,
     "metadata": {},
     "output_type": "execute_result"
    }
   ],
   "source": [
    "##########################\n",
    "# Tahmin\n",
    "##########################\n",
    "\n",
    "# Aşağıdaki gözlem değerlerine göre satışın beklenen değeri nedir?\n",
    "\n",
    "# TV: 30\n",
    "# radio: 10\n",
    "# newspaper: 40\n",
    "\n",
    "# Sales = 2.90  + TV * 0.04 + radio * 0.17 + newspaper * 0.002\n",
    "\n",
    "2.90794702 + 30 * 0.0468431 + 10 * 0.17854434 + 40 * 0.00258619"
   ]
  },
  {
   "cell_type": "code",
   "execution_count": 24,
   "metadata": {},
   "outputs": [
    {
     "data": {
      "text/html": [
       "<div>\n",
       "<style scoped>\n",
       "    .dataframe tbody tr th:only-of-type {\n",
       "        vertical-align: middle;\n",
       "    }\n",
       "\n",
       "    .dataframe tbody tr th {\n",
       "        vertical-align: top;\n",
       "    }\n",
       "\n",
       "    .dataframe thead th {\n",
       "        text-align: right;\n",
       "    }\n",
       "</style>\n",
       "<table border=\"1\" class=\"dataframe\">\n",
       "  <thead>\n",
       "    <tr style=\"text-align: right;\">\n",
       "      <th></th>\n",
       "      <th>0</th>\n",
       "      <th>1</th>\n",
       "      <th>2</th>\n",
       "    </tr>\n",
       "  </thead>\n",
       "  <tbody>\n",
       "    <tr>\n",
       "      <th>0</th>\n",
       "      <td>30</td>\n",
       "      <td>10</td>\n",
       "      <td>40</td>\n",
       "    </tr>\n",
       "  </tbody>\n",
       "</table>\n",
       "</div>"
      ],
      "text/plain": [
       "    0   1   2\n",
       "0  30  10  40"
      ]
     },
     "execution_count": 24,
     "metadata": {},
     "output_type": "execute_result"
    }
   ],
   "source": [
    "yeni_veri = [[30], [10], [40]]\n",
    "yeni_veri = pd.DataFrame(yeni_veri).T\n",
    "yeni_veri"
   ]
  },
  {
   "cell_type": "code",
   "execution_count": 25,
   "metadata": {},
   "outputs": [
    {
     "name": "stderr",
     "output_type": "stream",
     "text": [
      "/Users/emintaskent/opt/anaconda3/lib/python3.9/site-packages/sklearn/base.py:450: UserWarning: X does not have valid feature names, but LinearRegression was fitted with feature names\n",
      "  warnings.warn(\n"
     ]
    },
    {
     "data": {
      "text/plain": [
       "array([[6.202131]])"
      ]
     },
     "execution_count": 25,
     "metadata": {},
     "output_type": "execute_result"
    }
   ],
   "source": [
    "reg_model.predict(yeni_veri)"
   ]
  },
  {
   "cell_type": "code",
   "execution_count": 26,
   "metadata": {},
   "outputs": [],
   "source": [
    "##########################\n",
    "# Tahmin Başarısını Değerlendirme\n",
    "##########################"
   ]
  },
  {
   "cell_type": "code",
   "execution_count": 27,
   "metadata": {},
   "outputs": [
    {
     "data": {
      "text/plain": [
       "1.7369025901470923"
      ]
     },
     "execution_count": 27,
     "metadata": {},
     "output_type": "execute_result"
    }
   ],
   "source": [
    "# Train setindeki hatamıza bir bakalım;\n",
    "\n",
    "# Train RMSE\n",
    "y_pred = reg_model.predict(X_train)\n",
    "np.sqrt(mean_squared_error(y_train, y_pred))"
   ]
  },
  {
   "cell_type": "code",
   "execution_count": 28,
   "metadata": {},
   "outputs": [
    {
     "data": {
      "text/plain": [
       "0.8959372632325174"
      ]
     },
     "execution_count": 28,
     "metadata": {},
     "output_type": "execute_result"
    }
   ],
   "source": [
    "# Train setindeki R-Kare değerine bir bakalım;\n",
    "\n",
    "# TRAIN RKARE\n",
    "reg_model.score(X_train, y_train)"
   ]
  },
  {
   "cell_type": "code",
   "execution_count": 29,
   "metadata": {},
   "outputs": [
    {
     "data": {
      "text/plain": [
       "1.4113417558581582"
      ]
     },
     "execution_count": 29,
     "metadata": {},
     "output_type": "execute_result"
    }
   ],
   "source": [
    "# Test setindeki hatamıza bir bakalım;\n",
    "\n",
    "# Test RMSE\n",
    "y_pred = reg_model.predict(X_test)\n",
    "np.sqrt(mean_squared_error(y_test, y_pred))\n",
    "# 1.41"
   ]
  },
  {
   "cell_type": "code",
   "execution_count": 30,
   "metadata": {},
   "outputs": [
    {
     "data": {
      "text/plain": [
       "0.8927605914615384"
      ]
     },
     "execution_count": 30,
     "metadata": {},
     "output_type": "execute_result"
    }
   ],
   "source": [
    "# Test setindeki R-Kare değerine bir bakalım;\n",
    "\n",
    "# Test RKARE\n",
    "reg_model.score(X_test, y_test)"
   ]
  },
  {
   "cell_type": "code",
   "execution_count": 31,
   "metadata": {},
   "outputs": [
    {
     "data": {
      "text/plain": [
       "1.6913531708051797"
      ]
     },
     "execution_count": 31,
     "metadata": {},
     "output_type": "execute_result"
    }
   ],
   "source": [
    "# 10 katlı bir cross validitaion ile skor'umuza (MSE) bakarsak;\n",
    "\n",
    "np.mean(np.sqrt(-cross_val_score(reg_model,\n",
    "                                 X,\n",
    "                                 y,\n",
    "                                 cv=10,\n",
    "                                 scoring=\"neg_mean_squared_error\")))\n",
    "\n",
    "# Yukarıda hangi model üzerinde cross validation yapacağını söyledik. Bu case'de reg_model oldu.                                 \n",
    "\n",
    "# Yukarıda bütün veri üzerinden çalışmasını istediğimiz için X ve y değerlerini girdik.\n",
    "# Zaten sadece 200 gözlem vardı. Bu sebeple train'i bir daha bölmek istemedik. (Kullanıcının inisiyatifindedir.)\n",
    "      \n",
    "# Daha sonra veri setini kaç parçaya böleceğini söyledik.\n",
    "\n",
    "# En sonunda ise hangi metriği istediğimizi söyledik. Burada istediğimiz metrik \"neg_mean_squared_error\" oldu.\n",
    "# Negatif bir sayı çıkaracağı için de fonksiyonun başına eksi (-) koyduk.                "
   ]
  },
  {
   "attachments": {},
   "cell_type": "markdown",
   "metadata": {},
   "source": [
    "    Şimdi yukarıdaki işlemi parçalayarak bir inceleyelim."
   ]
  },
  {
   "cell_type": "code",
   "execution_count": 32,
   "metadata": {},
   "outputs": [
    {
     "data": {
      "text/plain": [
       "array([-3.56038438, -3.29767522, -2.08943356, -2.82474283, -1.3027754 ,\n",
       "       -1.74163618, -8.17338214, -2.11409746, -3.04273109, -2.45281793])"
      ]
     },
     "execution_count": 32,
     "metadata": {},
     "output_type": "execute_result"
    }
   ],
   "source": [
    "cross_val_score(reg_model,\n",
    "                X,\n",
    "                y,\n",
    "                cv=10,\n",
    "                scoring=\"neg_mean_squared_error\")\n",
    "\n",
    "# 10 işlem için de negatif MSE değerleri geldi.                 "
   ]
  },
  {
   "cell_type": "code",
   "execution_count": 33,
   "metadata": {},
   "outputs": [
    {
     "data": {
      "text/plain": [
       "array([3.56038438, 3.29767522, 2.08943356, 2.82474283, 1.3027754 ,\n",
       "       1.74163618, 8.17338214, 2.11409746, 3.04273109, 2.45281793])"
      ]
     },
     "execution_count": 33,
     "metadata": {},
     "output_type": "execute_result"
    }
   ],
   "source": [
    "-cross_val_score(reg_model,\n",
    "                                 X,\n",
    "                                 y,\n",
    "                                 cv=10,\n",
    "                                 scoring=\"neg_mean_squared_error\")\n",
    "\n",
    "# Eksi ile çarpılmış halleri.                                 "
   ]
  },
  {
   "cell_type": "code",
   "execution_count": 34,
   "metadata": {},
   "outputs": [
    {
     "data": {
      "text/plain": [
       "array([1.88689808, 1.81595022, 1.44548731, 1.68069713, 1.14139187,\n",
       "       1.31971064, 2.85891276, 1.45399362, 1.7443426 , 1.56614748])"
      ]
     },
     "execution_count": 34,
     "metadata": {},
     "output_type": "execute_result"
    }
   ],
   "source": [
    "np.sqrt(-cross_val_score(reg_model,\n",
    "                                 X,\n",
    "                                 y,\n",
    "                                 cv=10,\n",
    "                                 scoring=\"neg_mean_squared_error\"))\n",
    "\n",
    "# Bir önceki kısımda MSE hesaplanması yapılmıştı lakin biz RMSE değerlerine bakmak istiyoruz.                                 "
   ]
  },
  {
   "cell_type": "code",
   "execution_count": 35,
   "metadata": {},
   "outputs": [
    {
     "data": {
      "text/plain": [
       "1.6913531708051797"
      ]
     },
     "execution_count": 35,
     "metadata": {},
     "output_type": "execute_result"
    }
   ],
   "source": [
    "np.mean(np.sqrt(-cross_val_score(reg_model,\n",
    "                                 X,\n",
    "                                 y,\n",
    "                                 cv=10,\n",
    "                                 scoring=\"neg_mean_squared_error\")))\n",
    "\n",
    "# Son olarak da bölünmüş 10 veri seti üzerinden bu bulduğumuz skorların ortalamasını alalım.                                "
   ]
  },
  {
   "attachments": {},
   "cell_type": "markdown",
   "metadata": {},
   "source": [
    "    Yukarıda bir train seti üzerinden RMSE hesapladık (sonuç 1.7369 çıktı), daha sonra ise test seti üzerinden RMSE (sonuç 1.4113 çıktı) hesapladık. Peki biz hangisine güvenceğiz? Veri setimiz sadece 200 gözlemden oluştuğu için (Görece az bir sayı olduğunu düşündüğümüz için böyle diyoruz.) emin olamıyoruz. Dolayısıyla çapraz doğrulama yaptık. Bu case'de çapraz doğrulamanın sonucuna güvenmeyi tercih edebiliriz."
   ]
  },
  {
   "cell_type": "code",
   "execution_count": 36,
   "metadata": {},
   "outputs": [
    {
     "data": {
      "text/plain": [
       "1.7175247278732086"
      ]
     },
     "execution_count": 36,
     "metadata": {},
     "output_type": "execute_result"
    }
   ],
   "source": [
    "# 5 katlı bir cross validitaion ile skor'umuza (MSE) bakarsak;\n",
    "\n",
    "np.mean(np.sqrt(-cross_val_score(reg_model,\n",
    "                                 X,\n",
    "                                 y,\n",
    "                                 cv=5,\n",
    "                                 scoring=\"neg_mean_squared_error\")))"
   ]
  },
  {
   "cell_type": "code",
   "execution_count": 37,
   "metadata": {},
   "outputs": [],
   "source": [
    "######################################################\n",
    "# Simple Linear Regression with Gradient Descent from Scratch\n",
    "######################################################"
   ]
  },
  {
   "attachments": {},
   "cell_type": "markdown",
   "metadata": {},
   "source": [
    "Bu bölümde sıfırdan bütün kodlarını kendimiz yazarak Gradient Descent yöntemi ile simple linear regression modeli kuracağız.\n",
    "\n",
    "* **Not !!! : Bu bölüm bir hayli matematik ve istatistik bilgisi gerektirmektedir ve ekstra bir bölümdür.**"
   ]
  },
  {
   "attachments": {},
   "cell_type": "markdown",
   "metadata": {},
   "source": [
    "    Amacımız değişkenlerin katsayı değerlerini değiştirerek/güncelleyerek MSE (Cost Function da denir) değerini minimuma indirmektir."
   ]
  },
  {
   "cell_type": "code",
   "execution_count": 38,
   "metadata": {},
   "outputs": [],
   "source": [
    "# İlk önce cost function tanımlayalım (MSE olarak da tanımlayabiliriz.);\n",
    "\n",
    "def cost_function(Y, b, w, X):\n",
    "    m = len(Y)\n",
    "    sse = 0\n",
    "    for i in range(0, m):\n",
    "        y_hat = b + w * X[i]\n",
    "        y = Y[i]\n",
    "        sse += (y_hat - y)**2\n",
    "    mse = sse / m\n",
    "    return mse\n"
   ]
  },
  {
   "cell_type": "code",
   "execution_count": 39,
   "metadata": {},
   "outputs": [],
   "source": [
    "# ikinci fonksiyonumuzda ise ağırlıkları update edecek bir yapı yazıyoruz.\n",
    "\n",
    "def update_weights(Y, b, w, X, learning_rate):\n",
    "    m = len(Y)\n",
    "    b_deriv_sum = 0\n",
    "    w_deriv_sum = 0\n",
    "    for i in range(0, m):\n",
    "        y_hat = b + w * X[i]\n",
    "        y = Y[i]\n",
    "        b_deriv_sum += (y_hat - y)\n",
    "        w_deriv_sum += (y_hat - y) * X[i]\n",
    "    new_b = b - (learning_rate * 1 / m * b_deriv_sum)\n",
    "    new_w = w - (learning_rate * 1 / m * w_deriv_sum)\n",
    "    return new_b, new_w"
   ]
  },
  {
   "attachments": {},
   "cell_type": "markdown",
   "metadata": {},
   "source": [
    "    Yukarıda bir cost function tanımladık, bir de update weights function tanımladık. Lakin update function bizim katsayılarımızı bir kere update etmektedir. Bizim optimal noktaya (MSE'nin minimum olma durumu) kadar update edecek bir başka fonksiyona ihtiyacımız var."
   ]
  },
  {
   "cell_type": "code",
   "execution_count": 40,
   "metadata": {},
   "outputs": [],
   "source": [
    "# train fonksiyonu\n",
    "def train(Y, initial_b, initial_w, X, learning_rate, num_iters):\n",
    "\n",
    "    print(\"Starting gradient descent at b = {0}, w = {1}, mse = {2}\".format(initial_b, initial_w,\n",
    "                                                                   cost_function(Y, initial_b, initial_w, X)))\n",
    "    # Yukarıda işleme başlamadan önce başlangıç hiper parametrelere ilişkin bilgiler veriliyor.\n",
    "\n",
    "    b = initial_b\n",
    "    w = initial_w\n",
    "    cost_history = []   # MSE değerlerini bir listede tutacağız onun için boş bir liste tanımlıyoruz.\n",
    "\n",
    "    for i in range(num_iters):\n",
    "        b, w = update_weights(Y, b, w, X, learning_rate)\n",
    "        mse = cost_function(Y, b, w, X)\n",
    "        cost_history.append(mse)\n",
    "\n",
    "        # MSE değerlerini tanımladığımız listede tutacağız.\n",
    "\n",
    "        if i % 100 == 0:\n",
    "            print(\"iter={:d}    b={:.2f}    w={:.4f}    mse={:.4}\".format(i, b, w, mse))\n",
    "        \n",
    "        # Yukarıdaki if bloğunda her 100 denemede bir mevcut durumu görebilmek için bir çıktı istiyoruz.\n",
    "\n",
    "\n",
    "    print(\"After {0} iterations b = {1}, w = {2}, mse = {3}\".format(num_iters, b, w, cost_function(Y, b, w, X)))\n",
    "    # Döngü sonucunda son bir raporlama yapıyoruz.\n",
    "\n",
    "    return cost_history, b, w\n",
    "\n",
    "    # Çıktıları döndürüyoruz."
   ]
  },
  {
   "attachments": {},
   "cell_type": "markdown",
   "metadata": {},
   "source": [
    "    Hiperparametre ile parametre arasındaki farkı ifade etmemiz gerekirse, parametre modelin veriyi kullanarak veriden hareketle bulduğu değerler iken, hiper parametreler ise veri setinden bulunamayan ve kullanıcı tarafından atanması gereken paremetrelerdir."
   ]
  },
  {
   "cell_type": "code",
   "execution_count": 41,
   "metadata": {},
   "outputs": [
    {
     "name": "stdout",
     "output_type": "stream",
     "text": [
      "Starting gradient descent at b = 0.001, w = 0.001, mse = 222.9477491673001\n",
      "iter=0    b=0.01    w=0.3708    mse=53.25\n",
      "iter=100    b=0.28    w=0.4788    mse=41.6\n",
      "iter=200    b=0.54    w=0.4709    mse=40.29\n",
      "iter=300    b=0.79    w=0.4633    mse=39.04\n",
      "iter=400    b=1.03    w=0.4559    mse=37.87\n",
      "iter=500    b=1.27    w=0.4487    mse=36.76\n",
      "iter=600    b=1.49    w=0.4417    mse=35.72\n",
      "iter=700    b=1.72    w=0.4349    mse=34.73\n",
      "iter=800    b=1.93    w=0.4283    mse=33.8\n",
      "iter=900    b=2.14    w=0.4219    mse=32.92\n",
      "iter=1000    b=2.35    w=0.4157    mse=32.09\n",
      "iter=1100    b=2.54    w=0.4096    mse=31.3\n",
      "iter=1200    b=2.74    w=0.4037    mse=30.56\n",
      "iter=1300    b=2.92    w=0.3980    mse=29.87\n",
      "iter=1400    b=3.10    w=0.3925    mse=29.21\n",
      "iter=1500    b=3.28    w=0.3871    mse=28.58\n",
      "iter=1600    b=3.45    w=0.3818    mse=28.0\n",
      "iter=1700    b=3.62    w=0.3767    mse=27.44\n",
      "iter=1800    b=3.78    w=0.3718    mse=26.92\n",
      "iter=1900    b=3.94    w=0.3670    mse=26.42\n",
      "iter=2000    b=4.09    w=0.3623    mse=25.96\n",
      "iter=2100    b=4.24    w=0.3578    mse=25.52\n",
      "iter=2200    b=4.38    w=0.3534    mse=25.1\n",
      "iter=2300    b=4.52    w=0.3491    mse=24.71\n",
      "iter=2400    b=4.66    w=0.3449    mse=24.34\n",
      "iter=2500    b=4.79    w=0.3409    mse=23.99\n",
      "iter=2600    b=4.92    w=0.3369    mse=23.66\n",
      "iter=2700    b=5.04    w=0.3331    mse=23.35\n",
      "iter=2800    b=5.16    w=0.3294    mse=23.05\n",
      "iter=2900    b=5.28    w=0.3258    mse=22.77\n",
      "iter=3000    b=5.40    w=0.3223    mse=22.51\n",
      "iter=3100    b=5.51    w=0.3189    mse=22.26\n",
      "iter=3200    b=5.62    w=0.3156    mse=22.03\n",
      "iter=3300    b=5.72    w=0.3124    mse=21.81\n",
      "iter=3400    b=5.82    w=0.3093    mse=21.6\n",
      "iter=3500    b=5.92    w=0.3062    mse=21.41\n",
      "iter=3600    b=6.02    w=0.3033    mse=21.22\n",
      "iter=3700    b=6.11    w=0.3004    mse=21.05\n",
      "iter=3800    b=6.20    w=0.2976    mse=20.88\n",
      "iter=3900    b=6.29    w=0.2949    mse=20.72\n",
      "iter=4000    b=6.38    w=0.2923    mse=20.58\n",
      "iter=4100    b=6.46    w=0.2898    mse=20.44\n",
      "iter=4200    b=6.54    w=0.2873    mse=20.31\n",
      "iter=4300    b=6.62    w=0.2849    mse=20.18\n",
      "iter=4400    b=6.70    w=0.2825    mse=20.06\n",
      "iter=4500    b=6.77    w=0.2803    mse=19.95\n",
      "iter=4600    b=6.84    w=0.2780    mse=19.85\n",
      "iter=4700    b=6.91    w=0.2759    mse=19.75\n",
      "iter=4800    b=6.98    w=0.2738    mse=19.66\n",
      "iter=4900    b=7.05    w=0.2718    mse=19.57\n",
      "iter=5000    b=7.11    w=0.2698    mse=19.49\n",
      "iter=5100    b=7.17    w=0.2679    mse=19.41\n",
      "iter=5200    b=7.23    w=0.2660    mse=19.34\n",
      "iter=5300    b=7.29    w=0.2642    mse=19.27\n",
      "iter=5400    b=7.35    w=0.2625    mse=19.2\n",
      "iter=5500    b=7.41    w=0.2608    mse=19.14\n",
      "iter=5600    b=7.46    w=0.2591    mse=19.08\n",
      "iter=5700    b=7.51    w=0.2575    mse=19.02\n",
      "iter=5800    b=7.56    w=0.2560    mse=18.97\n",
      "iter=5900    b=7.61    w=0.2544    mse=18.92\n",
      "iter=6000    b=7.66    w=0.2530    mse=18.88\n",
      "iter=6100    b=7.71    w=0.2515    mse=18.83\n",
      "iter=6200    b=7.75    w=0.2501    mse=18.79\n",
      "iter=6300    b=7.80    w=0.2488    mse=18.75\n",
      "iter=6400    b=7.84    w=0.2475    mse=18.72\n",
      "iter=6500    b=7.88    w=0.2462    mse=18.68\n",
      "iter=6600    b=7.92    w=0.2450    mse=18.65\n",
      "iter=6700    b=7.96    w=0.2437    mse=18.62\n",
      "iter=6800    b=8.00    w=0.2426    mse=18.59\n",
      "iter=6900    b=8.04    w=0.2414    mse=18.56\n",
      "iter=7000    b=8.08    w=0.2403    mse=18.53\n",
      "iter=7100    b=8.11    w=0.2393    mse=18.51\n",
      "iter=7200    b=8.14    w=0.2382    mse=18.49\n",
      "iter=7300    b=8.18    w=0.2372    mse=18.46\n",
      "iter=7400    b=8.21    w=0.2362    mse=18.44\n",
      "iter=7500    b=8.24    w=0.2353    mse=18.42\n",
      "iter=7600    b=8.27    w=0.2343    mse=18.4\n",
      "iter=7700    b=8.30    w=0.2334    mse=18.39\n",
      "iter=7800    b=8.33    w=0.2325    mse=18.37\n",
      "iter=7900    b=8.36    w=0.2317    mse=18.35\n",
      "iter=8000    b=8.38    w=0.2309    mse=18.34\n",
      "iter=8100    b=8.41    w=0.2301    mse=18.33\n",
      "iter=8200    b=8.44    w=0.2293    mse=18.31\n",
      "iter=8300    b=8.46    w=0.2285    mse=18.3\n",
      "iter=8400    b=8.49    w=0.2278    mse=18.29\n",
      "iter=8500    b=8.51    w=0.2271    mse=18.28\n",
      "iter=8600    b=8.53    w=0.2264    mse=18.27\n",
      "iter=8700    b=8.55    w=0.2257    mse=18.26\n",
      "iter=8800    b=8.58    w=0.2250    mse=18.25\n",
      "iter=8900    b=8.60    w=0.2244    mse=18.24\n",
      "iter=9000    b=8.62    w=0.2238    mse=18.23\n",
      "iter=9100    b=8.64    w=0.2232    mse=18.22\n",
      "iter=9200    b=8.66    w=0.2226    mse=18.22\n",
      "iter=9300    b=8.67    w=0.2220    mse=18.21\n",
      "iter=9400    b=8.69    w=0.2214    mse=18.2\n",
      "iter=9500    b=8.71    w=0.2209    mse=18.2\n",
      "iter=9600    b=8.73    w=0.2204    mse=18.19\n",
      "iter=9700    b=8.74    w=0.2199    mse=18.19\n",
      "iter=9800    b=8.76    w=0.2194    mse=18.18\n",
      "iter=9900    b=8.78    w=0.2189    mse=18.18\n",
      "After 10000 iterations b = 8.79062282139543, w = 0.2184390657183005, mse = 18.170680975262957\n"
     ]
    }
   ],
   "source": [
    "# Şimdi yazdığımız fonksiyonları çalıştıralım;\n",
    "\n",
    "df = pd.read_csv(\"datasets/advertising.csv\")\n",
    "\n",
    "X = df[\"radio\"]\n",
    "Y = df[\"sales\"]\n",
    "\n",
    "# Şimdi train fonksiyonunda atanması gereken hiper parametreler bulunmaktadır. Bunları atayacağız.\n",
    "# Bu atamalar tamamen bizim inisiyatifimizdedir şu anda.\n",
    "\n",
    "# hyperparameters\n",
    "learning_rate = 0.001\n",
    "initial_b = 0.001\n",
    "initial_w = 0.001\n",
    "num_iters = 10000\n",
    "\n",
    "cost_history, b, w = train(Y, initial_b, initial_w, X, learning_rate, num_iters)"
   ]
  }
 ],
 "metadata": {
  "kernelspec": {
   "display_name": "base",
   "language": "python",
   "name": "python3"
  },
  "language_info": {
   "codemirror_mode": {
    "name": "ipython",
    "version": 3
   },
   "file_extension": ".py",
   "mimetype": "text/x-python",
   "name": "python",
   "nbconvert_exporter": "python",
   "pygments_lexer": "ipython3",
   "version": "3.9.13"
  },
  "orig_nbformat": 4,
  "vscode": {
   "interpreter": {
    "hash": "9aacfdcc723ab9182f23d11dc6a46c787bfe07656d4548f94b1c6b5b014df5e2"
   }
  }
 },
 "nbformat": 4,
 "nbformat_minor": 2
}
