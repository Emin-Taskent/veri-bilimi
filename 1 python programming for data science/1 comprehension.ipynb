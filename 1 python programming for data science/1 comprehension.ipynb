{
 "cells": [
  {
   "cell_type": "markdown",
   "metadata": {},
   "source": [
    "# Comprehension"
   ]
  },
  {
   "cell_type": "markdown",
   "metadata": {},
   "source": [
    "### List Comprehension"
   ]
  },
  {
   "cell_type": "code",
   "execution_count": 1,
   "metadata": {},
   "outputs": [
    {
     "name": "stdout",
     "output_type": "stream",
     "text": [
      "1200.0\n",
      "2400.0\n",
      "3600.0\n",
      "4800.0\n",
      "6000.0\n",
      "[2400.0, 4800.0, 7200.0, 4800.0, 6000.0]\n"
     ]
    }
   ],
   "source": [
    "# Aşağıda bir liste içerisinde bir grubun maaşları tanımlanmış olsun;\n",
    "\n",
    "salaries = [1000, 2000, 3000, 4000, 5000]\n",
    "\n",
    "\n",
    "# Maaşlara %20 zam yapabilmek için bir fonksiyon tanımlayalım;\n",
    "\n",
    "def new_salary(x):\n",
    "    return x * 20 / 100 + x\n",
    "\n",
    "# Yukarıda tanımladığımız bir fonksiyonu döngü ile çalıştıralım\n",
    "for salary in salaries:\n",
    "    print(new_salary(salary))\n",
    "\n",
    "    \n",
    "# Yeni maaşları yeni bir liste içerisine alabilmek için boş bir liste tanımlayalım ve maaşları .append() metodu ile liste içine alalım.\n",
    "null_list = []\n",
    "\n",
    "for salary in salaries:\n",
    "    null_list.append(new_salary(salary))\n",
    "\n",
    "    \n",
    "# Bir sonraki adımda ise bir if bloğu ile maaşlar 3000'den büyükse new_salary fonksiyonunu uyguluyoruz,\n",
    "# Değilse maaşı iki ile çarparak new_salary fonksiyonunu uyguluyoruz.\n",
    "null_list = []\n",
    "\n",
    "for salary in salaries:\n",
    "    if salary > 3000:\n",
    "        null_list.append(new_salary(salary))\n",
    "    else:\n",
    "        null_list.append(new_salary(salary * 2))\n",
    "\n",
    "print(null_list)\n"
   ]
  },
  {
   "cell_type": "code",
   "execution_count": 2,
   "metadata": {},
   "outputs": [
    {
     "data": {
      "text/plain": [
       "[2000, 4000, 6000, 8000, 10000]"
      ]
     },
     "execution_count": 2,
     "metadata": {},
     "output_type": "execute_result"
    }
   ],
   "source": [
    "# Şimdi yukarıdaki işlemleri comprehension ile yapalım;\n",
    "\n",
    "# Maaşlar listesindeki herbir maaşı iki ile çarpmak istersek;\n",
    "\n",
    "[salary* 2 for salary in salaries]\n",
    "\n",
    "# İlk önce döngü yazar gibi başlıyoruz sonra \"salary\" üzerinde yapacağımız işlemi bu ifadenin SOLUNA yazıyoruz."
   ]
  },
  {
   "cell_type": "code",
   "execution_count": 3,
   "metadata": {},
   "outputs": [
    {
     "data": {
      "text/plain": [
       "[2000, 4000]"
      ]
     },
     "execution_count": 3,
     "metadata": {},
     "output_type": "execute_result"
    }
   ],
   "source": [
    "# Maaşı 3000'den küçük olanların maaaşını 2 ile çarpmak istersek;\n",
    "\n",
    "[salary*2 for salary in salaries if salary<3000]\n",
    "\n",
    "# Yukarıda görüldüğü üzere sadece if kullanacaksak bunu döndügünün SAĞINA yazıyoruz."
   ]
  },
  {
   "cell_type": "code",
   "execution_count": 4,
   "metadata": {},
   "outputs": [
    {
     "data": {
      "text/plain": [
       "[2000, 4000, 0, 0, 0]"
      ]
     },
     "execution_count": 4,
     "metadata": {},
     "output_type": "execute_result"
    }
   ],
   "source": [
    "# Maaşı 3000'den büyük olanların maaşının 0 ile çarpılmasını istiyorsam;\n",
    "\n",
    "[salary*2 if salary<3000 else salary*0 for salary in salaries]\n",
    "\n",
    "# Eğer ki if'in yanında else var ise o zaman bu döngünün SOLUNA yazılır. "
   ]
  },
  {
   "cell_type": "code",
   "execution_count": 5,
   "metadata": {},
   "outputs": [
    {
     "data": {
      "text/plain": [
       "[2400.0, 4800.0, 0, 0, 0]"
      ]
     },
     "execution_count": 5,
     "metadata": {},
     "output_type": "execute_result"
    }
   ],
   "source": [
    "# List comprehension içerisinde fonksiyon kullanmak istersek;\n",
    "\n",
    "[new_salary(salary*2) if salary<3000 else salary*0 for salary in salaries]"
   ]
  },
  {
   "cell_type": "code",
   "execution_count": 6,
   "metadata": {},
   "outputs": [
    {
     "data": {
      "text/plain": [
       "[2400.0, 4800.0, 720.0, 960.0, 1200.0]"
      ]
     },
     "execution_count": 6,
     "metadata": {},
     "output_type": "execute_result"
    }
   ],
   "source": [
    "# Bir başka örnek olarak;\n",
    "\n",
    "[new_salary(salary*2) if salary<3000 else new_salary(salary*0.2) for salary in salaries]"
   ]
  },
  {
   "cell_type": "code",
   "execution_count": 7,
   "metadata": {},
   "outputs": [
    {
     "data": {
      "text/plain": [
       "['john', 'MARK', 'venessa', 'MARIAM']"
      ]
     },
     "execution_count": 7,
     "metadata": {},
     "output_type": "execute_result"
    }
   ],
   "source": [
    "# Bir başka örnek olarak;\n",
    "# Elimde iki adet liste var, istediğim listedeki öğrenci isimlerini büyük, istemediğim listedeki öğrenci isimlerini küçük yazdırmak istersek;\n",
    "\n",
    "students = [\"John\", \"Mark\", \"Venessa\", \"Mariam\"]\n",
    "students_no = [\"John\", \"Venessa\"]\n",
    "\n",
    "[student.lower() if student in students_no else student.upper() for student in students]"
   ]
  },
  {
   "cell_type": "code",
   "execution_count": 8,
   "metadata": {},
   "outputs": [
    {
     "data": {
      "text/plain": [
       "['john', 'MARK', 'venessa', 'MARIAM']"
      ]
     },
     "execution_count": 8,
     "metadata": {},
     "output_type": "execute_result"
    }
   ],
   "source": [
    "# if not kullarak yapmak istersek;\n",
    "\n",
    "[student.upper() if not student in students_no else student.lower() for student in students]"
   ]
  },
  {
   "cell_type": "markdown",
   "metadata": {},
   "source": [
    "### Dict Comprehension"
   ]
  },
  {
   "cell_type": "code",
   "execution_count": 9,
   "metadata": {},
   "outputs": [
    {
     "data": {
      "text/plain": [
       "{'a': 1, 'b': 4, 'c': 9, 'd': 16}"
      ]
     },
     "execution_count": 9,
     "metadata": {},
     "output_type": "execute_result"
    }
   ],
   "source": [
    "dictionary = {'a': 1,\n",
    "              'b': 2,\n",
    "              'c': 3,\n",
    "              'd': 4}\n",
    "\n",
    "# Yukarıda tanımlanan herbir value değerinin karesini almak istersek;\n",
    "\n",
    "{k: v**2 for k,v in dictionary.items()}\n",
    "\n",
    "# Yukarıda 2 şeye DİKKAT edilmeli; \n",
    "# birincisi dictionary olduğu için süslü paratez kullanılmalıdır ikincisi ise dictionary'den sonra .items() metodu kullanılmalıdır.\n"
   ]
  },
  {
   "cell_type": "code",
   "execution_count": 10,
   "metadata": {},
   "outputs": [
    {
     "data": {
      "text/plain": [
       "{'A': 1, 'B': 2, 'C': 3, 'D': 4}"
      ]
     },
     "execution_count": 10,
     "metadata": {},
     "output_type": "execute_result"
    }
   ],
   "source": [
    "# Key değerlerini değiştirmek istersek;\n",
    "\n",
    "{k.upper(): v for k,v in dictionary.items()}"
   ]
  }
 ],
 "metadata": {
  "kernelspec": {
   "display_name": "base",
   "language": "python",
   "name": "python3"
  },
  "language_info": {
   "codemirror_mode": {
    "name": "ipython",
    "version": 3
   },
   "file_extension": ".py",
   "mimetype": "text/x-python",
   "name": "python",
   "nbconvert_exporter": "python",
   "pygments_lexer": "ipython3",
   "version": "3.9.13"
  },
  "orig_nbformat": 4,
  "vscode": {
   "interpreter": {
    "hash": "9aacfdcc723ab9182f23d11dc6a46c787bfe07656d4548f94b1c6b5b014df5e2"
   }
  }
 },
 "nbformat": 4,
 "nbformat_minor": 2
}
