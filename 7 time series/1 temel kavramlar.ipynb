{
 "cells": [
  {
   "attachments": {},
   "cell_type": "markdown",
   "metadata": {},
   "source": [
    "# Time Series Analysis / Forecasting Temel Kavramlar"
   ]
  },
  {
   "attachments": {},
   "cell_type": "markdown",
   "metadata": {},
   "source": [
    "        Bu bölüm altında bahsedilecek kavramları aşağıdan görebilirisiniz.\n",
    "\n",
    "<p align=\"left\">\n",
    "  <img src=\"grafikler/ts_1.png\" height=400>\n",
    "</p>"
   ]
  },
  {
   "attachments": {},
   "cell_type": "markdown",
   "metadata": {},
   "source": [
    "## Zaman Serisine Giriş ve Temel Kavramlar\n",
    "\n",
    "Zaman serisi zamana göre sıralanmış gözlem değerlerinden oluşan veridir. Örneğin; hava durumu veya borsa verisi olabilir.\n",
    "\n",
    "Bir zaman serisinin 4 component'ı vardır.\n",
    "\n",
    "* Durağanlık (stationary)\n",
    "* Trend\n",
    "* Mevsimsellik (seasonsality)\n",
    "* B. Cycle"
   ]
  },
  {
   "attachments": {},
   "cell_type": "markdown",
   "metadata": {},
   "source": [
    "        Durağanlık\n",
    "\n",
    "Durağanlık bir verinin istatistiksel özelliklerinin zaman içerisinde değişmemesidir. Bir zaman serisinin **ortalaması**, **varyansı** ve **kovaryansı** zaman boyunca sabit kalıyorsa, serinin durağan olduğu varsayılır.\n",
    "\n",
    "Zaman serisi durağan olursa daha iyi tahmin edilebilir.\n",
    "\n",
    "<p align=\"center\">\n",
    "  <img src=\"grafikler/ts_2.png\" height=200>\n",
    "  <img src=\"grafikler/ts_3.png\" height=200>\n",
    "</p>\n",
    "\n",
    "Durağan olmayan bir seri var ise ve biz bunu durağan hale getirmek istersek fark alma metodunu uygularız. Yani **(y<sub>t</sub> -  y<sub>t-1</sub>)** işlemini yaparız."
   ]
  },
  {
   "cell_type": "code",
   "execution_count": null,
   "metadata": {},
   "outputs": [],
   "source": []
  }
 ],
 "metadata": {
  "language_info": {
   "name": "python"
  },
  "orig_nbformat": 4
 },
 "nbformat": 4,
 "nbformat_minor": 2
}
